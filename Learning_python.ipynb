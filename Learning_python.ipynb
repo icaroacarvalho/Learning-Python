{
  "nbformat": 4,
  "nbformat_minor": 0,
  "metadata": {
    "colab": {
      "name": "Learning_python.ipynb",
      "provenance": [],
      "collapsed_sections": [],
      "authorship_tag": "ABX9TyOEuKrwuomHCE3LQosEB7nv",
      "include_colab_link": true
    },
    "kernelspec": {
      "name": "python3",
      "display_name": "Python 3"
    },
    "language_info": {
      "name": "python"
    }
  },
  "cells": [
    {
      "cell_type": "markdown",
      "metadata": {
        "id": "view-in-github",
        "colab_type": "text"
      },
      "source": [
        "<a href=\"https://colab.research.google.com/github/icaroacarvalho/Learning-Python-/blob/main/Learning_python.ipynb\" target=\"_parent\"><img src=\"https://colab.research.google.com/assets/colab-badge.svg\" alt=\"Open In Colab\"/></a>"
      ]
    },
    {
      "cell_type": "markdown",
      "source": [
        "This is me learning Python. I followed [this website](https://www.learnpython.org/en/Variables_and_Types) at first, but changed to [this one later](https://www.w3schools.com/python/python_comments.asp).\n",
        "\n",
        "\n",
        "---\n",
        "\n"
      ],
      "metadata": {
        "id": "TrFj3MaMgzta"
      }
    },
    {
      "cell_type": "markdown",
      "source": [
        "# Comments\n",
        "*   Use # for commenting out some line of the code.\n",
        "*    Python does not provide a way to comment out multiple lines, but one can use the following triple quotes:\n",
        "\n",
        "\n",
        "```\n",
        "This is a commented out chunk\n",
        "of text\n",
        "because Python ignores string literals \n",
        "that were not assigned to a variable\n",
        "```\n",
        "\n"
      ],
      "metadata": {
        "id": "m7axa8GCYUrS"
      }
    },
    {
      "cell_type": "markdown",
      "source": [
        "# Variables and Types\n",
        "Variables receive name according to the following general rules:\n",
        "\n",
        "\n",
        "*   start with letter or underscore\n",
        "*   cannot start with number\n",
        "*   only alphanumeric characters\n",
        "*   case-sensitive\n",
        "\n",
        "Case-sentiviness:\n",
        "*    Pascal case: myVariableName\n",
        "*    Camel case: MyVariableName\n",
        "*    Snake case: my_variable_name\n",
        "\n",
        "\n"
      ],
      "metadata": {
        "id": "s_xZpdDehkUt"
      }
    },
    {
      "cell_type": "markdown",
      "source": [
        "## Types\n",
        "Every variable in Python is an object $\\rightarrow$ Python is object-oriented.\n",
        "The different types are:\n",
        "* Numbers: integer(int), floating-point (float) and [complex](https://www.tutorialspoint.com/complex-numbers-in-python)\n",
        "* Text: strings (can use simple or double quotes (doubles quotes are more useful, in that it allows to use simple quotes within))\n",
        "* Sequence types: list, tuple, range\n",
        "* Mapping type: dict (?)\n",
        "* Set Types:\tset, frozenset (?)\n",
        "* Boolean Type:\tbool (e.g, True and False)\n",
        "* Binary Types:\tbytes, bytearray (?), memoryview (?)\n",
        "* None Type:\tNoneType\n",
        "\n",
        "\n"
      ],
      "metadata": {
        "id": "HAfTHRXXh9J7"
      }
    },
    {
      "cell_type": "code",
      "source": [
        "this_is_an_integer = 7\n",
        "this_is_a_float = 7.0 # or, alternatively, this_is_a_float = float(7)\n",
        "this_is_a_string = \"Hi, I'm a string\"\n",
        "this_is_a_complex = 2.5+1.3j # apparently Python does not use 'i', but rather 'j'\n",
        "# let us check the output\n",
        "print(this_is_an_integer)\n",
        "print(this_is_a_float)\n",
        "print(this_is_a_string)\n",
        "print(this_is_a_complex)\n",
        "print(\"The real part of the complex number is given by %.1f.\" %this_is_a_complex.real)\n",
        "print(\"The imaginary part of the complex number is given by %.1f.\" %this_is_a_complex.imag)\n",
        "print(\"The conjugate of the complex number is given by \", this_is_a_complex.conjugate())"
      ],
      "metadata": {
        "colab": {
          "base_uri": "https://localhost:8080/"
        },
        "id": "DjjNmS9EidxY",
        "outputId": "cb182354-7819-4a16-e5f5-f4f8724c3f7b"
      },
      "execution_count": 11,
      "outputs": [
        {
          "output_type": "stream",
          "name": "stdout",
          "text": [
            "7\n",
            "7.0\n",
            "Hi, I'm a string\n",
            "(2.5+1.3j)\n",
            "The real part of the complex number is given by 2.5.\n",
            "The imaginary part of the complex number is given by 1.3.\n",
            "The conjugate of the complex number is given by  (2.5-1.3j)\n"
          ]
        }
      ]
    },
    {
      "cell_type": "markdown",
      "source": [
        "Random numbers: these can be obtained with a module called random"
      ],
      "metadata": {
        "id": "9rxiPi9rbF4k"
      }
    },
    {
      "cell_type": "code",
      "source": [
        "import random\n",
        "\n",
        "print(random.randrange(1, 10)) # generates an integer random number between 1 and 10"
      ],
      "metadata": {
        "colab": {
          "base_uri": "https://localhost:8080/"
        },
        "id": "BSrmbC6cbKX2",
        "outputId": "b9115a61-6386-4321-d8c9-f05e97555b7a"
      },
      "execution_count": 16,
      "outputs": [
        {
          "output_type": "stream",
          "name": "stdout",
          "text": [
            "8\n"
          ]
        }
      ]
    },
    {
      "cell_type": "code",
      "source": [
        "x = [\"apple\", \"banana\", \"cherry\"] # list\n",
        "x = (\"apple\", \"banana\", \"cherry\") # tuple\n",
        "x = {\"apple\", \"banana\", \"cherry\"} # set\n",
        "x = {\"name\" : \"John\", \"age\" : 36} # dict\n",
        "x = frozenset({\"apple\", \"banana\", \"cherry\"}) # fronzenset\n",
        "x = None # NoneType\n",
        "\n",
        "x = complex(1j)\n",
        "x = list((\"apple\", \"banana\", \"cherry\")) # list\n",
        "x = tuple((\"apple\", \"banana\", \"cherry\")) # tuple\n",
        "x = set((\"apple\", \"banana\", \"cherry\")) # set\n",
        "x = dict(name=\"John\", age=36) # dict\n",
        "x = frozenset({\"apple\", \"banana\", \"cherry\"}) # fronzenset\n",
        "x = None # NoneType\n",
        "\n"
      ],
      "metadata": {
        "id": "POZjHI_tM50I"
      },
      "execution_count": null,
      "outputs": []
    },
    {
      "cell_type": "markdown",
      "source": [
        "Conversion of data types:"
      ],
      "metadata": {
        "id": "u480RXoWOc5o"
      }
    },
    {
      "cell_type": "code",
      "source": [
        "x = 1    # int\n",
        "y = 2.8  # float\n",
        "z = 1j   # complex\n",
        "\n",
        "#convert from int to float:\n",
        "a = float(x)\n",
        "\n",
        "#convert from float to int:\n",
        "b = int(y)\n",
        "\n",
        "#convert from int to complex:\n",
        "c = complex(x)\n",
        "\n",
        "print(a)\n",
        "print(b)\n",
        "print(c)\n",
        "\n",
        "print(type(a))\n",
        "print(type(b))\n",
        "print(type(c))\n",
        "# Note that conversion from complex to another data type is not possible"
      ],
      "metadata": {
        "colab": {
          "base_uri": "https://localhost:8080/"
        },
        "id": "H4FaUGjWOVlY",
        "outputId": "801d1ff2-3c21-44b2-812e-c402287dd89e"
      },
      "execution_count": 12,
      "outputs": [
        {
          "output_type": "stream",
          "name": "stdout",
          "text": [
            "1.0\n",
            "2\n",
            "(1+0j)\n",
            "<class 'float'>\n",
            "<class 'int'>\n",
            "<class 'complex'>\n"
          ]
        }
      ]
    },
    {
      "cell_type": "markdown",
      "source": [
        "A strange operation is defined by the sum of strings"
      ],
      "metadata": {
        "id": "X4f_k_fdjkOw"
      }
    },
    {
      "cell_type": "code",
      "source": [
        "first_part = 'This is number 1'\n",
        "second_part = ' and this is number 2.'\n",
        "whole = first_part + second_part\n",
        "print(whole)"
      ],
      "metadata": {
        "colab": {
          "base_uri": "https://localhost:8080/"
        },
        "id": "rNJa-TQPjm9N",
        "outputId": "fe31d5c4-a8a6-46d0-f4c8-c48ae87314cc"
      },
      "execution_count": null,
      "outputs": [
        {
          "output_type": "stream",
          "name": "stdout",
          "text": [
            "This is number 1 and this is number 2.\n"
          ]
        }
      ]
    },
    {
      "cell_type": "markdown",
      "source": [
        "Multiple assignments can be carried out in one line, e.g.:"
      ],
      "metadata": {
        "id": "rM8g7u7FkJSq"
      }
    },
    {
      "cell_type": "code",
      "source": [
        "a,b,c = 3,4,5 # assigns 3 to a; and 4 to b\n",
        "x,y,z = \"Orange\", \"Banana\", \"Curry\"\n",
        "d = e = f = 7\n",
        "print(a)\n",
        "print(b)\n",
        "print(a,b)\n",
        "print(\"\")\n",
        "print(x)\n",
        "print(y)\n",
        "print(z)\n",
        "print(d,e,f)"
      ],
      "metadata": {
        "colab": {
          "base_uri": "https://localhost:8080/"
        },
        "id": "mlU4MYq5kQns",
        "outputId": "173184da-6811-489d-9085-f7191e4d7199"
      },
      "execution_count": null,
      "outputs": [
        {
          "output_type": "stream",
          "name": "stdout",
          "text": [
            "3\n",
            "4\n",
            "3 4\n",
            "\n",
            "Orange\n",
            "Banana\n",
            "Curry\n",
            "7 7 7\n"
          ]
        }
      ]
    },
    {
      "cell_type": "markdown",
      "source": [
        "Python allows to extract values into variables from a tuple, i.e.,"
      ],
      "metadata": {
        "id": "Q7xCp_Ybbq8z"
      }
    },
    {
      "cell_type": "code",
      "source": [
        "fruits = [\"apple\", \"banana\", \"cherry\"]\n",
        "x, y, z = fruits\n",
        "print(x)\n",
        "print(y)\n",
        "print(z)"
      ],
      "metadata": {
        "colab": {
          "base_uri": "https://localhost:8080/"
        },
        "id": "V8zjL76wbwub",
        "outputId": "8bee0542-abb4-4ef1-9afe-1d4d40392406"
      },
      "execution_count": null,
      "outputs": [
        {
          "output_type": "stream",
          "name": "stdout",
          "text": [
            "apple\n",
            "banana\n",
            "cherry\n"
          ]
        }
      ]
    },
    {
      "cell_type": "markdown",
      "source": [
        "Notice that Python allows to print different variable types at once"
      ],
      "metadata": {
        "id": "8fryh59fcDVM"
      }
    },
    {
      "cell_type": "code",
      "source": [
        "print(a,x)"
      ],
      "metadata": {
        "colab": {
          "base_uri": "https://localhost:8080/"
        },
        "id": "b2OA1kedcGf-",
        "outputId": "b4f500da-3b48-469b-8429-f6a1f35d1314"
      },
      "execution_count": null,
      "outputs": [
        {
          "output_type": "stream",
          "name": "stdout",
          "text": [
            "3 apple\n"
          ]
        }
      ]
    },
    {
      "cell_type": "markdown",
      "source": [
        "###Casting\n",
        "Variables dispense with declaration. However, variable can be indeed cast in some data type with the following constructors:\n"
      ],
      "metadata": {
        "id": "IvxgD5HzZYKx"
      }
    },
    {
      "cell_type": "code",
      "source": [
        "a = str(5)   # for a string, '5'\n",
        "b = int(5)   # for an integer, 5\n",
        "c = float(5) # for a float, 5.0"
      ],
      "metadata": {
        "id": "HhPUBq8aZlDu"
      },
      "execution_count": null,
      "outputs": []
    },
    {
      "cell_type": "markdown",
      "source": [
        "type() gives the data type of a variable, e.g.:"
      ],
      "metadata": {
        "id": "sSgnpYlyaK1T"
      }
    },
    {
      "cell_type": "code",
      "source": [
        "print(type(a))\n",
        "print(type(b))\n",
        "print(type(c))"
      ],
      "metadata": {
        "colab": {
          "base_uri": "https://localhost:8080/"
        },
        "id": "4mQpJ7HVaRtH",
        "outputId": "5231577d-1c10-4a95-d8d6-2709914c8e5c"
      },
      "execution_count": null,
      "outputs": [
        {
          "output_type": "stream",
          "name": "stdout",
          "text": [
            "<class 'str'>\n",
            "<class 'int'>\n",
            "<class 'float'>\n"
          ]
        }
      ]
    },
    {
      "cell_type": "code",
      "source": [
        "int(6), int('6'), int(6.9), int(6.1) # all return an integer 6 (note that for the float it simply removes decimals)"
      ],
      "metadata": {
        "colab": {
          "base_uri": "https://localhost:8080/"
        },
        "id": "ApKAHO-qclUo",
        "outputId": "843df5c6-9f1b-4659-9565-32cccb6eeb4c"
      },
      "execution_count": 20,
      "outputs": [
        {
          "output_type": "execute_result",
          "data": {
            "text/plain": [
              "(6, 6, 6, 6)"
            ]
          },
          "metadata": {},
          "execution_count": 20
        }
      ]
    },
    {
      "cell_type": "code",
      "source": [
        "float(6.0), float('6'), float(6)"
      ],
      "metadata": {
        "colab": {
          "base_uri": "https://localhost:8080/"
        },
        "id": "5MeHKDb5c14V",
        "outputId": "d7aa89fc-ca54-48ba-fcd0-98f3441f3039"
      },
      "execution_count": 21,
      "outputs": [
        {
          "output_type": "execute_result",
          "data": {
            "text/plain": [
              "(6.0, 6.0, 6.0)"
            ]
          },
          "metadata": {},
          "execution_count": 21
        }
      ]
    },
    {
      "cell_type": "markdown",
      "source": [
        "# Lists"
      ],
      "metadata": {
        "id": "d58nhJr1kvf1"
      }
    },
    {
      "cell_type": "markdown",
      "source": [
        "The index of lists starts at 0. \n",
        "\n",
        "To append, one can 'append' the expression '.append' to the name of the list with the element within the argument in parentheses."
      ],
      "metadata": {
        "id": "9hruAMdFzDqE"
      }
    },
    {
      "cell_type": "code",
      "source": [
        "my_list=[]\n",
        "my_list.append(1)\n",
        "my_list.append(2)\n",
        "my_list.append(3)\n",
        "print(my_list[0])\n",
        "print(my_list[1])\n",
        "print(my_list[2])"
      ],
      "metadata": {
        "colab": {
          "base_uri": "https://localhost:8080/"
        },
        "id": "kmmcPEdfytF3",
        "outputId": "d3448a6a-8c03-4394-92c8-919b8e62938f"
      },
      "execution_count": null,
      "outputs": [
        {
          "output_type": "stream",
          "name": "stdout",
          "text": [
            "1\n",
            "2\n",
            "3\n"
          ]
        }
      ]
    },
    {
      "cell_type": "markdown",
      "source": [
        "Now let us run a quick loop"
      ],
      "metadata": {
        "id": "QSQLd5VczS8o"
      }
    },
    {
      "cell_type": "code",
      "source": [
        "for x in my_list:\n",
        "  print(x)"
      ],
      "metadata": {
        "colab": {
          "base_uri": "https://localhost:8080/"
        },
        "id": "_2JBQW19zVDn",
        "outputId": "df6676bd-2034-48bc-cecb-8013f2073d2b"
      },
      "execution_count": null,
      "outputs": [
        {
          "output_type": "stream",
          "name": "stdout",
          "text": [
            "1\n",
            "2\n",
            "3\n"
          ]
        }
      ]
    },
    {
      "cell_type": "code",
      "source": [
        "another_list = [1, 2, 3]\n",
        "for j in another_list:\n",
        "  print(j)"
      ],
      "metadata": {
        "colab": {
          "base_uri": "https://localhost:8080/"
        },
        "id": "Undk1OMm2IWt",
        "outputId": "916e5545-fe03-439f-f9ec-129ed6535de1"
      },
      "execution_count": null,
      "outputs": [
        {
          "output_type": "stream",
          "name": "stdout",
          "text": [
            "1\n",
            "2\n",
            "3\n"
          ]
        }
      ]
    },
    {
      "cell_type": "code",
      "source": [
        "print(another_list[2])"
      ],
      "metadata": {
        "colab": {
          "base_uri": "https://localhost:8080/"
        },
        "id": "eAbWV0Q-2nVW",
        "outputId": "d0f9c056-d4a3-42f0-ee04-2ab2abb4c00b"
      },
      "execution_count": null,
      "outputs": [
        {
          "output_type": "stream",
          "name": "stdout",
          "text": [
            "3\n"
          ]
        }
      ]
    },
    {
      "cell_type": "markdown",
      "source": [
        "# Basic Operators"
      ],
      "metadata": {
        "id": "SlBFFoih2t29"
      }
    },
    {
      "cell_type": "markdown",
      "source": [
        "Some are just the usual operators:\n",
        "\n",
        "*  +, -, /, *\n",
        "*  ** exponentiation\n",
        "*  // floor (division, rounding DOWN to the nearest integer)\n",
        "*  modulo operator (gives the remainder of a division)\n"
      ],
      "metadata": {
        "id": "rrG5iofSYEhs"
      }
    },
    {
      "cell_type": "code",
      "source": [
        "a = 1+3/2-5/2\n",
        "print(a)\n",
        "b = 5%2 #gives the remainder of the division of 5 by 2\n",
        "print(b)\n",
        "c = 3**2 # gives 3^2 = 9\n",
        "print(c)\n",
        "c = 3**3 # gives 3^3 = 27\n",
        "print(c)"
      ],
      "metadata": {
        "id": "HlenO9N42uci",
        "colab": {
          "base_uri": "https://localhost:8080/"
        },
        "outputId": "7b822013-de9c-4935-c2a3-a1dc8726d761"
      },
      "execution_count": null,
      "outputs": [
        {
          "output_type": "stream",
          "name": "stdout",
          "text": [
            "0.0\n",
            "1\n",
            "9\n",
            "27\n"
          ]
        }
      ]
    },
    {
      "cell_type": "markdown",
      "source": [
        "Multiple lists can be joined with the addition operator:"
      ],
      "metadata": {
        "id": "YMbk5W9TaTFE"
      }
    },
    {
      "cell_type": "code",
      "source": [
        "even_numbers = [2, 4, 6, 8]\n",
        "odd_numbers = [1, 3, 5, 7]\n",
        "all = even_numbers + odd_numbers\n",
        "print(all) # notice that it follows the order of the sum parcels"
      ],
      "metadata": {
        "colab": {
          "base_uri": "https://localhost:8080/"
        },
        "id": "Hg_laNdZaeoa",
        "outputId": "c32bf99e-29ab-45b7-9e2e-1651c5df39e3"
      },
      "execution_count": null,
      "outputs": [
        {
          "output_type": "stream",
          "name": "stdout",
          "text": [
            "[2, 4, 6, 8, 1, 3, 5, 7]\n"
          ]
        }
      ]
    },
    {
      "cell_type": "markdown",
      "source": [
        "and repeated via multiplication:"
      ],
      "metadata": {
        "id": "Rl8bKq9Ua0Mw"
      }
    },
    {
      "cell_type": "code",
      "source": [
        "small_list = [0,1]\n",
        "repeated_list = small_list*7\n",
        "print(repeated_list)"
      ],
      "metadata": {
        "colab": {
          "base_uri": "https://localhost:8080/"
        },
        "id": "tv5mTOGYa4Y5",
        "outputId": "59452ee3-03e6-441a-e49f-72fc38de0781"
      },
      "execution_count": null,
      "outputs": [
        {
          "output_type": "stream",
          "name": "stdout",
          "text": [
            "[0, 1, 0, 1, 0, 1, 0, 1, 0, 1, 0, 1, 0, 1]\n"
          ]
        }
      ]
    },
    {
      "cell_type": "markdown",
      "source": [
        "# Strings\n",
        "Strings are written within simple or double quotes. For simplicity, use double quotes (this allows the usage of simple quotes in between), e.g.:\n",
        "\n",
        "\n",
        "```\n",
        "hello = 'Hello World'\n",
        "hello = \"Hello World' # same as above\n",
        "hello = \"Hello 'world'\" #only possible with double quotes\n",
        "```\n",
        "\n",
        "Multiline strings can written as in the following:\n",
        "```\n",
        "a = \"\"\"Lorem ipsum dolor sit amet,\n",
        "consectetur adipiscing elit,\n",
        "sed do eiusmod tempor incididunt\n",
        "ut labore et dolore magna aliqua.\"\"\"\n",
        "print(a) # or three simple quotes\n",
        "```"
      ],
      "metadata": {
        "id": "QqP-tbJtY3Mj"
      }
    },
    {
      "cell_type": "markdown",
      "source": [
        "## Using operators with strings\n",
        "Concatenation can be 'given' by the addition, e.g.:"
      ],
      "metadata": {
        "id": "bagh_G4EdlQs"
      }
    },
    {
      "cell_type": "code",
      "source": [
        "part_1 = 'This is part 1, but it is '\n",
        "part_2 = 'incomplete without part 2.'\n",
        "full = part_1 + part_2\n",
        "print(full)"
      ],
      "metadata": {
        "colab": {
          "base_uri": "https://localhost:8080/"
        },
        "id": "YUHKuEtAY_K6",
        "outputId": "e49b3503-a347-4a42-fa97-5d5d4f582efe"
      },
      "execution_count": null,
      "outputs": [
        {
          "output_type": "stream",
          "name": "stdout",
          "text": [
            "This is part 1, but it is incomplete without part 2.\n"
          ]
        }
      ]
    },
    {
      "cell_type": "markdown",
      "source": [
        "The string can also be repeated through multiplication."
      ],
      "metadata": {
        "id": "y9CuXZ6vZ098"
      }
    },
    {
      "cell_type": "code",
      "source": [
        "bye = 'ciao '\n",
        "correct_bye = bye*2\n",
        "print(correct_bye)"
      ],
      "metadata": {
        "colab": {
          "base_uri": "https://localhost:8080/"
        },
        "id": "dDwn5yTvZ3w4",
        "outputId": "af29f516-098c-468e-cb80-5cde770073e1"
      },
      "execution_count": null,
      "outputs": [
        {
          "output_type": "stream",
          "name": "stdout",
          "text": [
            "ciao ciao \n"
          ]
        }
      ]
    },
    {
      "cell_type": "markdown",
      "source": [
        "##String formatting\n"
      ],
      "metadata": {
        "id": "N9msYlCpdO86"
      }
    },
    {
      "cell_type": "code",
      "source": [
        "name = 'John'\n",
        "print(\"Hello, %s!\" % name)"
      ],
      "metadata": {
        "colab": {
          "base_uri": "https://localhost:8080/"
        },
        "id": "9mBaf6QldTVL",
        "outputId": "c958ac8d-0d3c-4385-cd83-f40badb903a0"
      },
      "execution_count": null,
      "outputs": [
        {
          "output_type": "stream",
          "name": "stdout",
          "text": [
            "Hello, John!\n"
          ]
        }
      ]
    },
    {
      "cell_type": "markdown",
      "source": [
        "A tuple is defined as a list with a fixed size. It can be used to print as in the following:"
      ],
      "metadata": {
        "id": "hz60Pc7wdoXm"
      }
    },
    {
      "cell_type": "code",
      "source": [
        "name = \"John\"\n",
        "\n",
        "age = \"29\"\n",
        "print(\"%s is %s years old\" %(name,age))"
      ],
      "metadata": {
        "colab": {
          "base_uri": "https://localhost:8080/"
        },
        "id": "h5jWSczRdz3T",
        "outputId": "3e855778-f784-40b3-da9f-8cefb6cd90aa"
      },
      "execution_count": null,
      "outputs": [
        {
          "output_type": "stream",
          "name": "stdout",
          "text": [
            "John is 29 years old\n"
          ]
        }
      ]
    },
    {
      "cell_type": "markdown",
      "source": [
        "Other objects can be represented as well, e.g.:"
      ],
      "metadata": {
        "id": "M3HTLCZKfmmn"
      }
    },
    {
      "cell_type": "code",
      "source": [
        "mylist = [1, 2, 3]\n",
        "print(\"My list is given by %s\" % mylist)"
      ],
      "metadata": {
        "colab": {
          "base_uri": "https://localhost:8080/"
        },
        "id": "_ad8c8svfrHD",
        "outputId": "27422346-ee10-43ef-915e-133c0b06769a"
      },
      "execution_count": null,
      "outputs": [
        {
          "output_type": "stream",
          "name": "stdout",
          "text": [
            "My list is given by [1, 2, 3]\n"
          ]
        }
      ]
    },
    {
      "cell_type": "markdown",
      "source": [
        "%s is used for strings\n",
        "\n",
        "%d for integers\n",
        "\n",
        "%.[number of digits]f is for floating point with a specified number of decimal digits"
      ],
      "metadata": {
        "id": "eC1CBinRf0Y0"
      }
    },
    {
      "cell_type": "markdown",
      "source": [
        "len - get the length of a string. Counts spaces and punctuation as well (in between, before and after the string). In python, strings are considered to be an array, with each character represented by a string of length 1."
      ],
      "metadata": {
        "id": "zc4VpaeBgc9_"
      }
    },
    {
      "cell_type": "code",
      "source": [
        "hello = ' Hello world '\n",
        "print(len(hello)) # counts spaces\n",
        "print(hello[1]) # presents the first element of the string (recall that strings are arrays in Python!)\n"
      ],
      "metadata": {
        "colab": {
          "base_uri": "https://localhost:8080/",
          "height": 53
        },
        "id": "7BWmCAG8gg5W",
        "outputId": "8127231f-c527-4913-91ed-14b3ac811ada"
      },
      "execution_count": 25,
      "outputs": [
        {
          "output_type": "stream",
          "name": "stdout",
          "text": [
            "13\n"
          ]
        },
        {
          "output_type": "execute_result",
          "data": {
            "text/plain": [
              "'H'"
            ],
            "application/vnd.google.colaboratory.intrinsic+json": {
              "type": "string"
            }
          },
          "metadata": {},
          "execution_count": 25
        }
      ]
    },
    {
      "cell_type": "markdown",
      "source": [
        "As a matter of fact, we can even loop through a string, e.g.:"
      ],
      "metadata": {
        "id": "fjG7icCigrpy"
      }
    },
    {
      "cell_type": "code",
      "source": [
        "for i in \"mamamia!\":\n",
        "  print(i)"
      ],
      "metadata": {
        "colab": {
          "base_uri": "https://localhost:8080/"
        },
        "id": "HThclp8wfuZM",
        "outputId": "a6dcd829-1bfc-47dd-863b-9619d2e80ab5"
      },
      "execution_count": 26,
      "outputs": [
        {
          "output_type": "stream",
          "name": "stdout",
          "text": [
            "m\n",
            "a\n",
            "m\n",
            "a\n",
            "m\n",
            "i\n",
            "a\n",
            "!\n"
          ]
        }
      ]
    },
    {
      "cell_type": "markdown",
      "source": [
        "'.index(some_character)' -> To find the first appearance of a character in a string, e.g.:"
      ],
      "metadata": {
        "id": "Ul1UlYRqhnYE"
      }
    },
    {
      "cell_type": "code",
      "source": [
        "hello = ' Hello world '\n",
        "print(hello.index(\"o\"))"
      ],
      "metadata": {
        "colab": {
          "base_uri": "https://localhost:8080/"
        },
        "id": "VG0QGt5Vh06a",
        "outputId": "99ba7928-beb9-4678-b865-2d2b8adca2d1"
      },
      "execution_count": null,
      "outputs": [
        {
          "output_type": "stream",
          "name": "stdout",
          "text": [
            "5\n"
          ]
        }
      ]
    },
    {
      "cell_type": "markdown",
      "source": [
        "gives the first location of the character 'o' in the string (once again, counting spaces and punctuation). Recall that Python starts counting positions at zero."
      ],
      "metadata": {
        "id": "HxDMjDbhiFkr"
      }
    },
    {
      "cell_type": "markdown",
      "source": [
        "'.count(some_character)' -> to count the number of times a given character appears in a string, e.g.:"
      ],
      "metadata": {
        "id": "qs0DiUZwipVk"
      }
    },
    {
      "cell_type": "code",
      "source": [
        "print(hello.count(\"l\"))"
      ],
      "metadata": {
        "colab": {
          "base_uri": "https://localhost:8080/"
        },
        "id": "YX7D_TkjiwRG",
        "outputId": "bbf76926-7e63-4a3c-d8f2-1507fd1ecfbd"
      },
      "execution_count": null,
      "outputs": [
        {
          "output_type": "stream",
          "name": "stdout",
          "text": [
            "3\n"
          ]
        }
      ]
    },
    {
      "cell_type": "markdown",
      "source": [
        "###String as an array\n",
        "To print a slice of the string, one can do the following:\n",
        "\n",
        "print(some_string[first_position:last_position+1]), e.g.:\n",
        "\n",
        "In general, it is like print(some_string[start:stop:step]). Note that\n",
        "\n",
        "print(some_string[start:stop]) is the same as print(some_string[start:stop:1])"
      ],
      "metadata": {
        "id": "lQrQIjxzjyHk"
      }
    },
    {
      "cell_type": "code",
      "source": [
        "hello = \"Hello world!\"\n",
        "print(hello) \n",
        "print(hello[3:7])   # prints positions 3 to 6 (excludes 7th position)\n",
        "print(hello[3:])    # prints everything after (and including) the third position\n",
        "print(hello[:7])    # prints everything before (and excluding) the seventh position\n",
        "print(hello[3])     # prints the seventh position\n",
        "print(hello[3:7:2]) # goes from string 3 to 6 (inclusively), in steps of 2 (recall that the 7th string is excluded)\n",
        "print(hello[-5:])   # prints the last five characters"
      ],
      "metadata": {
        "colab": {
          "base_uri": "https://localhost:8080/"
        },
        "id": "vTfOD-kaijJq",
        "outputId": "8c351dae-2e73-4184-f441-2c77940adc1a"
      },
      "execution_count": 34,
      "outputs": [
        {
          "output_type": "stream",
          "name": "stdout",
          "text": [
            "Hello world!\n",
            "lo w\n",
            "lo world!\n",
            "Hello w\n",
            "l\n",
            "l \n",
            "orld!\n"
          ]
        }
      ]
    },
    {
      "cell_type": "markdown",
      "source": [
        "In order to reverse a string, one can use:"
      ],
      "metadata": {
        "id": "9sNpumQ9_0EJ"
      }
    },
    {
      "cell_type": "code",
      "source": [
        "print(hello[::-1])"
      ],
      "metadata": {
        "colab": {
          "base_uri": "https://localhost:8080/"
        },
        "id": "bz-iVLdaAP4Z",
        "outputId": "bc8ebb47-af46-4206-a79f-431d81b90ee6"
      },
      "execution_count": null,
      "outputs": [
        {
          "output_type": "stream",
          "name": "stdout",
          "text": [
            "!dlrow olleH\n"
          ]
        }
      ]
    },
    {
      "cell_type": "markdown",
      "source": [
        "###Strings modifications\n"
      ],
      "metadata": {
        "id": "ftOYeEgcAe0p"
      }
    },
    {
      "cell_type": "markdown",
      "source": [
        "*   upper or lower - render the entire string upper or lower case\n",
        "*   strip  - removes *whitespaces* (some_string.strip())\n",
        "*   replace  - replace part of the full string by another (some_string.replace(\"existing_part\",\"new_part\")\n",
        "*   split - splits the string at all appearances of some specified string (thus creating a list with strings at the splits, some_string.split(some_specified_string))\n",
        "\n",
        "\n",
        "\n"
      ],
      "metadata": {
        "id": "pngTJya9jEPt"
      }
    },
    {
      "cell_type": "code",
      "source": [
        "a = \" Hello, World! \"\n",
        "print(hello.upper())\n",
        "print(hello.lower())\n",
        "print(a.strip()) # returns \"Hello, World!\"\n",
        "print(a.replace(\"\"))\n",
        "print(hello.split(\"o\"))"
      ],
      "metadata": {
        "id": "5CTyXxGujLcH"
      },
      "execution_count": null,
      "outputs": []
    },
    {
      "cell_type": "markdown",
      "source": [
        "## String check\n",
        "To check whether a string starts with some specific string or ends with another, one can use the startswith and endswith commands. This results in either 'True' or 'False', e.g.:"
      ],
      "metadata": {
        "id": "aJV3U_u0Bc5r"
      }
    },
    {
      "cell_type": "code",
      "source": [
        "print(hello)\n",
        "print(hello.startswith(\"Hello\"))\n",
        "print(hello.endswith(\"world!\")) # note that this command is case-, and punctuation-sensitive\n",
        "print(hello.endswith(\"World!\")) # note that this command is case-, and punctuation-sensitive"
      ],
      "metadata": {
        "colab": {
          "base_uri": "https://localhost:8080/"
        },
        "id": "a65R_sRLBnLF",
        "outputId": "32c16df4-269e-4161-b7a2-fd879d772636"
      },
      "execution_count": null,
      "outputs": [
        {
          "output_type": "stream",
          "name": "stdout",
          "text": [
            "Hello world!\n",
            "True\n",
            "True\n",
            "False\n"
          ]
        }
      ]
    },
    {
      "cell_type": "markdown",
      "source": [
        "#Conditionals\n",
        "== equal\n",
        "> greater \n",
        "< less than\n",
        ">= greater or equal\n",
        "<= less than or equal to\n",
        "!= not equal\n"
      ],
      "metadata": {
        "id": "_LRwyw1vKOM8"
      }
    },
    {
      "cell_type": "code",
      "source": [
        "a = 2.0\n",
        "print(a == 2)\n",
        "print(a == 3)\n",
        "print(a != 3)\n",
        "print(\"\")\n",
        "print(a == 2.0)\n",
        "print(a > 5)\n",
        "print(a < 5)"
      ],
      "metadata": {
        "colab": {
          "base_uri": "https://localhost:8080/"
        },
        "id": "SUk5bNrvKXO5",
        "outputId": "f1ff5080-558e-4461-9f87-835db14d2c3e"
      },
      "execution_count": null,
      "outputs": [
        {
          "output_type": "stream",
          "name": "stdout",
          "text": [
            "True\n",
            "False\n",
            "True\n",
            "\n",
            "True\n",
            "False\n",
            "True\n"
          ]
        }
      ]
    },
    {
      "cell_type": "code",
      "source": [
        "name = \"Boris\"\n",
        "age = \"19\"\n",
        "if name == \"Boris\" and age == \"19\":\n",
        "  print(\"Your name is indeed \" + name + \" and your age really is \" + age + \".\")"
      ],
      "metadata": {
        "colab": {
          "base_uri": "https://localhost:8080/"
        },
        "id": "OkjY6n0DL1oE",
        "outputId": "31eefbfd-aa2a-47ce-85d4-adc5dcc7e2cd"
      },
      "execution_count": null,
      "outputs": [
        {
          "output_type": "stream",
          "name": "stdout",
          "text": [
            "Your name is indeed Boris and your age really is 19.\n"
          ]
        }
      ]
    },
    {
      "cell_type": "markdown",
      "source": [
        "## Logical operators\n",
        "\n",
        "*    and\n",
        "*    or\n",
        "*    not"
      ],
      "metadata": {
        "id": "Gw-8OLzhK5vg"
      }
    },
    {
      "cell_type": "code",
      "source": [
        "a = 2\n",
        "b = 5\n",
        "print(a == 2 and b == 5)\n",
        "print(a == 2 or b == 5)\n",
        "print(a < 3 and b > 4)\n",
        "print(a < 3 or b > 10)\n",
        "print(\"\")\n",
        "print(a < 3 and b > 10)\n",
        "print(not a == 3) # as 'a == 3' returns False, 'not a == 3' returns True\n",
        "print(not False)"
      ],
      "metadata": {
        "colab": {
          "base_uri": "https://localhost:8080/"
        },
        "id": "g3PaXjtLK-pg",
        "outputId": "9dd7bdbb-e749-49c7-89b3-4ded747ecd1e"
      },
      "execution_count": null,
      "outputs": [
        {
          "output_type": "stream",
          "name": "stdout",
          "text": [
            "True\n",
            "True\n",
            "True\n",
            "True\n",
            "\n",
            "False\n",
            "True\n",
            "True\n"
          ]
        }
      ]
    },
    {
      "cell_type": "markdown",
      "source": [
        "#'in' operator\n",
        "Checks whether an object is within a list, e.g.:"
      ],
      "metadata": {
        "id": "6iDCJIeWMfw3"
      }
    },
    {
      "cell_type": "code",
      "source": [
        "some_list = [1, 2, 3, 99]\n",
        "if 3 in some_list:\n",
        "  print(\"3 is in the list position %d!\" % some_list.index(3))\n",
        "\n",
        "print(\"\")\n",
        "\n",
        "if \"mia!\" in \"mamamia!\": # can be used in strings\n",
        "  print(\"Indeed, 'mia!' is in 'mamamia!'\")\n",
        "if \"radio\" not in \"mamamia!\": \n",
        "  print(\"No, 'radio' is not in the expression 'mamamia!'\")"
      ],
      "metadata": {
        "colab": {
          "base_uri": "https://localhost:8080/"
        },
        "id": "f_iNKh9wMulu",
        "outputId": "509f07cf-6382-414f-9037-454ec24ac97b"
      },
      "execution_count": 31,
      "outputs": [
        {
          "output_type": "stream",
          "name": "stdout",
          "text": [
            "3 is in the list position 2!\n",
            "\n",
            "Indeed, 'mia!' is in 'mamamia!'\n",
            "No, 'radio' is not in the expression 'mamamia!'\n"
          ]
        }
      ]
    },
    {
      "cell_type": "markdown",
      "source": [
        "#'is' operator\n",
        "\"Unlike the double equals operator \"==\", the \"is\" operator does not match the values of the variables, but the instances themselves.\", [e.g.](http://net-informations.com/python/iq/is.htm#:~:text='is'%20and%20'%3D%3D'%20operators%20in%20Python,and%20%3D%3D%20comparison%20operators%20behave.):\n",
        "```\n",
        "list_1 = ['a', 'b', 'c']\n",
        "list_2 = list_1\n",
        "list_3 = list(list_1)\n",
        "print(list_1)\n",
        "print(list_2)\n",
        "print(list_3)\n",
        "```\n",
        "then all three lists have the same value, thus:\n",
        "```\n",
        "list_1 == list_2 # returns True\n",
        "list_1 == list_3 # returns True\n",
        "list_2 == list_3 # returns True\n",
        "```\n",
        "but\n",
        "```\n",
        "list_1 is list_2 # returns True\n",
        "list_1 is list_3 # returns False, even though they have the same values\n",
        "list_2 is list_3 # returns False, even though they have the same values\n",
        "```"
      ],
      "metadata": {
        "id": "MYDtGXQKZL1c"
      }
    },
    {
      "cell_type": "markdown",
      "source": [
        "#About indentation\n",
        "Python's standard indentation is given by 4 spaces. However, any other spacing works as long as it is consistent. Code blocks do not require termination, because the blocks themselves are defined by the indentation.\n",
        "\n",
        "Example of if-else:\n",
        "```\n",
        "statement = False\n",
        "another_statement = True\n",
        "\n",
        "if statement is True:\n",
        "    # do something\n",
        "    pass\n",
        "elif another_statement is True: # else if\n",
        "    # do something else\n",
        "    pass\n",
        "else:\n",
        "    # do another thing\n",
        "    pass\n",
        "```"
      ],
      "metadata": {
        "id": "HX7__uwEOfzG"
      }
    },
    {
      "cell_type": "markdown",
      "source": [
        "About true or false: 'True' results from an arithmetic comparison or if the boolean 'True' is given; or if a non-empty object is given. \n",
        "\n",
        "Examples of empty objects are given by\n",
        "\n",
        "\n",
        "*   Empty string, \"\"\n",
        "*   False boolean\n",
        "*   Empty list, []\n",
        "*   Number zero\n",
        "\n"
      ],
      "metadata": {
        "id": "Qeto9RXRYoY1"
      }
    },
    {
      "cell_type": "markdown",
      "source": [
        "# Loops\n",
        "There are two types of loops. The 'for' and the 'while' loops."
      ],
      "metadata": {
        "id": "GBIzuojXfLn0"
      }
    },
    {
      "cell_type": "markdown",
      "source": [
        "## 'For' loops"
      ],
      "metadata": {
        "id": "NduX8BLVAdkt"
      }
    },
    {
      "cell_type": "code",
      "source": [
        "primes = [2, 3, 5, 7]\n",
        "for i in primes:\n",
        "  print(i)"
      ],
      "metadata": {
        "colab": {
          "base_uri": "https://localhost:8080/"
        },
        "id": "x4Qzm4o7f7yZ",
        "outputId": "fdff1644-92f2-4288-8cad-6eee05a59b8b"
      },
      "execution_count": null,
      "outputs": [
        {
          "output_type": "stream",
          "name": "stdout",
          "text": [
            "4\n",
            "6\n",
            "10\n",
            "14\n"
          ]
        }
      ]
    },
    {
      "cell_type": "markdown",
      "source": [
        "### Range function\n",
        "range(start_number,end_number) -> returns indices from start_number to end_number-1. If the start_number is omitted, zero is considered for this input instead.\n",
        "\n",
        "For example:"
      ],
      "metadata": {
        "id": "F7Hm7Up-_Yqt"
      }
    },
    {
      "cell_type": "code",
      "source": [
        "for x in range(5):\n",
        "  print(x)"
      ],
      "metadata": {
        "colab": {
          "base_uri": "https://localhost:8080/"
        },
        "id": "1hdZbDGw_66v",
        "outputId": "276e27ab-b213-449b-9bb4-a9f6dc2a886d"
      },
      "execution_count": null,
      "outputs": [
        {
          "output_type": "stream",
          "name": "stdout",
          "text": [
            "0\n",
            "1\n",
            "2\n",
            "3\n",
            "4\n"
          ]
        }
      ]
    },
    {
      "cell_type": "markdown",
      "source": [
        "## While loops\n",
        "Repeats as long as some boolean condition is fulfilled. E.g.:"
      ],
      "metadata": {
        "id": "CiUMsN9pATq9"
      }
    },
    {
      "cell_type": "code",
      "source": [
        "count = 0\n",
        "while count < 5:\n",
        "  print(count)\n",
        "  count += 1 # same as count = count + 1"
      ],
      "metadata": {
        "colab": {
          "base_uri": "https://localhost:8080/"
        },
        "id": "pep_qBQ5An9u",
        "outputId": "87fa600c-d55c-47ee-82af-abbec6bbd3e8"
      },
      "execution_count": null,
      "outputs": [
        {
          "output_type": "stream",
          "name": "stdout",
          "text": [
            "0\n",
            "1\n",
            "2\n",
            "3\n",
            "4\n"
          ]
        }
      ]
    },
    {
      "cell_type": "markdown",
      "source": [
        "### Break and continue statements\n",
        "\n",
        "*   Break: exit a loop, e.g.:"
      ],
      "metadata": {
        "id": "7rwLSvTHAz7e"
      }
    },
    {
      "cell_type": "code",
      "source": [
        "for i in range(5):\n",
        "  if i < 3:\n",
        "    print(\"%d is less than 3\" % i)\n",
        "  else:\n",
        "      print(\"%d is greater or equal than 3\" % i)"
      ],
      "metadata": {
        "colab": {
          "base_uri": "https://localhost:8080/"
        },
        "id": "gmL4focoLVtG",
        "outputId": "e0be4187-5f1c-4e61-e2ed-7aa2c80838e2"
      },
      "execution_count": null,
      "outputs": [
        {
          "output_type": "stream",
          "name": "stdout",
          "text": [
            "0 is less than 3\n",
            "1 is less than 3\n",
            "2 is less than 3\n",
            "3 is greater or equal than 3\n",
            "4 is greater or equal than 3\n"
          ]
        }
      ]
    },
    {
      "cell_type": "markdown",
      "source": [
        "*   Continue: skip current block and go back to the 'for' or 'while' statement. \n",
        "\n",
        "E.g.: Suppose we only want to print out values below 3 or greater than 7, then:"
      ],
      "metadata": {
        "id": "P0C-ACk9MVC8"
      }
    },
    {
      "cell_type": "code",
      "source": [
        "for i in range(10):\n",
        "  if i < 3:\n",
        "    print(\"%d is less than 3\" % i)\n",
        "  elif i > 7:\n",
        "    print(\"%d is greater than 7\" % i)\n",
        "  else:\n",
        "      continue"
      ],
      "metadata": {
        "colab": {
          "base_uri": "https://localhost:8080/"
        },
        "id": "LciwEHEVMWgl",
        "outputId": "81c68c22-4195-469a-a185-c9fcc5f1fe54"
      },
      "execution_count": null,
      "outputs": [
        {
          "output_type": "stream",
          "name": "stdout",
          "text": [
            "0 is less than 3\n",
            "1 is less than 3\n",
            "2 is less than 3\n",
            "8 is greater than 7\n",
            "9 is greater than 7\n"
          ]
        }
      ]
    },
    {
      "cell_type": "markdown",
      "source": [
        "# Functions\n",
        "*    Global variables: defined inside a function.\n",
        "*    Local variables: created inside a function\n",
        "\n",
        "By the way, if a variable is created both outside and inside a function with the same name, it will retain its global value and will not be affected by the local value.\n",
        "\n"
      ],
      "metadata": {
        "id": "0OdAZT3cOroF"
      }
    },
    {
      "cell_type": "code",
      "source": [
        "x = \"awesome\"\n",
        "\n",
        "def myfunc():\n",
        "  x = \"fantastic\"\n",
        "  print(\"Python is \" + x)\n",
        "\n",
        "myfunc()\n",
        "\n",
        "print(\"Python is \" + x)"
      ],
      "metadata": {
        "id": "BVwgpQRreSpX",
        "outputId": "ca4dd950-3695-4ca4-bd6c-e99a8acff021",
        "colab": {
          "base_uri": "https://localhost:8080/"
        }
      },
      "execution_count": null,
      "outputs": [
        {
          "output_type": "stream",
          "name": "stdout",
          "text": [
            "Python is fantastic\n",
            "Python is awesome\n"
          ]
        }
      ]
    }
  ]
}