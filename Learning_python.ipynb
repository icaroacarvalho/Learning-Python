{
  "nbformat": 4,
  "nbformat_minor": 0,
  "metadata": {
    "colab": {
      "name": "Learning_python.ipynb",
      "provenance": [],
      "collapsed_sections": [],
      "toc_visible": true,
      "authorship_tag": "ABX9TyOx2eEseDi5TGgJKcsayA83",
      "include_colab_link": true
    },
    "kernelspec": {
      "name": "python3",
      "display_name": "Python 3"
    },
    "language_info": {
      "name": "python"
    }
  },
  "cells": [
    {
      "cell_type": "markdown",
      "metadata": {
        "id": "view-in-github",
        "colab_type": "text"
      },
      "source": [
        "<a href=\"https://colab.research.google.com/github/icaroacarvalho/Learning-Python-/blob/main/Learning_python.ipynb\" target=\"_parent\"><img src=\"https://colab.research.google.com/assets/colab-badge.svg\" alt=\"Open In Colab\"/></a>"
      ]
    },
    {
      "cell_type": "markdown",
      "source": [
        "This is me learning Python. I followed [this website](https://www.learnpython.org/en/Variables_and_Types) at first, but changed to [this one later](https://www.w3schools.com/python/python_comments.asp).\n",
        "\n",
        "\n",
        "---\n",
        "\n"
      ],
      "metadata": {
        "id": "TrFj3MaMgzta"
      }
    },
    {
      "cell_type": "markdown",
      "source": [
        "# Comments\n",
        "*   Use # for commenting out some line of the code.\n",
        "*    Python does not provide a way to comment out multiple lines, but one can use the following triple quotes:\n",
        "\n",
        "\n",
        "```\n",
        "This is a commented out chunk\n",
        "of text\n",
        "because Python ignores string literals \n",
        "that were not assigned to a variable\n",
        "```\n",
        "\n"
      ],
      "metadata": {
        "id": "m7axa8GCYUrS"
      }
    },
    {
      "cell_type": "markdown",
      "source": [
        "# Variables and Types\n",
        "Variables receive name according to the following general rules:\n",
        "\n",
        "\n",
        "*   start with letter or underscore\n",
        "*   cannot start with number\n",
        "*   only alphanumeric characters\n",
        "*   case-sensitive\n",
        "\n",
        "Case-sentiviness:\n",
        "*    Pascal case: myVariableName\n",
        "*    Camel case: MyVariableName\n",
        "*    Snake case: my_variable_name\n",
        "\n",
        "\n"
      ],
      "metadata": {
        "id": "s_xZpdDehkUt"
      }
    },
    {
      "cell_type": "markdown",
      "source": [
        "## Types\n",
        "Every variable in Python is an object $\\rightarrow$ Python is object-oriented.\n",
        "The different types are:\n",
        "* Numbers: integer(int), floating-point (float) and [complex](https://www.tutorialspoint.com/complex-numbers-in-python)\n",
        "* Text: strings (can use simple or double quotes (doubles quotes are more useful, in that it allows to use simple quotes within))\n",
        "* Sequence types: list, tuple, range\n",
        "* Mapping type: dict (?)\n",
        "* Set Types:\tset, frozenset (?)\n",
        "* Boolean Type:\tbool (e.g, True and False)\n",
        "* Binary Types:\tbytes, bytearray (?), memoryview (?)\n",
        "* None Type:\tNoneType\n",
        "\n",
        "isinstance $\\rightarrow$ this function checks a data type (example below)."
      ],
      "metadata": {
        "id": "HAfTHRXXh9J7"
      }
    },
    {
      "cell_type": "code",
      "source": [
        "this_is_an_integer = 7\n",
        "this_is_a_float = 7.0 # or, alternatively, this_is_a_float = float(7)\n",
        "this_is_a_string = \"Hi, I'm a string\"\n",
        "this_is_a_complex = 2.5+1.3j # apparently Python does not use 'i', but rather 'j'\n",
        "# let us check the output\n",
        "print(this_is_an_integer)\n",
        "print(this_is_a_float)\n",
        "print(this_is_a_string)\n",
        "print(this_is_a_complex)\n",
        "print(\"The real part of the complex number is given by %.1f.\" %this_is_a_complex.real)\n",
        "print(\"The imaginary part of the complex number is given by %.1f.\" %this_is_a_complex.imag)\n",
        "print(\"The conjugate of the complex number is given by \", this_is_a_complex.conjugate())"
      ],
      "metadata": {
        "colab": {
          "base_uri": "https://localhost:8080/"
        },
        "id": "DjjNmS9EidxY",
        "outputId": "cb182354-7819-4a16-e5f5-f4f8724c3f7b"
      },
      "execution_count": null,
      "outputs": [
        {
          "output_type": "stream",
          "name": "stdout",
          "text": [
            "7\n",
            "7.0\n",
            "Hi, I'm a string\n",
            "(2.5+1.3j)\n",
            "The real part of the complex number is given by 2.5.\n",
            "The imaginary part of the complex number is given by 1.3.\n",
            "The conjugate of the complex number is given by  (2.5-1.3j)\n"
          ]
        }
      ]
    },
    {
      "cell_type": "code",
      "source": [
        "print(isinstance(3,int))\n",
        "print(isinstance(3,str))\n",
        "print(isinstance(\"3\",str))"
      ],
      "metadata": {
        "colab": {
          "base_uri": "https://localhost:8080/"
        },
        "id": "cAW6WxhyugIz",
        "outputId": "9df6ac74-643d-477b-f8b2-97794ad455db"
      },
      "execution_count": null,
      "outputs": [
        {
          "output_type": "stream",
          "name": "stdout",
          "text": [
            "True\n",
            "False\n",
            "True\n"
          ]
        }
      ]
    },
    {
      "cell_type": "markdown",
      "source": [
        "#### About booleans\n",
        "\n",
        "About true or false: 'True' results from an arithmetic comparison or if the boolean 'True' is given; or if a non-empty object is given. \n",
        "\n",
        "Almost any value is considered True, except:\n",
        "\n",
        "*   For strings, an empty string, \"\"\n",
        "*   For boolean, a False\n",
        "*   For lists, tuples, sets and dictionaries, Empty cases, [], (), {}...\n",
        "*   For numbers, the number zero\n",
        "\n",
        "Also, the case of an object made with the `__len__` function that returns 0 or False (?).\n",
        "```\n",
        "class myclass():\n",
        "  def __len__(self):\n",
        "    return 0\n",
        "\n",
        "myobj = myclass()\n",
        "print(bool(myobj))\n",
        "```\n",
        "\n",
        "A function can also be made to return a True value\n",
        "```\n",
        "def myFunction() :\n",
        "  return True\n",
        "\n",
        "if myFunction():\n",
        "  print(\"YES!\")\n",
        "else:\n",
        "  print(\"NO!\")\n",
        "  # this code will return \"YES!\", because the function always returns True.\n",
        "```"
      ],
      "metadata": {
        "id": "XQXSCKsOnUvk"
      }
    },
    {
      "cell_type": "code",
      "source": [
        "# Some examples that give True\n",
        "print(bool(\"Hello\"))\n",
        "print(bool(15))\n",
        "print(\"\")\n",
        "# Some examples that give False\n",
        "print(bool(False))\n",
        "print(bool(None))\n",
        "print(bool(0))\n",
        "print(bool(\"\"))\n",
        "print(bool(()))\n",
        "print(bool([]))\n",
        "print(bool({}))"
      ],
      "metadata": {
        "colab": {
          "base_uri": "https://localhost:8080/"
        },
        "id": "A2ysoNDgoRHM",
        "outputId": "05c06ee0-05ed-4858-d49d-cf4edb33722c"
      },
      "execution_count": null,
      "outputs": [
        {
          "output_type": "stream",
          "name": "stdout",
          "text": [
            "True\n",
            "True\n",
            "\n",
            "False\n",
            "False\n",
            "False\n",
            "False\n",
            "False\n",
            "False\n",
            "False\n"
          ]
        }
      ]
    },
    {
      "cell_type": "markdown",
      "source": [
        "###Random numbers: \n",
        "these can be obtained with a module called random"
      ],
      "metadata": {
        "id": "9rxiPi9rbF4k"
      }
    },
    {
      "cell_type": "code",
      "source": [
        "import random\n",
        "\n",
        "print(random.randrange(1, 10)) # generates an integer random number between 1 and 10"
      ],
      "metadata": {
        "colab": {
          "base_uri": "https://localhost:8080/"
        },
        "id": "BSrmbC6cbKX2",
        "outputId": "b9115a61-6386-4321-d8c9-f05e97555b7a"
      },
      "execution_count": null,
      "outputs": [
        {
          "output_type": "stream",
          "name": "stdout",
          "text": [
            "8\n"
          ]
        }
      ]
    },
    {
      "cell_type": "code",
      "source": [
        "x = [\"apple\", \"banana\", \"cherry\"] # list\n",
        "x = (\"apple\", \"banana\", \"cherry\") # tuple\n",
        "x = {\"apple\", \"banana\", \"cherry\"} # set\n",
        "x = {\"name\" : \"John\", \"age\" : 36} # dict\n",
        "x = frozenset({\"apple\", \"banana\", \"cherry\"}) # fronzenset\n",
        "x = None # NoneType\n",
        "\n",
        "x = complex(1j)\n",
        "x = list((\"apple\", \"banana\", \"cherry\")) # list\n",
        "x = tuple((\"apple\", \"banana\", \"cherry\")) # tuple\n",
        "x = set((\"apple\", \"banana\", \"cherry\")) # set\n",
        "x = dict(name=\"John\", age=36) # dict\n",
        "x = frozenset({\"apple\", \"banana\", \"cherry\"}) # fronzenset\n",
        "x = None # NoneType\n",
        "\n"
      ],
      "metadata": {
        "id": "POZjHI_tM50I"
      },
      "execution_count": null,
      "outputs": []
    },
    {
      "cell_type": "markdown",
      "source": [
        "### Conversion of data types:"
      ],
      "metadata": {
        "id": "u480RXoWOc5o"
      }
    },
    {
      "cell_type": "code",
      "source": [
        "x = 1    # int\n",
        "y = 2.8  # float\n",
        "z = 1j   # complex\n",
        "\n",
        "#convert from int to float:\n",
        "a = float(x)\n",
        "\n",
        "#convert from float to int:\n",
        "b = int(y)\n",
        "\n",
        "#convert from int to complex:\n",
        "c = complex(x)\n",
        "\n",
        "print(a)\n",
        "print(b)\n",
        "print(c)\n",
        "\n",
        "print(type(a))\n",
        "print(type(b))\n",
        "print(type(c))\n",
        "# Note that conversion from complex to another data type is not possible"
      ],
      "metadata": {
        "colab": {
          "base_uri": "https://localhost:8080/"
        },
        "id": "H4FaUGjWOVlY",
        "outputId": "801d1ff2-3c21-44b2-812e-c402287dd89e"
      },
      "execution_count": null,
      "outputs": [
        {
          "output_type": "stream",
          "name": "stdout",
          "text": [
            "1.0\n",
            "2\n",
            "(1+0j)\n",
            "<class 'float'>\n",
            "<class 'int'>\n",
            "<class 'complex'>\n"
          ]
        }
      ]
    },
    {
      "cell_type": "markdown",
      "source": [
        "### Sum of strings? = concatenation\n",
        "A strange operation is defined by the sum of strings\n",
        "\n"
      ],
      "metadata": {
        "id": "X4f_k_fdjkOw"
      }
    },
    {
      "cell_type": "code",
      "source": [
        "first_part = 'This is number 1'\n",
        "second_part = ' and this is number 2.'\n",
        "whole = first_part + second_part\n",
        "print(whole)"
      ],
      "metadata": {
        "colab": {
          "base_uri": "https://localhost:8080/"
        },
        "id": "rNJa-TQPjm9N",
        "outputId": "fe31d5c4-a8a6-46d0-f4c8-c48ae87314cc"
      },
      "execution_count": null,
      "outputs": [
        {
          "output_type": "stream",
          "name": "stdout",
          "text": [
            "This is number 1 and this is number 2.\n"
          ]
        }
      ]
    },
    {
      "cell_type": "markdown",
      "source": [
        "Multiple assignments can be carried out in one line, e.g.:"
      ],
      "metadata": {
        "id": "rM8g7u7FkJSq"
      }
    },
    {
      "cell_type": "code",
      "source": [
        "a,b,c = 3,4,5 # assigns 3 to a; and 4 to b\n",
        "x,y,z = \"Orange\", \"Banana\", \"Curry\"\n",
        "d = e = f = 7\n",
        "print(a)\n",
        "print(b)\n",
        "print(a,b)\n",
        "print(\"\")\n",
        "print(x)\n",
        "print(y)\n",
        "print(z)\n",
        "print(d,e,f)"
      ],
      "metadata": {
        "colab": {
          "base_uri": "https://localhost:8080/"
        },
        "id": "mlU4MYq5kQns",
        "outputId": "173184da-6811-489d-9085-f7191e4d7199"
      },
      "execution_count": null,
      "outputs": [
        {
          "output_type": "stream",
          "name": "stdout",
          "text": [
            "3\n",
            "4\n",
            "3 4\n",
            "\n",
            "Orange\n",
            "Banana\n",
            "Curry\n",
            "7 7 7\n"
          ]
        }
      ]
    },
    {
      "cell_type": "markdown",
      "source": [
        "Python allows to extract values into variables from a tuple, i.e.,"
      ],
      "metadata": {
        "id": "Q7xCp_Ybbq8z"
      }
    },
    {
      "cell_type": "code",
      "source": [
        "fruits = [\"apple\", \"banana\", \"cherry\"]\n",
        "x, y, z = fruits\n",
        "print(x)\n",
        "print(y)\n",
        "print(z)"
      ],
      "metadata": {
        "colab": {
          "base_uri": "https://localhost:8080/"
        },
        "id": "V8zjL76wbwub",
        "outputId": "8bee0542-abb4-4ef1-9afe-1d4d40392406"
      },
      "execution_count": null,
      "outputs": [
        {
          "output_type": "stream",
          "name": "stdout",
          "text": [
            "apple\n",
            "banana\n",
            "cherry\n"
          ]
        }
      ]
    },
    {
      "cell_type": "markdown",
      "source": [
        "Notice that Python allows to print different variable types at once"
      ],
      "metadata": {
        "id": "8fryh59fcDVM"
      }
    },
    {
      "cell_type": "code",
      "source": [
        "print(a,x)"
      ],
      "metadata": {
        "colab": {
          "base_uri": "https://localhost:8080/"
        },
        "id": "b2OA1kedcGf-",
        "outputId": "b4f500da-3b48-469b-8429-f6a1f35d1314"
      },
      "execution_count": null,
      "outputs": [
        {
          "output_type": "stream",
          "name": "stdout",
          "text": [
            "3 apple\n"
          ]
        }
      ]
    },
    {
      "cell_type": "markdown",
      "source": [
        "###Casting\n",
        "Variables dispense with declaration. However, variable can be indeed cast in some data type with the following constructors:\n"
      ],
      "metadata": {
        "id": "IvxgD5HzZYKx"
      }
    },
    {
      "cell_type": "code",
      "source": [
        "a = str(5)   # for a string, '5'\n",
        "b = int(5)   # for an integer, 5\n",
        "c = float(5) # for a float, 5.0"
      ],
      "metadata": {
        "id": "HhPUBq8aZlDu"
      },
      "execution_count": null,
      "outputs": []
    },
    {
      "cell_type": "markdown",
      "source": [
        "type() gives the data type of a variable, e.g.:"
      ],
      "metadata": {
        "id": "sSgnpYlyaK1T"
      }
    },
    {
      "cell_type": "code",
      "source": [
        "print(type(a))\n",
        "print(type(b))\n",
        "print(type(c))"
      ],
      "metadata": {
        "colab": {
          "base_uri": "https://localhost:8080/"
        },
        "id": "4mQpJ7HVaRtH",
        "outputId": "5231577d-1c10-4a95-d8d6-2709914c8e5c"
      },
      "execution_count": null,
      "outputs": [
        {
          "output_type": "stream",
          "name": "stdout",
          "text": [
            "<class 'str'>\n",
            "<class 'int'>\n",
            "<class 'float'>\n"
          ]
        }
      ]
    },
    {
      "cell_type": "code",
      "source": [
        "int(6), int('6'), int(6.9), int(6.1) # all return an integer 6 (note that for the float it simply removes decimals)"
      ],
      "metadata": {
        "colab": {
          "base_uri": "https://localhost:8080/"
        },
        "id": "ApKAHO-qclUo",
        "outputId": "843df5c6-9f1b-4659-9565-32cccb6eeb4c"
      },
      "execution_count": null,
      "outputs": [
        {
          "output_type": "execute_result",
          "data": {
            "text/plain": [
              "(6, 6, 6, 6)"
            ]
          },
          "metadata": {},
          "execution_count": 20
        }
      ]
    },
    {
      "cell_type": "code",
      "source": [
        "float(6.0), float('6'), float(6)"
      ],
      "metadata": {
        "colab": {
          "base_uri": "https://localhost:8080/"
        },
        "id": "5MeHKDb5c14V",
        "outputId": "d7aa89fc-ca54-48ba-fcd0-98f3441f3039"
      },
      "execution_count": null,
      "outputs": [
        {
          "output_type": "execute_result",
          "data": {
            "text/plain": [
              "(6.0, 6.0, 6.0)"
            ]
          },
          "metadata": {},
          "execution_count": 21
        }
      ]
    },
    {
      "cell_type": "markdown",
      "source": [
        "#Collection data types (arrays)\n",
        "*    List -> ordered and changeable; allows duplicate members\n",
        "*    Tuple -> ordered and unchangeable; allows duplicate members\n",
        "*    Set -> unordered, unchangeable*, and unindexed. No duplicate members.\n",
        "*    Dictionary -> ordered (except for Python 3.7 onward) and changeable;  no duplicate members\n",
        "\n",
        "Accessing:\n",
        "*   somelist[1], sometuple[1]\n",
        "*   can use negative index (-1 is the last item, -2 is the second to last, etc.) like somelist[-1], sometuple[-1]\n",
        "*   can use range of indices, e.g., somelist[1:5], sometuple[1:5] (also ranges like [5:],[:3], [-4:-1] etc.) "
      ],
      "metadata": {
        "id": "vAw904fxe6sK"
      }
    },
    {
      "cell_type": "markdown",
      "source": [
        "##'in' operator\n",
        "Checks whether an object is within a list/tuple e.g.:"
      ],
      "metadata": {
        "id": "6iDCJIeWMfw3"
      }
    },
    {
      "cell_type": "code",
      "source": [
        "some_list = [1, 2, 3, 99]\n",
        "if 3 in some_list:\n",
        "  print(\"3 is in the list position no. %d!\" % some_list.index(3))\n",
        "if \"mia!\" in \"mamamia!\": # can be used in strings\n",
        "  print(\"Indeed, 'mia!' is in 'mamamia!'\")\n",
        "if \"radio\" not in \"mamamia!\": \n",
        "  print(\"No, 'radio' is not in the expression 'mamamia!'\")\n",
        "\n",
        "print(\"\")\n",
        "some_tuple = (1, 2, 3, 99)\n",
        "if 3 in some_tuple:\n",
        "  print(\"3 is in the tuple position no. %d!\" % some_tuple.index(3))"
      ],
      "metadata": {
        "colab": {
          "base_uri": "https://localhost:8080/"
        },
        "id": "f_iNKh9wMulu",
        "outputId": "b807eb0f-56ca-4743-b0e7-3c2198584fb6"
      },
      "execution_count": 39,
      "outputs": [
        {
          "output_type": "stream",
          "name": "stdout",
          "text": [
            "3 is in the list position no. 2!\n",
            "Indeed, 'mia!' is in 'mamamia!'\n",
            "No, 'radio' is not in the expression 'mamamia!'\n",
            "\n",
            "3 is in the tuple position no. 2!\n"
          ]
        }
      ]
    },
    {
      "cell_type": "markdown",
      "source": [
        "## Lists"
      ],
      "metadata": {
        "id": "d58nhJr1kvf1"
      }
    },
    {
      "cell_type": "markdown",
      "source": [
        "The index of lists starts at 0. \n",
        "\n",
        "To append, one can add the expression '.append' to the name of the list with the element within the argument in parentheses."
      ],
      "metadata": {
        "id": "9hruAMdFzDqE"
      }
    },
    {
      "cell_type": "code",
      "source": [
        "my_list=[]\n",
        "my_list.append(1)\n",
        "my_list.append(2)\n",
        "my_list.append(3)\n",
        "print(my_list[0])\n",
        "print(my_list[1])\n",
        "print(my_list[2])"
      ],
      "metadata": {
        "colab": {
          "base_uri": "https://localhost:8080/"
        },
        "id": "kmmcPEdfytF3",
        "outputId": "d3448a6a-8c03-4394-92c8-919b8e62938f"
      },
      "execution_count": null,
      "outputs": [
        {
          "output_type": "stream",
          "name": "stdout",
          "text": [
            "1\n",
            "2\n",
            "3\n"
          ]
        }
      ]
    },
    {
      "cell_type": "markdown",
      "source": [
        "Now let us run a quick loop"
      ],
      "metadata": {
        "id": "QSQLd5VczS8o"
      }
    },
    {
      "cell_type": "code",
      "source": [
        "for x in my_list:\n",
        "  print(x)"
      ],
      "metadata": {
        "colab": {
          "base_uri": "https://localhost:8080/"
        },
        "id": "_2JBQW19zVDn",
        "outputId": "df6676bd-2034-48bc-cecb-8013f2073d2b"
      },
      "execution_count": null,
      "outputs": [
        {
          "output_type": "stream",
          "name": "stdout",
          "text": [
            "1\n",
            "2\n",
            "3\n"
          ]
        }
      ]
    },
    {
      "cell_type": "code",
      "source": [
        "another_list = [\"Mango\", \"Banana\", \"Avocado\"]\n",
        "for j in another_list:\n",
        "  print(j)"
      ],
      "metadata": {
        "colab": {
          "base_uri": "https://localhost:8080/"
        },
        "id": "Undk1OMm2IWt",
        "outputId": "576f5cb8-b7fc-446c-b26c-56d3cb98fc2d"
      },
      "execution_count": null,
      "outputs": [
        {
          "output_type": "stream",
          "name": "stdout",
          "text": [
            "Mango\n",
            "Banana\n",
            "Avocado\n"
          ]
        }
      ]
    },
    {
      "cell_type": "code",
      "source": [
        "print(another_list[2])"
      ],
      "metadata": {
        "colab": {
          "base_uri": "https://localhost:8080/"
        },
        "id": "eAbWV0Q-2nVW",
        "outputId": "d0f9c056-d4a3-42f0-ee04-2ab2abb4c00b"
      },
      "execution_count": null,
      "outputs": [
        {
          "output_type": "stream",
          "name": "stdout",
          "text": [
            "3\n"
          ]
        }
      ]
    },
    {
      "cell_type": "markdown",
      "source": [
        "Lists can contain different data types\n",
        "```\n",
        "list1 = [\"abc\", 34, True, 40, \"male\"]\n",
        "```\n",
        "and their type can be obtained with the type() function, e.g.:\n",
        "```\n",
        "type(list1)\n",
        "```"
      ],
      "metadata": {
        "id": "c01xDQAb-i_x"
      }
    },
    {
      "cell_type": "code",
      "source": [
        "list1 = [\"abc\", 34, True, 40, \"male\"]\n",
        "type(list1)"
      ],
      "metadata": {
        "colab": {
          "base_uri": "https://localhost:8080/"
        },
        "id": "lglSdOL8n-jg",
        "outputId": "21b7434a-91c1-44cf-8427-a31df5a011fa"
      },
      "execution_count": null,
      "outputs": [
        {
          "output_type": "execute_result",
          "data": {
            "text/plain": [
              "list"
            ]
          },
          "metadata": {},
          "execution_count": 1
        }
      ]
    },
    {
      "cell_type": "markdown",
      "source": [
        "Lists can also be built with the list constructor, i.e.,\n",
        "```\n",
        "grocery_list = list((\"eggs\", \"watermelon\", \"\"))\n",
        "```"
      ],
      "metadata": {
        "id": "3s3AbSxGoKl8"
      }
    },
    {
      "cell_type": "markdown",
      "source": [
        "*    List -> ordered and changeable; allows duplicate members\n",
        "\n",
        "One can access items from a list as \n",
        "```\n",
        "some_list[some_index]\n",
        "```\n",
        "where 'some_index' may be positive or negative (then it means counting from the end of the list) and it may also be a range (see '__String as an array__' below), e.g.:\n",
        "```\n",
        "some_list[1:4]\n",
        "```\n",
        "ranges from the second to the third item of the list (recall that the 5th element (index 4) is left out).\n",
        "Negative indexes may be used as well,\n",
        "```\n",
        "some_list[-4:-1] # meaning it starts from the fourth to last item (because the fifth is left out) to the second to last item\n",
        "```\n",
        "RECALL: counting in Python starts at 0.\n",
        "To change an item, just use the corresponding index:\n",
        "```\n",
        "some_list[2] = \"I'm new\" # change the third item\n",
        "some_list[2:3] = [\"One new item\", \"And another new item\"]\n",
        "```\n",
        "The list will change size by inserting a number of items different from the number of replacements\n",
        "```\n",
        "some_list = [\"item 0\", \"item 1\", \"item 2\", \"item 3\"]\n",
        "some_list[1:3] = [\"item 4\"]\n",
        "print(some_list) # prints out ['item 0', 'item 4', 'item 3']\n",
        "\n",
        "some_list = [\"item 0\", \"item 1\", \"item 2\", \"item 3\"]\n",
        "some_list[1:4] = [\"item 4\"]\n",
        "print(some_list) # prints out ['item 0', 'item 4']\n",
        "\n",
        "thislist = [\"apple\", \"banana\", \"cherry\"]\n",
        "thislist[1:2] = [\"blackcurrant\", \"watermelon\"]\n",
        "print(thislist) # yields [\"apple\", \"blackcurrant\", \"watermelon\", \"cherry\"]\n",
        "# here, the second item \"banana\" is replaced by two items, \"blackcurrant\" and \"watermelon\"\n",
        "```\n",
        "\n",
        "some_list.insert() $\\rightarrow$ allows the insertion of new items into the list (NOTE: this does modify the original list) at any one position.\n",
        "\n",
        "some_list.append() $\\rightarrow$ allows appending new items to the end of the list (NOTE: this does modify the original list)\n",
        "\n",
        "some_list.extend(some_iterable) $\\rightarrow$ extends some_list with another list or any other iterable (some_iterable), which is appended to the end of some_list\n",
        "```\n",
        "some_list = [\"orig_0\", \"orig_1\", \"orig_2\"]\n",
        "some_list.insert(2,\"N\") # produces ['orig_0', 'orig_1', 'N', 'orig_2']\n",
        "\n",
        "some_list = [\"orig_0\", \"orig_1\", \"orig_2\"]\n",
        "some_list.append(\"BLABLA\") # produces ['orig_0', 'orig_1', 'orig_2', 'BLABLA']\n",
        "\n",
        "some_list = [\"orig_0\", \"orig_1\", \"orig_2\"]\n",
        "with_another_list =  [\"orig_3\", \"orig_4\", \"orig_5\"]\n",
        "some_list.extend(with_another_list)\n",
        "print(some_list) # results in [\"orig_0\", \"orig_1\", \"orig_2\", \"orig_3\", \"orig_4\", \"orig_5\"]\n",
        "\n",
        "some_list = [\"orig_0\", \"orig_1\", \"orig_2\"]\n",
        "some_iterable =  (\"orig_3\", \"orig_4\", \"orig_5\") # a tuple\n",
        "some_list.extend(some_iterable)\n",
        "print(some_list) # results in [\"orig_0\", \"orig_1\", \"orig_2\", \"orig_3\", \"orig_4\", \"orig_5\"]again\n",
        "```\n",
        "\n",
        "some_list.remove() $\\rightarrow$ removes an item, e.g.:\n",
        "```\n",
        "some_list = [\"orig_0\", \"orig_1\", \"orig_2\"]\n",
        "some_list.remove(\"orig_0\")\n",
        "```\n",
        "some_list.remove() $\\rightarrow$ removes an item based on index, e.g.:\n",
        "```\n",
        "some_list = [\"orig_0\", \"orig_1\", \"orig_2\"]\n",
        "some_list.pop(0) # removes \"orig_0\"\n",
        "some_list.pop() # removes last item, \"orig_2\" here\n",
        "```\n",
        "del some_list[some_index] $\\rightarrow$ removes some item from some_list\n",
        "\n",
        "del some_list[some_index] $\\rightarrow$ removes the list some_list\n",
        "\n",
        "some_list.clear() $\\rightarrow$ clears/empties the list some_list"
      ],
      "metadata": {
        "id": "wP5Kow3f2kB3"
      }
    },
    {
      "cell_type": "code",
      "source": [
        "some_list = [\"item 0\", \"item 1\", \"item 2\", \"item 3\"]\n",
        "some_list[1:3] = [\"item 4\"] # recall that the indices go from 1 to 2 (3 is excluded)\n",
        "print(some_list) # only the second (index 1) and third (index 2) items are replaced"
      ],
      "metadata": {
        "colab": {
          "base_uri": "https://localhost:8080/"
        },
        "id": "PS1Q7KsFEYJ5",
        "outputId": "2b6fe587-262a-44b8-d72e-a84ae700033e"
      },
      "execution_count": null,
      "outputs": [
        {
          "output_type": "stream",
          "name": "stdout",
          "text": [
            "['item 0', 'item 4', 'item 3']\n"
          ]
        }
      ]
    },
    {
      "cell_type": "code",
      "source": [
        "thislist = [\"apple\", \"banana\", \"cherry\", \"orange\", \"kiwi\", \"melon\", \"mango\"]\n",
        "print(thislist[1:4]) # gives \"banana\" until \"orange\"\n",
        "print(thislist[:4]) # gives the beginning until \"orange\"\n",
        "print(thislist[1:]) # gives \"banana\" until the end of the list"
      ],
      "metadata": {
        "colab": {
          "base_uri": "https://localhost:8080/"
        },
        "id": "5e4lkTOKMx-P",
        "outputId": "e1147042-93ce-4d2e-9382-e6584c8dab92"
      },
      "execution_count": null,
      "outputs": [
        {
          "output_type": "stream",
          "name": "stdout",
          "text": [
            "['banana', 'cherry', 'orange']\n",
            "['apple', 'banana', 'cherry', 'orange']\n",
            "['banana', 'cherry', 'orange', 'kiwi', 'melon', 'mango']\n"
          ]
        }
      ]
    },
    {
      "cell_type": "markdown",
      "source": [
        "### List comprehension\n",
        "Shortest syntax for looping through a list. In order to create a new list from another, for example, we can do:\n",
        "```\n",
        "newlist = [expression for item in iterable if condition == True]\n",
        "```\n",
        "\n",
        "*    expression: the outcome, which can be changed before adding to the new list (e.g., a string item can be made upper case before joining the new list, etc.). By the way, the outcome may be changed under some condition.\n",
        "*    iterable: list, tuple, set or a dict.\n"
      ],
      "metadata": {
        "id": "P145_H1PkLXD"
      }
    },
    {
      "cell_type": "code",
      "source": [
        "thislist = [\"apple\", \"banana\", \"cherry\"]\n",
        "[print(x) for x in thislist]"
      ],
      "metadata": {
        "colab": {
          "base_uri": "https://localhost:8080/"
        },
        "id": "Bxlodouv-xwd",
        "outputId": "1c141695-ce69-4038-dcc6-655dc9f787cb"
      },
      "execution_count": null,
      "outputs": [
        {
          "output_type": "stream",
          "name": "stdout",
          "text": [
            "apple\n",
            "banana\n",
            "cherry\n"
          ]
        },
        {
          "output_type": "execute_result",
          "data": {
            "text/plain": [
              "[None, None, None]"
            ]
          },
          "metadata": {},
          "execution_count": 6
        }
      ]
    },
    {
      "cell_type": "code",
      "source": [
        "# create newlist from all the elements in 'fruits' than contain the character 'a'\n",
        "fruits = [\"apple\", \"banana\", \"cherry\", \"kiwi\", \"mango\"]\n",
        "\n",
        "samelist = [x for x in fruits] \n",
        "newlist = [x for x in fruits if \"a\" in x] \n",
        "newlist2 = [x for x in fruits if \"a\" not in x] \n",
        "newlist3 = [x for x in fruits if x != \"kiwi\"] \n",
        "newlist4 = [x if x != \"banana\" else \"orange\" for x in fruits]\n",
        "upperlist = [x.upper() for x in fruits]\n",
        "\n",
        "print(samelist)\n",
        "print(newlist)\n",
        "print(newlist2)\n",
        "print(newlist3)\n",
        "print(newlist4)\n",
        "print(upperlist)\n"
      ],
      "metadata": {
        "colab": {
          "base_uri": "https://localhost:8080/"
        },
        "id": "35leW8JA-uCy",
        "outputId": "62f968f0-8caa-4468-e2a1-835036f148d9"
      },
      "execution_count": null,
      "outputs": [
        {
          "output_type": "stream",
          "name": "stdout",
          "text": [
            "['apple', 'banana', 'cherry', 'kiwi', 'mango']\n",
            "['apple', 'banana', 'mango']\n",
            "['cherry', 'kiwi']\n",
            "['apple', 'banana', 'cherry', 'mango']\n",
            "['apple', 'orange', 'cherry', 'kiwi', 'mango']\n",
            "['APPLE', 'BANANA', 'CHERRY', 'KIWI', 'MANGO']\n"
          ]
        }
      ]
    },
    {
      "cell_type": "markdown",
      "source": [
        "### Sorting\n",
        "sort() $\\rightarrow$ by default, organise lists with the following syntax: \n",
        "```\n",
        "some_list.sort() # modifies the list for organisation\n",
        "```\n",
        "alphabetically (for lists containing strings; case-sensitive, prioritising upper cases) or numerically (for lists containing numbers). \n",
        "\n",
        "To reverse the organisation it suffices to use the \"reverse = True\" argument (different from the reverse() method!)"
      ],
      "metadata": {
        "id": "T4BL0j5WE3VY"
      }
    },
    {
      "cell_type": "code",
      "source": [
        "shopping_list = [\"eggs\", \"carrots\", \"juice\", \"avocado\"]\n",
        "shopping_list.sort()\n",
        "print(shopping_list)\n",
        "shopping_list.sort(reverse = True)\n",
        "print(shopping_list)"
      ],
      "metadata": {
        "colab": {
          "base_uri": "https://localhost:8080/"
        },
        "id": "BHd9u1iLFb-1",
        "outputId": "e874e465-69f9-4f82-8fbd-bed51749c434"
      },
      "execution_count": null,
      "outputs": [
        {
          "output_type": "stream",
          "name": "stdout",
          "text": [
            "['avocado', 'carrots', 'eggs', 'juice']\n",
            "['juice', 'eggs', 'carrots', 'avocado']\n"
          ]
        }
      ]
    },
    {
      "cell_type": "code",
      "source": [
        "no_list = [1, 2, 34, -3.141516, 9999, 0, -1, -1.5, -999]\n",
        "no_list.sort()\n",
        "print(no_list)\n",
        "no_list.sort(reverse = True)\n",
        "print(no_list)"
      ],
      "metadata": {
        "colab": {
          "base_uri": "https://localhost:8080/"
        },
        "id": "iLgTzfrXFpBZ",
        "outputId": "6ad7761f-e7ca-4500-b65f-c70e7fe924de"
      },
      "execution_count": null,
      "outputs": [
        {
          "output_type": "stream",
          "name": "stdout",
          "text": [
            "[-999, -3.141516, -1.5, -1, 0, 1, 2, 34, 9999]\n",
            "[9999, 34, 2, 1, 0, -1, -1.5, -3.141516, -999]\n"
          ]
        }
      ]
    },
    {
      "cell_type": "markdown",
      "source": [
        "Instead of the default behaviour, one can specify the organising function. \n",
        "\n",
        "*    For example, to organise a numeric list according to the proximity between the numbers of the list relative to a specific value, one can do the following:"
      ],
      "metadata": {
        "id": "sY5K8HffGv67"
      }
    },
    {
      "cell_type": "code",
      "source": [
        "def distance(y):\n",
        "    some_value = 50\n",
        "    return abs(y-some_value) # get the distance of y to some_value\n",
        "\n",
        "thislist = [100, 50, 65, 82, 23]\n",
        "thislist.sort(key = distance)\n",
        "print(thislist)"
      ],
      "metadata": {
        "colab": {
          "base_uri": "https://localhost:8080/"
        },
        "id": "EB54eGJWHN7w",
        "outputId": "3b63671b-d614-498d-8260-1198d70e0eec"
      },
      "execution_count": null,
      "outputs": [
        {
          "output_type": "stream",
          "name": "stdout",
          "text": [
            "[50, 65, 23, 82, 100]\n"
          ]
        }
      ]
    },
    {
      "cell_type": "markdown",
      "source": [
        "*    built-in functions can also be used as keys, e.g.:\n"
      ],
      "metadata": {
        "id": "5WoEsThdP4Yi"
      }
    },
    {
      "cell_type": "code",
      "source": [
        "shopping_list2 = [\"Eggs\", \"Carrots\", \"Juice\", \"avocado\", \"banana\"]\n",
        "shopping_list.sort()\n",
        "print(shopping_list)\n",
        "\n",
        "shopping_list2 = [\"Eggs\", \"Carrots\", \"Juice\", \"avocado\", \"banana\"]\n",
        "shopping_list2.sort(key = str.lower) # now the key evaluates the lower case form of the items\n",
        "print(shopping_list2)\n",
        "\n",
        "shopping_list2 = [\"Eggs\", \"Carrots\", \"Juice\", \"avocado\", \"banana\"]\n",
        "shopping_list2.sort(key = str.upper) # now the key evaluates the upper case form of the items\n",
        "print(shopping_list2)"
      ],
      "metadata": {
        "colab": {
          "base_uri": "https://localhost:8080/"
        },
        "id": "W2-EIycNQCX2",
        "outputId": "3a4a7220-b545-4d96-843e-2780f4bcdb5d"
      },
      "execution_count": null,
      "outputs": [
        {
          "output_type": "stream",
          "name": "stdout",
          "text": [
            "['avocado', 'carrots', 'eggs', 'juice']\n",
            "['avocado', 'banana', 'Carrots', 'Eggs', 'Juice']\n",
            "['avocado', 'banana', 'Carrots', 'Eggs', 'Juice']\n"
          ]
        }
      ]
    },
    {
      "cell_type": "markdown",
      "source": [
        "### Reverse a list\n",
        "In order to reverse a list regardless of the order, one can use reverse(), e.g.:"
      ],
      "metadata": {
        "id": "dkAj-1_MQx3Y"
      }
    },
    {
      "cell_type": "code",
      "source": [
        "thislist = [\"banana\", \"Orange\", \"Kiwi\", \"cherry\"]\n",
        "thislist.reverse()\n",
        "print(thislist)"
      ],
      "metadata": {
        "colab": {
          "base_uri": "https://localhost:8080/"
        },
        "id": "5F_PX2WLQ4MK",
        "outputId": "1421e8a5-01bc-4eaa-f93e-f66659bd0505"
      },
      "execution_count": null,
      "outputs": [
        {
          "output_type": "stream",
          "name": "stdout",
          "text": [
            "['cherry', 'Kiwi', 'Orange', 'banana']\n"
          ]
        }
      ]
    },
    {
      "cell_type": "markdown",
      "source": [
        "### Copying lists\n",
        "Do not use \n",
        "```\n",
        "list2 = list1\n",
        "```\n",
        "because it creates a constraint between list1 and list2, whereby list2 is merely a reference to list1. Changes made to list1 automatically happen to list2.\n",
        "\n",
        "In order to copy indeed, one can use copy():\n",
        "```\n",
        "copy_of_old_list = old_list.copy()\n",
        "```\n",
        "or\n",
        "```\n",
        "copy_of_old_list = list(old_list)\n",
        "```\n"
      ],
      "metadata": {
        "id": "GJd4Q9-YRCjW"
      }
    },
    {
      "cell_type": "code",
      "source": [
        "old_list = [\"John\", \"Haley\", \"Tom\"]\n",
        "copy_of_old_list = old_list.copy()\n",
        "print(copy_of_old_list)\n",
        "copy_of_old_list2 = old_list.copy()\n",
        "print(copy_of_old_list2)"
      ],
      "metadata": {
        "colab": {
          "base_uri": "https://localhost:8080/"
        },
        "id": "U56Vl31HYmlB",
        "outputId": "69d83f4c-d767-48fe-d726-e4b5eaec72c9"
      },
      "execution_count": null,
      "outputs": [
        {
          "output_type": "stream",
          "name": "stdout",
          "text": [
            "['John', 'Haley', 'Tom']\n",
            "['John', 'Haley', 'Tom']\n"
          ]
        }
      ]
    },
    {
      "cell_type": "markdown",
      "source": [
        "### List methods\n",
        "```\n",
        "append()       Adds an element at the end of the list\n",
        "clear()        Removes all the elements from the list\n",
        "copy()         Returns a copy of the list\n",
        "count()        Returns the number of elements with the specified value\n",
        "extend()       Add the elements of a list (or any iterable), to the end of the current list\n",
        "index()        Returns the index of the first element with the specified value\n",
        "insert()       Adds an element at the specified position\n",
        "pop()          Removes the element at the specified position\n",
        "remove()       Removes the item with the specified value\n",
        "reverse()      Reverses the order of the list\n",
        "sort()         Sorts the list\n",
        "```"
      ],
      "metadata": {
        "id": "7HbJY_RbZbiJ"
      }
    },
    {
      "cell_type": "markdown",
      "source": [
        "## Tuples\n",
        "*    Tuples are ordered, unchangeable and allow duplicate values\n",
        "*    One of the iterable types of Python to store collections of data (tuples, lists, sets, dictionaries)\n",
        "*    Written with round brackets\n",
        "*    Elements are accessed like in lists\n",
        "*    Can include different types, even at once, e.g., str, int, bool:"
      ],
      "metadata": {
        "id": "UY_tOeGFai_b"
      }
    },
    {
      "cell_type": "code",
      "source": [
        "tuple1 = (\"abc\", 34, True, 40, \"male\")"
      ],
      "metadata": {
        "id": "CyQBkQvlctcs"
      },
      "execution_count": null,
      "outputs": []
    },
    {
      "cell_type": "markdown",
      "source": [
        "*    Defined by the class 'tuple'"
      ],
      "metadata": {
        "id": "Drz-Zgjsc_j0"
      }
    },
    {
      "cell_type": "markdown",
      "source": [
        "### Tuple constructor"
      ],
      "metadata": {
        "id": "u0dwjGsqdM08"
      }
    },
    {
      "cell_type": "code",
      "source": [
        "thistuple = tuple((\"apple\", \"banana\", \"cherry\")) # note the double round-brackets\n",
        "print(thistuple)"
      ],
      "metadata": {
        "id": "e9aSGRP_dRGW"
      },
      "execution_count": null,
      "outputs": []
    },
    {
      "cell_type": "markdown",
      "source": [
        "### Tuple with one item\n",
        "Add comma as below, otherwise Python won't recognise it as tuple:"
      ],
      "metadata": {
        "id": "pvRHyROPcxiF"
      }
    },
    {
      "cell_type": "code",
      "source": [
        "one_item_tuple = (\"I'm unique\",)\n",
        "print(type(one_item_tuple))\n",
        "# in this case, without comma, the type would be str"
      ],
      "metadata": {
        "colab": {
          "base_uri": "https://localhost:8080/"
        },
        "id": "0zjmVd7cb4xw",
        "outputId": "5a4e84cc-4037-41e5-d63a-868c5fc0bd72"
      },
      "execution_count": 36,
      "outputs": [
        {
          "output_type": "stream",
          "name": "stdout",
          "text": [
            "(\"I'm unique\",)\n"
          ]
        }
      ]
    },
    {
      "cell_type": "markdown",
      "source": [
        "### Updating (__unchangeable__) tuples?\n",
        "*    Tuples are __unchangeable__ (or __imutable__). One way to circumvent this is by generating a list from the tuple, and then converting it back into a tuple:\n",
        "```\n",
        "some_tuple = (\"item 1\", \"item 2\", \"item 3\")\n",
        "list_from_tuple = list(some_tuple) # generate list\n",
        "list_from_tuple[2] = \"item 4\" # change list\n",
        "some_tuple = tuple(list_from_tuple) # recreate the tuple\n",
        "print(some_tuple)\n",
        "```\n",
        "\n",
        "*    In order to add items:\n",
        "> *    Use the same previous idea of recreating the tuple via the list/tuple constructor\n",
        "> *    Add one tuple to another\n",
        "```\n",
        "tuple_1 = (\"item 1\", \"item 2\")\n",
        "tuple_2 = (\"item 3\")\n",
        "tuple_3 = tuple_1 + tuple_2\n",
        "```\n",
        "\n",
        "* In order to delete a tuple entirely:\n",
        "```\n",
        "del some_tuple\n",
        "```\n",
        "\n"
      ],
      "metadata": {
        "id": "JeiNj0w3ru13"
      }
    },
    {
      "cell_type": "markdown",
      "source": [
        "## Lingo\n",
        "'To pack a tuple' means to assign values to a tuple\n",
        "'To unpack a tuple' means to associate items of the tuple to variables, e.g.:\n",
        "```\n",
        "fruits = (\"apple\", \"banana\", \"cherry\")\n",
        "\n",
        "(green, yellow, red) = fruits\n",
        "\n",
        "print(green) # received value 'apple'\n",
        "print(yellow) # received 'banana'\n",
        "print(red) # received 'cherry'\n",
        "```\n",
        "where each variable received one item from the tuple. \n",
        "\n",
        "But one can render the association of fewer variables than items of the tuple possible. To do so, one can attached the asterisk to the last variable, so the remaining items of the tuple are attributed to the last variable in the form of a list, e.g.:\n",
        "```\n",
        "fruits = (\"apple\", \"banana\", \"cherry\", \"grape\")\n",
        "\n",
        "(green, yellow, *red) = fruits\n",
        "\n",
        "print(green) # received value 'apple'\n",
        "print(yellow) # received 'banana'\n",
        "print(red) # receives the list ['cherry', \"grape\"]\n",
        "```"
      ],
      "metadata": {
        "id": "vDscSPQVuQzc"
      }
    },
    {
      "cell_type": "markdown",
      "source": [
        "# Operators\n",
        "Operators can be of the following types:\n",
        "*    Arithmetic (+,-,*,/,%,**,...)\n",
        "*    Assignment (=,+=,**=,...)\n",
        "*    Comparison (>, <, ===)\n",
        "*    Logical (and, or, not)\n",
        "*    Identity (is, is not)\n",
        "*    Membership (in, not in)\n",
        "*    Bitwise (and, or, xor, not, ...)"
      ],
      "metadata": {
        "id": "vGR0Zzx-wwhI"
      }
    },
    {
      "cell_type": "markdown",
      "source": [
        "## Basic math operators"
      ],
      "metadata": {
        "id": "SlBFFoih2t29"
      }
    },
    {
      "cell_type": "markdown",
      "source": [
        "Some are just the usual operators:\n",
        "\n",
        "*  +, -, /, *\n",
        "*  ** exponentiation\n",
        "*  // floor (division, rounding DOWN to the nearest integer)\n",
        "*  modulo operator (gives the remainder of a division)\n"
      ],
      "metadata": {
        "id": "rrG5iofSYEhs"
      }
    },
    {
      "cell_type": "code",
      "source": [
        "a = 1+3/2-5/2\n",
        "print(a)\n",
        "b = 5%2 #gives the remainder of the division of 5 by 2\n",
        "print(b)\n",
        "c = 3**2 # gives 3^2 = 9\n",
        "print(c)\n",
        "c = 3**3 # gives 3^3 = 27\n",
        "print(c)"
      ],
      "metadata": {
        "id": "HlenO9N42uci",
        "colab": {
          "base_uri": "https://localhost:8080/"
        },
        "outputId": "7b822013-de9c-4935-c2a3-a1dc8726d761"
      },
      "execution_count": null,
      "outputs": [
        {
          "output_type": "stream",
          "name": "stdout",
          "text": [
            "0.0\n",
            "1\n",
            "9\n",
            "27\n"
          ]
        }
      ]
    },
    {
      "cell_type": "markdown",
      "source": [
        "Multiple lists can be joined with the addition operator:"
      ],
      "metadata": {
        "id": "YMbk5W9TaTFE"
      }
    },
    {
      "cell_type": "code",
      "source": [
        "even_numbers = [2, 4, 6, 8]\n",
        "odd_numbers = [1, 3, 5, 7]\n",
        "all = even_numbers + odd_numbers\n",
        "print(all) # notice that it follows the order of the sum parcels"
      ],
      "metadata": {
        "colab": {
          "base_uri": "https://localhost:8080/"
        },
        "id": "Hg_laNdZaeoa",
        "outputId": "c32bf99e-29ab-45b7-9e2e-1651c5df39e3"
      },
      "execution_count": null,
      "outputs": [
        {
          "output_type": "stream",
          "name": "stdout",
          "text": [
            "[2, 4, 6, 8, 1, 3, 5, 7]\n"
          ]
        }
      ]
    },
    {
      "cell_type": "markdown",
      "source": [
        "and repeated via multiplication:"
      ],
      "metadata": {
        "id": "Rl8bKq9Ua0Mw"
      }
    },
    {
      "cell_type": "code",
      "source": [
        "small_list = [0,1]\n",
        "repeated_list = small_list*7\n",
        "print(repeated_list)"
      ],
      "metadata": {
        "colab": {
          "base_uri": "https://localhost:8080/"
        },
        "id": "tv5mTOGYa4Y5",
        "outputId": "59452ee3-03e6-441a-e49f-72fc38de0781"
      },
      "execution_count": null,
      "outputs": [
        {
          "output_type": "stream",
          "name": "stdout",
          "text": [
            "[0, 1, 0, 1, 0, 1, 0, 1, 0, 1, 0, 1, 0, 1]\n"
          ]
        }
      ]
    },
    {
      "cell_type": "markdown",
      "source": [
        "## Assignment operators\n",
        "=\n",
        "\n",
        "+= e.g. x+=3 is the same as x = x+3\n",
        "\n",
        "-=\n",
        "\n",
        "*=\n",
        "\n",
        "/=\n",
        "\n",
        "%=\n",
        "\n",
        "//= e.g., x//=3 is the same as x = x // 3 (floor division)\n",
        "\n",
        "**=\n",
        "\n",
        "&=   (bitwise AND)\n",
        "\n",
        "|=   (bitwise OR)\n",
        "\n",
        "^=   (bitwise XOR)\n",
        "\n",
        "~=   (bitwise NOT)"
      ],
      "metadata": {
        "id": "S_FZELgM1ZSE"
      }
    },
    {
      "cell_type": "markdown",
      "source": [
        "# Strings\n",
        "Strings are written within simple or double quotes. For simplicity, use double quotes (this allows the usage of simple quotes in between), e.g.:\n",
        "\n",
        "\n",
        "```\n",
        "hello = 'Hello World'\n",
        "hello = \"Hello World' # same as above\n",
        "hello = \"Hello 'world'\" #only possible with double quotes\n",
        "```\n",
        "\n",
        "Multiline strings can written as in the following:\n",
        "```\n",
        "a = \"\"\"Lorem ipsum dolor sit amet,\n",
        "consectetur adipiscing elit,\n",
        "sed do eiusmod tempor incididunt\n",
        "ut labore et dolore magna aliqua.\"\"\"\n",
        "print(a) # or three simple quotes\n",
        "```"
      ],
      "metadata": {
        "id": "QqP-tbJtY3Mj"
      }
    },
    {
      "cell_type": "markdown",
      "source": [
        "## Using operators with strings\n",
        "Concatenation can be 'given' by the addition, e.g.:"
      ],
      "metadata": {
        "id": "bagh_G4EdlQs"
      }
    },
    {
      "cell_type": "code",
      "source": [
        "part_1 = 'This is part 1, but it is '\n",
        "part_2 = 'incomplete without part 2.'\n",
        "full = part_1 + part_2\n",
        "print(full)"
      ],
      "metadata": {
        "colab": {
          "base_uri": "https://localhost:8080/"
        },
        "id": "YUHKuEtAY_K6",
        "outputId": "e49b3503-a347-4a42-fa97-5d5d4f582efe"
      },
      "execution_count": null,
      "outputs": [
        {
          "output_type": "stream",
          "name": "stdout",
          "text": [
            "This is part 1, but it is incomplete without part 2.\n"
          ]
        }
      ]
    },
    {
      "cell_type": "markdown",
      "source": [
        "The string can also be repeated through multiplication."
      ],
      "metadata": {
        "id": "y9CuXZ6vZ098"
      }
    },
    {
      "cell_type": "code",
      "source": [
        "bye = 'ciao '\n",
        "correct_bye = bye*2\n",
        "print(correct_bye)"
      ],
      "metadata": {
        "colab": {
          "base_uri": "https://localhost:8080/"
        },
        "id": "dDwn5yTvZ3w4",
        "outputId": "af29f516-098c-468e-cb80-5cde770073e1"
      },
      "execution_count": null,
      "outputs": [
        {
          "output_type": "stream",
          "name": "stdout",
          "text": [
            "ciao ciao \n"
          ]
        }
      ]
    },
    {
      "cell_type": "markdown",
      "source": [
        "##String formatting\n"
      ],
      "metadata": {
        "id": "N9msYlCpdO86"
      }
    },
    {
      "cell_type": "code",
      "source": [
        "name = 'John'\n",
        "print(\"Hello, %s!\" % name)"
      ],
      "metadata": {
        "colab": {
          "base_uri": "https://localhost:8080/"
        },
        "id": "9mBaf6QldTVL",
        "outputId": "c958ac8d-0d3c-4385-cd83-f40badb903a0"
      },
      "execution_count": null,
      "outputs": [
        {
          "output_type": "stream",
          "name": "stdout",
          "text": [
            "Hello, John!\n"
          ]
        }
      ]
    },
    {
      "cell_type": "markdown",
      "source": [
        "A tuple is defined as a list with a fixed size. It can be used to print as in the following:"
      ],
      "metadata": {
        "id": "hz60Pc7wdoXm"
      }
    },
    {
      "cell_type": "code",
      "source": [
        "name = \"John\"\n",
        "age = \"29\"\n",
        "print(\"%s is %s years old\" %(name,age))"
      ],
      "metadata": {
        "colab": {
          "base_uri": "https://localhost:8080/"
        },
        "id": "h5jWSczRdz3T",
        "outputId": "3e855778-f784-40b3-da9f-8cefb6cd90aa"
      },
      "execution_count": null,
      "outputs": [
        {
          "output_type": "stream",
          "name": "stdout",
          "text": [
            "John is 29 years old\n"
          ]
        }
      ]
    },
    {
      "cell_type": "markdown",
      "source": [
        "Other objects can be represented as well, e.g.:"
      ],
      "metadata": {
        "id": "M3HTLCZKfmmn"
      }
    },
    {
      "cell_type": "code",
      "source": [
        "mylist = [1, 2, 3]\n",
        "print(\"My list is given by %s\" % mylist)"
      ],
      "metadata": {
        "colab": {
          "base_uri": "https://localhost:8080/"
        },
        "id": "_ad8c8svfrHD",
        "outputId": "27422346-ee10-43ef-915e-133c0b06769a"
      },
      "execution_count": null,
      "outputs": [
        {
          "output_type": "stream",
          "name": "stdout",
          "text": [
            "My list is given by [1, 2, 3]\n"
          ]
        }
      ]
    },
    {
      "cell_type": "markdown",
      "source": [
        "%s is used for strings\n",
        "\n",
        "%d for integers\n",
        "\n",
        "%.[number of digits]f is for floating point with a specified number of decimal digits"
      ],
      "metadata": {
        "id": "eC1CBinRf0Y0"
      }
    },
    {
      "cell_type": "markdown",
      "source": [
        "format() $\\rightarrow$ allows to combine strings and numbers in a way that otherwise would not be possible, e.g.:"
      ],
      "metadata": {
        "id": "olOL9pHJdPiC"
      }
    },
    {
      "cell_type": "code",
      "source": [
        "quantity = 3\n",
        "itemno = 567\n",
        "price = 49.95\n",
        "myorder = \"I want to pay {2} dollars for {0} pieces of item {1}.\"\n",
        "print(myorder.format(quantity, itemno, price))"
      ],
      "metadata": {
        "colab": {
          "base_uri": "https://localhost:8080/"
        },
        "id": "4X2HKHIXfHX9",
        "outputId": "0ac2d26b-555b-48d0-bd22-d6a868300e9d"
      },
      "execution_count": null,
      "outputs": [
        {
          "output_type": "stream",
          "name": "stdout",
          "text": [
            "I want to pay 49.95 dollars for 3 pieces of item 567.\n"
          ]
        }
      ]
    },
    {
      "cell_type": "code",
      "source": [
        "# we can also omit the numbers, but then the inputs of format will appear in the order of the sentence\n",
        "myorder = \"I want to pay {} dollars for {} pieces of item {}.\"\n",
        "print(myorder.format(price, quantity, itemno))"
      ],
      "metadata": {
        "colab": {
          "base_uri": "https://localhost:8080/"
        },
        "id": "kr7NRySjfeRB",
        "outputId": "f6a5b590-2155-4e2e-b25a-9577c64e2c47"
      },
      "execution_count": null,
      "outputs": [
        {
          "output_type": "stream",
          "name": "stdout",
          "text": [
            "I want to pay 49.95 dollars for 3 pieces of item 567.\n"
          ]
        }
      ]
    },
    {
      "cell_type": "markdown",
      "source": [
        "Illegal characters: we can escape with backslash\n",
        "*    \\' $\\rightarrow$ single quote\n",
        "*    \\\" $\\rightarrow$ double quote\n",
        "*    \\n $\\rightarrow$ new line\n",
        "*    \\t $\\rightarrow$ tab"
      ],
      "metadata": {
        "id": "tkeoZvVrf_5w"
      }
    },
    {
      "cell_type": "code",
      "source": [
        "txt = \"We are the so-called \\\"Vikings\\\" from the north.\\nWe shall not rest until we conquer the world. \\n\\t Hurra!\"\n",
        "print(txt)"
      ],
      "metadata": {
        "colab": {
          "base_uri": "https://localhost:8080/"
        },
        "id": "3ymwEpzwgKbQ",
        "outputId": "3058773c-6dfd-49bd-a0ce-e52bcdb89794"
      },
      "execution_count": null,
      "outputs": [
        {
          "output_type": "stream",
          "name": "stdout",
          "text": [
            "We are the so-called \"Vikings\" from the north.\n",
            "We shall not rest until we conquer the world. \n",
            "\t Hurra!\n"
          ]
        }
      ]
    },
    {
      "cell_type": "markdown",
      "source": [
        "### String methods\n",
        "The methods below produce new strings, but do not affect the original string, which is preserved.\n",
        "```\n",
        "capitalize()     Converts the first character to upper case\n",
        "casefold()       Converts string into lower case\n",
        "upper()          Converts a string into upper case\n",
        "islower()        Returns True if all characters in the string are lower case\n",
        "isupper()        Returns True if all characters in the string are upper case\n",
        "center()         Returns a centered string\n",
        "ljust()          Returns a left justified version of the string\n",
        "rjust()          Returns a right justified version of the string\n",
        "rstrip()         Returns a right trim version of the string\n",
        "lstrip()         Returns a left trim version of the string\n",
        "strip()          Returns a trimmed version of the string\n",
        "count()          Returns the number of times a specified value occurs in a string\n",
        "endswith()       Returns true if the string ends with the specified value\n",
        "expandtabs()     Sets the tab size of the string\n",
        "find()           Searches the string for a specified value and returns the position of where it was found\n",
        "rfind()          Searches the string for a specified value and returns the last position of where it was found\n",
        "format()         Formats specified values in a string\n",
        "format_map()     Formats specified values in a string\n",
        "index()          Searches the string for a specified value and returns the position of where it was found\n",
        "isalnum()        Returns True if all characters in the string are alphanumeric\n",
        "isalpha()        Returns True if all characters in the string are in the alphabet\n",
        "isdecimal()      Returns True if all characters in the string are decimals\n",
        "isdigit()        Returns True if all characters in the string are digits\n",
        "isidentifier()   Returns True if the string is an identifier\n",
        "isnumeric()      Returns True if all characters in the string are numeric\n",
        "isspace()        Returns True if all characters in the string are whitespaces\n",
        "join()           Joins the elements of an iterable to the end of the string\n",
        "lower()          Converts a string into lower case\n",
        "replace()        Returns a string where a specified value is replaced with a specified value\n",
        "rindex()         Searches the string for a specified value and returns the last position of where it was found\n",
        "rpartition()     Returns a tuple where the string is parted into three parts\n",
        "rsplit()         Splits the string at the specified separator, and returns a list\n",
        "split()          Splits the string at the specified separator, and returns a list\n",
        "splitlines()     Splits the string at line breaks and returns a list\n",
        "startswith()     Returns true if the string starts with the specified value\n",
        "swapcase()       Swaps cases, lower case becomes upper case and vice versa\n",
        "title()          Converts the first character of each word to upper case\n",
        "translate()      Returns a translated string\n",
        "zfill()          Fills the string with a specified number of 0 values at the beginning\n",
        "```"
      ],
      "metadata": {
        "id": "dcc3Sqxih1yX"
      }
    },
    {
      "cell_type": "markdown",
      "source": [
        "###String as an array\n",
        "To print a slice of the string, one can do the following:\n",
        "\n",
        "print(some_string[first_position:last_position+1]), e.g.:\n",
        "\n",
        "In general, it is like print(some_string[start:stop:step]). Note that\n",
        "\n",
        "print(some_string[start:stop]) is the same as print(some_string[start:stop:1])"
      ],
      "metadata": {
        "id": "lQrQIjxzjyHk"
      }
    },
    {
      "cell_type": "code",
      "source": [
        "hello = \"Hello world!\"\n",
        "print(hello) \n",
        "print(hello[3:7])   # prints positions 3 to 6 (excludes 7th position)\n",
        "print(hello[3:])    # prints everything after (and including) the third position\n",
        "print(hello[:7])    # prints everything before (and excluding) the seventh position\n",
        "print(hello[3])     # prints the seventh position\n",
        "print(hello[3:7:2]) # goes from string 3 to 6 (inclusively), in steps of 2 (recall that the 7th string is excluded)\n",
        "print(hello[-5:])   # prints the last five characters"
      ],
      "metadata": {
        "colab": {
          "base_uri": "https://localhost:8080/"
        },
        "id": "vTfOD-kaijJq",
        "outputId": "8c351dae-2e73-4184-f441-2c77940adc1a"
      },
      "execution_count": null,
      "outputs": [
        {
          "output_type": "stream",
          "name": "stdout",
          "text": [
            "Hello world!\n",
            "lo w\n",
            "lo world!\n",
            "Hello w\n",
            "l\n",
            "l \n",
            "orld!\n"
          ]
        }
      ]
    },
    {
      "cell_type": "markdown",
      "source": [
        "In order to reverse a string, one can use:"
      ],
      "metadata": {
        "id": "9sNpumQ9_0EJ"
      }
    },
    {
      "cell_type": "code",
      "source": [
        "print(hello[::-1])"
      ],
      "metadata": {
        "colab": {
          "base_uri": "https://localhost:8080/"
        },
        "id": "bz-iVLdaAP4Z",
        "outputId": "bc8ebb47-af46-4206-a79f-431d81b90ee6"
      },
      "execution_count": null,
      "outputs": [
        {
          "output_type": "stream",
          "name": "stdout",
          "text": [
            "!dlrow olleH\n"
          ]
        }
      ]
    },
    {
      "cell_type": "markdown",
      "source": [
        "len - get the length of a string. Counts spaces and punctuation as well (in between, before and after the string). In python, strings are considered to be an array, with each character represented by a string of length 1. We can even loop through strings.\n",
        "\n",
        "'some_string.index(some_character)' -> To find the first appearance of a character in a string (recall that Python starts counting positions at zero).\n",
        "\n",
        "'some_string.count(some_character)' -> to count the number of times a given character appears in a string."
      ],
      "metadata": {
        "id": "-EXBA2AXoW17"
      }
    },
    {
      "cell_type": "markdown",
      "source": [
        "hello = ' Hello world '\n",
        "print(len(hello)) # counts spaces\n",
        "print(hello[1]) # presents the first element of the string (recall that strings are arrays in Python!)"
      ],
      "metadata": {
        "id": "qER_gCt9ogag"
      }
    },
    {
      "cell_type": "code",
      "source": [
        "print(\"\")\n",
        "for i in \"mamamia!\":\n",
        "  print(i)"
      ],
      "metadata": {
        "id": "VM-4TU1CpYrZ"
      },
      "execution_count": null,
      "outputs": []
    },
    {
      "cell_type": "code",
      "source": [
        "print(\"\")\n",
        "hello = ' Hello world '\n",
        "print(hello.index(\"o\")) # gives the first location of the character 'o' in the string (once again, counting spaces and punctuation). "
      ],
      "metadata": {
        "id": "1wRzxww4paWc"
      },
      "execution_count": null,
      "outputs": []
    },
    {
      "cell_type": "code",
      "source": [
        "\n",
        "print(\"\")\n",
        "\n",
        "print(hello.count(\"l\"))"
      ],
      "metadata": {
        "id": "JHSXCaRapbuR"
      },
      "execution_count": null,
      "outputs": []
    },
    {
      "cell_type": "markdown",
      "source": [
        "###Strings modifications\n"
      ],
      "metadata": {
        "id": "ftOYeEgcAe0p"
      }
    },
    {
      "cell_type": "markdown",
      "source": [
        "*   upper or lower - render the entire string upper or lower case\n",
        "*   strip  - removes *whitespaces* (some_string.strip())\n",
        "*   replace  - replace part of the full string by another (some_string.replace(\"existing_part\",\"new_part\")\n",
        "*   split - splits the string at all appearances of some specified string (thus creating a list with strings at the splits, some_string.split(some_specified_string))\n",
        "\n",
        "\n",
        "\n"
      ],
      "metadata": {
        "id": "pngTJya9jEPt"
      }
    },
    {
      "cell_type": "code",
      "source": [
        "a = \" Hello, World! \"\n",
        "print(hello.upper())\n",
        "print(hello.lower())\n",
        "print(a.strip()) # returns \"Hello, World!\"\n",
        "print(a.replace(\"\"))\n",
        "print(hello.split(\"o\"))"
      ],
      "metadata": {
        "id": "5CTyXxGujLcH"
      },
      "execution_count": null,
      "outputs": []
    },
    {
      "cell_type": "markdown",
      "source": [
        "## String check\n",
        "To check whether a string starts with some specific string or ends with another, one can use the startswith and endswith commands. This results in either 'True' or 'False', e.g.:"
      ],
      "metadata": {
        "id": "aJV3U_u0Bc5r"
      }
    },
    {
      "cell_type": "code",
      "source": [
        "print(hello)\n",
        "print(hello.startswith(\"Hello\"))\n",
        "print(hello.endswith(\"world!\")) # note that this command is case-, and punctuation-sensitive\n",
        "print(hello.endswith(\"World!\")) # note that this command is case-, and punctuation-sensitive"
      ],
      "metadata": {
        "colab": {
          "base_uri": "https://localhost:8080/"
        },
        "id": "a65R_sRLBnLF",
        "outputId": "32c16df4-269e-4161-b7a2-fd879d772636"
      },
      "execution_count": null,
      "outputs": [
        {
          "output_type": "stream",
          "name": "stdout",
          "text": [
            "Hello world!\n",
            "True\n",
            "True\n",
            "False\n"
          ]
        }
      ]
    },
    {
      "cell_type": "markdown",
      "source": [
        "#Conditionals\n",
        "== equal\n",
        "\n",
        "\\> greater \n",
        "\n",
        "< less than\n",
        "\n",
        "\\>= greater or equal\n",
        "\n",
        "<= less than or equal to\n",
        "\n",
        "!= not equal\n"
      ],
      "metadata": {
        "id": "_LRwyw1vKOM8"
      }
    },
    {
      "cell_type": "code",
      "source": [
        "a = 2.0\n",
        "print(a == 2)\n",
        "print(a == 3)\n",
        "print(a != 3)\n",
        "print(\"\")\n",
        "print(a == 2.0)\n",
        "print(a > 5)\n",
        "print(a < 5)"
      ],
      "metadata": {
        "colab": {
          "base_uri": "https://localhost:8080/"
        },
        "id": "SUk5bNrvKXO5",
        "outputId": "f1ff5080-558e-4461-9f87-835db14d2c3e"
      },
      "execution_count": null,
      "outputs": [
        {
          "output_type": "stream",
          "name": "stdout",
          "text": [
            "True\n",
            "False\n",
            "True\n",
            "\n",
            "True\n",
            "False\n",
            "True\n"
          ]
        }
      ]
    },
    {
      "cell_type": "code",
      "source": [
        "name = \"Boris\"\n",
        "age = \"19\"\n",
        "if name == \"Boris\" and age == \"19\":\n",
        "  print(\"Your name is indeed \" + name + \" and your age really is \" + age + \".\")"
      ],
      "metadata": {
        "colab": {
          "base_uri": "https://localhost:8080/"
        },
        "id": "OkjY6n0DL1oE",
        "outputId": "31eefbfd-aa2a-47ce-85d4-adc5dcc7e2cd"
      },
      "execution_count": null,
      "outputs": [
        {
          "output_type": "stream",
          "name": "stdout",
          "text": [
            "Your name is indeed Boris and your age really is 19.\n"
          ]
        }
      ]
    },
    {
      "cell_type": "markdown",
      "source": [
        "## Logical operators\n",
        "\n",
        "*    and\n",
        "*    or\n",
        "*    not"
      ],
      "metadata": {
        "id": "Gw-8OLzhK5vg"
      }
    },
    {
      "cell_type": "code",
      "source": [
        "a = 2\n",
        "b = 5\n",
        "print(a == 2 and b == 5)\n",
        "print(a == 2 or b == 5)\n",
        "print(a < 3 and b > 4)\n",
        "print(a < 3 or b > 10)\n",
        "print(\"\")\n",
        "print(a < 3 and b > 10)\n",
        "print(not a == 3) # as 'a == 3' returns False, 'not a == 3' returns True\n",
        "print(not False)"
      ],
      "metadata": {
        "colab": {
          "base_uri": "https://localhost:8080/"
        },
        "id": "g3PaXjtLK-pg",
        "outputId": "9dd7bdbb-e749-49c7-89b3-4ded747ecd1e"
      },
      "execution_count": null,
      "outputs": [
        {
          "output_type": "stream",
          "name": "stdout",
          "text": [
            "True\n",
            "True\n",
            "True\n",
            "True\n",
            "\n",
            "False\n",
            "True\n",
            "True\n"
          ]
        }
      ]
    },
    {
      "cell_type": "markdown",
      "source": [
        "#'is' operator\n",
        "\"Unlike the double equals operator \"==\", the \"is\" operator does not match the values of the variables, but the instances (objects) themselves.\". The opposite is the 'is not' operator. [e.g.](http://net-informations.com/python/iq/is.htm#:~:text='is'%20and%20'%3D%3D'%20operators%20in%20Python,and%20%3D%3D%20comparison%20operators%20behave.):\n",
        "```\n",
        "list_1 = ['a', 'b', 'c']\n",
        "list_2 = list_1\n",
        "list_3 = list(list_1)\n",
        "print(list_1)\n",
        "print(list_2)\n",
        "print(list_3)\n",
        "```\n",
        "then all three lists have the same value, thus:\n",
        "```\n",
        "list_1 == list_2 # returns True\n",
        "list_1 == list_3 # returns True\n",
        "list_2 == list_3 # returns True\n",
        "```\n",
        "but\n",
        "```\n",
        "list_1 is list_2 # returns True\n",
        "list_1 is list_3 # returns False, even though they have the same values\n",
        "list_2 is list_3 # returns False, even though they have the same values\n",
        "```"
      ],
      "metadata": {
        "id": "MYDtGXQKZL1c"
      }
    },
    {
      "cell_type": "markdown",
      "source": [
        "#About indentation\n",
        "Python's standard indentation is given by 4 spaces. However, any other spacing works as long as it is consistent. Code blocks do not require termination, because the blocks themselves are defined by the indentation.\n",
        "\n",
        "Example of if-else:\n",
        "```\n",
        "statement = False\n",
        "another_statement = True\n",
        "\n",
        "if statement is True:\n",
        "    # do something\n",
        "    pass\n",
        "elif another_statement is True: # else if\n",
        "    # do something else\n",
        "    pass\n",
        "else:\n",
        "    # do another thing\n",
        "    pass\n",
        "```"
      ],
      "metadata": {
        "id": "HX7__uwEOfzG"
      }
    },
    {
      "cell_type": "markdown",
      "source": [
        "# Loops\n",
        "There are two types of loops. The 'for' and the 'while' loops."
      ],
      "metadata": {
        "id": "GBIzuojXfLn0"
      }
    },
    {
      "cell_type": "markdown",
      "source": [
        "## 'For' loops"
      ],
      "metadata": {
        "id": "NduX8BLVAdkt"
      }
    },
    {
      "cell_type": "code",
      "source": [
        "primes = [2, 3, 5, 7]\n",
        "for i in primes:\n",
        "  print(i)"
      ],
      "metadata": {
        "colab": {
          "base_uri": "https://localhost:8080/"
        },
        "id": "x4Qzm4o7f7yZ",
        "outputId": "fdff1644-92f2-4288-8cad-6eee05a59b8b"
      },
      "execution_count": null,
      "outputs": [
        {
          "output_type": "stream",
          "name": "stdout",
          "text": [
            "4\n",
            "6\n",
            "10\n",
            "14\n"
          ]
        }
      ]
    },
    {
      "cell_type": "markdown",
      "source": [
        "### Range function\n",
        "range(start_number,end_number) -> returns indices from start_number to end_number-1. If the start_number is omitted, zero is considered for this input instead.\n",
        "\n",
        "For example:"
      ],
      "metadata": {
        "id": "F7Hm7Up-_Yqt"
      }
    },
    {
      "cell_type": "code",
      "source": [
        "for x in range(5):\n",
        "  print(x)"
      ],
      "metadata": {
        "colab": {
          "base_uri": "https://localhost:8080/"
        },
        "id": "1hdZbDGw_66v",
        "outputId": "276e27ab-b213-449b-9bb4-a9f6dc2a886d"
      },
      "execution_count": null,
      "outputs": [
        {
          "output_type": "stream",
          "name": "stdout",
          "text": [
            "0\n",
            "1\n",
            "2\n",
            "3\n",
            "4\n"
          ]
        }
      ]
    },
    {
      "cell_type": "markdown",
      "source": [
        "Can also be used to loop through a list using index numbers, e.g.,\n"
      ],
      "metadata": {
        "id": "h2gHE5vuNDfd"
      }
    },
    {
      "cell_type": "code",
      "source": [
        "thislist = [\"element0\", \"element1\", \"element2\"]\n",
        "for i in range(len(thislist)): # this provides indices to correlate with thislist\n",
        "  print(thislist[i]) # to print the elements of thislist\n",
        "\n",
        "print(\"\")\n",
        "thislist = [\"element0\", \"element1\", \"element2\"]\n",
        "for i in range(len(thislist)): # this provides indices to correlate with thislist\n",
        "  print(i) # to print the indices"
      ],
      "metadata": {
        "colab": {
          "base_uri": "https://localhost:8080/"
        },
        "id": "Qjo6h66qf346",
        "outputId": "ee9109e6-a48b-4216-ccaf-337657909707"
      },
      "execution_count": null,
      "outputs": [
        {
          "output_type": "stream",
          "name": "stdout",
          "text": [
            "element0\n",
            "element1\n",
            "element2\n",
            "0\n",
            "1\n",
            "2\n"
          ]
        }
      ]
    },
    {
      "cell_type": "markdown",
      "source": [
        "## While loops\n",
        "Repeats as long as some boolean condition is fulfilled. E.g.:"
      ],
      "metadata": {
        "id": "CiUMsN9pATq9"
      }
    },
    {
      "cell_type": "code",
      "source": [
        "count = 0\n",
        "while count < 5:\n",
        "  print(count)\n",
        "  count += 1 # same as count = count + 1"
      ],
      "metadata": {
        "colab": {
          "base_uri": "https://localhost:8080/"
        },
        "id": "pep_qBQ5An9u",
        "outputId": "87fa600c-d55c-47ee-82af-abbec6bbd3e8"
      },
      "execution_count": null,
      "outputs": [
        {
          "output_type": "stream",
          "name": "stdout",
          "text": [
            "0\n",
            "1\n",
            "2\n",
            "3\n",
            "4\n"
          ]
        }
      ]
    },
    {
      "cell_type": "markdown",
      "source": [
        "### Break and continue statements\n",
        "\n",
        "*   Break: exit a loop, e.g.:"
      ],
      "metadata": {
        "id": "7rwLSvTHAz7e"
      }
    },
    {
      "cell_type": "code",
      "source": [
        "for i in range(5):\n",
        "  if i < 3:\n",
        "    print(\"%d is less than 3\" % i)\n",
        "  else:\n",
        "      print(\"%d is greater or equal than 3\" % i)"
      ],
      "metadata": {
        "colab": {
          "base_uri": "https://localhost:8080/"
        },
        "id": "gmL4focoLVtG",
        "outputId": "e0be4187-5f1c-4e61-e2ed-7aa2c80838e2"
      },
      "execution_count": null,
      "outputs": [
        {
          "output_type": "stream",
          "name": "stdout",
          "text": [
            "0 is less than 3\n",
            "1 is less than 3\n",
            "2 is less than 3\n",
            "3 is greater or equal than 3\n",
            "4 is greater or equal than 3\n"
          ]
        }
      ]
    },
    {
      "cell_type": "markdown",
      "source": [
        "*   Continue: skip current block and go back to the 'for' or 'while' statement. \n",
        "\n",
        "E.g.: Suppose we only want to print out values below 3 or greater than 7, then:"
      ],
      "metadata": {
        "id": "P0C-ACk9MVC8"
      }
    },
    {
      "cell_type": "code",
      "source": [
        "for i in range(10):\n",
        "  if i < 3:\n",
        "    print(\"%d is less than 3\" % i)\n",
        "  elif i > 7:\n",
        "    print(\"%d is greater than 7\" % i)\n",
        "  else:\n",
        "      continue"
      ],
      "metadata": {
        "colab": {
          "base_uri": "https://localhost:8080/"
        },
        "id": "LciwEHEVMWgl",
        "outputId": "81c68c22-4195-469a-a185-c9fcc5f1fe54"
      },
      "execution_count": null,
      "outputs": [
        {
          "output_type": "stream",
          "name": "stdout",
          "text": [
            "0 is less than 3\n",
            "1 is less than 3\n",
            "2 is less than 3\n",
            "8 is greater than 7\n",
            "9 is greater than 7\n"
          ]
        }
      ]
    },
    {
      "cell_type": "markdown",
      "source": [
        "# Functions\n",
        "*    Global variables: defined inside a function.\n",
        "*    Local variables: created inside a function\n",
        "\n",
        "By the way, if a variable is created both outside and inside a function with the same name, it will retain its global value and will not be affected by the local value.\n",
        "\n"
      ],
      "metadata": {
        "id": "0OdAZT3cOroF"
      }
    },
    {
      "cell_type": "code",
      "source": [
        "x = \"awesome\"\n",
        "\n",
        "def myfunc():\n",
        "  x = \"fantastic\"\n",
        "  print(\"Python is \" + x)\n",
        "\n",
        "myfunc()\n",
        "\n",
        "print(\"Python is \" + x)"
      ],
      "metadata": {
        "id": "BVwgpQRreSpX",
        "outputId": "ca4dd950-3695-4ca4-bd6c-e99a8acff021",
        "colab": {
          "base_uri": "https://localhost:8080/"
        }
      },
      "execution_count": null,
      "outputs": [
        {
          "output_type": "stream",
          "name": "stdout",
          "text": [
            "Python is fantastic\n",
            "Python is awesome\n"
          ]
        }
      ]
    }
  ]
}