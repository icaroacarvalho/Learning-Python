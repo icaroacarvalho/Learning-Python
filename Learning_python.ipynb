{
  "nbformat": 4,
  "nbformat_minor": 0,
  "metadata": {
    "colab": {
      "name": "Learning_python.ipynb",
      "provenance": [],
      "collapsed_sections": [],
      "toc_visible": true,
      "authorship_tag": "ABX9TyMSdRfdh6N5NDwGSxFPS5kL",
      "include_colab_link": true
    },
    "kernelspec": {
      "name": "python3",
      "display_name": "Python 3"
    },
    "language_info": {
      "name": "python"
    }
  },
  "cells": [
    {
      "cell_type": "markdown",
      "metadata": {
        "id": "view-in-github",
        "colab_type": "text"
      },
      "source": [
        "<a href=\"https://colab.research.google.com/github/icaroacarvalho/Learning-Python-/blob/main/Learning_python.ipynb\" target=\"_parent\"><img src=\"https://colab.research.google.com/assets/colab-badge.svg\" alt=\"Open In Colab\"/></a>"
      ]
    },
    {
      "cell_type": "markdown",
      "source": [
        "This is me learning Python. I followed [this website](https://www.learnpython.org/en/Variables_and_Types) at first, but changed to [this one later](https://www.w3schools.com/python/python_comments.asp).\n",
        "\n",
        "\n",
        "---\n",
        "\n"
      ],
      "metadata": {
        "id": "TrFj3MaMgzta"
      }
    },
    {
      "cell_type": "markdown",
      "source": [
        "# Commenting out\n",
        "*   Use # for commenting out some line of the code.\n",
        "*    Python does not provide a way to comment out multiple lines, but one can use the following triple quotes:\n",
        "\n",
        "\n",
        "```\n",
        "This is a commented out chunk\n",
        "of text\n",
        "because Python ignores string literals \n",
        "that were not assigned to a variable\n",
        "```\n",
        "\n"
      ],
      "metadata": {
        "id": "m7axa8GCYUrS"
      }
    },
    {
      "cell_type": "markdown",
      "source": [
        "# Variables and Types\n",
        "Variables receive name according to the following general rules:\n",
        "\n",
        "\n",
        "*   start with letter or underscore\n",
        "*   cannot start with number\n",
        "*   only alphanumeric characters\n",
        "*   case-sensitive\n",
        "\n",
        "Case-sentiviness:\n",
        "*    Pascal case: myVariableName\n",
        "*    Camel case: MyVariableName\n",
        "*    Snake case: my_variable_name\n",
        "\n",
        "\n"
      ],
      "metadata": {
        "id": "s_xZpdDehkUt"
      }
    },
    {
      "cell_type": "markdown",
      "source": [
        "## Types\n",
        "Every variable in Python is an object $\\rightarrow$ Python is object-oriented.\n",
        "The different types are:\n",
        "* Numbers: integer(int), floating-point (float) and [complex](https://www.tutorialspoint.com/complex-numbers-in-python)\n",
        "* Text: strings (can use simple or double quotes (doubles quotes are more useful, in that it allows to use simple quotes within))\n",
        "* Sequence types: list, tuple, range\n",
        "* Mapping type: dict (?)\n",
        "* Set Types:\tset, frozenset (?)\n",
        "* Boolean Type:\tbool (e.g, True and False)\n",
        "* Binary Types:\tbytes, bytearray (?), memoryview (?)\n",
        "* None Type:\tNoneType\n",
        "\n",
        "isinstance $\\rightarrow$ this function checks a data type (example below)."
      ],
      "metadata": {
        "id": "HAfTHRXXh9J7"
      }
    },
    {
      "cell_type": "code",
      "source": [
        "this_is_an_integer = 7\n",
        "this_is_a_float = 7.0 # or, alternatively, this_is_a_float = float(7)\n",
        "this_is_a_string = \"Hi, I'm a string\"\n",
        "this_is_a_complex = 2.5+1.3j # apparently Python does not use 'i', but rather 'j'\n",
        "# let us check the output\n",
        "print(this_is_an_integer)\n",
        "print(this_is_a_float)\n",
        "print(this_is_a_string)\n",
        "print(this_is_a_complex)\n",
        "print(\"The real part of the complex number is given by %.1f.\" %this_is_a_complex.real)\n",
        "print(\"The imaginary part of the complex number is given by %.1f.\" %this_is_a_complex.imag)\n",
        "print(\"The conjugate of the complex number is given by \", this_is_a_complex.conjugate())"
      ],
      "metadata": {
        "colab": {
          "base_uri": "https://localhost:8080/"
        },
        "id": "DjjNmS9EidxY",
        "outputId": "cb182354-7819-4a16-e5f5-f4f8724c3f7b"
      },
      "execution_count": null,
      "outputs": [
        {
          "output_type": "stream",
          "name": "stdout",
          "text": [
            "7\n",
            "7.0\n",
            "Hi, I'm a string\n",
            "(2.5+1.3j)\n",
            "The real part of the complex number is given by 2.5.\n",
            "The imaginary part of the complex number is given by 1.3.\n",
            "The conjugate of the complex number is given by  (2.5-1.3j)\n"
          ]
        }
      ]
    },
    {
      "cell_type": "code",
      "source": [
        "print(isinstance(3,int))\n",
        "print(isinstance(3,str))\n",
        "print(isinstance(\"3\",str))"
      ],
      "metadata": {
        "colab": {
          "base_uri": "https://localhost:8080/"
        },
        "id": "cAW6WxhyugIz",
        "outputId": "9df6ac74-643d-477b-f8b2-97794ad455db"
      },
      "execution_count": null,
      "outputs": [
        {
          "output_type": "stream",
          "name": "stdout",
          "text": [
            "True\n",
            "False\n",
            "True\n"
          ]
        }
      ]
    },
    {
      "cell_type": "markdown",
      "source": [
        "#### About booleans\n",
        "\n",
        "About true or false: 'True' results from an arithmetic comparison or if the boolean 'True' is given; or if a non-empty object is given. \n",
        "\n",
        "Almost any value is considered True, except:\n",
        "\n",
        "*   For strings, an empty string, \"\"\n",
        "*   For boolean, a False\n",
        "*   For lists, tuples, sets and dictionaries, Empty cases, [], (), {}...\n",
        "*   For numbers, the number zero\n",
        "\n",
        "Also, the case of an object made with the `__len__` function that returns 0 or False (?).\n",
        "```\n",
        "class myclass():\n",
        "  def __len__(self):\n",
        "    return 0\n",
        "\n",
        "myobj = myclass()\n",
        "print(bool(myobj))\n",
        "```\n",
        "\n",
        "A function can also be made to return a True value\n",
        "```\n",
        "def myFunction() :\n",
        "  return True\n",
        "\n",
        "if myFunction():\n",
        "  print(\"YES!\")\n",
        "else:\n",
        "  print(\"NO!\")\n",
        "  # this code will return \"YES!\", because the function always returns True.\n",
        "```"
      ],
      "metadata": {
        "id": "XQXSCKsOnUvk"
      }
    },
    {
      "cell_type": "code",
      "source": [
        "# Some examples that give True\n",
        "print(bool(\"Hello\"))\n",
        "print(bool(15))\n",
        "print(\"\")\n",
        "# Some examples that give False\n",
        "print(bool(False))\n",
        "print(bool(None))\n",
        "print(bool(0))\n",
        "print(bool(\"\"))\n",
        "print(bool(()))\n",
        "print(bool([]))\n",
        "print(bool({}))"
      ],
      "metadata": {
        "colab": {
          "base_uri": "https://localhost:8080/"
        },
        "id": "A2ysoNDgoRHM",
        "outputId": "05c06ee0-05ed-4858-d49d-cf4edb33722c"
      },
      "execution_count": null,
      "outputs": [
        {
          "output_type": "stream",
          "name": "stdout",
          "text": [
            "True\n",
            "True\n",
            "\n",
            "False\n",
            "False\n",
            "False\n",
            "False\n",
            "False\n",
            "False\n",
            "False\n"
          ]
        }
      ]
    },
    {
      "cell_type": "markdown",
      "source": [
        "###Random numbers: \n",
        "these can be obtained with a module called random"
      ],
      "metadata": {
        "id": "9rxiPi9rbF4k"
      }
    },
    {
      "cell_type": "code",
      "source": [
        "import random\n",
        "\n",
        "print(random.randrange(1, 10)) # generates an integer random number between 1 and 10"
      ],
      "metadata": {
        "colab": {
          "base_uri": "https://localhost:8080/"
        },
        "id": "BSrmbC6cbKX2",
        "outputId": "b9115a61-6386-4321-d8c9-f05e97555b7a"
      },
      "execution_count": null,
      "outputs": [
        {
          "output_type": "stream",
          "name": "stdout",
          "text": [
            "8\n"
          ]
        }
      ]
    },
    {
      "cell_type": "code",
      "source": [
        "x = [\"apple\", \"banana\", \"cherry\"] # list\n",
        "x = (\"apple\", \"banana\", \"cherry\") # tuple\n",
        "x = {\"apple\", \"banana\", \"cherry\"} # set\n",
        "x = {\"name\" : \"John\", \"age\" : 36} # dict\n",
        "x = frozenset({\"apple\", \"banana\", \"cherry\"}) # fronzenset\n",
        "x = None # NoneType\n",
        "\n",
        "x = complex(1j)\n",
        "x = list((\"apple\", \"banana\", \"cherry\")) # list\n",
        "x = tuple((\"apple\", \"banana\", \"cherry\")) # tuple\n",
        "x = set((\"apple\", \"banana\", \"cherry\")) # set\n",
        "x = dict(name=\"John\", age=36) # dict\n",
        "x = frozenset({\"apple\", \"banana\", \"cherry\"}) # fronzenset\n",
        "x = None # NoneType\n",
        "\n"
      ],
      "metadata": {
        "id": "POZjHI_tM50I"
      },
      "execution_count": null,
      "outputs": []
    },
    {
      "cell_type": "markdown",
      "source": [
        "### Conversion of data types:"
      ],
      "metadata": {
        "id": "u480RXoWOc5o"
      }
    },
    {
      "cell_type": "code",
      "source": [
        "x = 1    # int\n",
        "y = 2.8  # float\n",
        "z = 1j   # complex\n",
        "\n",
        "#convert from int to float:\n",
        "a = float(x)\n",
        "\n",
        "#convert from float to int:\n",
        "b = int(y)\n",
        "\n",
        "#convert from int to complex:\n",
        "c = complex(x)\n",
        "\n",
        "print(a)\n",
        "print(b)\n",
        "print(c)\n",
        "\n",
        "print(type(a))\n",
        "print(type(b))\n",
        "print(type(c))\n",
        "# Note that conversion from complex to another data type is not possible"
      ],
      "metadata": {
        "colab": {
          "base_uri": "https://localhost:8080/"
        },
        "id": "H4FaUGjWOVlY",
        "outputId": "801d1ff2-3c21-44b2-812e-c402287dd89e"
      },
      "execution_count": null,
      "outputs": [
        {
          "output_type": "stream",
          "name": "stdout",
          "text": [
            "1.0\n",
            "2\n",
            "(1+0j)\n",
            "<class 'float'>\n",
            "<class 'int'>\n",
            "<class 'complex'>\n"
          ]
        }
      ]
    },
    {
      "cell_type": "markdown",
      "source": [
        "### Sum of strings? = concatenation\n",
        "A strange operation is defined by the sum of strings\n",
        "\n"
      ],
      "metadata": {
        "id": "X4f_k_fdjkOw"
      }
    },
    {
      "cell_type": "code",
      "source": [
        "first_part = 'This is number 1'\n",
        "second_part = ' and this is number 2.'\n",
        "whole = first_part + second_part\n",
        "print(whole)"
      ],
      "metadata": {
        "colab": {
          "base_uri": "https://localhost:8080/"
        },
        "id": "rNJa-TQPjm9N",
        "outputId": "fe31d5c4-a8a6-46d0-f4c8-c48ae87314cc"
      },
      "execution_count": null,
      "outputs": [
        {
          "output_type": "stream",
          "name": "stdout",
          "text": [
            "This is number 1 and this is number 2.\n"
          ]
        }
      ]
    },
    {
      "cell_type": "markdown",
      "source": [
        "Multiple assignments can be carried out in one line, e.g.:"
      ],
      "metadata": {
        "id": "rM8g7u7FkJSq"
      }
    },
    {
      "cell_type": "code",
      "source": [
        "a,b,c = 3,4,5 # assigns 3 to a; and 4 to b\n",
        "x,y,z = \"Orange\", \"Banana\", \"Curry\"\n",
        "d = e = f = 7\n",
        "print(a)\n",
        "print(b)\n",
        "print(a,b)\n",
        "print(\"\")\n",
        "print(x)\n",
        "print(y)\n",
        "print(z)\n",
        "print(d,e,f)"
      ],
      "metadata": {
        "colab": {
          "base_uri": "https://localhost:8080/"
        },
        "id": "mlU4MYq5kQns",
        "outputId": "173184da-6811-489d-9085-f7191e4d7199"
      },
      "execution_count": null,
      "outputs": [
        {
          "output_type": "stream",
          "name": "stdout",
          "text": [
            "3\n",
            "4\n",
            "3 4\n",
            "\n",
            "Orange\n",
            "Banana\n",
            "Curry\n",
            "7 7 7\n"
          ]
        }
      ]
    },
    {
      "cell_type": "markdown",
      "source": [
        "Python allows to extract values into variables from a tuple, i.e.,"
      ],
      "metadata": {
        "id": "Q7xCp_Ybbq8z"
      }
    },
    {
      "cell_type": "code",
      "source": [
        "fruits = [\"apple\", \"banana\", \"cherry\"]\n",
        "x, y, z = fruits\n",
        "print(x)\n",
        "print(y)\n",
        "print(z)"
      ],
      "metadata": {
        "colab": {
          "base_uri": "https://localhost:8080/"
        },
        "id": "V8zjL76wbwub",
        "outputId": "8bee0542-abb4-4ef1-9afe-1d4d40392406"
      },
      "execution_count": null,
      "outputs": [
        {
          "output_type": "stream",
          "name": "stdout",
          "text": [
            "apple\n",
            "banana\n",
            "cherry\n"
          ]
        }
      ]
    },
    {
      "cell_type": "markdown",
      "source": [
        "Notice that Python allows to print different variable types at once"
      ],
      "metadata": {
        "id": "8fryh59fcDVM"
      }
    },
    {
      "cell_type": "code",
      "source": [
        "print(a,x)"
      ],
      "metadata": {
        "colab": {
          "base_uri": "https://localhost:8080/"
        },
        "id": "b2OA1kedcGf-",
        "outputId": "b4f500da-3b48-469b-8429-f6a1f35d1314"
      },
      "execution_count": null,
      "outputs": [
        {
          "output_type": "stream",
          "name": "stdout",
          "text": [
            "3 apple\n"
          ]
        }
      ]
    },
    {
      "cell_type": "markdown",
      "source": [
        "###Casting\n",
        "Variables dispense with declaration. However, variable can be indeed cast in some data type with the following constructors:\n"
      ],
      "metadata": {
        "id": "IvxgD5HzZYKx"
      }
    },
    {
      "cell_type": "code",
      "source": [
        "a = str(5)   # for a string, '5'\n",
        "b = int(5)   # for an integer, 5\n",
        "c = float(5) # for a float, 5.0"
      ],
      "metadata": {
        "id": "HhPUBq8aZlDu"
      },
      "execution_count": null,
      "outputs": []
    },
    {
      "cell_type": "markdown",
      "source": [
        "type() gives the data type of a variable, e.g.:"
      ],
      "metadata": {
        "id": "sSgnpYlyaK1T"
      }
    },
    {
      "cell_type": "code",
      "source": [
        "print(type(a))\n",
        "print(type(b))\n",
        "print(type(c))"
      ],
      "metadata": {
        "colab": {
          "base_uri": "https://localhost:8080/"
        },
        "id": "4mQpJ7HVaRtH",
        "outputId": "5231577d-1c10-4a95-d8d6-2709914c8e5c"
      },
      "execution_count": null,
      "outputs": [
        {
          "output_type": "stream",
          "name": "stdout",
          "text": [
            "<class 'str'>\n",
            "<class 'int'>\n",
            "<class 'float'>\n"
          ]
        }
      ]
    },
    {
      "cell_type": "code",
      "source": [
        "int(6), int('6'), int(6.9), int(6.1) # all return an integer 6 (note that for the float it simply removes decimals)"
      ],
      "metadata": {
        "colab": {
          "base_uri": "https://localhost:8080/"
        },
        "id": "ApKAHO-qclUo",
        "outputId": "843df5c6-9f1b-4659-9565-32cccb6eeb4c"
      },
      "execution_count": null,
      "outputs": [
        {
          "output_type": "execute_result",
          "data": {
            "text/plain": [
              "(6, 6, 6, 6)"
            ]
          },
          "metadata": {},
          "execution_count": 20
        }
      ]
    },
    {
      "cell_type": "code",
      "source": [
        "float(6.0), float('6'), float(6)"
      ],
      "metadata": {
        "colab": {
          "base_uri": "https://localhost:8080/"
        },
        "id": "5MeHKDb5c14V",
        "outputId": "d7aa89fc-ca54-48ba-fcd0-98f3441f3039"
      },
      "execution_count": null,
      "outputs": [
        {
          "output_type": "execute_result",
          "data": {
            "text/plain": [
              "(6.0, 6.0, 6.0)"
            ]
          },
          "metadata": {},
          "execution_count": 21
        }
      ]
    },
    {
      "cell_type": "markdown",
      "source": [
        "#Collection data types (arrays)\n",
        "*    List -> ordered and changeable; allows duplicate members\n",
        "*    Tuple -> ordered and unchangeable; allows duplicate members\n",
        "*    Set -> unordered, unchangeable*, and unindexed. No duplicate members.\n",
        "*    Dictionary -> ordered (except for Python 3.7 onward) and changeable;  no duplicate members\n",
        "\n",
        "'__ordered__' -> $\\rightarrow$ items can be called by their indices\n",
        "'__changeable__' $\\rightarrow$ items can be changed, added to or removed from the the collection\n",
        "\n",
        "Accessing:\n",
        "*   somelist[1], sometuple[1], somedict[\"key_name\"]\n",
        "*   can use negative index (-1 is the last item, -2 is the second to last, etc.) like somelist[-1], sometuple[-1]\n",
        "*   can use range of indices, e.g., somelist[1:5], sometuple[1:5] (also ranges like [5:],[:3], [-4:-1] etc.) \n",
        "*   length of lists/tuple/sets/dictionaries can be found with len()\n",
        "*   To empty collections use clear, some_list.clear(), some_tuple.clear(), some_set.clear(), some_dict.clear()\n",
        "*   constructors are used in the same way for lists, tuples and sets:\n",
        "```\n",
        "some_list = list((\"item 1\", \"item 2\", \"item 3\"))\n",
        "some_tuple = tuple((\"item 1\", \"item 2\", \"item 3\"))\n",
        "some_set = set((\"item 1\", \"item 2\", \"item 3\"))\n",
        "```"
      ],
      "metadata": {
        "id": "vAw904fxe6sK"
      }
    },
    {
      "cell_type": "markdown",
      "source": [
        "##'__in__' operator\n",
        "Checks whether an object is within a list/tuple/set/dictionary (for dictionaries, the __in__ looks for the key) e.g.:"
      ],
      "metadata": {
        "id": "6iDCJIeWMfw3"
      }
    },
    {
      "cell_type": "code",
      "source": [
        "some_list = [1, 2, 3, 99]\n",
        "if 3 in some_list:\n",
        "  print(\"3 is in the list position no. %d!\" % some_list.index(3))\n",
        "if \"mia!\" in \"mamamia!\": # can be used in strings\n",
        "  print(\"Indeed, 'mia!' is in 'mamamia!'\")\n",
        "if \"radio\" not in \"mamamia!\": \n",
        "  print(\"No, 'radio' is not in the expression 'mamamia!'\")\n",
        "\n",
        "print(\"\")\n",
        "some_tuple = (1, 2, 3, 99)\n",
        "if 3 in some_tuple:\n",
        "  print(\"3 is in the tuple position no. %d!\" % some_tuple.index(3))\n",
        "\n",
        "print(\"\")\n",
        "some_set = {1, 2, 3, 99}\n",
        "if 3 in some_set:\n",
        "  print(\"3 is in the set!\")\n",
        "\n",
        "print(\"\")\n",
        "some_dict = {\n",
        "    \"First_no\": 1, \n",
        "    \"Second no\": 2, \n",
        "    \"Third no\": 3, \n",
        "    \"Fourth_no\": 99}\n",
        "if \"Fourth_no\" in some_dict:\n",
        "  print(\"The fourth number is in the set!\")"
      ],
      "metadata": {
        "colab": {
          "base_uri": "https://localhost:8080/"
        },
        "id": "f_iNKh9wMulu",
        "outputId": "4ba91d8d-e2ee-4040-ff7a-a5334f0493b6"
      },
      "execution_count": null,
      "outputs": [
        {
          "output_type": "stream",
          "name": "stdout",
          "text": [
            "3 is in the list position no. 2!\n",
            "Indeed, 'mia!' is in 'mamamia!'\n",
            "No, 'radio' is not in the expression 'mamamia!'\n",
            "\n",
            "3 is in the tuple position no. 2!\n",
            "\n",
            "3 is in the set!\n",
            "\n",
            "The fourth number is in the set!\n"
          ]
        }
      ]
    },
    {
      "cell_type": "markdown",
      "source": [
        "## Lists"
      ],
      "metadata": {
        "id": "d58nhJr1kvf1"
      }
    },
    {
      "cell_type": "markdown",
      "source": [
        "The index of lists starts at 0. \n",
        "\n",
        "To append, one can add the expression '.append' to the name of the list with the element within the argument in parentheses."
      ],
      "metadata": {
        "id": "9hruAMdFzDqE"
      }
    },
    {
      "cell_type": "code",
      "source": [
        "my_list=[]\n",
        "my_list.append(1)\n",
        "my_list.append(2)\n",
        "my_list.append(3)\n",
        "print(my_list[0])\n",
        "print(my_list[1])\n",
        "print(my_list[2])"
      ],
      "metadata": {
        "colab": {
          "base_uri": "https://localhost:8080/"
        },
        "id": "kmmcPEdfytF3",
        "outputId": "d3448a6a-8c03-4394-92c8-919b8e62938f"
      },
      "execution_count": null,
      "outputs": [
        {
          "output_type": "stream",
          "name": "stdout",
          "text": [
            "1\n",
            "2\n",
            "3\n"
          ]
        }
      ]
    },
    {
      "cell_type": "markdown",
      "source": [
        "Now let us run a quick loop"
      ],
      "metadata": {
        "id": "QSQLd5VczS8o"
      }
    },
    {
      "cell_type": "code",
      "source": [
        "for x in my_list:\n",
        "  print(x)"
      ],
      "metadata": {
        "colab": {
          "base_uri": "https://localhost:8080/"
        },
        "id": "_2JBQW19zVDn",
        "outputId": "df6676bd-2034-48bc-cecb-8013f2073d2b"
      },
      "execution_count": null,
      "outputs": [
        {
          "output_type": "stream",
          "name": "stdout",
          "text": [
            "1\n",
            "2\n",
            "3\n"
          ]
        }
      ]
    },
    {
      "cell_type": "code",
      "source": [
        "another_list = [\"Mango\", \"Banana\", \"Avocado\"]\n",
        "for j in another_list:\n",
        "  print(j)"
      ],
      "metadata": {
        "colab": {
          "base_uri": "https://localhost:8080/"
        },
        "id": "Undk1OMm2IWt",
        "outputId": "576f5cb8-b7fc-446c-b26c-56d3cb98fc2d"
      },
      "execution_count": null,
      "outputs": [
        {
          "output_type": "stream",
          "name": "stdout",
          "text": [
            "Mango\n",
            "Banana\n",
            "Avocado\n"
          ]
        }
      ]
    },
    {
      "cell_type": "code",
      "source": [
        "print(another_list[2])"
      ],
      "metadata": {
        "colab": {
          "base_uri": "https://localhost:8080/"
        },
        "id": "eAbWV0Q-2nVW",
        "outputId": "d0f9c056-d4a3-42f0-ee04-2ab2abb4c00b"
      },
      "execution_count": null,
      "outputs": [
        {
          "output_type": "stream",
          "name": "stdout",
          "text": [
            "3\n"
          ]
        }
      ]
    },
    {
      "cell_type": "markdown",
      "source": [
        "Lists can contain different data types\n",
        "```\n",
        "list1 = [\"abc\", 34, True, 40, \"male\"]\n",
        "```\n",
        "and their type can be obtained with the type() function, e.g.:\n",
        "```\n",
        "type(list1)\n",
        "```"
      ],
      "metadata": {
        "id": "c01xDQAb-i_x"
      }
    },
    {
      "cell_type": "code",
      "source": [
        "list1 = [\"abc\", 34, True, 40, \"male\"]\n",
        "type(list1)"
      ],
      "metadata": {
        "colab": {
          "base_uri": "https://localhost:8080/"
        },
        "id": "lglSdOL8n-jg",
        "outputId": "21b7434a-91c1-44cf-8427-a31df5a011fa"
      },
      "execution_count": null,
      "outputs": [
        {
          "output_type": "execute_result",
          "data": {
            "text/plain": [
              "list"
            ]
          },
          "metadata": {},
          "execution_count": 1
        }
      ]
    },
    {
      "cell_type": "markdown",
      "source": [
        "Lists can also be built with the list constructor, i.e.,\n",
        "```\n",
        "grocery_list = list((\"eggs\", \"watermelon\", \"\"))\n",
        "```"
      ],
      "metadata": {
        "id": "3s3AbSxGoKl8"
      }
    },
    {
      "cell_type": "markdown",
      "source": [
        "*    List -> ordered and changeable; allows duplicate members\n",
        "\n",
        "One can access items from a list as \n",
        "```\n",
        "some_list[some_index]\n",
        "```\n",
        "where 'some_index' may be positive or negative (then it means counting from the end of the list) and it may also be a range (see '__String as an array__' below), e.g.:\n",
        "```\n",
        "some_list[1:4]\n",
        "```\n",
        "ranges from the second to the third item of the list (recall that the 5th element (index 4) is left out).\n",
        "Negative indexes may be used as well,\n",
        "```\n",
        "some_list[-4:-1] # meaning it starts from the fourth to last item (because the fifth is left out) to the second to last item\n",
        "```\n",
        "RECALL: counting in Python starts at 0.\n",
        "To change an item, just use the corresponding index:\n",
        "```\n",
        "some_list[2] = \"I'm new\" # change the third item\n",
        "some_list[2:3] = [\"One new item\", \"And another new item\"]\n",
        "```\n",
        "The list will change size by inserting a number of items different from the number of replacements\n",
        "```\n",
        "some_list = [\"item 0\", \"item 1\", \"item 2\", \"item 3\"]\n",
        "some_list[1:3] = [\"item 4\"]\n",
        "print(some_list) # prints out ['item 0', 'item 4', 'item 3']\n",
        "\n",
        "some_list = [\"item 0\", \"item 1\", \"item 2\", \"item 3\"]\n",
        "some_list[1:4] = [\"item 4\"]\n",
        "print(some_list) # prints out ['item 0', 'item 4']\n",
        "\n",
        "thislist = [\"apple\", \"banana\", \"cherry\"]\n",
        "thislist[1:2] = [\"blackcurrant\", \"watermelon\"]\n",
        "print(thislist) # yields [\"apple\", \"blackcurrant\", \"watermelon\", \"cherry\"]\n",
        "# here, the second item \"banana\" is replaced by two items, \"blackcurrant\" and \"watermelon\"\n",
        "```\n",
        "\n",
        "insert() $\\rightarrow$ allows the insertion of new items into the list (NOTE: this does modify the original list) at any one position.\n",
        "\n",
        "append() $\\rightarrow$ allows appending new items to the end of the list (NOTE: this does modify the original list)\n",
        "\n",
        "extend(some_iterable) $\\rightarrow$ extends some_list with another list or any other iterable (some_iterable), which is appended to the end of some_list\n",
        "```\n",
        "some_list = [\"orig_0\", \"orig_1\", \"orig_2\"]\n",
        "some_list.insert(2,\"N\") # produces ['orig_0', 'orig_1', 'N', 'orig_2']\n",
        "\n",
        "some_list = [\"orig_0\", \"orig_1\", \"orig_2\"]\n",
        "some_list.append(\"BLABLA\") # produces ['orig_0', 'orig_1', 'orig_2', 'BLABLA']\n",
        "\n",
        "some_list = [\"orig_0\", \"orig_1\", \"orig_2\"]\n",
        "with_another_list =  [\"orig_3\", \"orig_4\", \"orig_5\"]\n",
        "some_list.extend(with_another_list)\n",
        "print(some_list) # results in [\"orig_0\", \"orig_1\", \"orig_2\", \"orig_3\", \"orig_4\", \"orig_5\"]\n",
        "\n",
        "some_list = [\"orig_0\", \"orig_1\", \"orig_2\"]\n",
        "some_iterable =  (\"orig_3\", \"orig_4\", \"orig_5\") # a tuple\n",
        "some_list.extend(some_iterable)\n",
        "print(some_list) # results in [\"orig_0\", \"orig_1\", \"orig_2\", \"orig_3\", \"orig_4\", \"orig_5\"]again\n",
        "```\n",
        "\n",
        "remove() $\\rightarrow$ removes an item (if there is a duplicate, this will only remove the first item), e.g.:\n",
        "```\n",
        "some_list = [\"orig_0\", \"orig_1\", \"orig_2\"]\n",
        "some_list.remove(\"orig_0\")\n",
        "```\n",
        "remove() $\\rightarrow$ removes an item based on index, e.g.:\n",
        "```\n",
        "some_list = [\"orig_0\", \"orig_1\", \"orig_2\"]\n",
        "some_list.pop(0) # removes \"orig_0\"\n",
        "some_list.pop() # removes last item, \"orig_2\" here\n",
        "```\n",
        "del some_list[some_index] $\\rightarrow$ removes some item from some_list\n",
        "\n",
        "del some_list[some_index] $\\rightarrow$ removes the list some_list\n",
        "\n",
        "clear() $\\rightarrow$ clears/empties the list some_list"
      ],
      "metadata": {
        "id": "wP5Kow3f2kB3"
      }
    },
    {
      "cell_type": "code",
      "source": [
        "some_list = [\"item 0\", \"item 1\", \"item 2\", \"item 3\"]\n",
        "some_list[1:3] = [\"item 4\"] # recall that the indices go from 1 to 2 (3 is excluded)\n",
        "print(some_list) # only the second (index 1) and third (index 2) items are replaced"
      ],
      "metadata": {
        "colab": {
          "base_uri": "https://localhost:8080/"
        },
        "id": "PS1Q7KsFEYJ5",
        "outputId": "2b6fe587-262a-44b8-d72e-a84ae700033e"
      },
      "execution_count": null,
      "outputs": [
        {
          "output_type": "stream",
          "name": "stdout",
          "text": [
            "['item 0', 'item 4', 'item 3']\n"
          ]
        }
      ]
    },
    {
      "cell_type": "code",
      "source": [
        "thislist = [\"apple\", \"banana\", \"cherry\", \"orange\", \"kiwi\", \"melon\", \"mango\"]\n",
        "print(thislist[1:4]) # gives \"banana\" until \"orange\"\n",
        "print(thislist[:4]) # gives the beginning until \"orange\"\n",
        "print(thislist[1:]) # gives \"banana\" until the end of the list"
      ],
      "metadata": {
        "colab": {
          "base_uri": "https://localhost:8080/"
        },
        "id": "5e4lkTOKMx-P",
        "outputId": "e1147042-93ce-4d2e-9382-e6584c8dab92"
      },
      "execution_count": null,
      "outputs": [
        {
          "output_type": "stream",
          "name": "stdout",
          "text": [
            "['banana', 'cherry', 'orange']\n",
            "['apple', 'banana', 'cherry', 'orange']\n",
            "['banana', 'cherry', 'orange', 'kiwi', 'melon', 'mango']\n"
          ]
        }
      ]
    },
    {
      "cell_type": "markdown",
      "source": [
        "### List comprehension\n",
        "Shortest syntax for looping through a list. In order to create a new list from another, for example, we can do:\n",
        "```\n",
        "newlist = [expression for item in iterable if condition == True]\n",
        "```\n",
        "\n",
        "*    expression: the outcome, which can be changed before adding to the new list (e.g., a string item can be made upper case before joining the new list, etc.). By the way, the outcome may be changed under some condition.\n",
        "*    iterable: list, tuple, set or a dict.\n"
      ],
      "metadata": {
        "id": "P145_H1PkLXD"
      }
    },
    {
      "cell_type": "code",
      "source": [
        "thislist = [\"apple\", \"banana\", \"cherry\"]\n",
        "[print(x) for x in thislist]"
      ],
      "metadata": {
        "colab": {
          "base_uri": "https://localhost:8080/"
        },
        "id": "Bxlodouv-xwd",
        "outputId": "1c141695-ce69-4038-dcc6-655dc9f787cb"
      },
      "execution_count": null,
      "outputs": [
        {
          "output_type": "stream",
          "name": "stdout",
          "text": [
            "apple\n",
            "banana\n",
            "cherry\n"
          ]
        },
        {
          "output_type": "execute_result",
          "data": {
            "text/plain": [
              "[None, None, None]"
            ]
          },
          "metadata": {},
          "execution_count": 6
        }
      ]
    },
    {
      "cell_type": "code",
      "source": [
        "# create newlist from all the elements in 'fruits' than contain the character 'a'\n",
        "fruits = [\"apple\", \"banana\", \"cherry\", \"kiwi\", \"mango\"]\n",
        "\n",
        "samelist = [x for x in fruits] \n",
        "newlist = [x for x in fruits if \"a\" in x] \n",
        "newlist2 = [x for x in fruits if \"a\" not in x] \n",
        "newlist3 = [x for x in fruits if x != \"kiwi\"] \n",
        "newlist4 = [x if x != \"banana\" else \"orange\" for x in fruits]\n",
        "upperlist = [x.upper() for x in fruits]\n",
        "\n",
        "print(samelist)\n",
        "print(newlist)\n",
        "print(newlist2)\n",
        "print(newlist3)\n",
        "print(newlist4)\n",
        "print(upperlist)\n"
      ],
      "metadata": {
        "colab": {
          "base_uri": "https://localhost:8080/"
        },
        "id": "35leW8JA-uCy",
        "outputId": "62f968f0-8caa-4468-e2a1-835036f148d9"
      },
      "execution_count": null,
      "outputs": [
        {
          "output_type": "stream",
          "name": "stdout",
          "text": [
            "['apple', 'banana', 'cherry', 'kiwi', 'mango']\n",
            "['apple', 'banana', 'mango']\n",
            "['cherry', 'kiwi']\n",
            "['apple', 'banana', 'cherry', 'mango']\n",
            "['apple', 'orange', 'cherry', 'kiwi', 'mango']\n",
            "['APPLE', 'BANANA', 'CHERRY', 'KIWI', 'MANGO']\n"
          ]
        }
      ]
    },
    {
      "cell_type": "markdown",
      "source": [
        "### Sorting\n",
        "sort() $\\rightarrow$ by default, organise lists with the following syntax: \n",
        "```\n",
        "some_list.sort() # modifies the list for organisation\n",
        "```\n",
        "alphabetically (for lists containing strings; case-sensitive, prioritising upper cases) or numerically (for lists containing numbers). \n",
        "\n",
        "To reverse the organisation it suffices to use the \"reverse = True\" argument (different from the reverse() method!)"
      ],
      "metadata": {
        "id": "T4BL0j5WE3VY"
      }
    },
    {
      "cell_type": "code",
      "source": [
        "shopping_list = [\"eggs\", \"carrots\", \"juice\", \"avocado\"]\n",
        "shopping_list.sort()\n",
        "print(shopping_list)\n",
        "shopping_list.sort(reverse = True)\n",
        "print(shopping_list)"
      ],
      "metadata": {
        "colab": {
          "base_uri": "https://localhost:8080/"
        },
        "id": "BHd9u1iLFb-1",
        "outputId": "e874e465-69f9-4f82-8fbd-bed51749c434"
      },
      "execution_count": null,
      "outputs": [
        {
          "output_type": "stream",
          "name": "stdout",
          "text": [
            "['avocado', 'carrots', 'eggs', 'juice']\n",
            "['juice', 'eggs', 'carrots', 'avocado']\n"
          ]
        }
      ]
    },
    {
      "cell_type": "code",
      "source": [
        "no_list = [1, 2, 34, -3.141516, 9999, 0, -1, -1.5, -999]\n",
        "no_list.sort()\n",
        "print(no_list)\n",
        "no_list.sort(reverse = True)\n",
        "print(no_list)"
      ],
      "metadata": {
        "colab": {
          "base_uri": "https://localhost:8080/"
        },
        "id": "iLgTzfrXFpBZ",
        "outputId": "6ad7761f-e7ca-4500-b65f-c70e7fe924de"
      },
      "execution_count": null,
      "outputs": [
        {
          "output_type": "stream",
          "name": "stdout",
          "text": [
            "[-999, -3.141516, -1.5, -1, 0, 1, 2, 34, 9999]\n",
            "[9999, 34, 2, 1, 0, -1, -1.5, -3.141516, -999]\n"
          ]
        }
      ]
    },
    {
      "cell_type": "markdown",
      "source": [
        "Instead of the default behaviour, one can specify the organising function. \n",
        "\n",
        "*    For example, to organise a numeric list according to the proximity between the numbers of the list relative to a specific value, one can do the following:"
      ],
      "metadata": {
        "id": "sY5K8HffGv67"
      }
    },
    {
      "cell_type": "code",
      "source": [
        "def distance(y):\n",
        "    some_value = 50\n",
        "    return abs(y-some_value) # get the distance of y to some_value\n",
        "\n",
        "thislist = [100, 50, 65, 82, 23]\n",
        "thislist.sort(key = distance)\n",
        "print(thislist)"
      ],
      "metadata": {
        "colab": {
          "base_uri": "https://localhost:8080/"
        },
        "id": "EB54eGJWHN7w",
        "outputId": "3b63671b-d614-498d-8260-1198d70e0eec"
      },
      "execution_count": null,
      "outputs": [
        {
          "output_type": "stream",
          "name": "stdout",
          "text": [
            "[50, 65, 23, 82, 100]\n"
          ]
        }
      ]
    },
    {
      "cell_type": "markdown",
      "source": [
        "*    built-in functions can also be used as keys, e.g.:\n"
      ],
      "metadata": {
        "id": "5WoEsThdP4Yi"
      }
    },
    {
      "cell_type": "code",
      "source": [
        "shopping_list2 = [\"Eggs\", \"Carrots\", \"Juice\", \"avocado\", \"banana\"]\n",
        "shopping_list.sort()\n",
        "print(shopping_list)\n",
        "\n",
        "shopping_list2 = [\"Eggs\", \"Carrots\", \"Juice\", \"avocado\", \"banana\"]\n",
        "shopping_list2.sort(key = str.lower) # now the key evaluates the lower case form of the items\n",
        "print(shopping_list2)\n",
        "\n",
        "shopping_list2 = [\"Eggs\", \"Carrots\", \"Juice\", \"avocado\", \"banana\"]\n",
        "shopping_list2.sort(key = str.upper) # now the key evaluates the upper case form of the items\n",
        "print(shopping_list2)"
      ],
      "metadata": {
        "colab": {
          "base_uri": "https://localhost:8080/"
        },
        "id": "W2-EIycNQCX2",
        "outputId": "3a4a7220-b545-4d96-843e-2780f4bcdb5d"
      },
      "execution_count": null,
      "outputs": [
        {
          "output_type": "stream",
          "name": "stdout",
          "text": [
            "['avocado', 'carrots', 'eggs', 'juice']\n",
            "['avocado', 'banana', 'Carrots', 'Eggs', 'Juice']\n",
            "['avocado', 'banana', 'Carrots', 'Eggs', 'Juice']\n"
          ]
        }
      ]
    },
    {
      "cell_type": "markdown",
      "source": [
        "### Reverse a list\n",
        "In order to reverse a list regardless of the order, one can use reverse(), e.g.:"
      ],
      "metadata": {
        "id": "dkAj-1_MQx3Y"
      }
    },
    {
      "cell_type": "code",
      "source": [
        "thislist = [\"banana\", \"Orange\", \"Kiwi\", \"cherry\"]\n",
        "thislist.reverse()\n",
        "print(thislist)"
      ],
      "metadata": {
        "colab": {
          "base_uri": "https://localhost:8080/"
        },
        "id": "5F_PX2WLQ4MK",
        "outputId": "1421e8a5-01bc-4eaa-f93e-f66659bd0505"
      },
      "execution_count": null,
      "outputs": [
        {
          "output_type": "stream",
          "name": "stdout",
          "text": [
            "['cherry', 'Kiwi', 'Orange', 'banana']\n"
          ]
        }
      ]
    },
    {
      "cell_type": "markdown",
      "source": [
        "### Copying lists\n",
        "Do not use \n",
        "```\n",
        "list2 = list1\n",
        "```\n",
        "because it creates a constraint between list1 and list2, whereby list2 is merely a reference to list1. Changes made to list1 automatically happen to list2.\n",
        "\n",
        "In order to copy indeed, one can use copy():\n",
        "```\n",
        "copy_of_old_list = old_list.copy()\n",
        "```\n",
        "or\n",
        "```\n",
        "copy_of_old_list = list(old_list)\n",
        "```\n"
      ],
      "metadata": {
        "id": "GJd4Q9-YRCjW"
      }
    },
    {
      "cell_type": "code",
      "source": [
        "old_list = [\"John\", \"Haley\", \"Tom\"]\n",
        "copy_of_old_list = old_list.copy()\n",
        "print(copy_of_old_list)\n",
        "copy_of_old_list2 = old_list.copy()\n",
        "print(copy_of_old_list2)"
      ],
      "metadata": {
        "colab": {
          "base_uri": "https://localhost:8080/"
        },
        "id": "U56Vl31HYmlB",
        "outputId": "69d83f4c-d767-48fe-d726-e4b5eaec72c9"
      },
      "execution_count": null,
      "outputs": [
        {
          "output_type": "stream",
          "name": "stdout",
          "text": [
            "['John', 'Haley', 'Tom']\n",
            "['John', 'Haley', 'Tom']\n"
          ]
        }
      ]
    },
    {
      "cell_type": "markdown",
      "source": [
        "### List methods\n",
        "```\n",
        "append()       Adds an element at the end of the list\n",
        "clear()        Removes all the elements from the list\n",
        "copy()         Returns a copy of the list\n",
        "count()        Returns the number of elements with the specified value\n",
        "extend()       Add the elements of a list (or any iterable), to the end of the current list\n",
        "index()        Returns the index of the first element with the specified value\n",
        "insert()       Adds an element at the specified position\n",
        "pop()          Removes the element at the specified position\n",
        "remove()       Removes the item with the specified value\n",
        "reverse()      Reverses the order of the list\n",
        "sort()         Sorts the list\n",
        "```"
      ],
      "metadata": {
        "id": "7HbJY_RbZbiJ"
      }
    },
    {
      "cell_type": "markdown",
      "source": [
        "## Tuples\n",
        "*    Tuples are ordered, unchangeable and allow duplicate values\n",
        "*    One of the iterable types of Python to store collections of data (tuples, lists, sets, dictionaries)\n",
        "*    Written with round brackets\n",
        "*    Elements are accessed like in lists\n",
        "*    Can include different types, even at once, e.g., str, int, bool:"
      ],
      "metadata": {
        "id": "UY_tOeGFai_b"
      }
    },
    {
      "cell_type": "code",
      "source": [
        "tuple1 = (\"abc\", 34, True, 40, \"male\")"
      ],
      "metadata": {
        "id": "CyQBkQvlctcs"
      },
      "execution_count": null,
      "outputs": []
    },
    {
      "cell_type": "markdown",
      "source": [
        "*    Defined by the class 'tuple'"
      ],
      "metadata": {
        "id": "Drz-Zgjsc_j0"
      }
    },
    {
      "cell_type": "markdown",
      "source": [
        "### Tuple constructor"
      ],
      "metadata": {
        "id": "u0dwjGsqdM08"
      }
    },
    {
      "cell_type": "code",
      "source": [
        "thistuple = tuple((\"apple\", \"banana\", \"cherry\")) # note the double round-brackets\n",
        "print(thistuple)"
      ],
      "metadata": {
        "id": "e9aSGRP_dRGW"
      },
      "execution_count": null,
      "outputs": []
    },
    {
      "cell_type": "markdown",
      "source": [
        "### Tuple with one item\n",
        "Add comma as below, otherwise Python won't recognise it as tuple:"
      ],
      "metadata": {
        "id": "pvRHyROPcxiF"
      }
    },
    {
      "cell_type": "code",
      "source": [
        "one_item_tuple = (\"I'm unique\",)\n",
        "print(type(one_item_tuple))\n",
        "# in this case, without comma, the type would be str"
      ],
      "metadata": {
        "colab": {
          "base_uri": "https://localhost:8080/"
        },
        "id": "0zjmVd7cb4xw",
        "outputId": "5a4e84cc-4037-41e5-d63a-868c5fc0bd72"
      },
      "execution_count": null,
      "outputs": [
        {
          "output_type": "stream",
          "name": "stdout",
          "text": [
            "(\"I'm unique\",)\n"
          ]
        }
      ]
    },
    {
      "cell_type": "markdown",
      "source": [
        "### Updating (__unchangeable__) tuples?\n",
        "*    Tuples are __unchangeable__ (or __imutable__). One way to circumvent this is by generating a list from the tuple, and then converting it back into a tuple:\n",
        "```\n",
        "some_tuple = (\"item 1\", \"item 2\", \"item 3\")\n",
        "list_from_tuple = list(some_tuple) # generate list\n",
        "list_from_tuple[2] = \"item 4\" # change list\n",
        "some_tuple = tuple(list_from_tuple) # recreate the tuple\n",
        "print(some_tuple)\n",
        "```\n",
        "\n",
        "*    In order to add items:\n",
        "> *    Use the same previous idea of recreating the tuple via the list/tuple constructor\n",
        "> *    Add one tuple to another\n",
        "```\n",
        "tuple_1 = (\"item 1\", \"item 2\")\n",
        "tuple_2 = (\"item 3\")\n",
        "tuple_3 = tuple_1 + tuple_2\n",
        "```\n",
        "\n",
        "*   In order to delete a tuple entirely:\n",
        "```\n",
        "del some_tuple\n",
        "```\n",
        "\n",
        "*    Multiply tuples:\n",
        "```\n",
        "fruits = (\"apple\", \"banana\", \"cherry\")\n",
        "mytuple = fruits * 2\n",
        "print(mytuple) \n",
        "# prints ('apple', 'banana', 'cherry', 'apple', 'banana', 'cherry')\n",
        "```"
      ],
      "metadata": {
        "id": "JeiNj0w3ru13"
      }
    },
    {
      "cell_type": "markdown",
      "source": [
        "### Tuples' unpacking\n",
        "'To pack a tuple' means to assign values to a tuple\n",
        "'To unpack a tuple' means to associate items of the tuple to variables, e.g.:\n",
        "```\n",
        "fruits = (\"apple\", \"banana\", \"cherry\")\n",
        "\n",
        "(green, yellow, red) = fruits\n",
        "\n",
        "print(green) # received value 'apple'\n",
        "print(yellow) # received 'banana'\n",
        "print(red) # received 'cherry'\n",
        "```\n",
        "where each variable received one item from the tuple. "
      ],
      "metadata": {
        "id": "vDscSPQVuQzc"
      }
    },
    {
      "cell_type": "markdown",
      "source": [
        "#### Unpacking and associating a list to a variable\n",
        "One can render the association of fewer variables than items of the tuple possible. To do so, one can attach the asterisk to some variable, so the other variables adopt one item, and the asterisked variable assigns the remaining items, e.g.:\n",
        "```\n",
        "fruits = (\"apple\", \"banana\", \"cherry\", \"grape\")\n",
        "\n",
        "(green, yellow, *red) = fruits\n",
        "\n",
        "print(green) # received value 'apple'\n",
        "print(yellow) # received 'banana'\n",
        "print(red) # receives the list ['cherry', \"grape\"]\n",
        "```\n",
        "\n",
        "or\n",
        "\n",
        "```\n",
        "fruits = (\"apple\", \"mango\", \"papaya\", \"pineapple\", \"cherry\")\n",
        "\n",
        "(green, *tropic, red) = fruits\n",
        "\n",
        "print(green) # gets 'apple'\n",
        "print(tropic) # gets ['mango', 'papaya', 'pineapple']\n",
        "print(red) # gets 'cherry'\n",
        "```"
      ],
      "metadata": {
        "id": "lKxHbaT5Bt5b"
      }
    },
    {
      "cell_type": "markdown",
      "source": [
        "### Tuple methods\n",
        "```\n",
        "count()           Returns the number of times a specified value occurs in a tuple\n",
        "\n",
        "index()           Searches the tuple for a specified value and returns the position of where it was found\n",
        "```"
      ],
      "metadata": {
        "id": "OGvdRPNbDT9_"
      }
    },
    {
      "cell_type": "markdown",
      "source": [
        "## Sets\n",
        "*    Sets are unordered, unchangeable (but can add/remove items), unindexed, does not allow duplicates\n",
        "*    One of the iterable types of Python to store collections of data (tuples, lists, sets, dictionaries)\n",
        "*    Written with curly brackets\n",
        "*    Defined by the class 'set'\n",
        "*    Can include different types, even at once, e.g., str, int, bool\n",
        "\n",
        "Use curly brackets, as in:\n",
        "```\n",
        "myset = {\"pizza\", \"orange\", \"macaroni\"}\n",
        "```\n",
        "\n",
        "Can also be built with constructor:\n",
        "```\n",
        "thisset = set((\"apple\", \"banana\", \"cherry\"))\n",
        "print(thisset)\n",
        "```\n",
        "\n",
        "To see how it does not allow duplicates:"
      ],
      "metadata": {
        "id": "pM3YItdJD1Xu"
      }
    },
    {
      "cell_type": "code",
      "source": [
        "thisset = {\"apple\", \"banana\", \"cherry\", \"apple\"} # 'apple' repeats\n",
        "print(thisset)"
      ],
      "metadata": {
        "colab": {
          "base_uri": "https://localhost:8080/"
        },
        "id": "gUINc2fxEmfA",
        "outputId": "4400d045-48ed-46b7-ea39-727eb012300e"
      },
      "execution_count": null,
      "outputs": [
        {
          "output_type": "stream",
          "name": "stdout",
          "text": [
            "{'cherry', 'banana', 'apple'}\n"
          ]
        }
      ]
    },
    {
      "cell_type": "markdown",
      "source": [
        "### Access items in a set\n",
        "As sets are unindexed, the items cannot be accessed as in lists or tuples, but they can be seen with the usage of a __for-loop__ or checking directly if an item is __in__ the set, e.g.,\n",
        "```\n",
        "thisset = {\"apple\", \"banana\", \"cherry\"}\n",
        "\n",
        "for x in thisset:\n",
        "  print(x)\n",
        "\n",
        "  # or\n",
        "\n",
        "print(\"banana\" in thisset) # this will only be printed if 'banana' is in the set\n",
        "```"
      ],
      "metadata": {
        "id": "-xWaV0pC5Qtg"
      }
    },
    {
      "cell_type": "markdown",
      "source": [
        "### Add items to a set\n",
        "add() $\\rightarrow$ add a single item:\n",
        "```\n",
        "some_set = {\"English\", \"Spanish\", \"Russian\"}\n",
        "some_set.add(\"German\")\n",
        "# renders some_set like {\"English\", \"Spanish\", Russian\", \"German\"}\n",
        "```\n",
        "\n",
        "update() $\\rightarrow$ add elements from a set to another set (note, it changes the set to which elements are added, unlike union(), see below):\n",
        "```\n",
        "some_set = {\"English\", \"Spanish\", \"Russian\"}\n",
        "another_set = {\"Bulgarian\", \"German\", \"French\", \"English\"}\n",
        "some_set.update(another_set)\n",
        "# results in {'Russian', 'English', 'Bulgarian', 'Spanish', 'German', 'French'}\n",
        "\n",
        "# NOTE #1: note that 'English' is not repeated by design. Recall that sets do not allow duplicates.\n",
        "\n",
        "# NOTE #2: the iterable under the 'update()' does not have to a tuple. It can be any iterable, e.g.:\n",
        "some_set = {\"English\", \"Spanish\", \"Russian\"}\n",
        "yet_another_set = (\"Romanian\", \"Arabic\", \"Japanese\")\n",
        "some_set.update(yet_another_set)\n",
        "```\n",
        "\n",
        "remove() or discard() $\\rightarrow$ remove an item:\n",
        "```\n",
        "some_set = {\"English\", \"Spanish\", \"Russian\"}\n",
        "some_set.remove(\"English\")\n",
        "\n",
        "some_set = {\"English\", \"Spanish\", \"Russian\"}\n",
        "some_set.discard(\"English\")\n",
        "\n",
        "# both cases do the same: remove 'English' from the set\n",
        "```\n",
        "\n",
        "pop() $\\rightarrow$ also removes an item, but it seems to me like a random item\n",
        "```\n",
        "some_set = {\"English\", \"Spanish\", \"Russian\"}\n",
        "some_set.pop()\n",
        "```\n",
        "\n",
        "clear() $\\rightarrow$ empty a set\n",
        "```\n",
        "some_set = {\"English\", \"Spanish\", \"Russian\"}\n",
        "some_set.clear()\n",
        "```\n",
        "\n",
        "del some_set $\\rightarrow$ delete a set\n",
        "```\n",
        "some_set = {\"English\", \"Spanish\", \"Russian\"}\n",
        "del some_set\n",
        "```"
      ],
      "metadata": {
        "id": "7Qh3Lz4458pC"
      }
    },
    {
      "cell_type": "markdown",
      "source": [
        "### Sets operations - union, intersection\n",
        "union() $\\rightarrow$ return a set that is the union of other two"
      ],
      "metadata": {
        "id": "GUzhdeedBtuC"
      }
    },
    {
      "cell_type": "code",
      "source": [
        "set1 = {\"Englisch\", \"Deutsch\", \"Portugiesisch\"}\n",
        "set2 = {\"Russisch\", \"Französisch\", \"Japanisch\"}\n",
        "union_set = set1.union(set2)\n",
        "print(union_set)\n",
        "print(set1) \n",
        "# note that set1 is not altered, unlike set1.update(set2), which modifies set1\n",
        "# note also that duplicate items are not kept"
      ],
      "metadata": {
        "colab": {
          "base_uri": "https://localhost:8080/"
        },
        "id": "hWzaz9AfEv2R",
        "outputId": "e532956b-6592-4ba3-fc67-6b349b36ef5d"
      },
      "execution_count": null,
      "outputs": [
        {
          "output_type": "stream",
          "name": "stdout",
          "text": [
            "{'Französisch', 'Russisch', 'Portugiesisch', 'Deutsch', 'Japanisch', 'Englisch'}\n",
            "{'Deutsch', 'Englisch', 'Portugiesisch'}\n"
          ]
        }
      ]
    },
    {
      "cell_type": "markdown",
      "source": [
        "intersection_update() $\\rightarrow$ retain only items that are duplicates of two sets (as it updates, it alters the first set)"
      ],
      "metadata": {
        "id": "bj00aNKEFZF8"
      }
    },
    {
      "cell_type": "code",
      "source": [
        "some_set = {\"English\", \"Spanish\", \"Russian\"}\n",
        "another_set = {\"Bulgarian\", \"German\", \"French\", \"English\"}\n",
        "some_set.intersection_update(another_set)\n",
        "print(some_set)"
      ],
      "metadata": {
        "colab": {
          "base_uri": "https://localhost:8080/"
        },
        "id": "izS0tOYsFoah",
        "outputId": "9fda5db8-0bc1-497e-9253-fc39b50e42aa"
      },
      "execution_count": null,
      "outputs": [
        {
          "output_type": "stream",
          "name": "stdout",
          "text": [
            "{'English'}\n"
          ]
        }
      ]
    },
    {
      "cell_type": "markdown",
      "source": [
        "intersection () $\\rightarrow$ retain only items that are duplicates of two sets (as it does not update, it does not alter the first set)\n"
      ],
      "metadata": {
        "id": "V1iUW33_GQ4y"
      }
    },
    {
      "cell_type": "code",
      "source": [
        "some_set = {\"English\", \"Spanish\", \"Russian\"}\n",
        "another_set = {\"Bulgarian\", \"German\", \"French\", \"English\"}\n",
        "final_set = some_set.intersection(another_set)\n",
        "print(some_set)\n",
        "print(another_set)\n",
        "print(final_set)"
      ],
      "metadata": {
        "colab": {
          "base_uri": "https://localhost:8080/"
        },
        "id": "x9iE1SLrGUko",
        "outputId": "8645bf21-5cb1-4ad2-e56b-aaedadf27807"
      },
      "execution_count": null,
      "outputs": [
        {
          "output_type": "stream",
          "name": "stdout",
          "text": [
            "{'Russian', 'English', 'Spanish'}\n",
            "{'French', 'Bulgarian', 'English', 'German'}\n",
            "{'English'}\n"
          ]
        }
      ]
    },
    {
      "cell_type": "markdown",
      "source": [
        "symmetric_difference $\\rightarrow$ remove items that are duplicates of the two sets (compared sets are not altered, but generates a new set instead)\n",
        "\n",
        "symmetric_difference_update $\\rightarrow$ do the same, but now the first set is updated (i.e., altered)"
      ],
      "metadata": {
        "id": "7AdHXRJCGh1w"
      }
    },
    {
      "cell_type": "code",
      "source": [
        "#about symmetric_difference\n",
        "some_set = {\"English\", \"Spanish\", \"Russian\"}\n",
        "another_set = {\"Bulgarian\", \"German\", \"French\", \"English\"}\n",
        "final_set = some_set.symmetric_difference(another_set) # eliminates 'English'\n",
        "print(some_set)\n",
        "print(another_set)\n",
        "print(final_set)"
      ],
      "metadata": {
        "colab": {
          "base_uri": "https://localhost:8080/"
        },
        "id": "LCS0uIgYG29c",
        "outputId": "6a64e1e9-d903-462f-87de-91ccb09aae80"
      },
      "execution_count": null,
      "outputs": [
        {
          "output_type": "stream",
          "name": "stdout",
          "text": [
            "{'Russian', 'English', 'Spanish'}\n",
            "{'French', 'Bulgarian', 'English', 'German'}\n",
            "{'Spanish', 'French', 'Bulgarian', 'Russian', 'German'}\n"
          ]
        }
      ]
    },
    {
      "cell_type": "code",
      "source": [
        "#about symmetric_difference_update\n",
        "some_set = {\"English\", \"Spanish\", \"Russian\"}\n",
        "another_set = {\"Bulgarian\", \"German\", \"French\", \"English\"}\n",
        "some_set.symmetric_difference_update(another_set) # eliminates 'English' from some_set\n",
        "print(some_set)\n",
        "print(another_set)"
      ],
      "metadata": {
        "colab": {
          "base_uri": "https://localhost:8080/"
        },
        "id": "HZ4Ya8F8HCm8",
        "outputId": "bc6f010e-e214-4e72-b35d-cfac129e8921"
      },
      "execution_count": null,
      "outputs": [
        {
          "output_type": "stream",
          "name": "stdout",
          "text": [
            "{'Spanish', 'French', 'Bulgarian', 'Russian', 'German'}\n",
            "{'English', 'French', 'Bulgarian', 'German'}\n",
            "{'Spanish', 'Russian'}\n"
          ]
        }
      ]
    },
    {
      "cell_type": "markdown",
      "source": [
        "### Set methods\n",
        "```\n",
        "add()                          Adds an element to the set\n",
        "clear()                        Empties the set\n",
        "copy()                         Returns a copy of the set\n",
        "difference()                   Returns a set containing the difference between two or more sets relative to the first\n",
        "difference_update()            Removes the items in this set that are also included in other specified sets\n",
        "discard(), remove()                      Remove the specified item\n",
        "intersection()                 Returns a set, that is the intersection of two other sets\n",
        "intersection_update()          Removes the items in this set that are not present in other, specified set(s)\n",
        "isdisjoint()                   Returns whether two sets have an intersection or not\n",
        "issubset()                     Returns whether another set contains this set or not\n",
        "issuperset()                   Returns whether this set contains another set or not\n",
        "pop()                          Removes an element from the set\n",
        "symmetric_difference()         Returns a set with the symmetric differences of two sets\n",
        "symmetric_difference_update()  Inserts the symmetric differences from this set and another\n",
        "union()                        Return a set containing the union of sets\n",
        "update()                       Update the set with the union of this set and others\n",
        "```"
      ],
      "metadata": {
        "id": "-T7Bvtt-kJ-3"
      }
    },
    {
      "cell_type": "code",
      "source": [
        "#about difference_update\n",
        "some_set = {\"English\", \"Spanish\", \"Russian\"}\n",
        "another_set = {\"Bulgarian\", \"German\", \"French\", \"English\"}\n",
        "yet_another_set = {\"Croatian\", \"Ukrainian\", \"Czech\", \"Italian\", \"Spanish\"}\n",
        "some_set.difference_update(another_set,yet_another_set) # eliminates 'English' from some_set\n",
        "print(some_set)\n",
        "print(another_set)"
      ],
      "metadata": {
        "id": "5usaYw4OlZN9"
      },
      "execution_count": null,
      "outputs": []
    },
    {
      "cell_type": "markdown",
      "source": [
        "## Dictionaries\n",
        "*    Dictionaries are ordered, changeable, and do not allow duplicates\n",
        "*    Values are stored in pairs\n",
        "*    Written with curly brackets\n",
        "*    Defined by the class 'dict'\n",
        "*    Can include different types, even at once, e.g., str, int, bool"
      ],
      "metadata": {
        "id": "JPvjqb4Umjs1"
      }
    },
    {
      "cell_type": "code",
      "source": [
        "thisdict = {\n",
        "  \"brand\": \"Ford\",\n",
        "  \"model\": \"Mustang\",\n",
        "  \"year\": 1964\n",
        "}\n",
        "print(thisdict) # note that items are separated by commas"
      ],
      "metadata": {
        "colab": {
          "base_uri": "https://localhost:8080/"
        },
        "id": "AVFVoaYumNMv",
        "outputId": "4c65d892-bec4-480c-c236-699421b94370"
      },
      "execution_count": null,
      "outputs": [
        {
          "output_type": "stream",
          "name": "stdout",
          "text": [
            "{'brand': 'Ford', 'model': 'Mustang', 'year': 1964}\n"
          ]
        }
      ]
    },
    {
      "cell_type": "markdown",
      "source": [
        "*    Items are referred to by the key name (in the example above, 'brand', 'model', or 'year'):\n",
        "```\n",
        "x = thisdict[\"brand\"]\n",
        "x = thisdict.get(\"brand\") # same thing\n",
        "```\n",
        "*    When duplicate keys are assigned to a dictionary, only the last value of the key is preserved, e.g.:"
      ],
      "metadata": {
        "id": "_p7Nxz7Lmv_o"
      }
    },
    {
      "cell_type": "code",
      "source": [
        "some_dict = {\n",
        "  \"key1\": \"value1\",\n",
        "  \"key2\": \"value2\",\n",
        "  \"key3\": \"value3\",\n",
        "  \"key2\": \"value4\"\n",
        "}\n",
        "print(some_dict) # here key 2 will adopt the latest assigned value1\n",
        "print(some_dict[\"key2\"])"
      ],
      "metadata": {
        "colab": {
          "base_uri": "https://localhost:8080/"
        },
        "id": "mLVBJywYpBhm",
        "outputId": "e6faef87-889a-4ceb-e3b4-e50350ecbf94"
      },
      "execution_count": null,
      "outputs": [
        {
          "output_type": "stream",
          "name": "stdout",
          "text": [
            "{'key1': 'value1', 'key2': 'value4', 'key3': 'value3'}\n",
            "value4\n"
          ]
        }
      ]
    },
    {
      "cell_type": "markdown",
      "source": [
        "### Getting the keys, values and items\n",
        "```\n",
        "x = some_dict.keys()\n",
        "# will show all the keys of the dictionary\n",
        "```\n",
        "The list of the keys of the dictionary is said to be a 'view' of the dictionary, because $x$ above will change as the keys of some_dict change. The same goes for the values and for the items, e.g.,\n",
        "```\n",
        "my_day = {\n",
        "  \"Wake-up time\": \"06:00\",\n",
        "  \"Sleep time\": \"23:00\"\n",
        "}\n",
        "x = my_day.keys()\n",
        "y = my_day.values()\n",
        "w = my_day.items()\n",
        "print(x)\n",
        "print(y)\n",
        "print(w)\n",
        "\n",
        "print(\"\")\n",
        "my_day[\"Lunch time\"] = \"11:00\"\n",
        "print(x)\n",
        "# Note that x was not explicitly modified\n",
        "\n",
        "print(\"\")\n",
        "my_day[\"Wake-up time\"] = \"05:00\"\n",
        "print(y)\n",
        "print(w)\n",
        "# Note that y and w were not explicitly modified\n",
        "```\n",
        "To check if a key exists, use the 'in' operator (see above)"
      ],
      "metadata": {
        "id": "TtBTkyRApP52"
      }
    },
    {
      "cell_type": "markdown",
      "source": [
        "### Updating and adding items\n",
        "update() $\\rightarrow$ to update a dictionary. The argument must be an iterable object with key:value pairs or a dictionary as well.\n",
        "\n",
        "To add an item: Just use a new index key and assign a value to it. Or use update() above.\n",
        "\n",
        "```\n",
        "my_dict = {\n",
        "  \"name\": \"João\",\n",
        "  \"age\": 23,\n",
        "  \"nickname\": \"J\"\n",
        "}\n",
        "my_dict.update({\"age\":24}) # modifies the 'age' key name to 24.\n",
        "my_dict[\"height\"] = \"1.65m\" # added a new item\n",
        "my_dict[\"nationality\"] = \"Argentinian\" # added a new item\n",
        "```"
      ],
      "metadata": {
        "id": "61HdOaVm0Lfa"
      }
    },
    {
      "cell_type": "markdown",
      "source": [
        "### Removing items\n",
        "\n",
        "pop() $\\rightarrow$ removes an item. Use key name as argument.\n",
        "\n",
        "popitem() $\\rightarrow$ removes the last inserted item.\n",
        "\n",
        "del some_dict[some_item] $\\rightarrow$ removes an item.\n",
        "\n",
        "del some_dict $\\rightarrow$ deletes the dictionary.\n",
        "\n",
        "some_dict.clear() $\\rightarrow$ empties the dictionary."
      ],
      "metadata": {
        "id": "KEbABYkRGVhC"
      }
    },
    {
      "cell_type": "code",
      "source": [
        "my_day = {\"Wake-up time\": \"05:00\", \"Sleep time\": \"23:00\", \"Lunch time\":\"11:00\"}\n",
        "\n",
        "my_day.pop(\"Wake-up time\")\n",
        "print(my_day)\n",
        "\n",
        "print(\"\")\n",
        "my_day = {\"Wake-up time\": \"05:00\", \"Sleep time\": \"23:00\", \"Lunch time\":\"11:00\"}\n",
        "my_day.popitem()\n",
        "print(my_day)\n",
        "\n",
        "print(\"\")\n",
        "my_day = {\"Wake-up time\": \"05:00\", \"Sleep time\": \"23:00\", \"Lunch time\":\"11:00\"}\n",
        "del my_day[\"Wake-up time\"]\n",
        "print(my_day)\n",
        "\n",
        "print(\"\")\n",
        "my_day = {\"Wake-up time\": \"05:00\", \"Sleep time\": \"23:00\", \"Lunch time\":\"11:00\"}\n",
        "my_day.clear()\n",
        "print(my_day)"
      ],
      "metadata": {
        "colab": {
          "base_uri": "https://localhost:8080/"
        },
        "id": "OnzTM1X-IFQn",
        "outputId": "8e1cfa19-0c31-4a3b-ef3c-cfad4ad1a2d6"
      },
      "execution_count": null,
      "outputs": [
        {
          "output_type": "stream",
          "name": "stdout",
          "text": [
            "{'Sleep time': '23:00', 'Lunch time': '11:00'}\n",
            "\n",
            "{'Wake-up time': '05:00', 'Sleep time': '23:00'}\n",
            "\n",
            "{'Sleep time': '23:00', 'Lunch time': '11:00'}\n",
            "\n",
            "{}\n"
          ]
        }
      ]
    },
    {
      "cell_type": "markdown",
      "source": [
        "### Loop dictionaries"
      ],
      "metadata": {
        "id": "3REO06YLJXv3"
      }
    },
    {
      "cell_type": "code",
      "source": [
        "my_day = {\"Wake-up time\": \"05:00\", \"Sleep time\": \"23:00\", \"Lunch time\":\"11:00\"}\n",
        "\n",
        "\n",
        "for i in my_day:\n",
        "  print(i) # to print key names\n",
        "# or...\n",
        "\n",
        "print(\"\")\n",
        "\n",
        "for i in my_day.keys():\n",
        "  print(i) # to print key names\n",
        "\n",
        "print(\"\")\n",
        "\n",
        "##################################################\n",
        "for i in my_day:\n",
        "  print(my_day[i]) # to print values\n",
        "\n",
        "print(\"\")\n",
        "\n",
        "# or...\n",
        "\n",
        "for i in my_day.values():\n",
        "  print(i) # to print key names\n",
        "\n",
        "##################################################\n",
        "print(\"\")\n",
        "for i in my_day.items():\n",
        "  print(i) # to print both key names and values"
      ],
      "metadata": {
        "colab": {
          "base_uri": "https://localhost:8080/"
        },
        "id": "nLrARAVGNGfV",
        "outputId": "ddc45152-d380-47d1-9245-4053da36a1f6"
      },
      "execution_count": null,
      "outputs": [
        {
          "output_type": "stream",
          "name": "stdout",
          "text": [
            "Wake-up time\n",
            "Sleep time\n",
            "Lunch time\n",
            "\n",
            "Wake-up time\n",
            "Sleep time\n",
            "Lunch time\n",
            "\n",
            "05:00\n",
            "23:00\n",
            "11:00\n",
            "\n",
            "05:00\n",
            "23:00\n",
            "11:00\n",
            "\n",
            "('Wake-up time', '05:00')\n",
            "('Sleep time', '23:00')\n",
            "('Lunch time', '11:00')\n"
          ]
        }
      ]
    },
    {
      "cell_type": "markdown",
      "source": [
        "### Copying dictionaries\n",
        "Do not use \n",
        "```\n",
        "dict2 = dict1\n",
        "```\n",
        "because it creates a constraint between dict1 and dict2, whereby dict2 is merely a reference to dict1. Changes made to dict1 automatically happen to dict2.\n",
        "\n",
        "In order to copy indeed, one can use copy():\n",
        "```\n",
        "copy_of_old_dict = old_dict.copy()\n",
        "```\n",
        "or\n",
        "```\n",
        "copy_of_old_dict = dict(old_dict)\n",
        "```\n"
      ],
      "metadata": {
        "id": "jxxoT-kdPLiu"
      }
    },
    {
      "cell_type": "markdown",
      "source": [
        "### Nested dictionaries\n",
        "E.g.:\n",
        "```\n",
        "myfamily = {\n",
        "  \"child1\" : {\n",
        "    \"name\" : \"Emil\",\n",
        "    \"year\" : 2004\n",
        "  },\n",
        "  \"child2\" : {\n",
        "    \"name\" : \"Tobias\",\n",
        "    \"year\" : 2007\n",
        "  },\n",
        "  \"child3\" : {\n",
        "    \"name\" : \"Linus\",\n",
        "    \"year\" : 2011\n",
        "  }\n",
        "}\n",
        "```\n",
        "\n",
        "or more in a more compact way:\n",
        "```\n",
        "child1 = {\n",
        "  \"name\" : \"Emil\",\n",
        "  \"year\" : 2004\n",
        "}\n",
        "child2 = {\n",
        "  \"name\" : \"Tobias\",\n",
        "  \"year\" : 2007\n",
        "}\n",
        "child3 = {\n",
        "  \"name\" : \"Linus\",\n",
        "  \"year\" : 2011\n",
        "}\n",
        "\n",
        "myfamily = {\n",
        "  \"child1\" : child1,\n",
        "  \"child2\" : child2,\n",
        "  \"child3\" : child3\n",
        "}\n",
        "```"
      ],
      "metadata": {
        "id": "bBNzhUM1QBt8"
      }
    },
    {
      "cell_type": "markdown",
      "source": [
        "### Dictionaries methods\n",
        "```\n",
        "clear()        Empties the dictionary\n",
        "copy()         Copies the dictionary\n",
        "fromkeys()     Returns a dictionary with the specified keys and value (?)\n",
        "get()          Returns the value of the specified key\n",
        "items()        Returns a list containing a tuple for each key value pair\n",
        "keys()         Returns a list containing the dictionary's keys\n",
        "pop()          Removes the element with the specified key\n",
        "popitem()      Removes the last inserted key-value pair\n",
        "setdefault()   Returns the value of the specified key. If the key does not exist: insert the key, with the specified value (?)\n",
        "update()       Updates the dictionary with the specified key-value pairs\n",
        "values()       Returns a list of all the values in the dictionary\n",
        "```"
      ],
      "metadata": {
        "id": "aQGDgpvARYHH"
      }
    },
    {
      "cell_type": "markdown",
      "source": [
        "# Operators\n",
        "Operators can be of the following types:\n",
        "*    Arithmetic (+,-,*,/,%,**,...)\n",
        "*    Assignment (=,+=,**=,...)\n",
        "*    Comparison (>, <, ===)\n",
        "*    Logical (and, or, not)\n",
        "*    Identity (is, is not)\n",
        "*    Membership (in, not in)\n",
        "*    Bitwise (and, or, xor, not, ...)"
      ],
      "metadata": {
        "id": "vGR0Zzx-wwhI"
      }
    },
    {
      "cell_type": "markdown",
      "source": [
        "## Basic math operators"
      ],
      "metadata": {
        "id": "SlBFFoih2t29"
      }
    },
    {
      "cell_type": "markdown",
      "source": [
        "Some are just the usual operators:\n",
        "\n",
        "*  +, -, /, *\n",
        "*  ** exponentiation\n",
        "*  // floor (division, rounding DOWN to the nearest integer)\n",
        "*  modulo operator (gives the remainder of a division)\n"
      ],
      "metadata": {
        "id": "rrG5iofSYEhs"
      }
    },
    {
      "cell_type": "code",
      "source": [
        "a = 1+3/2-5/2\n",
        "print(a)\n",
        "b = 5%2 #gives the remainder of the division of 5 by 2\n",
        "print(b)\n",
        "c = 3**2 # gives 3^2 = 9\n",
        "print(c)\n",
        "c = 3**3 # gives 3^3 = 27\n",
        "print(c)"
      ],
      "metadata": {
        "id": "HlenO9N42uci",
        "colab": {
          "base_uri": "https://localhost:8080/"
        },
        "outputId": "7b822013-de9c-4935-c2a3-a1dc8726d761"
      },
      "execution_count": null,
      "outputs": [
        {
          "output_type": "stream",
          "name": "stdout",
          "text": [
            "0.0\n",
            "1\n",
            "9\n",
            "27\n"
          ]
        }
      ]
    },
    {
      "cell_type": "markdown",
      "source": [
        "Multiple lists can be joined with the addition operator:"
      ],
      "metadata": {
        "id": "YMbk5W9TaTFE"
      }
    },
    {
      "cell_type": "code",
      "source": [
        "even_numbers = [2, 4, 6, 8]\n",
        "odd_numbers = [1, 3, 5, 7]\n",
        "all = even_numbers + odd_numbers\n",
        "print(all) # notice that it follows the order of the sum parcels"
      ],
      "metadata": {
        "colab": {
          "base_uri": "https://localhost:8080/"
        },
        "id": "Hg_laNdZaeoa",
        "outputId": "c32bf99e-29ab-45b7-9e2e-1651c5df39e3"
      },
      "execution_count": null,
      "outputs": [
        {
          "output_type": "stream",
          "name": "stdout",
          "text": [
            "[2, 4, 6, 8, 1, 3, 5, 7]\n"
          ]
        }
      ]
    },
    {
      "cell_type": "markdown",
      "source": [
        "and repeated via multiplication:"
      ],
      "metadata": {
        "id": "Rl8bKq9Ua0Mw"
      }
    },
    {
      "cell_type": "code",
      "source": [
        "small_list = [0,1]\n",
        "repeated_list = small_list*7\n",
        "print(repeated_list)"
      ],
      "metadata": {
        "colab": {
          "base_uri": "https://localhost:8080/"
        },
        "id": "tv5mTOGYa4Y5",
        "outputId": "59452ee3-03e6-441a-e49f-72fc38de0781"
      },
      "execution_count": null,
      "outputs": [
        {
          "output_type": "stream",
          "name": "stdout",
          "text": [
            "[0, 1, 0, 1, 0, 1, 0, 1, 0, 1, 0, 1, 0, 1]\n"
          ]
        }
      ]
    },
    {
      "cell_type": "markdown",
      "source": [
        "## Assignment operators\n",
        "```\n",
        "=\n",
        "+= e.g. x+=3 is the same as x = x+3\n",
        "-=\n",
        "*=\n",
        "/=\n",
        "%=\n",
        "//= e.g., x//=3 is the same as x = x // 3 (floor division)\n",
        "**=\n",
        "&=   (bitwise AND)\n",
        "|=   (bitwise OR)\n",
        "^=   (bitwise XOR)\n",
        "~=   (bitwise NOT)\n",
        "```"
      ],
      "metadata": {
        "id": "S_FZELgM1ZSE"
      }
    },
    {
      "cell_type": "markdown",
      "source": [
        "# Strings\n",
        "Strings are written within simple or double quotes. For simplicity, use double quotes (this allows the usage of simple quotes in between), e.g.:\n",
        "\n",
        "\n",
        "```\n",
        "hello = 'Hello World'\n",
        "hello = \"Hello World' # same as above\n",
        "hello = \"Hello 'world'\" #only possible with double quotes\n",
        "```\n",
        "\n",
        "Multiline strings can written as in the following:\n",
        "```\n",
        "a = \"\"\"Lorem ipsum dolor sit amet,\n",
        "consectetur adipiscing elit,\n",
        "sed do eiusmod tempor incididunt\n",
        "ut labore et dolore magna aliqua.\"\"\"\n",
        "print(a) # or three simple quotes\n",
        "```"
      ],
      "metadata": {
        "id": "QqP-tbJtY3Mj"
      }
    },
    {
      "cell_type": "markdown",
      "source": [
        "## Using operators with strings\n",
        "Concatenation can be 'given' by the addition, e.g.:"
      ],
      "metadata": {
        "id": "bagh_G4EdlQs"
      }
    },
    {
      "cell_type": "code",
      "source": [
        "part_1 = 'This is part 1, but it is '\n",
        "part_2 = 'incomplete without part 2.'\n",
        "full = part_1 + part_2\n",
        "print(full)"
      ],
      "metadata": {
        "colab": {
          "base_uri": "https://localhost:8080/"
        },
        "id": "YUHKuEtAY_K6",
        "outputId": "e49b3503-a347-4a42-fa97-5d5d4f582efe"
      },
      "execution_count": null,
      "outputs": [
        {
          "output_type": "stream",
          "name": "stdout",
          "text": [
            "This is part 1, but it is incomplete without part 2.\n"
          ]
        }
      ]
    },
    {
      "cell_type": "markdown",
      "source": [
        "The string can also be repeated through multiplication."
      ],
      "metadata": {
        "id": "y9CuXZ6vZ098"
      }
    },
    {
      "cell_type": "code",
      "source": [
        "bye = 'ciao '\n",
        "correct_bye = bye*2\n",
        "print(correct_bye)"
      ],
      "metadata": {
        "colab": {
          "base_uri": "https://localhost:8080/"
        },
        "id": "dDwn5yTvZ3w4",
        "outputId": "af29f516-098c-468e-cb80-5cde770073e1"
      },
      "execution_count": null,
      "outputs": [
        {
          "output_type": "stream",
          "name": "stdout",
          "text": [
            "ciao ciao \n"
          ]
        }
      ]
    },
    {
      "cell_type": "markdown",
      "source": [
        "##String formatting\n"
      ],
      "metadata": {
        "id": "N9msYlCpdO86"
      }
    },
    {
      "cell_type": "code",
      "source": [
        "name = 'John'\n",
        "print(\"Hello, %s!\" % name)"
      ],
      "metadata": {
        "colab": {
          "base_uri": "https://localhost:8080/"
        },
        "id": "9mBaf6QldTVL",
        "outputId": "c958ac8d-0d3c-4385-cd83-f40badb903a0"
      },
      "execution_count": null,
      "outputs": [
        {
          "output_type": "stream",
          "name": "stdout",
          "text": [
            "Hello, John!\n"
          ]
        }
      ]
    },
    {
      "cell_type": "markdown",
      "source": [
        "A tuple is defined as a list with a fixed size. It can be used to print as in the following:"
      ],
      "metadata": {
        "id": "hz60Pc7wdoXm"
      }
    },
    {
      "cell_type": "code",
      "source": [
        "name = \"John\"\n",
        "age = \"29\"\n",
        "print(\"%s is %s years old\" %(name,age))"
      ],
      "metadata": {
        "colab": {
          "base_uri": "https://localhost:8080/"
        },
        "id": "h5jWSczRdz3T",
        "outputId": "3e855778-f784-40b3-da9f-8cefb6cd90aa"
      },
      "execution_count": null,
      "outputs": [
        {
          "output_type": "stream",
          "name": "stdout",
          "text": [
            "John is 29 years old\n"
          ]
        }
      ]
    },
    {
      "cell_type": "markdown",
      "source": [
        "Other objects can be represented as well, e.g.:"
      ],
      "metadata": {
        "id": "M3HTLCZKfmmn"
      }
    },
    {
      "cell_type": "code",
      "source": [
        "mylist = [1, 2, 3]\n",
        "print(\"My list is given by %s\" % mylist)"
      ],
      "metadata": {
        "colab": {
          "base_uri": "https://localhost:8080/"
        },
        "id": "_ad8c8svfrHD",
        "outputId": "27422346-ee10-43ef-915e-133c0b06769a"
      },
      "execution_count": null,
      "outputs": [
        {
          "output_type": "stream",
          "name": "stdout",
          "text": [
            "My list is given by [1, 2, 3]\n"
          ]
        }
      ]
    },
    {
      "cell_type": "markdown",
      "source": [
        "%s is used for strings\n",
        "\n",
        "%d for integers\n",
        "\n",
        "%.[number of digits]f is for floating point with a specified number of decimal digits"
      ],
      "metadata": {
        "id": "eC1CBinRf0Y0"
      }
    },
    {
      "cell_type": "markdown",
      "source": [
        "format() $\\rightarrow$ allows to combine strings and numbers in a way that otherwise would not be possible, e.g.:"
      ],
      "metadata": {
        "id": "olOL9pHJdPiC"
      }
    },
    {
      "cell_type": "code",
      "source": [
        "quantity = 3\n",
        "itemno = 567\n",
        "price = 49.95\n",
        "myorder = \"I want to pay {2} dollars for {0} pieces of item {1}.\"\n",
        "print(myorder.format(quantity, itemno, price))"
      ],
      "metadata": {
        "colab": {
          "base_uri": "https://localhost:8080/"
        },
        "id": "4X2HKHIXfHX9",
        "outputId": "0ac2d26b-555b-48d0-bd22-d6a868300e9d"
      },
      "execution_count": null,
      "outputs": [
        {
          "output_type": "stream",
          "name": "stdout",
          "text": [
            "I want to pay 49.95 dollars for 3 pieces of item 567.\n"
          ]
        }
      ]
    },
    {
      "cell_type": "code",
      "source": [
        "# we can also omit the numbers, but then the inputs of format will appear in the order of the sentence\n",
        "myorder = \"I want to pay {} dollars for {} pieces of item {}.\"\n",
        "print(myorder.format(price, quantity, itemno))"
      ],
      "metadata": {
        "colab": {
          "base_uri": "https://localhost:8080/"
        },
        "id": "kr7NRySjfeRB",
        "outputId": "f6a5b590-2155-4e2e-b25a-9577c64e2c47"
      },
      "execution_count": null,
      "outputs": [
        {
          "output_type": "stream",
          "name": "stdout",
          "text": [
            "I want to pay 49.95 dollars for 3 pieces of item 567.\n"
          ]
        }
      ]
    },
    {
      "cell_type": "markdown",
      "source": [
        "Illegal characters: we can escape with backslash\n",
        "*    \\' $\\rightarrow$ single quote\n",
        "*    \\\" $\\rightarrow$ double quote\n",
        "*    \\n $\\rightarrow$ new line\n",
        "*    \\t $\\rightarrow$ tab"
      ],
      "metadata": {
        "id": "tkeoZvVrf_5w"
      }
    },
    {
      "cell_type": "code",
      "source": [
        "txt = \"We are the so-called \\\"Vikings\\\" from the north.\\nWe shall not rest until we conquer the world. \\n\\t Hurra!\"\n",
        "print(txt)"
      ],
      "metadata": {
        "colab": {
          "base_uri": "https://localhost:8080/"
        },
        "id": "3ymwEpzwgKbQ",
        "outputId": "3058773c-6dfd-49bd-a0ce-e52bcdb89794"
      },
      "execution_count": null,
      "outputs": [
        {
          "output_type": "stream",
          "name": "stdout",
          "text": [
            "We are the so-called \"Vikings\" from the north.\n",
            "We shall not rest until we conquer the world. \n",
            "\t Hurra!\n"
          ]
        }
      ]
    },
    {
      "cell_type": "markdown",
      "source": [
        "### String methods\n",
        "The methods below produce new strings, but do not affect the original string, which is preserved.\n",
        "```\n",
        "capitalize()     Converts the first character to upper case\n",
        "casefold()       Converts string into lower case\n",
        "upper()          Converts a string into upper case\n",
        "islower()        Returns True if all characters in the string are lower case\n",
        "isupper()        Returns True if all characters in the string are upper case\n",
        "center()         Returns a centered string\n",
        "ljust()          Returns a left justified version of the string\n",
        "rjust()          Returns a right justified version of the string\n",
        "rstrip()         Returns a right trim version of the string\n",
        "lstrip()         Returns a left trim version of the string\n",
        "strip()          Returns a trimmed version of the string\n",
        "count()          Returns the number of times a specified value occurs in a string\n",
        "endswith()       Returns true if the string ends with the specified value\n",
        "expandtabs()     Sets the tab size of the string\n",
        "find()           Searches the string for a specified value and returns the position of where it was found\n",
        "rfind()          Searches the string for a specified value and returns the last position of where it was found\n",
        "format()         Formats specified values in a string\n",
        "format_map()     Formats specified values in a string\n",
        "index()          Searches the string for a specified value and returns the position of where it was found\n",
        "isalnum()        Returns True if all characters in the string are alphanumeric\n",
        "isalpha()        Returns True if all characters in the string are in the alphabet\n",
        "isdecimal()      Returns True if all characters in the string are decimals\n",
        "isdigit()        Returns True if all characters in the string are digits\n",
        "isidentifier()   Returns True if the string is an identifier\n",
        "isnumeric()      Returns True if all characters in the string are numeric\n",
        "isspace()        Returns True if all characters in the string are whitespaces\n",
        "join()           Joins the elements of an iterable to the end of the string\n",
        "lower()          Converts a string into lower case\n",
        "replace()        Returns a string where a specified value is replaced with a specified value\n",
        "rindex()         Searches the string for a specified value and returns the last position of where it was found\n",
        "rpartition()     Returns a tuple where the string is parted into three parts\n",
        "rsplit()         Splits the string at the specified separator, and returns a list\n",
        "split()          Splits the string at the specified separator, and returns a list\n",
        "splitlines()     Splits the string at line breaks and returns a list\n",
        "startswith()     Returns true if the string starts with the specified value\n",
        "swapcase()       Swaps cases, lower case becomes upper case and vice versa\n",
        "title()          Converts the first character of each word to upper case\n",
        "translate()      Returns a translated string\n",
        "zfill()          Fills the string with a specified number of 0 values at the beginning\n",
        "```"
      ],
      "metadata": {
        "id": "dcc3Sqxih1yX"
      }
    },
    {
      "cell_type": "markdown",
      "source": [
        "###String as an array\n",
        "To print a slice of the string, one can do the following:\n",
        "\n",
        "print(some_string[first_position:last_position+1]), e.g.:\n",
        "\n",
        "In general, it is like print(some_string[start:stop:step]). Note that\n",
        "\n",
        "print(some_string[start:stop]) is the same as print(some_string[start:stop:1])"
      ],
      "metadata": {
        "id": "lQrQIjxzjyHk"
      }
    },
    {
      "cell_type": "code",
      "source": [
        "hello = \"Hello world!\"\n",
        "print(hello) \n",
        "print(hello[3:7])   # prints positions 3 to 6 (excludes 7th position)\n",
        "print(hello[3:])    # prints everything after (and including) the third position\n",
        "print(hello[:7])    # prints everything before (and excluding) the seventh position\n",
        "print(hello[3])     # prints the seventh position\n",
        "print(hello[3:7:2]) # goes from string 3 to 6 (inclusively), in steps of 2 (recall that the 7th string is excluded)\n",
        "print(hello[-5:])   # prints the last five characters"
      ],
      "metadata": {
        "colab": {
          "base_uri": "https://localhost:8080/"
        },
        "id": "vTfOD-kaijJq",
        "outputId": "8c351dae-2e73-4184-f441-2c77940adc1a"
      },
      "execution_count": null,
      "outputs": [
        {
          "output_type": "stream",
          "name": "stdout",
          "text": [
            "Hello world!\n",
            "lo w\n",
            "lo world!\n",
            "Hello w\n",
            "l\n",
            "l \n",
            "orld!\n"
          ]
        }
      ]
    },
    {
      "cell_type": "markdown",
      "source": [
        "In order to reverse a string, one can use:"
      ],
      "metadata": {
        "id": "9sNpumQ9_0EJ"
      }
    },
    {
      "cell_type": "code",
      "source": [
        "print(hello[::-1])"
      ],
      "metadata": {
        "colab": {
          "base_uri": "https://localhost:8080/"
        },
        "id": "bz-iVLdaAP4Z",
        "outputId": "bc8ebb47-af46-4206-a79f-431d81b90ee6"
      },
      "execution_count": null,
      "outputs": [
        {
          "output_type": "stream",
          "name": "stdout",
          "text": [
            "!dlrow olleH\n"
          ]
        }
      ]
    },
    {
      "cell_type": "markdown",
      "source": [
        "len - get the length of a string. Counts spaces and punctuation as well (in between, before and after the string). In python, strings are considered to be an array, with each character represented by a string of length 1. We can even loop through strings.\n",
        "\n",
        "'some_string.index(some_character)' -> To find the first appearance of a character in a string (recall that Python starts counting positions at zero).\n",
        "\n",
        "'some_string.count(some_character)' -> to count the number of times a given character appears in a string."
      ],
      "metadata": {
        "id": "-EXBA2AXoW17"
      }
    },
    {
      "cell_type": "markdown",
      "source": [
        "hello = ' Hello world '\n",
        "print(len(hello)) # counts spaces\n",
        "print(hello[1]) # presents the first element of the string (recall that strings are arrays in Python!)"
      ],
      "metadata": {
        "id": "qER_gCt9ogag"
      }
    },
    {
      "cell_type": "code",
      "source": [
        "print(\"\")\n",
        "for i in \"mamamia!\":\n",
        "  print(i)"
      ],
      "metadata": {
        "id": "VM-4TU1CpYrZ"
      },
      "execution_count": null,
      "outputs": []
    },
    {
      "cell_type": "code",
      "source": [
        "print(\"\")\n",
        "hello = ' Hello world '\n",
        "print(hello.index(\"o\")) # gives the first location of the character 'o' in the string (once again, counting spaces and punctuation). "
      ],
      "metadata": {
        "id": "1wRzxww4paWc"
      },
      "execution_count": null,
      "outputs": []
    },
    {
      "cell_type": "code",
      "source": [
        "\n",
        "print(\"\")\n",
        "\n",
        "print(hello.count(\"l\"))"
      ],
      "metadata": {
        "id": "JHSXCaRapbuR"
      },
      "execution_count": null,
      "outputs": []
    },
    {
      "cell_type": "markdown",
      "source": [
        "###Strings modifications\n"
      ],
      "metadata": {
        "id": "ftOYeEgcAe0p"
      }
    },
    {
      "cell_type": "markdown",
      "source": [
        "*   upper or lower - render the entire string upper or lower case\n",
        "*   strip  - removes *whitespaces* (some_string.strip())\n",
        "*   replace  - replace part of the full string by another (some_string.replace(\"existing_part\",\"new_part\")\n",
        "*   split - splits the string at all appearances of some specified string (thus creating a list with strings at the splits, some_string.split(some_specified_string))\n",
        "\n",
        "\n",
        "\n"
      ],
      "metadata": {
        "id": "pngTJya9jEPt"
      }
    },
    {
      "cell_type": "code",
      "source": [
        "a = \" Hello, World! \"\n",
        "print(hello.upper())\n",
        "print(hello.lower())\n",
        "print(a.strip()) # returns \"Hello, World!\"\n",
        "print(a.replace(\"\"))\n",
        "print(hello.split(\"o\"))"
      ],
      "metadata": {
        "id": "5CTyXxGujLcH"
      },
      "execution_count": null,
      "outputs": []
    },
    {
      "cell_type": "markdown",
      "source": [
        "## String check\n",
        "To check whether a string starts with some specific string or ends with another, one can use the startswith and endswith commands. This results in either 'True' or 'False', e.g.:"
      ],
      "metadata": {
        "id": "aJV3U_u0Bc5r"
      }
    },
    {
      "cell_type": "code",
      "source": [
        "print(hello)\n",
        "print(hello.startswith(\"Hello\"))\n",
        "print(hello.endswith(\"world!\")) # note that this command is case-, and punctuation-sensitive\n",
        "print(hello.endswith(\"World!\")) # note that this command is case-, and punctuation-sensitive"
      ],
      "metadata": {
        "colab": {
          "base_uri": "https://localhost:8080/"
        },
        "id": "a65R_sRLBnLF",
        "outputId": "32c16df4-269e-4161-b7a2-fd879d772636"
      },
      "execution_count": null,
      "outputs": [
        {
          "output_type": "stream",
          "name": "stdout",
          "text": [
            "Hello world!\n",
            "True\n",
            "True\n",
            "False\n"
          ]
        }
      ]
    },
    {
      "cell_type": "markdown",
      "source": [
        "#Conditionals\n",
        "== equal\n",
        "\n",
        "\\> greater \n",
        "\n",
        "< less than\n",
        "\n",
        "\\>= greater or equal\n",
        "\n",
        "<= less than or equal to\n",
        "\n",
        "!= not equal\n"
      ],
      "metadata": {
        "id": "_LRwyw1vKOM8"
      }
    },
    {
      "cell_type": "code",
      "source": [
        "a = 2.0\n",
        "print(a == 2)\n",
        "print(a == 3)\n",
        "print(a != 3)\n",
        "print(\"\")\n",
        "print(a == 2.0)\n",
        "print(a > 5)\n",
        "print(a < 5)"
      ],
      "metadata": {
        "colab": {
          "base_uri": "https://localhost:8080/"
        },
        "id": "SUk5bNrvKXO5",
        "outputId": "f1ff5080-558e-4461-9f87-835db14d2c3e"
      },
      "execution_count": null,
      "outputs": [
        {
          "output_type": "stream",
          "name": "stdout",
          "text": [
            "True\n",
            "False\n",
            "True\n",
            "\n",
            "True\n",
            "False\n",
            "True\n"
          ]
        }
      ]
    },
    {
      "cell_type": "code",
      "source": [
        "name = \"Boris\"\n",
        "age = \"19\"\n",
        "if name == \"Boris\" and age == \"19\":\n",
        "  print(\"Your name is indeed \" + name + \" and your age really is \" + age + \".\")"
      ],
      "metadata": {
        "colab": {
          "base_uri": "https://localhost:8080/"
        },
        "id": "OkjY6n0DL1oE",
        "outputId": "31eefbfd-aa2a-47ce-85d4-adc5dcc7e2cd"
      },
      "execution_count": null,
      "outputs": [
        {
          "output_type": "stream",
          "name": "stdout",
          "text": [
            "Your name is indeed Boris and your age really is 19.\n"
          ]
        }
      ]
    },
    {
      "cell_type": "markdown",
      "source": [
        "## Logical operators\n",
        "\n",
        "*    and\n",
        "*    or\n",
        "*    not"
      ],
      "metadata": {
        "id": "Gw-8OLzhK5vg"
      }
    },
    {
      "cell_type": "code",
      "source": [
        "a = 2\n",
        "b = 5\n",
        "print(a == 2 and b == 5)\n",
        "print(a == 2 or b == 5)\n",
        "print(a < 3 and b > 4)\n",
        "print(a < 3 or b > 10)\n",
        "print(\"\")\n",
        "print(a < 3 and b > 10)\n",
        "print(not a == 3) # as 'a == 3' returns False, 'not a == 3' returns True\n",
        "print(not False)"
      ],
      "metadata": {
        "colab": {
          "base_uri": "https://localhost:8080/"
        },
        "id": "g3PaXjtLK-pg",
        "outputId": "9dd7bdbb-e749-49c7-89b3-4ded747ecd1e"
      },
      "execution_count": null,
      "outputs": [
        {
          "output_type": "stream",
          "name": "stdout",
          "text": [
            "True\n",
            "True\n",
            "True\n",
            "True\n",
            "\n",
            "False\n",
            "True\n",
            "True\n"
          ]
        }
      ]
    },
    {
      "cell_type": "markdown",
      "source": [
        "#'is' operator\n",
        "\"Unlike the double equals operator \"==\", the \"is\" operator does not match the values of the variables, but the instances (objects) themselves.\". The opposite is the 'is not' operator. [e.g.](http://net-informations.com/python/iq/is.htm#:~:text='is'%20and%20'%3D%3D'%20operators%20in%20Python,and%20%3D%3D%20comparison%20operators%20behave.):\n",
        "```\n",
        "list_1 = ['a', 'b', 'c']\n",
        "list_2 = list_1\n",
        "list_3 = list(list_1)\n",
        "print(list_1)\n",
        "print(list_2)\n",
        "print(list_3)\n",
        "```\n",
        "then all three lists have the same value, thus:\n",
        "```\n",
        "list_1 == list_2 # returns True\n",
        "list_1 == list_3 # returns True\n",
        "list_2 == list_3 # returns True\n",
        "```\n",
        "but\n",
        "```\n",
        "list_1 is list_2 # returns True\n",
        "list_1 is list_3 # returns False, even though they have the same values\n",
        "list_2 is list_3 # returns False, even though they have the same values\n",
        "```"
      ],
      "metadata": {
        "id": "MYDtGXQKZL1c"
      }
    },
    {
      "cell_type": "markdown",
      "source": [
        "#About indentation\n",
        "Python's standard indentation is given by 4 spaces. However, any other spacing works as long as it is consistent. Code blocks do not require termination, because the blocks themselves are defined by the indentation.\n",
        "\n",
        "Example of if-else:\n",
        "```\n",
        "statement = False\n",
        "another_statement = True\n",
        "\n",
        "if statement is True:\n",
        "    # do something\n",
        "    pass\n",
        "elif another_statement is True: # else if\n",
        "    # do something else\n",
        "    pass\n",
        "else:\n",
        "    # do another thing\n",
        "    pass\n",
        "```"
      ],
      "metadata": {
        "id": "HX7__uwEOfzG"
      }
    },
    {
      "cell_type": "markdown",
      "source": [
        "# Loops\n",
        "There are two types of loops. The 'for' and the 'while' loops."
      ],
      "metadata": {
        "id": "GBIzuojXfLn0"
      }
    },
    {
      "cell_type": "markdown",
      "source": [
        "## 'For' loops\n"
      ],
      "metadata": {
        "id": "NduX8BLVAdkt"
      }
    },
    {
      "cell_type": "markdown",
      "source": [
        "Note that the purpose of *for*-loops in Python differ from other programming languages. It is rather a resource to loop through strings, or items from lists/tuples/sets/dictionaries.\n",
        "\n",
        "Of course, it can be used as 'usual' too."
      ],
      "metadata": {
        "id": "LquPjpa9BCQ5"
      }
    },
    {
      "cell_type": "code",
      "source": [
        "office = \"chair\"\n",
        "for i in office:\n",
        "  print(i)\n"
      ],
      "metadata": {
        "colab": {
          "base_uri": "https://localhost:8080/"
        },
        "id": "5_Pn8wX6BCxD",
        "outputId": "b0b3d434-8224-47e5-c25d-02d7f222680f"
      },
      "execution_count": null,
      "outputs": [
        {
          "output_type": "stream",
          "name": "stdout",
          "text": [
            "c\n",
            "h\n",
            "a\n",
            "i\n",
            "r\n"
          ]
        }
      ]
    },
    {
      "cell_type": "code",
      "source": [
        "primes = [2, 3, 5, 7]\n",
        "for i in primes:\n",
        "  print(i)"
      ],
      "metadata": {
        "colab": {
          "base_uri": "https://localhost:8080/"
        },
        "id": "x4Qzm4o7f7yZ",
        "outputId": "fdff1644-92f2-4288-8cad-6eee05a59b8b"
      },
      "execution_count": null,
      "outputs": [
        {
          "output_type": "stream",
          "name": "stdout",
          "text": [
            "4\n",
            "6\n",
            "10\n",
            "14\n"
          ]
        }
      ]
    },
    {
      "cell_type": "markdown",
      "source": [
        "__break__ and __continue__ can be used in the same as for while loops (see below)."
      ],
      "metadata": {
        "id": "Qx72778BBlIm"
      }
    },
    {
      "cell_type": "markdown",
      "source": [
        "### Range function\n",
        "range(start_number,end_number, increment) $\\rightarrow$ returns indices from start_number to end_number-1. \n",
        "*    If the start_number is omitted, zero is considered for this input instead. \n",
        "*    If the increment is omitted, an increment of 1 is considered.\n",
        "\n",
        "E.g.:"
      ],
      "metadata": {
        "id": "F7Hm7Up-_Yqt"
      }
    },
    {
      "cell_type": "code",
      "source": [
        "for x in range(5):\n",
        "  print(x)"
      ],
      "metadata": {
        "colab": {
          "base_uri": "https://localhost:8080/"
        },
        "id": "1hdZbDGw_66v",
        "outputId": "276e27ab-b213-449b-9bb4-a9f6dc2a886d"
      },
      "execution_count": null,
      "outputs": [
        {
          "output_type": "stream",
          "name": "stdout",
          "text": [
            "0\n",
            "1\n",
            "2\n",
            "3\n",
            "4\n"
          ]
        }
      ]
    },
    {
      "cell_type": "markdown",
      "source": [
        "*    Can also be used to loop through a list/tuple using index numbers, e.g.,\n"
      ],
      "metadata": {
        "id": "h2gHE5vuNDfd"
      }
    },
    {
      "cell_type": "code",
      "source": [
        "thislist = [\"element0\", \"element1\", \"element2\"]\n",
        "for i in range(len(thislist)): # this provides indices to correlate with thislist\n",
        "  print(thislist[i]) # to print the elements of thislist\n",
        "\n",
        "print(\"\")\n",
        "thislist = [\"element0\", \"element1\", \"element2\"]\n",
        "for i in range(len(thislist)): # this provides indices to correlate with thislist\n",
        "  print(i) # to print the indices"
      ],
      "metadata": {
        "colab": {
          "base_uri": "https://localhost:8080/"
        },
        "id": "Qjo6h66qf346",
        "outputId": "ee9109e6-a48b-4216-ccaf-337657909707"
      },
      "execution_count": null,
      "outputs": [
        {
          "output_type": "stream",
          "name": "stdout",
          "text": [
            "element0\n",
            "element1\n",
            "element2\n",
            "0\n",
            "1\n",
            "2\n"
          ]
        }
      ]
    },
    {
      "cell_type": "markdown",
      "source": [
        "*   the increment from one value to another of the range function can be specified, e.g.:"
      ],
      "metadata": {
        "id": "Z5vLZ1GECpYl"
      }
    },
    {
      "cell_type": "code",
      "source": [
        "for x in range(2, 30, 3):\n",
        "  print(x)"
      ],
      "metadata": {
        "colab": {
          "base_uri": "https://localhost:8080/"
        },
        "id": "OZVzyDP5C3Cc",
        "outputId": "1ab5305e-9262-41f3-c62f-93f27ab8520f"
      },
      "execution_count": null,
      "outputs": [
        {
          "output_type": "stream",
          "name": "stdout",
          "text": [
            "2\n",
            "5\n",
            "8\n",
            "11\n",
            "14\n",
            "17\n",
            "20\n",
            "23\n",
            "26\n",
            "29\n"
          ]
        }
      ]
    },
    {
      "cell_type": "markdown",
      "source": [
        "### Else in a *for*-loop\n",
        "The 'else' keyword can be used $\\rightarrow$ it indicates what to do when the *for*-loop is finished, e.g.:"
      ],
      "metadata": {
        "id": "OsTtraxiDdFY"
      }
    },
    {
      "cell_type": "code",
      "source": [
        "for i in range(7):\n",
        "  print(i)\n",
        "else:\n",
        "  print(\"I am all done.\")"
      ],
      "metadata": {
        "colab": {
          "base_uri": "https://localhost:8080/"
        },
        "id": "DZaByoJXDnAK",
        "outputId": "99b34190-23fa-4ddd-a469-45701d5fea76"
      },
      "execution_count": null,
      "outputs": [
        {
          "output_type": "stream",
          "name": "stdout",
          "text": [
            "0\n",
            "1\n",
            "2\n",
            "3\n",
            "4\n",
            "5\n",
            "6\n",
            "I am all done.\n"
          ]
        }
      ]
    },
    {
      "cell_type": "markdown",
      "source": [
        "## While loops\n",
        "Repeats as long as some boolean condition is fulfilled. E.g.:"
      ],
      "metadata": {
        "id": "CiUMsN9pATq9"
      }
    },
    {
      "cell_type": "code",
      "source": [
        "count = 0\n",
        "while count < 5:\n",
        "  print(count)\n",
        "  count += 1 # same as count = count + 1"
      ],
      "metadata": {
        "colab": {
          "base_uri": "https://localhost:8080/"
        },
        "id": "pep_qBQ5An9u",
        "outputId": "87fa600c-d55c-47ee-82af-abbec6bbd3e8"
      },
      "execution_count": null,
      "outputs": [
        {
          "output_type": "stream",
          "name": "stdout",
          "text": [
            "0\n",
            "1\n",
            "2\n",
            "3\n",
            "4\n"
          ]
        }
      ]
    },
    {
      "cell_type": "markdown",
      "source": [
        "### Break and continue statements\n",
        "\n",
        "*   Break -> exit a loop\n",
        "*   Continue -> go to next iterator, regardless of the current iteration "
      ],
      "metadata": {
        "id": "7rwLSvTHAz7e"
      }
    },
    {
      "cell_type": "code",
      "source": [
        "i = 1\n",
        "while i < 6:\n",
        "  print(i)\n",
        "  if i == 3:\n",
        "    break\n",
        "  i += 1"
      ],
      "metadata": {
        "id": "LkOvZEbTAQ4O"
      },
      "execution_count": null,
      "outputs": []
    },
    {
      "cell_type": "code",
      "source": [
        "for i in range(10):\n",
        "  if i < 3:\n",
        "    print(\"%d is less than 3\" % i)\n",
        "  elif i > 7:\n",
        "    print(\"%d is greater than 7\" % i)\n",
        "  else:\n",
        "      continue"
      ],
      "metadata": {
        "colab": {
          "base_uri": "https://localhost:8080/"
        },
        "id": "CXXVpzFRAWZ3",
        "outputId": "d5ee6d7c-bae2-450d-9952-f867c53531f9"
      },
      "execution_count": null,
      "outputs": [
        {
          "output_type": "stream",
          "name": "stdout",
          "text": [
            "0 is less than 3\n",
            "1 is less than 3\n",
            "2 is less than 3\n",
            "8 is greater than 7\n",
            "9 is greater than 7\n"
          ]
        }
      ]
    },
    {
      "cell_type": "markdown",
      "source": [
        "# If... Else\n",
        "See section on 'for' loops for more info."
      ],
      "metadata": {
        "id": "4Uu-uyGtSBR5"
      }
    },
    {
      "cell_type": "code",
      "source": [
        "for i in range(5):\n",
        "  if i < 3:\n",
        "    print(\"%d is less than 3\" % i)\n",
        "  else:\n",
        "      print(\"%d is greater or equal than 3\" % i)"
      ],
      "metadata": {
        "colab": {
          "base_uri": "https://localhost:8080/"
        },
        "id": "gmL4focoLVtG",
        "outputId": "e0be4187-5f1c-4e61-e2ed-7aa2c80838e2"
      },
      "execution_count": null,
      "outputs": [
        {
          "output_type": "stream",
          "name": "stdout",
          "text": [
            "0 is less than 3\n",
            "1 is less than 3\n",
            "2 is less than 3\n",
            "3 is greater or equal than 3\n",
            "4 is greater or equal than 3\n"
          ]
        }
      ]
    },
    {
      "cell_type": "markdown",
      "source": [
        "*   Continue: skip current block and go back to the 'for' or 'while' statement. \n",
        "\n",
        "E.g.: Suppose we only want to print out values below 3 or greater than 7, then:"
      ],
      "metadata": {
        "id": "P0C-ACk9MVC8"
      }
    },
    {
      "cell_type": "code",
      "source": [
        "for i in range(10):\n",
        "  if i < 3:\n",
        "    print(\"%d is less than 3\" % i)\n",
        "  elif i > 7:\n",
        "    print(\"%d is greater than 7\" % i)\n",
        "  else:\n",
        "      continue"
      ],
      "metadata": {
        "colab": {
          "base_uri": "https://localhost:8080/"
        },
        "id": "LciwEHEVMWgl",
        "outputId": "81c68c22-4195-469a-a185-c9fcc5f1fe54"
      },
      "execution_count": null,
      "outputs": [
        {
          "output_type": "stream",
          "name": "stdout",
          "text": [
            "0 is less than 3\n",
            "1 is less than 3\n",
            "2 is less than 3\n",
            "8 is greater than 7\n",
            "9 is greater than 7\n"
          ]
        }
      ]
    },
    {
      "cell_type": "markdown",
      "source": [
        "## Shorthand If and shorthand If... Else\n",
        "Shorthand versions of If and If...Else are called *Ternary operators* or *Conditional Expressions*.\n"
      ],
      "metadata": {
        "id": "fU-tgIugT9MQ"
      }
    },
    {
      "cell_type": "code",
      "source": [
        "a = 100\n",
        "b = 1\n",
        "c = 55\n",
        "if a > b: print(\"a is greater than b\")\n",
        "print(\"a is less than b\") if a < b else print(\"a is greater than b\")\n"
      ],
      "metadata": {
        "colab": {
          "base_uri": "https://localhost:8080/"
        },
        "id": "zJDILHT4UAVs",
        "outputId": "59ab69b9-f9e3-4b5f-c41d-2e40695f4d48"
      },
      "execution_count": null,
      "outputs": [
        {
          "output_type": "stream",
          "name": "stdout",
          "text": [
            "a is greater than b\n",
            "a is greater than b\n"
          ]
        }
      ]
    },
    {
      "cell_type": "markdown",
      "source": [
        "## Pass statement\n",
        "pass $\\rightarrow$ a statement that avoids an error message, in case some empty *if* is being used, e.g.:\n",
        "```\n",
        "a = 33\n",
        "b = 200\n",
        "if b > a:\n",
        "  pass # does not do anything\n",
        "```"
      ],
      "metadata": {
        "id": "FL8sr3Y5-Mcl"
      }
    },
    {
      "cell_type": "markdown",
      "source": [
        "# Functions\n",
        "\n"
      ],
      "metadata": {
        "id": "0OdAZT3cOroF"
      }
    },
    {
      "cell_type": "code",
      "source": [
        "def my_function(): # define the function\n",
        "  print(\"Hello from a function\")\n",
        "\n",
        "def my_other_func(name1, name2, name3):\n",
        "  print(\"Name 1 is \" + name1 + \", name 2 is \" + name2 + \" and name 3 is \" + name3)\n",
        "\n",
        "# call functions\n",
        "my_function() # one arguments\n",
        "my_other_func(\"British Columbia\", \"Mannitoba\", \"Saskatchewan\") # multiple args"
      ],
      "metadata": {
        "colab": {
          "base_uri": "https://localhost:8080/"
        },
        "id": "rC8acL7QPTzm",
        "outputId": "148aa584-9512-48b2-f12d-1a24587d2f00"
      },
      "execution_count": null,
      "outputs": [
        {
          "output_type": "stream",
          "name": "stdout",
          "text": [
            "Hello from a function\n",
            "Name 1 is British Columbia, name 2 is Mannitoba and name 3 is Saskatchewan\n"
          ]
        }
      ]
    },
    {
      "cell_type": "markdown",
      "source": [
        "## Parameters & Arguments ('args')"
      ],
      "metadata": {
        "id": "ysTLLXnIZmTD"
      }
    },
    {
      "cell_type": "markdown",
      "source": [
        "### Definitions - parameters & arguments\n",
        "*    *parameters* $\\rightarrow$ variables inside the parentheses __in the function definition__.\n",
        "\n",
        "*    *arguments* $\\rightarrow$ value sent to the function when the __function is called__ (also called 'args' in Python documentation).\n",
        "\n",
        "> Any data type may be sent as an argument to a function."
      ],
      "metadata": {
        "id": "qXFE0JIaxFkM"
      }
    },
    {
      "cell_type": "code",
      "source": [
        "def my_function(**personal_data):\n",
        "  print(\"I am \" + personal_data[\"age\"] + \" years old.\")\n",
        "\n",
        "my_function(Height = \"1.75m\", Nationality = \"Martian\", age = \"36\")"
      ],
      "metadata": {
        "colab": {
          "base_uri": "https://localhost:8080/"
        },
        "id": "yLS8xw2LuPQK",
        "outputId": "e5349274-774d-4f83-dcb9-34fd60e6f0b1"
      },
      "execution_count": null,
      "outputs": [
        {
          "output_type": "stream",
          "name": "stdout",
          "text": [
            "I am 36 years old.\n"
          ]
        }
      ]
    },
    {
      "cell_type": "markdown",
      "source": [
        "### Keyword arguments ('kwargs')\n",
        "Allow to send in arguments formatted as 'key=value', so the order of the parameters does not matter (called 'kwargs' in Python documentation), e.g.:\n",
        "\n",
        "```\n",
        "def my_function(child3, child2, child1):\n",
        "  print(\"The youngest child is \" + child3)\n",
        "\n",
        "my_function(child1 = \"Emil\", child2 = \"Tobias\", child3 = \"Linus\")\n",
        "```"
      ],
      "metadata": {
        "id": "bzHk-IvCdpqU"
      }
    },
    {
      "cell_type": "markdown",
      "source": [
        "### Arbitrary number of arguments (*args)\n",
        "An arbitrary number of arguments may be used. It suffices to append '*' before the parameter name in the function definition. Then the function will expect a tuple as argument, e.g.:\n",
        "\n",
        "```\n",
        "def my_function(*kids):\n",
        "  print(\"The youngest child is \" + kids[2])\n",
        "\n",
        "my_function(\"Emil\", \"Tobias\", \"Linus\")\n",
        "#prints 'The youngest child is Linus' because the index used was '2' in 'kids[2]'.\n",
        "```\n",
        "Note that it is important to provide the index of the tuple."
      ],
      "metadata": {
        "id": "5UM42gc2w5GV"
      }
    },
    {
      "cell_type": "markdown",
      "source": [
        "### Arbitrary keyword arguments (*kwargs)\n",
        "Can be used when the number of parameters is unknown. Then the function can be called and the argument passed must be within a dictionary. Use two asterisks ('**') before the  arbitrary keyword parameter, e.g.:\n",
        "\n",
        "```\n",
        "def my_function(**personal_data)\n",
        "  print(\"I am \" + personal_data[\"age\"] + \" years old.\")\n",
        "\n",
        "my_function(Height = \"1.75m\", Nationality = \"Martian\", age = \"36\")\n",
        "```"
      ],
      "metadata": {
        "id": "lIykiO_jw9rn"
      }
    },
    {
      "cell_type": "markdown",
      "source": [
        "## Global and local variables\n",
        "*    Global variables: defined inside a function.\n",
        "*    Local variables: created inside a function\n",
        "\n",
        "By the way, if a variable is created both outside and inside a function with the same name, it will retain its global value and will not be affected by the local value."
      ],
      "metadata": {
        "id": "DR1worgB_bJE"
      }
    },
    {
      "cell_type": "code",
      "source": [
        "x = \"awesome\"\n",
        "\n",
        "def myfunc():\n",
        "  x = \"fantastic\"\n",
        "  print(\"Python is \" + x)\n",
        "\n",
        "myfunc()\n",
        "\n",
        "print(\"Python is \" + x)"
      ],
      "metadata": {
        "id": "BVwgpQRreSpX",
        "outputId": "ca4dd950-3695-4ca4-bd6c-e99a8acff021",
        "colab": {
          "base_uri": "https://localhost:8080/"
        }
      },
      "execution_count": null,
      "outputs": [
        {
          "output_type": "stream",
          "name": "stdout",
          "text": [
            "Python is fantastic\n",
            "Python is awesome\n"
          ]
        }
      ]
    },
    {
      "cell_type": "markdown",
      "source": [
        "## Default parameter"
      ],
      "metadata": {
        "id": "Q_XVkJmnuimV"
      }
    },
    {
      "cell_type": "code",
      "source": [
        "def my_function(country = \"Norway\"):\n",
        "  print(\"I am from \" + country)\n",
        "\n",
        "my_function(\"Sweden\")\n",
        "my_function(\"India\")\n",
        "my_function() # 'Norway' is the default, if another argument is not passed into the function\n",
        "my_function(\"Jamaica\")"
      ],
      "metadata": {
        "colab": {
          "base_uri": "https://localhost:8080/"
        },
        "id": "h_--HZyIu96h",
        "outputId": "116a204c-2c3b-4bc4-9a45-dc069d8d1e0b"
      },
      "execution_count": null,
      "outputs": [
        {
          "output_type": "stream",
          "name": "stdout",
          "text": [
            "I am from Sweden\n",
            "I am from India\n",
            "I am from Norway\n",
            "I am from Jamaica\n"
          ]
        }
      ]
    },
    {
      "cell_type": "markdown",
      "source": [
        "## Pass a list as an argument\n",
        "e.g.:"
      ],
      "metadata": {
        "id": "cmfMtIGCv3-e"
      }
    },
    {
      "cell_type": "code",
      "source": [
        "def my_function(food):\n",
        "  for x in food:\n",
        "    print(x)\n",
        "\n",
        "fruits = [\"apple\", \"banana\", \"cherry\"]\n",
        "\n",
        "my_function(fruits)"
      ],
      "metadata": {
        "id": "K1shecXhyHTA"
      },
      "execution_count": null,
      "outputs": []
    },
    {
      "cell_type": "markdown",
      "source": [
        "## Return value\n",
        "E.g.,"
      ],
      "metadata": {
        "id": "cXAOPGEK0H54"
      }
    },
    {
      "cell_type": "code",
      "source": [
        "def calc_func(x):\n",
        "    return 5 * x\n",
        "\n",
        "print(calc_func(0))\n",
        "print(calc_func(1))"
      ],
      "metadata": {
        "colab": {
          "base_uri": "https://localhost:8080/"
        },
        "id": "6E1uPuMX0KBb",
        "outputId": "19129ded-b921-4675-d9e7-ad7f66447d44"
      },
      "execution_count": null,
      "outputs": [
        {
          "output_type": "stream",
          "name": "stdout",
          "text": [
            "0\n",
            "5\n"
          ]
        }
      ]
    },
    {
      "cell_type": "markdown",
      "source": [
        "## Pass statement\n",
        "Works in the same way as in the case of If.. Else (see there)."
      ],
      "metadata": {
        "id": "engZvpAH0xGc"
      }
    },
    {
      "cell_type": "markdown",
      "source": [
        "## Recursion\n",
        "Recursion means that the function can call itself (in a loopwise fashion).\n",
        "\n",
        "Example:"
      ],
      "metadata": {
        "id": "iX29WZnN08sv"
      }
    },
    {
      "cell_type": "code",
      "source": [
        "def tri_recursion(k):\n",
        "  if(k > 0):\n",
        "    result = k + tri_recursion(k - 1)\n",
        "    print(result)\n",
        "  else:\n",
        "    result = 0\n",
        "  return result\n",
        "\n",
        "print(\"\\n\\nRecursion Example Results\")\n",
        "tri_recursion(6)"
      ],
      "metadata": {
        "colab": {
          "base_uri": "https://localhost:8080/"
        },
        "id": "V16SQJyEAhwN",
        "outputId": "06242bfc-d54a-4c1c-df64-26dca972aa9e"
      },
      "execution_count": null,
      "outputs": [
        {
          "output_type": "stream",
          "name": "stdout",
          "text": [
            "\n",
            "\n",
            "Recursion Example Results\n",
            "1\n",
            "3\n",
            "6\n",
            "10\n",
            "15\n",
            "21\n"
          ]
        },
        {
          "output_type": "execute_result",
          "data": {
            "text/plain": [
              "21"
            ]
          },
          "metadata": {},
          "execution_count": 19
        }
      ]
    },
    {
      "cell_type": "markdown",
      "source": [
        "Note that the print() function only comes to k=6 after going through all the lower integers (that, equal or below 0, always result in 0), so that for the intermediate values of k (k=1,...5) print() comes first.\n",
        "\n",
        "Taking it one by one:\n",
        "\n",
        "```\n",
        "k = 0 -> result = 0\n",
        "k = 1 -> result = 1 + 0 = 1\n",
        "k = 2 -> result = 2 + 1 = 3\n",
        "k = 3 -> result = 3 + 3 = 6\n",
        "k = 4 -> result = 4 + 6 = 10\n",
        "k = 5 -> result = 5 + 10 = 15\n",
        "k = 6 -> result = 6 + 15 = 21\n",
        "```"
      ],
      "metadata": {
        "id": "LawF2185Amjc"
      }
    },
    {
      "cell_type": "markdown",
      "source": [
        "# Lambda\n",
        "Lambda functions are recommended when you need a small anonynomous function for a short period of time, for example:"
      ],
      "metadata": {
        "id": "KpXcdT3LEf7k"
      }
    },
    {
      "cell_type": "code",
      "source": [
        "def multiply_by(n):\n",
        "  return lambda a : a * n\n",
        "\n",
        "double_of = multiply_by(2) # creates a new function, that multiplies the argument by 2\n",
        "triple_of = multiply_by(3) # creates a new function, that multiplies the argument by 3\n",
        "print(type(double_of))\n",
        "print(type(triple_of))\n",
        "\n",
        "print(double_of(11)) # define a = 11\n",
        "print(triple_of(10)) # define a = 10"
      ],
      "metadata": {
        "colab": {
          "base_uri": "https://localhost:8080/"
        },
        "id": "Qnrw5ksxIG89",
        "outputId": "202a4485-09e4-4a51-9ae6-2d55640911fd"
      },
      "execution_count": null,
      "outputs": [
        {
          "output_type": "stream",
          "name": "stdout",
          "text": [
            "<class 'function'>\n",
            "<class 'function'>\n",
            "22\n",
            "30\n"
          ]
        }
      ]
    },
    {
      "cell_type": "markdown",
      "source": [
        "(Besides this, what is the usefulness of lambda functions?)"
      ],
      "metadata": {
        "id": "mdp1e2PyQuyK"
      }
    },
    {
      "cell_type": "markdown",
      "source": [
        "# Arrays\n",
        "*    Python does not support arrays, but lists can be used instead\n",
        "*    To work with arrays it is important to use the NumPy library."
      ],
      "metadata": {
        "id": "VT9DtX1IR2or"
      }
    },
    {
      "cell_type": "markdown",
      "source": [
        "# Python classes and objects\n",
        "Class\n",
        "*    Object constructor ('blueprint' of an object)\n",
        "\n",
        "Objects\n",
        "*   Contain properties and methods"
      ],
      "metadata": {
        "id": "gNAIfk2WS6D3"
      }
    },
    {
      "cell_type": "markdown",
      "source": [
        "## built-in `__init__`\n",
        "*    it is a function that assigns values to object properties\n",
        "e.g.:\n",
        "\n",
        "```\n",
        "class Person:\n",
        "  def __init__(self, name, age): # define a class\n",
        "    self.name = name # this is a property of the class\n",
        "    self.age = age # this is another property of the class\n",
        "\n",
        "p1 = Person(\"John\", 36) # define the object\n",
        "\n",
        "print(p1.name) # print 'John'\n",
        "print(p1.age)  # print '36'\n",
        "```\n",
        "\n",
        "in the example the new class 'Person' is defined. \n",
        "\n",
        "Note that the 'self' argument is essential, but apparently does not do anything...\n",
        "\n",
        "The `__init__` function is called every time to create an object of class Person.\n",
        "\n"
      ],
      "metadata": {
        "id": "3ka0m_RHWQBk"
      }
    },
    {
      "cell_type": "code",
      "source": [
        "class Trip:\n",
        "  def __init__(self, location, length):\n",
        "    self.location = location\n",
        "    self.length = length # in days\n",
        "\n",
        "p1 = Trip(\"Vancouver\", 20)\n",
        "\n",
        "print(p1.location)\n",
        "print(p1.length)"
      ],
      "metadata": {
        "colab": {
          "base_uri": "https://localhost:8080/"
        },
        "id": "CTg0sz1jW3tZ",
        "outputId": "e689c360-b7ee-4341-c0e6-239304642be5"
      },
      "execution_count": null,
      "outputs": [
        {
          "output_type": "stream",
          "name": "stdout",
          "text": [
            "Vancouver\n",
            "20\n"
          ]
        }
      ]
    },
    {
      "cell_type": "markdown",
      "source": [
        "## Object methods\n",
        "Methods are functions that belong to the object. \n",
        "\n",
        "For example, for lists (which are *objects*) are associated functions like clear(), append(), etc. (which are *methods*)\n",
        "\n"
      ],
      "metadata": {
        "id": "Mfje1oBBfB8V"
      }
    },
    {
      "cell_type": "code",
      "source": [
        "class Trip:\n",
        "  def __init__(self, location, length):\n",
        "    self.location = location\n",
        "    self.length = length # in days\n",
        "\n",
        "  def trip_info(self):\n",
        "    print(\"My trip will be in \" + self.location + \", for %s days.\" % self.length)\n",
        "\n",
        "p1 = Trip(\"Vancouver, Canada\", 20)\n",
        "\n",
        "print(p1.location)\n",
        "print(p1.length)\n",
        "p1.trip_info()\n",
        "\n",
        "p1.location = \"Helsinki, Finland\" # changed the property 'location'\n",
        "p1.length = 13 # changed the property 'length'\n",
        "p1.trip_info()"
      ],
      "metadata": {
        "colab": {
          "base_uri": "https://localhost:8080/"
        },
        "id": "tgNsKaRqh-wC",
        "outputId": "f1b84aae-e967-4513-e82b-7baf4dc38caf"
      },
      "execution_count": null,
      "outputs": [
        {
          "output_type": "stream",
          "name": "stdout",
          "text": [
            "Vancouver, Canada\n",
            "20\n",
            "My trip will be in Vancouver, Canada, for 20 days.\n",
            "My trip will be in Helsinki, Finland, for 13 days.\n"
          ]
        }
      ]
    },
    {
      "cell_type": "markdown",
      "source": [
        "## Self parameter\n",
        "__self__ \"is a reference to the current instance of the class, and is used to access variables that belongs to the class\" ([w3schools](https://www.w3schools.com/python/python_classes.asp)).\n",
        "\n",
        "By the way, it does not have to be called 'self', but it can be called by any other name, as long as it is the first parameter of the class of any function of the class.\n",
        "\n"
      ],
      "metadata": {
        "id": "LMG0Hqjvif5q"
      }
    },
    {
      "cell_type": "markdown",
      "source": [
        "## Delete object properties and objects entirely\n",
        "del some_object.some_property\n",
        "del some_object\n"
      ],
      "metadata": {
        "id": "sP8HxamZkMXp"
      }
    },
    {
      "cell_type": "markdown",
      "source": [
        "## Pass statement\n",
        "As before for If... Else, For-loops, etc.:\n",
        "\n",
        "```\n",
        "class Person:\n",
        "  pass\n",
        "```"
      ],
      "metadata": {
        "id": "sj20QeZGkhre"
      }
    },
    {
      "cell_type": "markdown",
      "source": [
        "# Inheritance\n",
        "Inheritance allows a *child* class (or *base* class) to retain properties and methods from a *parent* class (or *derived* class).\n",
        "\n",
        "The parent class can be created as any class.\n",
        "The child class is created having the parent class as an argument.\n",
        "\n",
        "Base (parent) class:\n",
        "\n",
        "```\n",
        "class Person:\n",
        "  def __init__(self, fname, lname):\n",
        "    self.firstname = fname\n",
        "    self.lastname = lname\n",
        "\n",
        "  def printname(self):\n",
        "    print(self.firstname, self.lastname)\n",
        "\n",
        "#Use the Person class to create an object, and then execute the printname method:\n",
        "\n",
        "x = Person(\"John\", \"Doe\")\n",
        "x.printname()\n",
        "```\n",
        "\n",
        "Derived (child) class:\n",
        "\n",
        "```\n",
        "class Student(Person):\n",
        "  pass # this class will be basically the same as the base class, thus the 'pass' statement\n",
        "```\n",
        "\n",
        "In order to attribute new properties to the derived class, one can use `__init__` (but it will override the inheritance of the parent's `__init__` function). \n",
        "\n",
        "To ensure that the child will inherit the parent's `__init__`, one needs to add 'parent_class.`__init__`', e.g.:\n",
        "\n",
        "```\n",
        "class Student(Person):\n",
        "  def __init__(self, fname, lname):\n",
        "    Person.__init__(self, fname, lname)\n",
        "```"
      ],
      "metadata": {
        "id": "lpULy50WkyeU"
      }
    },
    {
      "cell_type": "markdown",
      "source": [
        "## super() Function\n",
        "super() $\\rightarrow$ allows the derived class to inherit all the properties and methods of the base class, with the following the syntax:\n",
        "\n",
        "```\n",
        "class Student(Person):\n",
        "  def __init__(self, fname, lname):\n",
        "    super().__init__(fname, lname)\n",
        "```\n",
        "e.g.,\n",
        "\n",
        "```\n",
        "class Student(Person):\n",
        "  def __init__(self, fname, lname):\n",
        "    super().__init__(fname, lname)\n",
        "    self.graduationyear = 2019\n",
        "```\n",
        "\n",
        "or even\n",
        "\n",
        "\n"
      ],
      "metadata": {
        "id": "rDo7xWwgtBKw"
      }
    },
    {
      "cell_type": "code",
      "source": [
        "class Person:\n",
        "  def __init__(self, fname, lname):\n",
        "    self.firstname = fname\n",
        "    self.lastname = lname\n",
        "\n",
        "  def printname(self):\n",
        "    print(self.firstname, self.lastname)\n",
        "\n",
        "class Student(Person):\n",
        "  def __init__(self, fname, lname, year):\n",
        "    super().__init__(fname, lname)\n",
        "    self.graduationyear = year\n",
        "\n",
        "  def printinfo(self):\n",
        "    print(self.firstname, self.lastname + \" was born in %s\" % self.graduationyear)\n",
        "\n",
        "someone = Student(\"Barnabus\", \"Stinson\", 1984)\n",
        "someone.printname() # note that now we are using a method from the parent class\n",
        "someone.printinfo() # note that now we are using a method from the derived class"
      ],
      "metadata": {
        "colab": {
          "base_uri": "https://localhost:8080/"
        },
        "id": "6Z0hV2ScFqVH",
        "outputId": "c7d557a0-5d69-4f13-ef09-27dc0a66bc25"
      },
      "execution_count": 37,
      "outputs": [
        {
          "output_type": "stream",
          "name": "stdout",
          "text": [
            "Barnabus Stinson\n",
            "Barnabus Stinson was born in 1984\n"
          ]
        }
      ]
    },
    {
      "cell_type": "markdown",
      "source": [
        "Note that the parameters 'fname' and 'lname' are in both the derived and base classes; whereas 'year' is only in the derived class."
      ],
      "metadata": {
        "id": "VUzhg583GSgu"
      }
    },
    {
      "cell_type": "markdown",
      "source": [
        "# Iterators\n"
      ],
      "metadata": {
        "id": "P55yOPVmHxPK"
      }
    }
  ]
}