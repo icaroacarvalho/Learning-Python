{
  "nbformat": 4,
  "nbformat_minor": 0,
  "metadata": {
    "colab": {
      "name": "Learning_python.ipynb",
      "provenance": [],
      "collapsed_sections": [],
      "toc_visible": true,
      "authorship_tag": "ABX9TyOv3/WxdyqM8sktDyLxOzQm",
      "include_colab_link": true
    },
    "kernelspec": {
      "name": "python3",
      "display_name": "Python 3"
    },
    "language_info": {
      "name": "python"
    }
  },
  "cells": [
    {
      "cell_type": "markdown",
      "metadata": {
        "id": "view-in-github",
        "colab_type": "text"
      },
      "source": [
        "<a href=\"https://colab.research.google.com/github/icaroacarvalho/Learning-Python-/blob/main/Learning_python.ipynb\" target=\"_parent\"><img src=\"https://colab.research.google.com/assets/colab-badge.svg\" alt=\"Open In Colab\"/></a>"
      ]
    },
    {
      "cell_type": "markdown",
      "source": [
        "This is me learning Python. I followed [Learn Python](https://www.learnpython.org/en/Welcome) at first, but changed to [w3schools](https://www.w3schools.com/python/default.asp).Other sources were also consulted:\n",
        "* [Programiz](https://www.programiz.com/python-programming)\n",
        "\n",
        "\n",
        "---\n",
        "\n"
      ],
      "metadata": {
        "id": "TrFj3MaMgzta"
      }
    },
    {
      "cell_type": "markdown",
      "source": [
        "# Commenting out\n",
        "*   Use # for commenting out some line of the code.\n",
        "* Python does not provide a way to comment out multiple lines, but one can use the following triple quotes:\n",
        "\n",
        "\n",
        "```\n",
        "This is a commented out chunk\n",
        "of text\n",
        "because Python ignores string literals \n",
        "that were not assigned to a variable\n",
        "```\n",
        "\n"
      ],
      "metadata": {
        "id": "m7axa8GCYUrS"
      }
    },
    {
      "cell_type": "markdown",
      "source": [
        "# Running a Python script\n",
        "We can create a Python script and name it \"my_python_script.py\". The extension \".py\" is important in linux to run the script as: \n",
        "```\n",
        "python3 my_python_script.py\n",
        "```"
      ],
      "metadata": {
        "id": "-HVgRcF9H_0_"
      }
    },
    {
      "cell_type": "markdown",
      "source": [
        "# Printing stuff out"
      ],
      "metadata": {
        "id": "kFE0HX7dozJd"
      }
    },
    {
      "cell_type": "code",
      "source": [
        "bird_name = \"Galego\"\n",
        "bird_age = 10\n",
        "bird_colour = \"yellow\"\n",
        "bird_habbit = \"bathing\"\n",
        "print(bird_name)\n",
        "print(bird_name, bird_age, bird_colour, bird_habbit)\n",
        "print(\"My bird's name is \" + bird_name + \", he is \" + str(bird_age) + \" years old.\")\n",
        "print(f\"Galego has beautiful {bird_colour} feathers and loves {bird_habbit}\") #f-string\n",
        "# WRONG: print(f\"Galego has beautiful {} feathers and loves {}\".format(bird_colour.lower, bird_habbit.lower))\n",
        "\n",
        "a = 4.5\n",
        "b = 3.6\n",
        "print(f\"a = {a:.3e} and b = {b:.4f}\") \n",
        "# a is expressed in scientific format with 3 decimals\n",
        "# b is expressed with 4 decimals"
      ],
      "metadata": {
        "colab": {
          "base_uri": "https://localhost:8080/"
        },
        "id": "Gm4KElfurcXp",
        "outputId": "73d1bf93-2ab7-4603-f9f2-65ae1ce191f7"
      },
      "execution_count": null,
      "outputs": [
        {
          "output_type": "stream",
          "name": "stdout",
          "text": [
            "Galego\n",
            "Galego 10 yellow bathing\n",
            "My bird's name is Galego, he is 10 years old.\n",
            "Galego has beautiful yellow feathers and loves bathing\n",
            "a = 4.500e+00 and b = 3.6000\n"
          ]
        }
      ]
    },
    {
      "cell_type": "markdown",
      "source": [
        "# Split a statement in multiple lines\n",
        "It suffices to end the line with backslash (\\):"
      ],
      "metadata": {
        "id": "XyQ8FzuSgcAu"
      }
    },
    {
      "cell_type": "code",
      "source": [
        "work_days = {\"First\":\"Monday\", \\\n",
        "             \"Second\":\"Tuesday\", \\\n",
        "             \"Fifth\":\"Friday\"}\n",
        "print(work_days)"
      ],
      "metadata": {
        "colab": {
          "base_uri": "https://localhost:8080/"
        },
        "id": "av1wPkc0giSp",
        "outputId": "750f1876-7a90-4690-ef33-8b2c6fa3bf19"
      },
      "execution_count": null,
      "outputs": [
        {
          "output_type": "stream",
          "name": "stdout",
          "text": [
            "{'First': 'Monday', 'Second': 'Tuesday', 'Third': 'Wednesday', 'Fourth': 'Thursday', 'Fifth': 'Friday'}\n"
          ]
        }
      ]
    },
    {
      "cell_type": "markdown",
      "source": [
        "# Variables and Types\n",
        "Variables receive name according to the following general rules:\n",
        "\n",
        "\n",
        "*   start with letter or underscore\n",
        "*   cannot start with number\n",
        "*   only alphanumeric characters\n",
        "*   case-sensitive\n",
        "\n",
        "Case-sentiviness:\n",
        "* Pascal case: myVariableName\n",
        "* Camel case: MyVariableName\n",
        "* Snake case: my_variable_name\n",
        "\n",
        "\n"
      ],
      "metadata": {
        "id": "s_xZpdDehkUt"
      }
    },
    {
      "cell_type": "markdown",
      "source": [
        "## Types\n",
        "Every variable in Python is an object $\\rightarrow$ Python is object-oriented.\n",
        "The different types are:\n",
        "* Numbers: integer(int), floating-point (float) and [complex](https://www.tutorialspoint.com/complex-numbers-in-python)\n",
        "* Text: strings (can use simple or double quotes (doubles quotes are more useful, in that it allows to use simple quotes within))\n",
        "* Sequence types: list, tuple, range\n",
        "* Mapping type: dict\n",
        "* Set Types:\tset, frozenset(?)\n",
        "* Boolean Type:\tbool (e.g, True and False)\n",
        "* Binary Types:\tbytes, bytearray (?), memoryview (?)\n",
        "* None Type:\tNoneType\n",
        "\n",
        "isinstance $\\rightarrow$ this function checks a data type (example below)."
      ],
      "metadata": {
        "id": "HAfTHRXXh9J7"
      }
    },
    {
      "cell_type": "code",
      "source": [
        "this_is_an_integer = 7\n",
        "this_is_a_float = 7.0 # or, alternatively, this_is_a_float = float(7)\n",
        "this_is_a_string = \"Hi, I'm a string\"\n",
        "this_is_a_complex = 2.5+1.3j # apparently Python does not use 'i', but rather 'j'\n",
        "# let us check the output\n",
        "print(this_is_an_integer)\n",
        "print(this_is_a_float)\n",
        "print(this_is_a_string)\n",
        "print(this_is_a_complex)\n",
        "print(\"The real part of the complex number is given by %.1f.\" %this_is_a_complex.real)\n",
        "print(\"The imaginary part of the complex number is given by %.1f.\" %this_is_a_complex.imag)\n",
        "print(\"The conjugate of the complex number is given by \", this_is_a_complex.conjugate())"
      ],
      "metadata": {
        "colab": {
          "base_uri": "https://localhost:8080/"
        },
        "id": "DjjNmS9EidxY",
        "outputId": "cb182354-7819-4a16-e5f5-f4f8724c3f7b"
      },
      "execution_count": null,
      "outputs": [
        {
          "output_type": "stream",
          "name": "stdout",
          "text": [
            "7\n",
            "7.0\n",
            "Hi, I'm a string\n",
            "(2.5+1.3j)\n",
            "The real part of the complex number is given by 2.5.\n",
            "The imaginary part of the complex number is given by 1.3.\n",
            "The conjugate of the complex number is given by  (2.5-1.3j)\n"
          ]
        }
      ]
    },
    {
      "cell_type": "code",
      "source": [
        "print(isinstance(3,int))\n",
        "print(isinstance(3,str))\n",
        "print(isinstance(\"3\",str))"
      ],
      "metadata": {
        "colab": {
          "base_uri": "https://localhost:8080/"
        },
        "id": "cAW6WxhyugIz",
        "outputId": "9df6ac74-643d-477b-f8b2-97794ad455db"
      },
      "execution_count": null,
      "outputs": [
        {
          "output_type": "stream",
          "name": "stdout",
          "text": [
            "True\n",
            "False\n",
            "True\n"
          ]
        }
      ]
    },
    {
      "cell_type": "markdown",
      "source": [
        "#### About booleans\n",
        "\n",
        "About true or false: 'True' results from an arithmetic comparison or if the boolean 'True' is given; or if a non-empty object is given. \n",
        "\n",
        "Almost any value is considered True, except:\n",
        "\n",
        "*   For strings, an empty string, \"\"\n",
        "*   For boolean, a False\n",
        "*   For lists, tuples, sets and dictionaries, Empty cases, [], (), {}...\n",
        "*   For numbers, the number zero\n",
        "\n",
        "Also, the case of an object made with the `__len__` function that returns 0 or False (?).\n",
        "```\n",
        "class myclass():\n",
        "  def __len__(self):\n",
        "    return 0\n",
        "\n",
        "myobj = myclass()\n",
        "print(bool(myobj))\n",
        "```\n",
        "\n",
        "A function can also be made to return a True value\n",
        "```\n",
        "def myFunction() :\n",
        "  return True\n",
        "\n",
        "if myFunction():\n",
        "  print(\"YES!\")\n",
        "else:\n",
        "  print(\"NO!\")\n",
        "  # this code will return \"YES!\", because the function always returns True.\n",
        "```"
      ],
      "metadata": {
        "id": "XQXSCKsOnUvk"
      }
    },
    {
      "cell_type": "code",
      "source": [
        "# Some examples that give True\n",
        "print(bool(\"Hello\"))\n",
        "print(bool(15), \"\\n\")\n",
        "# Some examples that give False\n",
        "print(bool(False))\n",
        "print(bool(None))\n",
        "print(bool(0))\n",
        "print(bool(\"\"))\n",
        "print(bool(()))\n",
        "print(bool([]))\n",
        "print(bool({}))"
      ],
      "metadata": {
        "colab": {
          "base_uri": "https://localhost:8080/"
        },
        "id": "A2ysoNDgoRHM",
        "outputId": "05c06ee0-05ed-4858-d49d-cf4edb33722c"
      },
      "execution_count": null,
      "outputs": [
        {
          "output_type": "stream",
          "name": "stdout",
          "text": [
            "True\n",
            "True\n",
            "\n",
            "False\n",
            "False\n",
            "False\n",
            "False\n",
            "False\n",
            "False\n",
            "False\n"
          ]
        }
      ]
    },
    {
      "cell_type": "markdown",
      "source": [
        "###Random numbers: \n",
        "these can be obtained with a module called random"
      ],
      "metadata": {
        "id": "9rxiPi9rbF4k"
      }
    },
    {
      "cell_type": "code",
      "source": [
        "import random\n",
        "\n",
        "print(random.randrange(1, 10)) # generates an integer random number between 1 and 10"
      ],
      "metadata": {
        "colab": {
          "base_uri": "https://localhost:8080/"
        },
        "id": "BSrmbC6cbKX2",
        "outputId": "b9115a61-6386-4321-d8c9-f05e97555b7a"
      },
      "execution_count": null,
      "outputs": [
        {
          "output_type": "stream",
          "name": "stdout",
          "text": [
            "8\n"
          ]
        }
      ]
    },
    {
      "cell_type": "code",
      "source": [
        "x = [\"apple\", \"banana\", \"cherry\"] # list\n",
        "x = (\"apple\", \"banana\", \"cherry\") # tuple\n",
        "x = {\"apple\", \"banana\", \"cherry\"} # set\n",
        "x = {\"name\" : \"John\", \"age\" : 36} # dict\n",
        "x = frozenset({\"apple\", \"banana\", \"cherry\"}) # fronzenset\n",
        "x = None # NoneType\n",
        "\n",
        "x = complex(1j)\n",
        "x = list((\"apple\", \"banana\", \"cherry\")) # list\n",
        "x = tuple((\"apple\", \"banana\", \"cherry\")) # tuple\n",
        "x = set((\"apple\", \"banana\", \"cherry\")) # set\n",
        "x = dict(name=\"John\", age=36) # dict\n",
        "x = frozenset({\"apple\", \"banana\", \"cherry\"}) # fronzenset\n",
        "x = None # NoneType\n",
        "\n"
      ],
      "metadata": {
        "id": "POZjHI_tM50I"
      },
      "execution_count": null,
      "outputs": []
    },
    {
      "cell_type": "markdown",
      "source": [
        "### Conversion of data types:"
      ],
      "metadata": {
        "id": "u480RXoWOc5o"
      }
    },
    {
      "cell_type": "code",
      "source": [
        "x = 1    # int\n",
        "y = 2.8  # float\n",
        "z = 1j   # complex\n",
        "\n",
        "#convert from int to float:\n",
        "a = float(x)\n",
        "\n",
        "#convert from float to int:\n",
        "b = int(y)\n",
        "\n",
        "#convert from int to complex:\n",
        "c = complex(x)\n",
        "\n",
        "print(a)\n",
        "print(b)\n",
        "print(c)\n",
        "\n",
        "print(type(a))\n",
        "print(type(b))\n",
        "print(type(c))\n",
        "# Note that conversion from complex to another data type is not possible"
      ],
      "metadata": {
        "colab": {
          "base_uri": "https://localhost:8080/"
        },
        "id": "H4FaUGjWOVlY",
        "outputId": "801d1ff2-3c21-44b2-812e-c402287dd89e"
      },
      "execution_count": null,
      "outputs": [
        {
          "output_type": "stream",
          "name": "stdout",
          "text": [
            "1.0\n",
            "2\n",
            "(1+0j)\n",
            "<class 'float'>\n",
            "<class 'int'>\n",
            "<class 'complex'>\n"
          ]
        }
      ]
    },
    {
      "cell_type": "markdown",
      "source": [
        "### Sum of strings = concatenation\n",
        "A strange operation is defined by the sum of strings\n",
        "\n"
      ],
      "metadata": {
        "id": "X4f_k_fdjkOw"
      }
    },
    {
      "cell_type": "code",
      "source": [
        "first_part = 'This is number 1'\n",
        "second_part = ' and this is number 2.'\n",
        "whole = first_part + second_part\n",
        "print(whole)"
      ],
      "metadata": {
        "colab": {
          "base_uri": "https://localhost:8080/"
        },
        "id": "rNJa-TQPjm9N",
        "outputId": "fe31d5c4-a8a6-46d0-f4c8-c48ae87314cc"
      },
      "execution_count": null,
      "outputs": [
        {
          "output_type": "stream",
          "name": "stdout",
          "text": [
            "This is number 1 and this is number 2.\n"
          ]
        }
      ]
    },
    {
      "cell_type": "markdown",
      "source": [
        "Multiple assignments can be carried out in one line, e.g.:"
      ],
      "metadata": {
        "id": "rM8g7u7FkJSq"
      }
    },
    {
      "cell_type": "code",
      "source": [
        "a,b,c = 3,4,5 # assigns 3 to a; and 4 to b\n",
        "x,y,z = \"Orange\", \"Banana\", \"Curry\"\n",
        "d = e = f = 7\n",
        "print(a)\n",
        "print(b)\n",
        "print(a,b, \"\\n\")\n",
        "print(x)\n",
        "print(y)\n",
        "print(z)\n",
        "print(d,e,f)"
      ],
      "metadata": {
        "colab": {
          "base_uri": "https://localhost:8080/"
        },
        "id": "mlU4MYq5kQns",
        "outputId": "173184da-6811-489d-9085-f7191e4d7199"
      },
      "execution_count": null,
      "outputs": [
        {
          "output_type": "stream",
          "name": "stdout",
          "text": [
            "3\n",
            "4\n",
            "3 4\n",
            "\n",
            "Orange\n",
            "Banana\n",
            "Curry\n",
            "7 7 7\n"
          ]
        }
      ]
    },
    {
      "cell_type": "markdown",
      "source": [
        "Python allows to extract values into variables from a tuple, i.e.,"
      ],
      "metadata": {
        "id": "Q7xCp_Ybbq8z"
      }
    },
    {
      "cell_type": "code",
      "source": [
        "fruits = [\"apple\", \"banana\", \"cherry\"]\n",
        "x, y, z = fruits\n",
        "print(x)\n",
        "print(y)\n",
        "print(z)"
      ],
      "metadata": {
        "colab": {
          "base_uri": "https://localhost:8080/"
        },
        "id": "V8zjL76wbwub",
        "outputId": "8bee0542-abb4-4ef1-9afe-1d4d40392406"
      },
      "execution_count": null,
      "outputs": [
        {
          "output_type": "stream",
          "name": "stdout",
          "text": [
            "apple\n",
            "banana\n",
            "cherry\n"
          ]
        }
      ]
    },
    {
      "cell_type": "markdown",
      "source": [
        "Notice that Python allows to print different variable types at once"
      ],
      "metadata": {
        "id": "8fryh59fcDVM"
      }
    },
    {
      "cell_type": "code",
      "source": [
        "print(a,x)"
      ],
      "metadata": {
        "colab": {
          "base_uri": "https://localhost:8080/"
        },
        "id": "b2OA1kedcGf-",
        "outputId": "b4f500da-3b48-469b-8429-f6a1f35d1314"
      },
      "execution_count": null,
      "outputs": [
        {
          "output_type": "stream",
          "name": "stdout",
          "text": [
            "3 apple\n"
          ]
        }
      ]
    },
    {
      "cell_type": "markdown",
      "source": [
        "###Casting\n",
        "Variables dispense with declaration. However, variable can be indeed cast in some data type with the following constructors:\n"
      ],
      "metadata": {
        "id": "IvxgD5HzZYKx"
      }
    },
    {
      "cell_type": "code",
      "source": [
        "a = str(5)   # for a string, '5'\n",
        "b = int(5)   # for an integer, 5\n",
        "c = float(5) # for a float, 5.0"
      ],
      "metadata": {
        "id": "HhPUBq8aZlDu"
      },
      "execution_count": null,
      "outputs": []
    },
    {
      "cell_type": "markdown",
      "source": [
        "type() gives the data type of a variable, e.g.:"
      ],
      "metadata": {
        "id": "sSgnpYlyaK1T"
      }
    },
    {
      "cell_type": "code",
      "source": [
        "print(type(a))\n",
        "print(type(b))\n",
        "print(type(c))"
      ],
      "metadata": {
        "colab": {
          "base_uri": "https://localhost:8080/"
        },
        "id": "4mQpJ7HVaRtH",
        "outputId": "5231577d-1c10-4a95-d8d6-2709914c8e5c"
      },
      "execution_count": null,
      "outputs": [
        {
          "output_type": "stream",
          "name": "stdout",
          "text": [
            "<class 'str'>\n",
            "<class 'int'>\n",
            "<class 'float'>\n"
          ]
        }
      ]
    },
    {
      "cell_type": "code",
      "source": [
        "int(6), int('6'), int(6.9), int(6.1) # all return an integer 6 (note that for the float it simply removes decimals)"
      ],
      "metadata": {
        "colab": {
          "base_uri": "https://localhost:8080/"
        },
        "id": "ApKAHO-qclUo",
        "outputId": "843df5c6-9f1b-4659-9565-32cccb6eeb4c"
      },
      "execution_count": null,
      "outputs": [
        {
          "output_type": "execute_result",
          "data": {
            "text/plain": [
              "(6, 6, 6, 6)"
            ]
          },
          "metadata": {},
          "execution_count": 20
        }
      ]
    },
    {
      "cell_type": "code",
      "source": [
        "float(6.0), float('6'), float(6)"
      ],
      "metadata": {
        "colab": {
          "base_uri": "https://localhost:8080/"
        },
        "id": "5MeHKDb5c14V",
        "outputId": "d7aa89fc-ca54-48ba-fcd0-98f3441f3039"
      },
      "execution_count": null,
      "outputs": [
        {
          "output_type": "execute_result",
          "data": {
            "text/plain": [
              "(6.0, 6.0, 6.0)"
            ]
          },
          "metadata": {},
          "execution_count": 21
        }
      ]
    },
    {
      "cell_type": "markdown",
      "source": [
        "#Collection data types (arrays)\n",
        "* List -> ordered and changeable; allows duplicate members\n",
        "* Tuple -> ordered and unchangeable; allows duplicate members\n",
        "* Set -> unordered, unchangeable*, and unindexed. No duplicate members.\n",
        "* Dictionary -> ordered (except for Python 3.7 onward) and changeable;  no duplicate members\n",
        "\n",
        "'__ordered__' -> $\\rightarrow$ items can be called by their indices\n",
        "'__changeable__' $\\rightarrow$ items can be changed, added to or removed from the the collection\n",
        "\n",
        "Accessing:\n",
        "*   somelist[1], sometuple[1], somedict[\"key_name\"]\n",
        "*   can use negative index (-1 is the last item, -2 is the second to last, etc.) like somelist[-1], sometuple[-1]\n",
        "*   can use range of indices, e.g., somelist[1:5], sometuple[1:5] (also ranges like [5:],[:3], [-4:-1] etc.) \n",
        "*   length of lists/tuple/sets/dictionaries can be found with len()\n",
        "*   To empty collections use clear, some_list.clear(), some_tuple.clear(), some_set.clear(), some_dict.clear()\n",
        "*   constructors are used in the same way for lists, tuples and sets:\n",
        "```\n",
        "some_list = list((\"item 1\", \"item 2\", \"item 3\"))\n",
        "some_tuple = tuple((\"item 1\", \"item 2\", \"item 3\"))\n",
        "some_set = set((\"item 1\", \"item 2\", \"item 3\"))\n",
        "some_dict = {\"item 1\": \"x1\", \"item2\": \"x2\", \"item3\": 3}\n",
        "```"
      ],
      "metadata": {
        "id": "vAw904fxe6sK"
      }
    },
    {
      "cell_type": "markdown",
      "source": [
        "##'__in__' operator\n",
        "Checks whether an object is within a list/tuple/set/dictionary (for dictionaries, the __in__ looks for the key) e.g.:"
      ],
      "metadata": {
        "id": "6iDCJIeWMfw3"
      }
    },
    {
      "cell_type": "code",
      "source": [
        "some_list = [1, 2, 3, 99]\n",
        "if 3 in some_list:\n",
        "  print(\"3 is in the list position no. %d!\" % some_list.index(3))\n",
        "if \"mia!\" in \"mamamia!\": # can be used in strings\n",
        "  print(\"Indeed, 'mia!' is in 'mamamia!'\")\n",
        "if \"radio\" not in \"mamamia!\": \n",
        "  print(\"No, 'radio' is not in the expression 'mamamia!'\\n\")\n",
        "\n",
        "some_tuple = (1, 2, 3, 99)\n",
        "if 3 in some_tuple:\n",
        "  print(\"3 is in the tuple position no. %d!\\n\" % some_tuple.index(3))\n",
        "\n",
        "some_set = {1, 2, 3, 99}\n",
        "if 3 in some_set:\n",
        "  print(\"3 is in the set!\\n\")\n",
        "\n",
        "some_dict = {\n",
        "    \"First_no\": 1, \n",
        "    \"Second no\": 2, \n",
        "    \"Third no\": 3, \n",
        "    \"Fourth_no\": 99}\n",
        "if \"Fourth_no\" in some_dict:\n",
        "  print(\"The fourth number is in the set!\")"
      ],
      "metadata": {
        "colab": {
          "base_uri": "https://localhost:8080/"
        },
        "id": "f_iNKh9wMulu",
        "outputId": "4ba91d8d-e2ee-4040-ff7a-a5334f0493b6"
      },
      "execution_count": null,
      "outputs": [
        {
          "output_type": "stream",
          "name": "stdout",
          "text": [
            "3 is in the list position no. 2!\n",
            "Indeed, 'mia!' is in 'mamamia!'\n",
            "No, 'radio' is not in the expression 'mamamia!'\n",
            "\n",
            "3 is in the tuple position no. 2!\n",
            "\n",
            "3 is in the set!\n",
            "\n",
            "The fourth number is in the set!\n"
          ]
        }
      ]
    },
    {
      "cell_type": "markdown",
      "source": [
        "## Lists"
      ],
      "metadata": {
        "id": "d58nhJr1kvf1"
      }
    },
    {
      "cell_type": "markdown",
      "source": [
        "The index of lists starts at 0. \n",
        "\n",
        "To append, one can add the expression '.append' to the name of the list with the element within the argument in parentheses."
      ],
      "metadata": {
        "id": "9hruAMdFzDqE"
      }
    },
    {
      "cell_type": "code",
      "source": [
        "my_list=[]\n",
        "my_list.append(1)\n",
        "my_list.append(2)\n",
        "my_list.append(3)\n",
        "print(my_list[0])\n",
        "print(my_list[1])\n",
        "print(my_list[2])"
      ],
      "metadata": {
        "colab": {
          "base_uri": "https://localhost:8080/"
        },
        "id": "kmmcPEdfytF3",
        "outputId": "d3448a6a-8c03-4394-92c8-919b8e62938f"
      },
      "execution_count": null,
      "outputs": [
        {
          "output_type": "stream",
          "name": "stdout",
          "text": [
            "1\n",
            "2\n",
            "3\n"
          ]
        }
      ]
    },
    {
      "cell_type": "markdown",
      "source": [
        "Now let us run a quick loop"
      ],
      "metadata": {
        "id": "QSQLd5VczS8o"
      }
    },
    {
      "cell_type": "code",
      "source": [
        "for x in my_list:\n",
        "  print(x)"
      ],
      "metadata": {
        "colab": {
          "base_uri": "https://localhost:8080/"
        },
        "id": "_2JBQW19zVDn",
        "outputId": "df6676bd-2034-48bc-cecb-8013f2073d2b"
      },
      "execution_count": null,
      "outputs": [
        {
          "output_type": "stream",
          "name": "stdout",
          "text": [
            "1\n",
            "2\n",
            "3\n"
          ]
        }
      ]
    },
    {
      "cell_type": "code",
      "source": [
        "another_list = [\"Mango\", \"Banana\", \"Avocado\"]\n",
        "for j in another_list:\n",
        "  print(j)"
      ],
      "metadata": {
        "colab": {
          "base_uri": "https://localhost:8080/"
        },
        "id": "Undk1OMm2IWt",
        "outputId": "576f5cb8-b7fc-446c-b26c-56d3cb98fc2d"
      },
      "execution_count": null,
      "outputs": [
        {
          "output_type": "stream",
          "name": "stdout",
          "text": [
            "Mango\n",
            "Banana\n",
            "Avocado\n"
          ]
        }
      ]
    },
    {
      "cell_type": "code",
      "source": [
        "print(another_list[2])"
      ],
      "metadata": {
        "colab": {
          "base_uri": "https://localhost:8080/"
        },
        "id": "eAbWV0Q-2nVW",
        "outputId": "d0f9c056-d4a3-42f0-ee04-2ab2abb4c00b"
      },
      "execution_count": null,
      "outputs": [
        {
          "output_type": "stream",
          "name": "stdout",
          "text": [
            "3\n"
          ]
        }
      ]
    },
    {
      "cell_type": "markdown",
      "source": [
        "Lists can contain different data types\n",
        "```\n",
        "list1 = [\"abc\", 34, True, 40, \"male\"]\n",
        "```\n",
        "and their type can be obtained with the type() function, e.g.:\n",
        "```\n",
        "type(list1)\n",
        "```"
      ],
      "metadata": {
        "id": "c01xDQAb-i_x"
      }
    },
    {
      "cell_type": "code",
      "source": [
        "list1 = [\"abc\", 34, True, 40, \"male\"]\n",
        "type(list1)"
      ],
      "metadata": {
        "colab": {
          "base_uri": "https://localhost:8080/"
        },
        "id": "lglSdOL8n-jg",
        "outputId": "21b7434a-91c1-44cf-8427-a31df5a011fa"
      },
      "execution_count": null,
      "outputs": [
        {
          "output_type": "execute_result",
          "data": {
            "text/plain": [
              "list"
            ]
          },
          "metadata": {},
          "execution_count": 1
        }
      ]
    },
    {
      "cell_type": "markdown",
      "source": [
        "Lists can also be built with the list constructor, i.e.,\n",
        "```\n",
        "grocery_list = list((\"eggs\", \"watermelon\", \"\"))\n",
        "```"
      ],
      "metadata": {
        "id": "3s3AbSxGoKl8"
      }
    },
    {
      "cell_type": "markdown",
      "source": [
        "* List -> ordered and changeable; allows duplicate members\n",
        "\n",
        "One can access items from a list as \n",
        "```\n",
        "some_list[some_index]\n",
        "```\n",
        "where 'some_index' may be positive or negative (then it means counting from the end of the list) and it may also be a range (see '__String as an array__' below), e.g.:\n",
        "```\n",
        "some_list[1:4]\n",
        "```\n",
        "ranges from the second to the third item of the list (recall that the 5th element (index 4) is left out).\n",
        "Negative indexes may be used as well,\n",
        "```\n",
        "some_list[-4:-1] # meaning it starts from the fourth to last item (because the fifth is left out) to the second to last item\n",
        "```\n",
        "RECALL: counting in Python starts at 0.\n",
        "To change an item, just use the corresponding index:\n",
        "```\n",
        "some_list[2] = \"I'm new\" # change the third item\n",
        "some_list[2:3] = [\"One new item\", \"And another new item\"]\n",
        "```\n",
        "The list will change size by inserting a number of items different from the number of replacements\n",
        "```\n",
        "some_list = [\"item 0\", \"item 1\", \"item 2\", \"item 3\"]\n",
        "some_list[1:3] = [\"item 4\"]\n",
        "print(some_list) # prints out ['item 0', 'item 4', 'item 3']\n",
        "\n",
        "some_list = [\"item 0\", \"item 1\", \"item 2\", \"item 3\"]\n",
        "some_list[1:4] = [\"item 4\"]\n",
        "print(some_list) # prints out ['item 0', 'item 4']\n",
        "\n",
        "thislist = [\"apple\", \"banana\", \"cherry\"]\n",
        "thislist[1:2] = [\"blackcurrant\", \"watermelon\"]\n",
        "print(thislist) # yields [\"apple\", \"blackcurrant\", \"watermelon\", \"cherry\"]\n",
        "# here, the second item \"banana\" is replaced by two items, \"blackcurrant\" and \"watermelon\"\n",
        "```\n",
        "\n",
        "insert() $\\rightarrow$ allows the insertion of new items into the list (NOTE: this does modify the original list) at any one position.\n",
        "\n",
        "append() $\\rightarrow$ allows appending new items to the end of the list (NOTE: this does modify the original list)\n",
        "\n",
        "extend(some_iterable) $\\rightarrow$ extends some_list with another list or any other iterable (some_iterable), which is appended to the end of some_list\n",
        "```\n",
        "some_list = [\"orig_0\", \"orig_1\", \"orig_2\"]\n",
        "some_list.insert(2,\"N\") # produces ['orig_0', 'orig_1', 'N', 'orig_2']\n",
        "\n",
        "some_list = [\"orig_0\", \"orig_1\", \"orig_2\"]\n",
        "some_list.append(\"BLABLA\") # produces ['orig_0', 'orig_1', 'orig_2', 'BLABLA']\n",
        "\n",
        "some_list = [\"orig_0\", \"orig_1\", \"orig_2\"]\n",
        "with_another_list =  [\"orig_3\", \"orig_4\", \"orig_5\"]\n",
        "some_list.extend(with_another_list)\n",
        "print(some_list) # results in [\"orig_0\", \"orig_1\", \"orig_2\", \"orig_3\", \"orig_4\", \"orig_5\"]\n",
        "\n",
        "some_list = [\"orig_0\", \"orig_1\", \"orig_2\"]\n",
        "some_iterable =  (\"orig_3\", \"orig_4\", \"orig_5\") # a tuple\n",
        "some_list.extend(some_iterable)\n",
        "print(some_list) # results in [\"orig_0\", \"orig_1\", \"orig_2\", \"orig_3\", \"orig_4\", \"orig_5\"]again\n",
        "```\n",
        "\n",
        "remove() $\\rightarrow$ removes an item (if there is a duplicate, this will only remove the first item), e.g.:\n",
        "```\n",
        "some_list = [\"orig_0\", \"orig_1\", \"orig_2\"]\n",
        "some_list.remove(\"orig_0\")\n",
        "```\n",
        "remove() $\\rightarrow$ removes an item based on index, e.g.:\n",
        "```\n",
        "some_list = [\"orig_0\", \"orig_1\", \"orig_2\"]\n",
        "some_list.pop(0) # removes \"orig_0\"\n",
        "some_list.pop() # removes last item, \"orig_2\" here\n",
        "```\n",
        "del some_list[some_index] $\\rightarrow$ removes some item from some_list\n",
        "\n",
        "del some_list[some_index] $\\rightarrow$ removes the list some_list\n",
        "\n",
        "clear() $\\rightarrow$ clears/empties the list some_list"
      ],
      "metadata": {
        "id": "wP5Kow3f2kB3"
      }
    },
    {
      "cell_type": "code",
      "source": [
        "some_list = [\"item 0\", \"item 1\", \"item 2\", \"item 3\"]\n",
        "some_list[1:3] = [\"item 4\"] # recall that the indices go from 1 to 2 (3 is excluded)\n",
        "print(some_list) # only the second (index 1) and third (index 2) items are replaced"
      ],
      "metadata": {
        "colab": {
          "base_uri": "https://localhost:8080/"
        },
        "id": "PS1Q7KsFEYJ5",
        "outputId": "2b6fe587-262a-44b8-d72e-a84ae700033e"
      },
      "execution_count": null,
      "outputs": [
        {
          "output_type": "stream",
          "name": "stdout",
          "text": [
            "['item 0', 'item 4', 'item 3']\n"
          ]
        }
      ]
    },
    {
      "cell_type": "code",
      "source": [
        "thislist = [\"apple\", \"banana\", \"cherry\", \"orange\", \"kiwi\", \"melon\", \"mango\"]\n",
        "print(thislist[1:4]) # gives \"banana\" until \"orange\"\n",
        "print(thislist[:4]) # gives the beginning until \"orange\"\n",
        "print(thislist[1:]) # gives \"banana\" until the end of the list"
      ],
      "metadata": {
        "colab": {
          "base_uri": "https://localhost:8080/"
        },
        "id": "5e4lkTOKMx-P",
        "outputId": "e1147042-93ce-4d2e-9382-e6584c8dab92"
      },
      "execution_count": null,
      "outputs": [
        {
          "output_type": "stream",
          "name": "stdout",
          "text": [
            "['banana', 'cherry', 'orange']\n",
            "['apple', 'banana', 'cherry', 'orange']\n",
            "['banana', 'cherry', 'orange', 'kiwi', 'melon', 'mango']\n"
          ]
        }
      ]
    },
    {
      "cell_type": "markdown",
      "source": [
        "### List comprehension\n",
        "Shortest syntax for looping through a list. In order to create a new list from another, for example, we can do:\n",
        "```\n",
        "newlist = [expression for item in iterable if condition == True]\n",
        "```\n",
        "\n",
        "* expression: the outcome, which can be changed before adding to the new list (e.g., a string item can be made upper case before joining the new list, etc.). By the way, the outcome may be changed under some condition.\n",
        "* iterable: list, tuple, set or a dict.\n"
      ],
      "metadata": {
        "id": "P145_H1PkLXD"
      }
    },
    {
      "cell_type": "code",
      "source": [
        "thislist = [\"apple\", \"banana\", \"cherry\"]\n",
        "[print(x) for x in thislist]"
      ],
      "metadata": {
        "colab": {
          "base_uri": "https://localhost:8080/"
        },
        "id": "Bxlodouv-xwd",
        "outputId": "1c141695-ce69-4038-dcc6-655dc9f787cb"
      },
      "execution_count": null,
      "outputs": [
        {
          "output_type": "stream",
          "name": "stdout",
          "text": [
            "apple\n",
            "banana\n",
            "cherry\n"
          ]
        },
        {
          "output_type": "execute_result",
          "data": {
            "text/plain": [
              "[None, None, None]"
            ]
          },
          "metadata": {},
          "execution_count": 6
        }
      ]
    },
    {
      "cell_type": "code",
      "source": [
        "# create newlist from all the elements in 'fruits' than contain the character 'a'\n",
        "fruits = [\"apple\", \"banana\", \"cherry\", \"kiwi\", \"mango\"]\n",
        "\n",
        "samelist = [x for x in fruits] \n",
        "newlist = [x for x in fruits if \"a\" in x] \n",
        "newlist2 = [x for x in fruits if \"a\" not in x] \n",
        "newlist3 = [x for x in fruits if x != \"kiwi\"] \n",
        "newlist4 = [x if x != \"banana\" else \"orange\" for x in fruits]\n",
        "upperlist = [x.upper() for x in fruits]\n",
        "\n",
        "print(samelist)\n",
        "print(newlist)\n",
        "print(newlist2)\n",
        "print(newlist3)\n",
        "print(newlist4)\n",
        "print(upperlist)\n"
      ],
      "metadata": {
        "colab": {
          "base_uri": "https://localhost:8080/"
        },
        "id": "35leW8JA-uCy",
        "outputId": "62f968f0-8caa-4468-e2a1-835036f148d9"
      },
      "execution_count": null,
      "outputs": [
        {
          "output_type": "stream",
          "name": "stdout",
          "text": [
            "['apple', 'banana', 'cherry', 'kiwi', 'mango']\n",
            "['apple', 'banana', 'mango']\n",
            "['cherry', 'kiwi']\n",
            "['apple', 'banana', 'cherry', 'mango']\n",
            "['apple', 'orange', 'cherry', 'kiwi', 'mango']\n",
            "['APPLE', 'BANANA', 'CHERRY', 'KIWI', 'MANGO']\n"
          ]
        }
      ]
    },
    {
      "cell_type": "markdown",
      "source": [
        "### Sorting\n",
        "sort() $\\rightarrow$ by default, organise lists with the following syntax: \n",
        "```\n",
        "some_list.sort() # modifies the list for organisation\n",
        "```\n",
        "alphabetically (for lists containing strings; case-sensitive, prioritising upper cases) or numerically (for lists containing numbers). \n",
        "\n",
        "To reverse the organisation it suffices to use the \"reverse = True\" argument (different from the reverse() method!)"
      ],
      "metadata": {
        "id": "T4BL0j5WE3VY"
      }
    },
    {
      "cell_type": "code",
      "source": [
        "shopping_list = [\"eggs\", \"carrots\", \"juice\", \"avocado\"]\n",
        "shopping_list.sort()\n",
        "print(shopping_list)\n",
        "shopping_list.sort(reverse = True)\n",
        "print(shopping_list)"
      ],
      "metadata": {
        "colab": {
          "base_uri": "https://localhost:8080/"
        },
        "id": "BHd9u1iLFb-1",
        "outputId": "e874e465-69f9-4f82-8fbd-bed51749c434"
      },
      "execution_count": null,
      "outputs": [
        {
          "output_type": "stream",
          "name": "stdout",
          "text": [
            "['avocado', 'carrots', 'eggs', 'juice']\n",
            "['juice', 'eggs', 'carrots', 'avocado']\n"
          ]
        }
      ]
    },
    {
      "cell_type": "code",
      "source": [
        "no_list = [1, 2, 34, -3.141516, 9999, 0, -1, -1.5, -999]\n",
        "no_list.sort()\n",
        "print(no_list)\n",
        "no_list.sort(reverse = True)\n",
        "print(no_list)"
      ],
      "metadata": {
        "colab": {
          "base_uri": "https://localhost:8080/"
        },
        "id": "iLgTzfrXFpBZ",
        "outputId": "6ad7761f-e7ca-4500-b65f-c70e7fe924de"
      },
      "execution_count": null,
      "outputs": [
        {
          "output_type": "stream",
          "name": "stdout",
          "text": [
            "[-999, -3.141516, -1.5, -1, 0, 1, 2, 34, 9999]\n",
            "[9999, 34, 2, 1, 0, -1, -1.5, -3.141516, -999]\n"
          ]
        }
      ]
    },
    {
      "cell_type": "markdown",
      "source": [
        "Instead of the default behaviour, one can specify the organising function. \n",
        "\n",
        "* For example, to organise a numeric list according to the proximity between the numbers of the list relative to a specific value, one can do the following:"
      ],
      "metadata": {
        "id": "sY5K8HffGv67"
      }
    },
    {
      "cell_type": "code",
      "source": [
        "def distance(y):\n",
        "    some_value = 50\n",
        "    return abs(y-some_value) # get the distance of y to some_value\n",
        "\n",
        "thislist = [100, 50, 65, 82, 23]\n",
        "thislist.sort(key = distance)\n",
        "print(thislist)"
      ],
      "metadata": {
        "colab": {
          "base_uri": "https://localhost:8080/"
        },
        "id": "EB54eGJWHN7w",
        "outputId": "3b63671b-d614-498d-8260-1198d70e0eec"
      },
      "execution_count": null,
      "outputs": [
        {
          "output_type": "stream",
          "name": "stdout",
          "text": [
            "[50, 65, 23, 82, 100]\n"
          ]
        }
      ]
    },
    {
      "cell_type": "markdown",
      "source": [
        "* built-in functions can also be used as keys, e.g.:\n"
      ],
      "metadata": {
        "id": "5WoEsThdP4Yi"
      }
    },
    {
      "cell_type": "code",
      "source": [
        "shopping_list2 = [\"Eggs\", \"Carrots\", \"Juice\", \"avocado\", \"banana\"]\n",
        "shopping_list.sort()\n",
        "print(shopping_list)\n",
        "\n",
        "shopping_list2 = [\"Eggs\", \"Carrots\", \"Juice\", \"avocado\", \"banana\"]\n",
        "shopping_list2.sort(key = str.lower) # now the key evaluates the lower case form of the items\n",
        "print(shopping_list2)\n",
        "\n",
        "shopping_list2 = [\"Eggs\", \"Carrots\", \"Juice\", \"avocado\", \"banana\"]\n",
        "shopping_list2.sort(key = str.upper) # now the key evaluates the upper case form of the items\n",
        "print(shopping_list2)"
      ],
      "metadata": {
        "colab": {
          "base_uri": "https://localhost:8080/"
        },
        "id": "W2-EIycNQCX2",
        "outputId": "3a4a7220-b545-4d96-843e-2780f4bcdb5d"
      },
      "execution_count": null,
      "outputs": [
        {
          "output_type": "stream",
          "name": "stdout",
          "text": [
            "['avocado', 'carrots', 'eggs', 'juice']\n",
            "['avocado', 'banana', 'Carrots', 'Eggs', 'Juice']\n",
            "['avocado', 'banana', 'Carrots', 'Eggs', 'Juice']\n"
          ]
        }
      ]
    },
    {
      "cell_type": "markdown",
      "source": [
        "### Reverse a list\n",
        "In order to reverse a list regardless of the order, one can use reverse(), e.g.:"
      ],
      "metadata": {
        "id": "dkAj-1_MQx3Y"
      }
    },
    {
      "cell_type": "code",
      "source": [
        "thislist = [\"banana\", \"Orange\", \"Kiwi\", \"cherry\"]\n",
        "thislist.reverse()\n",
        "print(thislist)"
      ],
      "metadata": {
        "colab": {
          "base_uri": "https://localhost:8080/"
        },
        "id": "5F_PX2WLQ4MK",
        "outputId": "1421e8a5-01bc-4eaa-f93e-f66659bd0505"
      },
      "execution_count": null,
      "outputs": [
        {
          "output_type": "stream",
          "name": "stdout",
          "text": [
            "['cherry', 'Kiwi', 'Orange', 'banana']\n"
          ]
        }
      ]
    },
    {
      "cell_type": "markdown",
      "source": [
        "### Copying lists\n",
        "Do not use \n",
        "```\n",
        "list2 = list1\n",
        "```\n",
        "because it creates a constraint between list1 and list2, whereby list2 is merely a reference to list1. Changes made to list1 automatically happen to list2.\n",
        "\n",
        "In order to copy indeed, one can use copy():\n",
        "```\n",
        "copy_of_old_list = old_list.copy()\n",
        "```\n",
        "or\n",
        "```\n",
        "copy_of_old_list = list(old_list)\n",
        "```\n"
      ],
      "metadata": {
        "id": "GJd4Q9-YRCjW"
      }
    },
    {
      "cell_type": "code",
      "source": [
        "old_list = [\"John\", \"Haley\", \"Tom\"]\n",
        "copy_of_old_list = old_list.copy()\n",
        "print(copy_of_old_list)\n",
        "copy_of_old_list2 = old_list.copy()\n",
        "print(copy_of_old_list2)"
      ],
      "metadata": {
        "colab": {
          "base_uri": "https://localhost:8080/"
        },
        "id": "U56Vl31HYmlB",
        "outputId": "69d83f4c-d767-48fe-d726-e4b5eaec72c9"
      },
      "execution_count": null,
      "outputs": [
        {
          "output_type": "stream",
          "name": "stdout",
          "text": [
            "['John', 'Haley', 'Tom']\n",
            "['John', 'Haley', 'Tom']\n"
          ]
        }
      ]
    },
    {
      "cell_type": "markdown",
      "source": [
        "### List methods\n",
        "```\n",
        "append()       Adds an element at the end of the list\n",
        "clear()        Removes all the elements from the list\n",
        "copy()         Returns a copy of the list\n",
        "count()        Returns the number of elements with the specified value\n",
        "extend()       Add the elements of a list (or any iterable), to the end of the current list\n",
        "index()        Returns the index of the first element with the specified value\n",
        "insert()       Adds an element at the specified position\n",
        "pop()          Removes the element at the specified position\n",
        "remove()       Removes the item with the specified value\n",
        "reverse()      Reverses the order of the list\n",
        "sort()         Sorts the list\n",
        "```"
      ],
      "metadata": {
        "id": "7HbJY_RbZbiJ"
      }
    },
    {
      "cell_type": "markdown",
      "source": [
        "## Tuples\n",
        "* Tuples are ordered, unchangeable and allow duplicate values\n",
        "* One of the iterable types of Python to store collections of data (tuples, lists, sets, dictionaries)\n",
        "* Written with round brackets\n",
        "* Elements are accessed like in lists\n",
        "* Can include different types, even at once, e.g., str, int, bool:"
      ],
      "metadata": {
        "id": "UY_tOeGFai_b"
      }
    },
    {
      "cell_type": "code",
      "source": [
        "tuple1 = (\"abc\", 34, True, 40, \"male\")"
      ],
      "metadata": {
        "id": "CyQBkQvlctcs"
      },
      "execution_count": null,
      "outputs": []
    },
    {
      "cell_type": "markdown",
      "source": [
        "* Defined by the class 'tuple'"
      ],
      "metadata": {
        "id": "Drz-Zgjsc_j0"
      }
    },
    {
      "cell_type": "markdown",
      "source": [
        "### Tuple constructor"
      ],
      "metadata": {
        "id": "u0dwjGsqdM08"
      }
    },
    {
      "cell_type": "code",
      "source": [
        "thistuple = tuple((\"apple\", \"banana\", \"cherry\")) # note the double round-brackets\n",
        "print(thistuple)"
      ],
      "metadata": {
        "id": "e9aSGRP_dRGW"
      },
      "execution_count": null,
      "outputs": []
    },
    {
      "cell_type": "markdown",
      "source": [
        "### Tuple with one item\n",
        "Add comma as below, otherwise Python won't recognise it as tuple:"
      ],
      "metadata": {
        "id": "pvRHyROPcxiF"
      }
    },
    {
      "cell_type": "code",
      "source": [
        "one_item_tuple = (\"I'm unique\",)\n",
        "print(type(one_item_tuple))\n",
        "# in this case, without comma, the type would be str"
      ],
      "metadata": {
        "colab": {
          "base_uri": "https://localhost:8080/"
        },
        "id": "0zjmVd7cb4xw",
        "outputId": "5a4e84cc-4037-41e5-d63a-868c5fc0bd72"
      },
      "execution_count": null,
      "outputs": [
        {
          "output_type": "stream",
          "name": "stdout",
          "text": [
            "(\"I'm unique\",)\n"
          ]
        }
      ]
    },
    {
      "cell_type": "markdown",
      "source": [
        "### Update (__unchangeable__) tuples\n",
        "* Tuples are __unchangeable__ (or __imutable__). One way to circumvent this is by generating a list from the tuple, and then converting it back into a tuple:\n",
        "```\n",
        "some_tuple = (\"item 1\", \"item 2\", \"item 3\")\n",
        "list_from_tuple = list(some_tuple) # generate list\n",
        "list_from_tuple[2] = \"item 4\" # change list\n",
        "some_tuple = tuple(list_from_tuple) # recreate the tuple\n",
        "print(some_tuple)\n",
        "```\n",
        "\n",
        "* In order to add items:\n",
        "> * Use the same previous idea of recreating the tuple via the list/tuple constructor\n",
        "> * Add one tuple to another\n",
        "```\n",
        "tuple_1 = (\"item 1\", \"item 2\")\n",
        "tuple_2 = (\"item 3\")\n",
        "tuple_3 = tuple_1 + tuple_2\n",
        "```\n",
        "\n",
        "*   In order to delete a tuple entirely:\n",
        "```\n",
        "del some_tuple\n",
        "```\n",
        "\n",
        "* Multiply tuples:\n",
        "```\n",
        "fruits = (\"apple\", \"banana\", \"cherry\")\n",
        "mytuple = fruits * 2\n",
        "print(mytuple) \n",
        "# prints ('apple', 'banana', 'cherry', 'apple', 'banana', 'cherry')\n",
        "```"
      ],
      "metadata": {
        "id": "JeiNj0w3ru13"
      }
    },
    {
      "cell_type": "markdown",
      "source": [
        "### Tuples' unpacking\n",
        "'To pack a tuple' means to assign values to a tuple\n",
        "'To unpack a tuple' means to associate items of the tuple to variables, e.g.:\n",
        "```\n",
        "fruits = (\"apple\", \"banana\", \"cherry\")\n",
        "\n",
        "(green, yellow, red) = fruits\n",
        "\n",
        "print(green) # received value 'apple'\n",
        "print(yellow) # received 'banana'\n",
        "print(red) # received 'cherry'\n",
        "```\n",
        "where each variable received one item from the tuple. "
      ],
      "metadata": {
        "id": "vDscSPQVuQzc"
      }
    },
    {
      "cell_type": "markdown",
      "source": [
        "#### Unpacking and associating a list to a variable\n",
        "One can render the association of fewer variables than items of the tuple possible. To do so, one can attach the asterisk to some variable, so the other variables adopt one item, and the asterisked variable assigns the remaining items, e.g.:\n",
        "```\n",
        "fruits = (\"apple\", \"banana\", \"cherry\", \"grape\")\n",
        "\n",
        "(green, yellow, *red) = fruits\n",
        "\n",
        "print(green) # received value 'apple'\n",
        "print(yellow) # received 'banana'\n",
        "print(red) # receives the list ['cherry', \"grape\"]\n",
        "```\n",
        "\n",
        "or\n",
        "\n",
        "```\n",
        "fruits = (\"apple\", \"mango\", \"papaya\", \"pineapple\", \"cherry\")\n",
        "\n",
        "(green, *tropic, red) = fruits\n",
        "\n",
        "print(green) # gets 'apple'\n",
        "print(tropic) # gets ['mango', 'papaya', 'pineapple']\n",
        "print(red) # gets 'cherry'\n",
        "```"
      ],
      "metadata": {
        "id": "lKxHbaT5Bt5b"
      }
    },
    {
      "cell_type": "markdown",
      "source": [
        "### Tuple methods\n",
        "* count() $\\rightarrow$ Returns the number of times a specified value occurs in a tuple\n",
        "* index()$\\rightarrow$ Searches the tuple for a specified value and returns the position of where it was found\n",
        "* zip() $\\rightarrow$ Iterator of tuples. Gathers items at the same position and join them together, [e.g.](https://www.w3schools.com/python/ref_func_zip.asp):\n",
        "```\n",
        "a = (\"John\", \"Charles\", \"Mike\")\n",
        "b = (\"Jenny\", \"Christy\", \"Monica\")\n",
        "\n",
        "x = zip(a, b)\n",
        "# produces (('John', 'Jenny'), ('Charles', 'Christy'), ('Mike', 'Monica'))\n",
        "```\n",
        "in the case of two arguments of different sizes, zip() considers the smallest tuple and runs through its indexes."
      ],
      "metadata": {
        "id": "OGvdRPNbDT9_"
      }
    },
    {
      "cell_type": "markdown",
      "source": [
        "## Sets\n",
        "* Sets are unordered, unchangeable (but can add/remove items), unindexed, does not allow duplicates\n",
        "* One of the iterable types of Python to store collections of data (tuples, lists, sets, dictionaries)\n",
        "* Written with curly brackets\n",
        "* Defined by the class 'set'\n",
        "* Can include different types, even at once, e.g., str, int, bool\n",
        "\n",
        "Use curly brackets, as in:\n",
        "```\n",
        "myset = {\"pizza\", \"orange\", \"macaroni\"}\n",
        "```\n",
        "\n",
        "Can also be built with constructor:\n",
        "```\n",
        "thisset = set((\"apple\", \"banana\", \"cherry\"))\n",
        "print(thisset)\n",
        "```\n",
        "\n",
        "To see how it does not allow duplicates:"
      ],
      "metadata": {
        "id": "pM3YItdJD1Xu"
      }
    },
    {
      "cell_type": "code",
      "source": [
        "thisset = {\"apple\", \"banana\", \"cherry\", \"apple\"} # 'apple' repeats\n",
        "print(thisset)"
      ],
      "metadata": {
        "colab": {
          "base_uri": "https://localhost:8080/"
        },
        "id": "gUINc2fxEmfA",
        "outputId": "4400d045-48ed-46b7-ea39-727eb012300e"
      },
      "execution_count": null,
      "outputs": [
        {
          "output_type": "stream",
          "name": "stdout",
          "text": [
            "{'cherry', 'banana', 'apple'}\n"
          ]
        }
      ]
    },
    {
      "cell_type": "markdown",
      "source": [
        "### Access items in a set\n",
        "As sets are unindexed, the items cannot be accessed as in lists or tuples, but they can be seen with the usage of a __for-loop__ or checking directly if an item is __in__ the set, e.g.,\n",
        "```\n",
        "thisset = {\"apple\", \"banana\", \"cherry\"}\n",
        "\n",
        "for x in thisset:\n",
        "  print(x)\n",
        "\n",
        "  # or\n",
        "\n",
        "print(\"banana\" in thisset) # this will only be printed if 'banana' is in the set\n",
        "```"
      ],
      "metadata": {
        "id": "-xWaV0pC5Qtg"
      }
    },
    {
      "cell_type": "markdown",
      "source": [
        "### Add items to a set\n",
        "add() $\\rightarrow$ add a single item:\n",
        "```\n",
        "some_set = {\"English\", \"Spanish\", \"Russian\"}\n",
        "some_set.add(\"German\")\n",
        "# renders some_set like {\"English\", \"Spanish\", Russian\", \"German\"}\n",
        "```\n",
        "\n",
        "update() $\\rightarrow$ add elements from a set to another set (note, it changes the set to which elements are added, unlike union(), see below):\n",
        "```\n",
        "some_set = {\"English\", \"Spanish\", \"Russian\"}\n",
        "another_set = {\"Bulgarian\", \"German\", \"French\", \"English\"}\n",
        "some_set.update(another_set)\n",
        "# results in {'Russian', 'English', 'Bulgarian', 'Spanish', 'German', 'French'}\n",
        "\n",
        "# NOTE #1: note that 'English' is not repeated by design. Recall that sets do not allow duplicates.\n",
        "\n",
        "# NOTE #2: the iterable under the 'update()' does not have to a tuple. It can be any iterable, e.g.:\n",
        "some_set = {\"English\", \"Spanish\", \"Russian\"}\n",
        "yet_another_set = (\"Romanian\", \"Arabic\", \"Japanese\")\n",
        "some_set.update(yet_another_set)\n",
        "```\n",
        "\n",
        "remove() or discard() $\\rightarrow$ remove an item:\n",
        "```\n",
        "some_set = {\"English\", \"Spanish\", \"Russian\"}\n",
        "some_set.remove(\"English\")\n",
        "\n",
        "some_set = {\"English\", \"Spanish\", \"Russian\"}\n",
        "some_set.discard(\"English\")\n",
        "\n",
        "# both cases do the same: remove 'English' from the set\n",
        "```\n",
        "\n",
        "pop() $\\rightarrow$ also removes an item, but it seems to me like a random item\n",
        "```\n",
        "some_set = {\"English\", \"Spanish\", \"Russian\"}\n",
        "some_set.pop()\n",
        "```\n",
        "\n",
        "clear() $\\rightarrow$ empty a set\n",
        "```\n",
        "some_set = {\"English\", \"Spanish\", \"Russian\"}\n",
        "some_set.clear()\n",
        "```\n",
        "\n",
        "del some_set $\\rightarrow$ delete a set\n",
        "```\n",
        "some_set = {\"English\", \"Spanish\", \"Russian\"}\n",
        "del some_set\n",
        "```"
      ],
      "metadata": {
        "id": "7Qh3Lz4458pC"
      }
    },
    {
      "cell_type": "markdown",
      "source": [
        "### Sets operations - union, intersection\n",
        "union() $\\rightarrow$ return a set that is the union of other two"
      ],
      "metadata": {
        "id": "GUzhdeedBtuC"
      }
    },
    {
      "cell_type": "code",
      "source": [
        "set1 = {\"Englisch\", \"Deutsch\", \"Portugiesisch\"}\n",
        "set2 = {\"Russisch\", \"Französisch\", \"Japanisch\"}\n",
        "union_set = set1.union(set2)\n",
        "print(union_set)\n",
        "print(set1) \n",
        "# note that set1 is not altered, unlike set1.update(set2), which modifies set1\n",
        "# note also that duplicate items are not kept"
      ],
      "metadata": {
        "colab": {
          "base_uri": "https://localhost:8080/"
        },
        "id": "hWzaz9AfEv2R",
        "outputId": "e532956b-6592-4ba3-fc67-6b349b36ef5d"
      },
      "execution_count": null,
      "outputs": [
        {
          "output_type": "stream",
          "name": "stdout",
          "text": [
            "{'Französisch', 'Russisch', 'Portugiesisch', 'Deutsch', 'Japanisch', 'Englisch'}\n",
            "{'Deutsch', 'Englisch', 'Portugiesisch'}\n"
          ]
        }
      ]
    },
    {
      "cell_type": "markdown",
      "source": [
        "intersection_update() $\\rightarrow$ retain only items that are duplicates of two sets (as it updates, it alters the first set)"
      ],
      "metadata": {
        "id": "bj00aNKEFZF8"
      }
    },
    {
      "cell_type": "code",
      "source": [
        "some_set = {\"English\", \"Spanish\", \"Russian\"}\n",
        "another_set = {\"Bulgarian\", \"German\", \"French\", \"English\"}\n",
        "some_set.intersection_update(another_set)\n",
        "print(some_set)"
      ],
      "metadata": {
        "colab": {
          "base_uri": "https://localhost:8080/"
        },
        "id": "izS0tOYsFoah",
        "outputId": "9fda5db8-0bc1-497e-9253-fc39b50e42aa"
      },
      "execution_count": null,
      "outputs": [
        {
          "output_type": "stream",
          "name": "stdout",
          "text": [
            "{'English'}\n"
          ]
        }
      ]
    },
    {
      "cell_type": "markdown",
      "source": [
        "intersection () $\\rightarrow$ retain only items that are duplicates of two sets (as it does not update, it does not alter the first set)\n"
      ],
      "metadata": {
        "id": "V1iUW33_GQ4y"
      }
    },
    {
      "cell_type": "code",
      "source": [
        "some_set = {\"English\", \"Spanish\", \"Russian\"}\n",
        "another_set = {\"Bulgarian\", \"German\", \"French\", \"English\"}\n",
        "final_set = some_set.intersection(another_set)\n",
        "print(some_set)\n",
        "print(another_set)\n",
        "print(final_set)"
      ],
      "metadata": {
        "colab": {
          "base_uri": "https://localhost:8080/"
        },
        "id": "x9iE1SLrGUko",
        "outputId": "8645bf21-5cb1-4ad2-e56b-aaedadf27807"
      },
      "execution_count": null,
      "outputs": [
        {
          "output_type": "stream",
          "name": "stdout",
          "text": [
            "{'Russian', 'English', 'Spanish'}\n",
            "{'French', 'Bulgarian', 'English', 'German'}\n",
            "{'English'}\n"
          ]
        }
      ]
    },
    {
      "cell_type": "markdown",
      "source": [
        "symmetric_difference $\\rightarrow$ remove items that are duplicates of the two sets (compared sets are not altered, but generates a new set instead)\n",
        "\n",
        "symmetric_difference_update $\\rightarrow$ do the same, but now the first set is updated (i.e., altered)"
      ],
      "metadata": {
        "id": "7AdHXRJCGh1w"
      }
    },
    {
      "cell_type": "code",
      "source": [
        "#about symmetric_difference\n",
        "some_set = {\"English\", \"Spanish\", \"Russian\"}\n",
        "another_set = {\"Bulgarian\", \"German\", \"French\", \"English\"}\n",
        "final_set = some_set.symmetric_difference(another_set) # eliminates 'English'\n",
        "print(some_set)\n",
        "print(another_set)\n",
        "print(final_set)"
      ],
      "metadata": {
        "colab": {
          "base_uri": "https://localhost:8080/"
        },
        "id": "LCS0uIgYG29c",
        "outputId": "6a64e1e9-d903-462f-87de-91ccb09aae80"
      },
      "execution_count": null,
      "outputs": [
        {
          "output_type": "stream",
          "name": "stdout",
          "text": [
            "{'Russian', 'English', 'Spanish'}\n",
            "{'French', 'Bulgarian', 'English', 'German'}\n",
            "{'Spanish', 'French', 'Bulgarian', 'Russian', 'German'}\n"
          ]
        }
      ]
    },
    {
      "cell_type": "code",
      "source": [
        "#about symmetric_difference_update\n",
        "some_set = {\"English\", \"Spanish\", \"Russian\"}\n",
        "another_set = {\"Bulgarian\", \"German\", \"French\", \"English\"}\n",
        "some_set.symmetric_difference_update(another_set) # eliminates 'English' from some_set\n",
        "print(some_set)\n",
        "print(another_set)"
      ],
      "metadata": {
        "colab": {
          "base_uri": "https://localhost:8080/"
        },
        "id": "HZ4Ya8F8HCm8",
        "outputId": "bc6f010e-e214-4e72-b35d-cfac129e8921"
      },
      "execution_count": null,
      "outputs": [
        {
          "output_type": "stream",
          "name": "stdout",
          "text": [
            "{'Spanish', 'French', 'Bulgarian', 'Russian', 'German'}\n",
            "{'English', 'French', 'Bulgarian', 'German'}\n",
            "{'Spanish', 'Russian'}\n"
          ]
        }
      ]
    },
    {
      "cell_type": "markdown",
      "source": [
        "### Set methods\n",
        "```\n",
        "add()                          Adds an element to the set\n",
        "clear()                        Empties the set\n",
        "copy()                         Returns a copy of the set\n",
        "difference()                   Returns a set containing the difference between two or more sets relative to the first\n",
        "difference_update()            Removes the items in this set that are also included in other specified sets\n",
        "discard(), remove()                      Remove the specified item\n",
        "intersection()                 Returns a set, that is the intersection of two other sets\n",
        "intersection_update()          Removes the items in this set that are not present in other, specified set(s)\n",
        "isdisjoint()                   Returns whether two sets have an intersection or not\n",
        "issubset()                     Returns whether another set contains this set or not\n",
        "issuperset()                   Returns whether this set contains another set or not\n",
        "pop()                          Removes an element from the set\n",
        "symmetric_difference()         Returns a set with the symmetric differences of two sets\n",
        "symmetric_difference_update()  Inserts the symmetric differences from this set and another\n",
        "union()                        Return a set containing the union of sets\n",
        "update()                       Update the set with the union of this set and others\n",
        "```"
      ],
      "metadata": {
        "id": "-T7Bvtt-kJ-3"
      }
    },
    {
      "cell_type": "code",
      "source": [
        "#about difference_update\n",
        "some_set = {\"English\", \"Spanish\", \"Russian\"}\n",
        "another_set = {\"Bulgarian\", \"German\", \"French\", \"English\"}\n",
        "yet_another_set = {\"Croatian\", \"Ukrainian\", \"Czech\", \"Italian\", \"Spanish\"}\n",
        "some_set.difference_update(another_set,yet_another_set) # eliminates 'English' from some_set\n",
        "print(some_set)\n",
        "print(another_set)"
      ],
      "metadata": {
        "id": "5usaYw4OlZN9"
      },
      "execution_count": null,
      "outputs": []
    },
    {
      "cell_type": "markdown",
      "source": [
        "## Dictionaries\n",
        "* Dictionaries are ordered, changeable, and do not allow duplicates\n",
        "* Values are stored in pairs\n",
        "* Written with curly brackets\n",
        "* Defined by the class 'dict'\n",
        "* Can include different types, even at once, e.g., str, int, bool"
      ],
      "metadata": {
        "id": "JPvjqb4Umjs1"
      }
    },
    {
      "cell_type": "code",
      "source": [
        "thisdict = {\n",
        "  \"brand\": \"Ford\",\n",
        "  \"model\": \"Mustang\",\n",
        "  \"year\": 1964\n",
        "}\n",
        "print(thisdict) # note that items are separated by commas"
      ],
      "metadata": {
        "colab": {
          "base_uri": "https://localhost:8080/"
        },
        "id": "AVFVoaYumNMv",
        "outputId": "4c65d892-bec4-480c-c236-699421b94370"
      },
      "execution_count": null,
      "outputs": [
        {
          "output_type": "stream",
          "name": "stdout",
          "text": [
            "{'brand': 'Ford', 'model': 'Mustang', 'year': 1964}\n"
          ]
        }
      ]
    },
    {
      "cell_type": "markdown",
      "source": [
        "* Items are referred to by the key name (in the example above, 'brand', 'model', or 'year'):\n",
        "```\n",
        "x = thisdict[\"brand\"]\n",
        "x = thisdict.get(\"brand\") # same thing\n",
        "```\n",
        "* When duplicate keys are assigned to a dictionary, only the last value of the key is preserved, e.g.:"
      ],
      "metadata": {
        "id": "_p7Nxz7Lmv_o"
      }
    },
    {
      "cell_type": "code",
      "source": [
        "some_dict = {\n",
        "  \"key1\": \"value1\",\n",
        "  \"key2\": \"value2\",\n",
        "  \"key3\": \"value3\",\n",
        "  \"key2\": \"value4\"\n",
        "}\n",
        "print(some_dict) # here key 2 will adopt the latest assigned value1\n",
        "print(some_dict[\"key2\"])"
      ],
      "metadata": {
        "colab": {
          "base_uri": "https://localhost:8080/"
        },
        "id": "mLVBJywYpBhm",
        "outputId": "e6faef87-889a-4ceb-e3b4-e50350ecbf94"
      },
      "execution_count": null,
      "outputs": [
        {
          "output_type": "stream",
          "name": "stdout",
          "text": [
            "{'key1': 'value1', 'key2': 'value4', 'key3': 'value3'}\n",
            "value4\n"
          ]
        }
      ]
    },
    {
      "cell_type": "markdown",
      "source": [
        "### Getting the keys, values and items\n",
        "```\n",
        "x = some_dict.keys()\n",
        "# will show all the keys of the dictionary\n",
        "```\n",
        "The list of the keys of the dictionary is said to be a 'view' of the dictionary, because $x$ above will change as the keys of some_dict change. The same goes for the values and for the items, e.g.,\n",
        "```\n",
        "my_day = {\n",
        "  \"Wake-up time\": \"06:00\",\n",
        "  \"Sleep time\": \"23:00\"\n",
        "}\n",
        "x = my_day.keys()\n",
        "y = my_day.values()\n",
        "w = my_day.items()\n",
        "print(x)\n",
        "print(y)\n",
        "print(w,\"\\n\")\n",
        "\n",
        "my_day[\"Lunch time\"] = \"11:00\"\n",
        "print(x,\"\\n\")\n",
        "# Note that x was not explicitly modified\n",
        "\n",
        "my_day[\"Wake-up time\"] = \"05:00\"\n",
        "print(y)\n",
        "print(w)\n",
        "# Note that y and w were not explicitly modified\n",
        "```\n",
        "To check if a key exists, use the 'in' operator (see above)"
      ],
      "metadata": {
        "id": "TtBTkyRApP52"
      }
    },
    {
      "cell_type": "markdown",
      "source": [
        "### Updating and adding items\n",
        "update() $\\rightarrow$ to update a dictionary. The argument must be an iterable object with key:value pairs or a dictionary as well.\n",
        "\n",
        "To add an item: Just use a new index key and assign a value to it. Or use update() above.\n",
        "\n",
        "```\n",
        "my_dict = {\n",
        "  \"name\": \"João\",\n",
        "  \"age\": 23,\n",
        "  \"nickname\": \"J\"\n",
        "}\n",
        "my_dict.update({\"age\":24}) # modifies the 'age' key name to 24.\n",
        "my_dict[\"height\"] = \"1.65m\" # added a new item\n",
        "my_dict[\"nationality\"] = \"Argentinian\" # added a new item\n",
        "```"
      ],
      "metadata": {
        "id": "61HdOaVm0Lfa"
      }
    },
    {
      "cell_type": "markdown",
      "source": [
        "### Removing items\n",
        "\n",
        "pop() $\\rightarrow$ removes an item. Use key name as argument.\n",
        "\n",
        "popitem() $\\rightarrow$ removes the last inserted item.\n",
        "\n",
        "del some_dict[some_item] $\\rightarrow$ removes an item.\n",
        "\n",
        "del some_dict $\\rightarrow$ deletes the dictionary.\n",
        "\n",
        "some_dict.clear() $\\rightarrow$ empties the dictionary."
      ],
      "metadata": {
        "id": "KEbABYkRGVhC"
      }
    },
    {
      "cell_type": "code",
      "source": [
        "my_day = {\"Wake-up time\": \"05:00\", \"Sleep time\": \"23:00\", \"Lunch time\":\"11:00\"}\n",
        "\n",
        "my_day.pop(\"Wake-up time\")\n",
        "print(my_day, \"\\n\")\n",
        "\n",
        "my_day = {\"Wake-up time\": \"05:00\", \"Sleep time\": \"23:00\", \"Lunch time\":\"11:00\"}\n",
        "my_day.popitem()\n",
        "print(my_day, \"\\n\")\n",
        "\n",
        "my_day = {\"Wake-up time\": \"05:00\", \"Sleep time\": \"23:00\", \"Lunch time\":\"11:00\"}\n",
        "del my_day[\"Wake-up time\"]\n",
        "print(my_day, \"\\n\")\n",
        "\n",
        "my_day = {\"Wake-up time\": \"05:00\", \"Sleep time\": \"23:00\", \"Lunch time\":\"11:00\"}\n",
        "my_day.clear()\n",
        "print(my_day)"
      ],
      "metadata": {
        "colab": {
          "base_uri": "https://localhost:8080/"
        },
        "id": "OnzTM1X-IFQn",
        "outputId": "8e1cfa19-0c31-4a3b-ef3c-cfad4ad1a2d6"
      },
      "execution_count": null,
      "outputs": [
        {
          "output_type": "stream",
          "name": "stdout",
          "text": [
            "{'Sleep time': '23:00', 'Lunch time': '11:00'}\n",
            "\n",
            "{'Wake-up time': '05:00', 'Sleep time': '23:00'}\n",
            "\n",
            "{'Sleep time': '23:00', 'Lunch time': '11:00'}\n",
            "\n",
            "{}\n"
          ]
        }
      ]
    },
    {
      "cell_type": "markdown",
      "source": [
        "### Loop dictionaries"
      ],
      "metadata": {
        "id": "3REO06YLJXv3"
      }
    },
    {
      "cell_type": "code",
      "source": [
        "my_day = {\"Wake-up time\": \"05:00\", \"Sleep time\": \"23:00\", \"Lunch time\":\"11:00\"}\n",
        "\n",
        "\n",
        "for i in my_day:\n",
        "  print(i) # to print key names\n",
        "# or...\n",
        "\n",
        "print(\"\\n\")\n",
        "\n",
        "for i in my_day.keys():\n",
        "  print(i) # to print key names\n",
        "\n",
        "print(\"\\n\")\n",
        "\n",
        "##################################################\n",
        "for i in my_day:\n",
        "  print(my_day[i]) # to print values\n",
        "\n",
        "print(\"\\n\")\n",
        "\n",
        "# or...\n",
        "\n",
        "for i in my_day.values():\n",
        "  print(i) # to print key names\n",
        "\n",
        "##################################################\n",
        "print(\"\\n\")\n",
        "for i in my_day.items():\n",
        "  print(i) # to print both key names and values"
      ],
      "metadata": {
        "colab": {
          "base_uri": "https://localhost:8080/"
        },
        "id": "nLrARAVGNGfV",
        "outputId": "ddc45152-d380-47d1-9245-4053da36a1f6"
      },
      "execution_count": null,
      "outputs": [
        {
          "output_type": "stream",
          "name": "stdout",
          "text": [
            "Wake-up time\n",
            "Sleep time\n",
            "Lunch time\n",
            "\n",
            "Wake-up time\n",
            "Sleep time\n",
            "Lunch time\n",
            "\n",
            "05:00\n",
            "23:00\n",
            "11:00\n",
            "\n",
            "05:00\n",
            "23:00\n",
            "11:00\n",
            "\n",
            "('Wake-up time', '05:00')\n",
            "('Sleep time', '23:00')\n",
            "('Lunch time', '11:00')\n"
          ]
        }
      ]
    },
    {
      "cell_type": "markdown",
      "source": [
        "### Copying dictionaries\n",
        "Do not use \n",
        "```\n",
        "dict2 = dict1\n",
        "```\n",
        "because it creates a constraint between dict1 and dict2, whereby dict2 is merely a reference to dict1. Changes made to dict1 automatically happen to dict2.\n",
        "\n",
        "In order to copy indeed, one can use copy():\n",
        "```\n",
        "copy_of_old_dict = old_dict.copy()\n",
        "```\n",
        "or\n",
        "```\n",
        "copy_of_old_dict = dict(old_dict)\n",
        "```\n"
      ],
      "metadata": {
        "id": "jxxoT-kdPLiu"
      }
    },
    {
      "cell_type": "markdown",
      "source": [
        "### Nested dictionaries\n",
        "E.g.:\n",
        "```\n",
        "myfamily = {\n",
        "  \"child1\" : {\n",
        "    \"name\" : \"Emil\",\n",
        "    \"year\" : 2004\n",
        "  },\n",
        "  \"child2\" : {\n",
        "    \"name\" : \"Tobias\",\n",
        "    \"year\" : 2007\n",
        "  },\n",
        "  \"child3\" : {\n",
        "    \"name\" : \"Linus\",\n",
        "    \"year\" : 2011\n",
        "  }\n",
        "}\n",
        "```\n",
        "\n",
        "or more in a more compact way:\n",
        "```\n",
        "child1 = {\n",
        "  \"name\" : \"Emil\",\n",
        "  \"year\" : 2004\n",
        "}\n",
        "child2 = {\n",
        "  \"name\" : \"Tobias\",\n",
        "  \"year\" : 2007\n",
        "}\n",
        "child3 = {\n",
        "  \"name\" : \"Linus\",\n",
        "  \"year\" : 2011\n",
        "}\n",
        "\n",
        "myfamily = {\n",
        "  \"child1\" : child1,\n",
        "  \"child2\" : child2,\n",
        "  \"child3\" : child3\n",
        "}\n",
        "```"
      ],
      "metadata": {
        "id": "bBNzhUM1QBt8"
      }
    },
    {
      "cell_type": "markdown",
      "source": [
        "### Dictionaries methods\n",
        "```\n",
        "clear()        Empties the dictionary\n",
        "copy()         Copies the dictionary\n",
        "fromkeys()     Returns a dictionary with the specified keys and value (?)\n",
        "get()          Returns the value of the specified key\n",
        "items()        Returns a list containing a tuple for each key value pair\n",
        "keys()         Returns a list containing the dictionary's keys\n",
        "pop()          Removes the element with the specified key\n",
        "popitem()      Removes the last inserted key-value pair\n",
        "setdefault()   Returns the value of the specified key. If the key does not exist: insert the key, with the specified value (?)\n",
        "update()       Updates the dictionary with the specified key-value pairs\n",
        "values()       Returns a list of all the values in the dictionary\n",
        "```"
      ],
      "metadata": {
        "id": "aQGDgpvARYHH"
      }
    },
    {
      "cell_type": "markdown",
      "source": [
        "# Operators\n",
        "Operators can be of the following types:\n",
        "* Arithmetic (+,-,*,/,%,**,...)\n",
        "* Assignment (=,+=,**=,...)\n",
        "* Comparison (>, <, ===)\n",
        "* Logical (and, or, not)\n",
        "* Identity (is, is not)\n",
        "* Membership (in, not in)\n",
        "* Bitwise (and, or, xor, not, ...)"
      ],
      "metadata": {
        "id": "vGR0Zzx-wwhI"
      }
    },
    {
      "cell_type": "markdown",
      "source": [
        "## Basic math operators"
      ],
      "metadata": {
        "id": "SlBFFoih2t29"
      }
    },
    {
      "cell_type": "markdown",
      "source": [
        "Some are just the usual operators:\n",
        "\n",
        "*  +, -, /, *\n",
        "*  ** exponentiation\n",
        "*  // floor (division, rounding DOWN to the nearest integer)\n",
        "*  modulo operator (gives the remainder of a division)\n"
      ],
      "metadata": {
        "id": "rrG5iofSYEhs"
      }
    },
    {
      "cell_type": "code",
      "source": [
        "a = 1+3/2-5/2\n",
        "print(a)\n",
        "b = 5%2 #gives the remainder of the division of 5 by 2\n",
        "print(b)\n",
        "c = 3**2 # gives 3^2 = 9\n",
        "print(c)\n",
        "c = 3**3 # gives 3^3 = 27\n",
        "print(c)"
      ],
      "metadata": {
        "id": "HlenO9N42uci",
        "colab": {
          "base_uri": "https://localhost:8080/"
        },
        "outputId": "7b822013-de9c-4935-c2a3-a1dc8726d761"
      },
      "execution_count": null,
      "outputs": [
        {
          "output_type": "stream",
          "name": "stdout",
          "text": [
            "0.0\n",
            "1\n",
            "9\n",
            "27\n"
          ]
        }
      ]
    },
    {
      "cell_type": "markdown",
      "source": [
        "Multiple lists can be joined with the addition operator:"
      ],
      "metadata": {
        "id": "YMbk5W9TaTFE"
      }
    },
    {
      "cell_type": "code",
      "source": [
        "even_numbers = [2, 4, 6, 8]\n",
        "odd_numbers = [1, 3, 5, 7]\n",
        "all = even_numbers + odd_numbers\n",
        "print(all) # notice that it follows the order of the sum parcels"
      ],
      "metadata": {
        "colab": {
          "base_uri": "https://localhost:8080/"
        },
        "id": "Hg_laNdZaeoa",
        "outputId": "c32bf99e-29ab-45b7-9e2e-1651c5df39e3"
      },
      "execution_count": null,
      "outputs": [
        {
          "output_type": "stream",
          "name": "stdout",
          "text": [
            "[2, 4, 6, 8, 1, 3, 5, 7]\n"
          ]
        }
      ]
    },
    {
      "cell_type": "markdown",
      "source": [
        "and repeated via multiplication:"
      ],
      "metadata": {
        "id": "Rl8bKq9Ua0Mw"
      }
    },
    {
      "cell_type": "code",
      "source": [
        "small_list = [0,1]\n",
        "repeated_list = small_list*7\n",
        "print(repeated_list)"
      ],
      "metadata": {
        "colab": {
          "base_uri": "https://localhost:8080/"
        },
        "id": "tv5mTOGYa4Y5",
        "outputId": "59452ee3-03e6-441a-e49f-72fc38de0781"
      },
      "execution_count": null,
      "outputs": [
        {
          "output_type": "stream",
          "name": "stdout",
          "text": [
            "[0, 1, 0, 1, 0, 1, 0, 1, 0, 1, 0, 1, 0, 1]\n"
          ]
        }
      ]
    },
    {
      "cell_type": "markdown",
      "source": [
        "## Assignment operators\n",
        "```\n",
        "=\n",
        "+= e.g. x+=3 is the same as x = x+3\n",
        "-=\n",
        "*=\n",
        "/=\n",
        "%=\n",
        "//= e.g., x//=3 is the same as x = x // 3 (floor division)\n",
        "**=\n",
        "&=   (bitwise AND)\n",
        "|=   (bitwise OR)\n",
        "^=   (bitwise XOR)\n",
        "~=   (bitwise NOT)\n",
        "```"
      ],
      "metadata": {
        "id": "S_FZELgM1ZSE"
      }
    },
    {
      "cell_type": "markdown",
      "source": [
        "# Strings\n",
        "Strings are written within simple or double quotes. For simplicity, use double quotes (this allows the usage of simple quotes in between), e.g.:\n",
        "\n",
        "\n",
        "```\n",
        "hello = 'Hello World'\n",
        "hello = \"Hello World' # same as above\n",
        "hello = \"Hello 'world'\" #only possible with double quotes\n",
        "```\n",
        "\n",
        "Multiline strings can written as in the following:\n",
        "```\n",
        "a = \"\"\"Lorem ipsum dolor sit amet,\n",
        "consectetur adipiscing elit,\n",
        "sed do eiusmod tempor incididunt\n",
        "ut labore et dolore magna aliqua.\"\"\"\n",
        "print(a) # or three simple quotes\n",
        "```"
      ],
      "metadata": {
        "id": "QqP-tbJtY3Mj"
      }
    },
    {
      "cell_type": "markdown",
      "source": [
        "## Using operators with strings\n",
        "Concatenation can be 'given' by the addition, e.g.:"
      ],
      "metadata": {
        "id": "bagh_G4EdlQs"
      }
    },
    {
      "cell_type": "code",
      "source": [
        "part_1 = 'This is part 1, but it is '\n",
        "part_2 = 'incomplete without part 2.'\n",
        "full = part_1 + part_2\n",
        "print(full)"
      ],
      "metadata": {
        "colab": {
          "base_uri": "https://localhost:8080/"
        },
        "id": "YUHKuEtAY_K6",
        "outputId": "e49b3503-a347-4a42-fa97-5d5d4f582efe"
      },
      "execution_count": null,
      "outputs": [
        {
          "output_type": "stream",
          "name": "stdout",
          "text": [
            "This is part 1, but it is incomplete without part 2.\n"
          ]
        }
      ]
    },
    {
      "cell_type": "markdown",
      "source": [
        "The string can also be repeated through multiplication."
      ],
      "metadata": {
        "id": "y9CuXZ6vZ098"
      }
    },
    {
      "cell_type": "code",
      "source": [
        "bye = 'ciao '\n",
        "correct_bye = bye*2\n",
        "print(correct_bye)"
      ],
      "metadata": {
        "colab": {
          "base_uri": "https://localhost:8080/"
        },
        "id": "dDwn5yTvZ3w4",
        "outputId": "af29f516-098c-468e-cb80-5cde770073e1"
      },
      "execution_count": null,
      "outputs": [
        {
          "output_type": "stream",
          "name": "stdout",
          "text": [
            "ciao ciao \n"
          ]
        }
      ]
    },
    {
      "cell_type": "markdown",
      "source": [
        "##String formatting\n"
      ],
      "metadata": {
        "id": "N9msYlCpdO86"
      }
    },
    {
      "cell_type": "code",
      "source": [
        "name = 'John'\n",
        "print(\"Hello, %s!\" % name)"
      ],
      "metadata": {
        "colab": {
          "base_uri": "https://localhost:8080/"
        },
        "id": "9mBaf6QldTVL",
        "outputId": "c958ac8d-0d3c-4385-cd83-f40badb903a0"
      },
      "execution_count": null,
      "outputs": [
        {
          "output_type": "stream",
          "name": "stdout",
          "text": [
            "Hello, John!\n"
          ]
        }
      ]
    },
    {
      "cell_type": "markdown",
      "source": [
        "A tuple is defined as a list with a fixed size. It can be used to print as in the following:"
      ],
      "metadata": {
        "id": "hz60Pc7wdoXm"
      }
    },
    {
      "cell_type": "code",
      "source": [
        "name = \"John\"\n",
        "age = \"29\"\n",
        "print(\"%s is %s years old\" %(name,age))"
      ],
      "metadata": {
        "colab": {
          "base_uri": "https://localhost:8080/"
        },
        "id": "h5jWSczRdz3T",
        "outputId": "3e855778-f784-40b3-da9f-8cefb6cd90aa"
      },
      "execution_count": null,
      "outputs": [
        {
          "output_type": "stream",
          "name": "stdout",
          "text": [
            "John is 29 years old\n"
          ]
        }
      ]
    },
    {
      "cell_type": "markdown",
      "source": [
        "Other objects can be represented as well, e.g.:"
      ],
      "metadata": {
        "id": "M3HTLCZKfmmn"
      }
    },
    {
      "cell_type": "code",
      "source": [
        "mylist = [1, 2, 3]\n",
        "print(\"My list is given by %s\" % mylist)"
      ],
      "metadata": {
        "colab": {
          "base_uri": "https://localhost:8080/"
        },
        "id": "_ad8c8svfrHD",
        "outputId": "27422346-ee10-43ef-915e-133c0b06769a"
      },
      "execution_count": null,
      "outputs": [
        {
          "output_type": "stream",
          "name": "stdout",
          "text": [
            "My list is given by [1, 2, 3]\n"
          ]
        }
      ]
    },
    {
      "cell_type": "markdown",
      "source": [
        "%s is used for strings\n",
        "\n",
        "%d for integers\n",
        "\n",
        "%.[number of digits]f is for floating point with a specified number of decimal digits"
      ],
      "metadata": {
        "id": "eC1CBinRf0Y0"
      }
    },
    {
      "cell_type": "markdown",
      "source": [
        "format() $\\rightarrow$ allows to combine strings and numbers in a way that otherwise would not be possible, e.g.:"
      ],
      "metadata": {
        "id": "olOL9pHJdPiC"
      }
    },
    {
      "cell_type": "code",
      "source": [
        "quantity = 3\n",
        "itemno = 567\n",
        "price = 49.95\n",
        "myorder = \"I want to pay {2} dollars for {0} pieces of item {1}.\"\n",
        "print(myorder.format(quantity, itemno, price))"
      ],
      "metadata": {
        "colab": {
          "base_uri": "https://localhost:8080/"
        },
        "id": "4X2HKHIXfHX9",
        "outputId": "0ac2d26b-555b-48d0-bd22-d6a868300e9d"
      },
      "execution_count": null,
      "outputs": [
        {
          "output_type": "stream",
          "name": "stdout",
          "text": [
            "I want to pay 49.95 dollars for 3 pieces of item 567.\n"
          ]
        }
      ]
    },
    {
      "cell_type": "code",
      "source": [
        "# we can also omit the numbers, but then the inputs of format will appear in the order of the sentence\n",
        "myorder = \"I want to pay {} dollars for {} pieces of item {}.\"\n",
        "print(myorder.format(price, quantity, itemno))"
      ],
      "metadata": {
        "colab": {
          "base_uri": "https://localhost:8080/"
        },
        "id": "kr7NRySjfeRB",
        "outputId": "f6a5b590-2155-4e2e-b25a-9577c64e2c47"
      },
      "execution_count": null,
      "outputs": [
        {
          "output_type": "stream",
          "name": "stdout",
          "text": [
            "I want to pay 49.95 dollars for 3 pieces of item 567.\n"
          ]
        }
      ]
    },
    {
      "cell_type": "markdown",
      "source": [
        "Illegal characters: we can escape with backslash\n",
        "* \\' $\\rightarrow$ single quote\n",
        "* \\\" $\\rightarrow$ double quote\n",
        "* \\n $\\rightarrow$ new line\n",
        "* \\t $\\rightarrow$ tab"
      ],
      "metadata": {
        "id": "tkeoZvVrf_5w"
      }
    },
    {
      "cell_type": "code",
      "source": [
        "txt = \"We are the so-called \\\"Vikings\\\" from the north.\\nWe shall not rest until we conquer the world. \\n\\t Hurra!\"\n",
        "print(txt)"
      ],
      "metadata": {
        "colab": {
          "base_uri": "https://localhost:8080/"
        },
        "id": "3ymwEpzwgKbQ",
        "outputId": "3058773c-6dfd-49bd-a0ce-e52bcdb89794"
      },
      "execution_count": null,
      "outputs": [
        {
          "output_type": "stream",
          "name": "stdout",
          "text": [
            "We are the so-called \"Vikings\" from the north.\n",
            "We shall not rest until we conquer the world. \n",
            "\t Hurra!\n"
          ]
        }
      ]
    },
    {
      "cell_type": "markdown",
      "source": [
        "### String methods\n",
        "The methods below produce new strings, but do not affect the original string, which is preserved.\n",
        "```\n",
        "capitalize()     Converts the first character to upper case\n",
        "casefold()       Converts string into lower case\n",
        "upper()          Converts a string into upper case\n",
        "islower()        Returns True if all characters in the string are lower case\n",
        "isupper()        Returns True if all characters in the string are upper case\n",
        "center()         Returns a centered string\n",
        "ljust()          Returns a left justified version of the string\n",
        "rjust()          Returns a right justified version of the string\n",
        "rstrip()         Returns a right trim version of the string\n",
        "lstrip()         Returns a left trim version of the string\n",
        "strip()          Returns a trimmed version of the string\n",
        "count()          Returns the number of times a specified value occurs in a string\n",
        "endswith()       Returns true if the string ends with the specified value\n",
        "expandtabs()     Sets the tab size of the string\n",
        "find()           Searches the string for a specified value and returns the position of where it was found\n",
        "rfind()          Searches the string for a specified value and returns the last position of where it was found\n",
        "format()         Formats specified values in a string\n",
        "format_map()     Formats specified values in a string\n",
        "index()          Searches the string for a specified value and returns the position of where it was found\n",
        "isalnum()        Returns True if all characters in the string are alphanumeric\n",
        "isalpha()        Returns True if all characters in the string are in the alphabet\n",
        "isdecimal()      Returns True if all characters in the string are decimals\n",
        "isdigit()        Returns True if all characters in the string are digits\n",
        "isidentifier()   Returns True if the string is an identifier\n",
        "isnumeric()      Returns True if all characters in the string are numeric\n",
        "isspace()        Returns True if all characters in the string are whitespaces\n",
        "join()           Joins the elements of an iterable to the end of the string\n",
        "lower()          Converts a string into lower case\n",
        "replace()        Returns a string where a specified value is replaced with a specified value\n",
        "rindex()         Searches the string for a specified value and returns the last position of where it was found\n",
        "rpartition()     Returns a tuple where the string is parted into three parts\n",
        "rsplit()         Splits the string at the specified separator, and returns a list\n",
        "split()          Splits the string at the specified separator, and returns a list\n",
        "splitlines()     Splits the string at line breaks and returns a list\n",
        "startswith()     Returns true if the string starts with the specified value\n",
        "swapcase()       Swaps cases, lower case becomes upper case and vice versa\n",
        "title()          Converts the first character of each word to upper case\n",
        "translate()      Returns a translated string\n",
        "zfill()          Fills the string with a specified number of 0 values at the beginning\n",
        "```"
      ],
      "metadata": {
        "id": "dcc3Sqxih1yX"
      }
    },
    {
      "cell_type": "markdown",
      "source": [
        "### String as an array\n",
        "To print a slice of the string, one can do the following:\n",
        "\n",
        "print(some_string[first_position:last_position+1]), e.g.:\n",
        "\n",
        "In general, it is like print(some_string[start:stop:step]). Note that\n",
        "\n",
        "print(some_string[start:stop]) is the same as print(some_string[start:stop:1])"
      ],
      "metadata": {
        "id": "lQrQIjxzjyHk"
      }
    },
    {
      "cell_type": "code",
      "source": [
        "hello = \"Hello world!\"\n",
        "print(hello) \n",
        "print(hello[3:7])   # prints positions 3 to 6 (excludes 7th position)\n",
        "print(hello[3:])    # prints everything after (and including) the third position\n",
        "print(hello[:7])    # prints everything before (and excluding) the seventh position\n",
        "print(hello[3])     # prints the seventh position\n",
        "print(hello[3:7:2]) # goes from string 3 to 6 (inclusively), in steps of 2 (recall that the 7th string is excluded)\n",
        "print(hello[-5:])   # prints the last five characters"
      ],
      "metadata": {
        "colab": {
          "base_uri": "https://localhost:8080/"
        },
        "id": "vTfOD-kaijJq",
        "outputId": "8c351dae-2e73-4184-f441-2c77940adc1a"
      },
      "execution_count": null,
      "outputs": [
        {
          "output_type": "stream",
          "name": "stdout",
          "text": [
            "Hello world!\n",
            "lo w\n",
            "lo world!\n",
            "Hello w\n",
            "l\n",
            "l \n",
            "orld!\n"
          ]
        }
      ]
    },
    {
      "cell_type": "markdown",
      "source": [
        "In order to reverse a string, one can use:"
      ],
      "metadata": {
        "id": "9sNpumQ9_0EJ"
      }
    },
    {
      "cell_type": "code",
      "source": [
        "print(hello[::-1])"
      ],
      "metadata": {
        "colab": {
          "base_uri": "https://localhost:8080/"
        },
        "id": "bz-iVLdaAP4Z",
        "outputId": "bc8ebb47-af46-4206-a79f-431d81b90ee6"
      },
      "execution_count": null,
      "outputs": [
        {
          "output_type": "stream",
          "name": "stdout",
          "text": [
            "!dlrow olleH\n"
          ]
        }
      ]
    },
    {
      "cell_type": "markdown",
      "source": [
        "len - get the length of a string. Counts spaces and punctuation as well (in between, before and after the string). In python, strings are considered to be an array, with each character represented by a string of length 1. We can even loop through strings.\n",
        "\n",
        "'some_string.index(some_character)' -> To find the first appearance of a character in a string (recall that Python starts counting positions at zero).\n",
        "\n",
        "'some_string.count(some_character)' -> to count the number of times a given character appears in a string."
      ],
      "metadata": {
        "id": "-EXBA2AXoW17"
      }
    },
    {
      "cell_type": "markdown",
      "source": [
        "hello = ' Hello world '\n",
        "print(len(hello)) # counts spaces\n",
        "print(hello[1]) # presents the first element of the string (recall that strings are arrays in Python!)"
      ],
      "metadata": {
        "id": "qER_gCt9ogag"
      }
    },
    {
      "cell_type": "code",
      "source": [
        "for i in \"mamamia!\":\n",
        "  print(i)"
      ],
      "metadata": {
        "id": "VM-4TU1CpYrZ"
      },
      "execution_count": null,
      "outputs": []
    },
    {
      "cell_type": "code",
      "source": [
        "hello = ' Hello world '\n",
        "print(hello.index(\"o\")) # gives the first location of the character 'o' in the string (once again, counting spaces and punctuation). "
      ],
      "metadata": {
        "id": "1wRzxww4paWc"
      },
      "execution_count": null,
      "outputs": []
    },
    {
      "cell_type": "code",
      "source": [
        "print(hello.count(\"l\"))"
      ],
      "metadata": {
        "id": "JHSXCaRapbuR"
      },
      "execution_count": null,
      "outputs": []
    },
    {
      "cell_type": "markdown",
      "source": [
        "###Strings modifications\n"
      ],
      "metadata": {
        "id": "ftOYeEgcAe0p"
      }
    },
    {
      "cell_type": "markdown",
      "source": [
        "*   upper or lower - render the entire string upper or lower case\n",
        "*   strip  - removes *whitespaces* (some_string.strip())\n",
        "*   replace  - replace part of the full string by another (some_string.replace(\"existing_part\",\"new_part\")\n",
        "*   split - splits the string at all appearances of some specified string (thus creating a list with strings at the splits, some_string.split(some_specified_string))\n",
        "\n",
        "\n",
        "\n"
      ],
      "metadata": {
        "id": "pngTJya9jEPt"
      }
    },
    {
      "cell_type": "code",
      "source": [
        "a = \" Hello, World! \"\n",
        "print(hello.upper())\n",
        "print(hello.lower())\n",
        "print(a.strip()) # returns \"Hello, World!\"\n",
        "print(a.replace(\"\"))\n",
        "print(hello.split(\"o\"))"
      ],
      "metadata": {
        "id": "5CTyXxGujLcH"
      },
      "execution_count": null,
      "outputs": []
    },
    {
      "cell_type": "markdown",
      "source": [
        "## String check\n",
        "To check whether a string starts with some specific string or ends with another, one can use the startswith and endswith commands. This results in either 'True' or 'False', e.g.:"
      ],
      "metadata": {
        "id": "aJV3U_u0Bc5r"
      }
    },
    {
      "cell_type": "code",
      "source": [
        "print(hello)\n",
        "print(hello.startswith(\"Hello\"))\n",
        "print(hello.endswith(\"world!\")) # note that this command is case-, and punctuation-sensitive\n",
        "print(hello.endswith(\"World!\")) # note that this command is case-, and punctuation-sensitive"
      ],
      "metadata": {
        "colab": {
          "base_uri": "https://localhost:8080/"
        },
        "id": "a65R_sRLBnLF",
        "outputId": "32c16df4-269e-4161-b7a2-fd879d772636"
      },
      "execution_count": null,
      "outputs": [
        {
          "output_type": "stream",
          "name": "stdout",
          "text": [
            "Hello world!\n",
            "True\n",
            "True\n",
            "False\n"
          ]
        }
      ]
    },
    {
      "cell_type": "markdown",
      "source": [
        "#Conditionals\n",
        "== equal\n",
        "\n",
        "\\> greater \n",
        "\n",
        "< less than\n",
        "\n",
        "\\>= greater or equal\n",
        "\n",
        "<= less than or equal to\n",
        "\n",
        "!= not equal\n"
      ],
      "metadata": {
        "id": "_LRwyw1vKOM8"
      }
    },
    {
      "cell_type": "code",
      "source": [
        "a = 2.0\n",
        "print(a == 2)\n",
        "print(a == 3)\n",
        "print(a != 3)\n",
        "print(\"\\n\")\n",
        "print(a == 2.0)\n",
        "print(a > 5)\n",
        "print(a < 5)"
      ],
      "metadata": {
        "colab": {
          "base_uri": "https://localhost:8080/"
        },
        "id": "SUk5bNrvKXO5",
        "outputId": "f1ff5080-558e-4461-9f87-835db14d2c3e"
      },
      "execution_count": null,
      "outputs": [
        {
          "output_type": "stream",
          "name": "stdout",
          "text": [
            "True\n",
            "False\n",
            "True\n",
            "\n",
            "True\n",
            "False\n",
            "True\n"
          ]
        }
      ]
    },
    {
      "cell_type": "code",
      "source": [
        "name = \"Boris\"\n",
        "age = \"19\"\n",
        "if name == \"Boris\" and age == \"19\":\n",
        "  print(\"Your name is indeed \" + name + \" and your age really is \" + age + \".\")"
      ],
      "metadata": {
        "colab": {
          "base_uri": "https://localhost:8080/"
        },
        "id": "OkjY6n0DL1oE",
        "outputId": "31eefbfd-aa2a-47ce-85d4-adc5dcc7e2cd"
      },
      "execution_count": null,
      "outputs": [
        {
          "output_type": "stream",
          "name": "stdout",
          "text": [
            "Your name is indeed Boris and your age really is 19.\n"
          ]
        }
      ]
    },
    {
      "cell_type": "markdown",
      "source": [
        "## Logical operators\n",
        "\n",
        "* and\n",
        "* or\n",
        "* not"
      ],
      "metadata": {
        "id": "Gw-8OLzhK5vg"
      }
    },
    {
      "cell_type": "code",
      "source": [
        "a = 2\n",
        "b = 5\n",
        "print(a == 2 and b == 5)\n",
        "print(a == 2 or b == 5)\n",
        "print(a < 3 and b > 4)\n",
        "print(a < 3 or b > 10)\n",
        "print(\"\\n\")\n",
        "print(a < 3 and b > 10)\n",
        "print(not a == 3) # as 'a == 3' returns False, 'not a == 3' returns True\n",
        "print(not False)"
      ],
      "metadata": {
        "colab": {
          "base_uri": "https://localhost:8080/"
        },
        "id": "g3PaXjtLK-pg",
        "outputId": "9dd7bdbb-e749-49c7-89b3-4ded747ecd1e"
      },
      "execution_count": null,
      "outputs": [
        {
          "output_type": "stream",
          "name": "stdout",
          "text": [
            "True\n",
            "True\n",
            "True\n",
            "True\n",
            "\n",
            "False\n",
            "True\n",
            "True\n"
          ]
        }
      ]
    },
    {
      "cell_type": "markdown",
      "source": [
        "#'is' operator\n",
        "\"Unlike the double equals operator \"==\", the \"is\" operator does not match the values of the variables, but the instances (objects) themselves.\". The opposite is the 'is not' operator. [e.g.](http://net-informations.com/python/iq/is.htm#:~:text='is'%20and%20'%3D%3D'%20operators%20in%20Python,and%20%3D%3D%20comparison%20operators%20behave.):\n",
        "```\n",
        "list_1 = ['a', 'b', 'c']\n",
        "list_2 = list_1\n",
        "list_3 = list(list_1)\n",
        "print(list_1)\n",
        "print(list_2)\n",
        "print(list_3)\n",
        "```\n",
        "then all three lists have the same value, thus:\n",
        "```\n",
        "list_1 == list_2 # returns True\n",
        "list_1 == list_3 # returns True\n",
        "list_2 == list_3 # returns True\n",
        "```\n",
        "but\n",
        "```\n",
        "list_1 is list_2 # returns True\n",
        "list_1 is list_3 # returns False, even though they have the same values\n",
        "list_2 is list_3 # returns False, even though they have the same values\n",
        "```"
      ],
      "metadata": {
        "id": "MYDtGXQKZL1c"
      }
    },
    {
      "cell_type": "markdown",
      "source": [
        "#About indentation\n",
        "Python's standard indentation is given by 4 spaces. However, any other spacing works as long as it is consistent. Code blocks do not require termination, because the blocks themselves are defined by the indentation.\n",
        "\n",
        "Example of if-else:\n",
        "```\n",
        "statement = False\n",
        "another_statement = True\n",
        "\n",
        "if statement is True:\n",
        "    # do something\n",
        "    pass\n",
        "elif another_statement is True: # else if\n",
        "    # do something else\n",
        "    pass\n",
        "else:\n",
        "    # do another thing\n",
        "    pass\n",
        "```"
      ],
      "metadata": {
        "id": "HX7__uwEOfzG"
      }
    },
    {
      "cell_type": "markdown",
      "source": [
        "# Loops\n",
        "There are two types of loops. The 'for' and the 'while' loops."
      ],
      "metadata": {
        "id": "GBIzuojXfLn0"
      }
    },
    {
      "cell_type": "markdown",
      "source": [
        "## 'For' loops\n"
      ],
      "metadata": {
        "id": "NduX8BLVAdkt"
      }
    },
    {
      "cell_type": "markdown",
      "source": [
        "Note that the purpose of *for*-loops in Python differ from other programming languages. It is rather a resource to loop through strings, or items from lists/tuples/sets/dictionaries.\n",
        "\n",
        "Of course, it can be used as 'usual' too."
      ],
      "metadata": {
        "id": "LquPjpa9BCQ5"
      }
    },
    {
      "cell_type": "code",
      "source": [
        "office = \"chair\"\n",
        "for i in office:\n",
        "  print(i)\n"
      ],
      "metadata": {
        "colab": {
          "base_uri": "https://localhost:8080/"
        },
        "id": "5_Pn8wX6BCxD",
        "outputId": "b0b3d434-8224-47e5-c25d-02d7f222680f"
      },
      "execution_count": null,
      "outputs": [
        {
          "output_type": "stream",
          "name": "stdout",
          "text": [
            "c\n",
            "h\n",
            "a\n",
            "i\n",
            "r\n"
          ]
        }
      ]
    },
    {
      "cell_type": "code",
      "source": [
        "primes = [2, 3, 5, 7]\n",
        "for i in primes:\n",
        "  print(i)"
      ],
      "metadata": {
        "colab": {
          "base_uri": "https://localhost:8080/"
        },
        "id": "x4Qzm4o7f7yZ",
        "outputId": "fdff1644-92f2-4288-8cad-6eee05a59b8b"
      },
      "execution_count": null,
      "outputs": [
        {
          "output_type": "stream",
          "name": "stdout",
          "text": [
            "4\n",
            "6\n",
            "10\n",
            "14\n"
          ]
        }
      ]
    },
    {
      "cell_type": "markdown",
      "source": [
        "__break__ and __continue__ can be used in the same as for while loops (see below)."
      ],
      "metadata": {
        "id": "Qx72778BBlIm"
      }
    },
    {
      "cell_type": "markdown",
      "source": [
        "### Range function\n",
        "range(start_number,end_number, increment) $\\rightarrow$ returns indices from start_number to end_number-1. \n",
        "* If the start_number is omitted, zero is considered for this input instead. \n",
        "* If the increment is omitted, an increment of 1 is considered.\n",
        "\n",
        "E.g.:"
      ],
      "metadata": {
        "id": "F7Hm7Up-_Yqt"
      }
    },
    {
      "cell_type": "code",
      "source": [
        "for x in range(5):\n",
        "  print(x)"
      ],
      "metadata": {
        "colab": {
          "base_uri": "https://localhost:8080/"
        },
        "id": "1hdZbDGw_66v",
        "outputId": "276e27ab-b213-449b-9bb4-a9f6dc2a886d"
      },
      "execution_count": null,
      "outputs": [
        {
          "output_type": "stream",
          "name": "stdout",
          "text": [
            "0\n",
            "1\n",
            "2\n",
            "3\n",
            "4\n"
          ]
        }
      ]
    },
    {
      "cell_type": "markdown",
      "source": [
        "* Can also be used to loop through a list/tuple using index numbers, e.g.,\n"
      ],
      "metadata": {
        "id": "h2gHE5vuNDfd"
      }
    },
    {
      "cell_type": "code",
      "source": [
        "thislist = [\"element0\", \"element1\", \"element2\"]\n",
        "for i in range(len(thislist)): # this provides indices to correlate with thislist\n",
        "  print(thislist[i]) # to print the elements of thislist\n",
        "\n",
        "print(\"\\n\")\n",
        "thislist = [\"element0\", \"element1\", \"element2\"]\n",
        "for i in range(len(thislist)): # this provides indices to correlate with thislist\n",
        "  print(i) # to print the indices"
      ],
      "metadata": {
        "colab": {
          "base_uri": "https://localhost:8080/"
        },
        "id": "Qjo6h66qf346",
        "outputId": "ee9109e6-a48b-4216-ccaf-337657909707"
      },
      "execution_count": null,
      "outputs": [
        {
          "output_type": "stream",
          "name": "stdout",
          "text": [
            "element0\n",
            "element1\n",
            "element2\n",
            "0\n",
            "1\n",
            "2\n"
          ]
        }
      ]
    },
    {
      "cell_type": "markdown",
      "source": [
        "*   the increment from one value to another of the range function can be specified, e.g.:"
      ],
      "metadata": {
        "id": "Z5vLZ1GECpYl"
      }
    },
    {
      "cell_type": "code",
      "source": [
        "for x in range(2, 30, 3):\n",
        "  print(x)"
      ],
      "metadata": {
        "colab": {
          "base_uri": "https://localhost:8080/"
        },
        "id": "OZVzyDP5C3Cc",
        "outputId": "1ab5305e-9262-41f3-c62f-93f27ab8520f"
      },
      "execution_count": null,
      "outputs": [
        {
          "output_type": "stream",
          "name": "stdout",
          "text": [
            "2\n",
            "5\n",
            "8\n",
            "11\n",
            "14\n",
            "17\n",
            "20\n",
            "23\n",
            "26\n",
            "29\n"
          ]
        }
      ]
    },
    {
      "cell_type": "markdown",
      "source": [
        "### Else in a *for*-loop\n",
        "The 'else' keyword can be used $\\rightarrow$ it indicates what to do when the *for*-loop is finished, e.g.:"
      ],
      "metadata": {
        "id": "OsTtraxiDdFY"
      }
    },
    {
      "cell_type": "code",
      "source": [
        "for i in range(7):\n",
        "  print(i)\n",
        "else:\n",
        "  print(\"I am all done.\")"
      ],
      "metadata": {
        "colab": {
          "base_uri": "https://localhost:8080/"
        },
        "id": "DZaByoJXDnAK",
        "outputId": "99b34190-23fa-4ddd-a469-45701d5fea76"
      },
      "execution_count": null,
      "outputs": [
        {
          "output_type": "stream",
          "name": "stdout",
          "text": [
            "0\n",
            "1\n",
            "2\n",
            "3\n",
            "4\n",
            "5\n",
            "6\n",
            "I am all done.\n"
          ]
        }
      ]
    },
    {
      "cell_type": "markdown",
      "source": [
        "## While loops\n",
        "Repeats as long as some boolean condition is fulfilled. E.g.:"
      ],
      "metadata": {
        "id": "CiUMsN9pATq9"
      }
    },
    {
      "cell_type": "code",
      "source": [
        "count = 0\n",
        "while count < 5:\n",
        "  print(count)\n",
        "  count += 1 # same as count = count + 1"
      ],
      "metadata": {
        "colab": {
          "base_uri": "https://localhost:8080/"
        },
        "id": "pep_qBQ5An9u",
        "outputId": "87fa600c-d55c-47ee-82af-abbec6bbd3e8"
      },
      "execution_count": null,
      "outputs": [
        {
          "output_type": "stream",
          "name": "stdout",
          "text": [
            "0\n",
            "1\n",
            "2\n",
            "3\n",
            "4\n"
          ]
        }
      ]
    },
    {
      "cell_type": "markdown",
      "source": [
        "### Break and continue statements\n",
        "\n",
        "*   Break -> exit a loop\n",
        "*   Continue -> go to next iterator, regardless of the current iteration "
      ],
      "metadata": {
        "id": "7rwLSvTHAz7e"
      }
    },
    {
      "cell_type": "code",
      "source": [
        "i = 1\n",
        "while i < 6:\n",
        "  print(i)\n",
        "  if i == 3:\n",
        "    break\n",
        "  i += 1"
      ],
      "metadata": {
        "id": "LkOvZEbTAQ4O"
      },
      "execution_count": null,
      "outputs": []
    },
    {
      "cell_type": "code",
      "source": [
        "for i in range(10):\n",
        "  if i < 3:\n",
        "    print(\"%d is less than 3\" % i)\n",
        "  elif i > 7:\n",
        "    print(\"%d is greater than 7\" % i)\n",
        "  else:\n",
        "      continue"
      ],
      "metadata": {
        "colab": {
          "base_uri": "https://localhost:8080/"
        },
        "id": "CXXVpzFRAWZ3",
        "outputId": "d5ee6d7c-bae2-450d-9952-f867c53531f9"
      },
      "execution_count": null,
      "outputs": [
        {
          "output_type": "stream",
          "name": "stdout",
          "text": [
            "0 is less than 3\n",
            "1 is less than 3\n",
            "2 is less than 3\n",
            "8 is greater than 7\n",
            "9 is greater than 7\n"
          ]
        }
      ]
    },
    {
      "cell_type": "markdown",
      "source": [
        "# If... Else\n",
        "See section on 'for' loops for more info."
      ],
      "metadata": {
        "id": "4Uu-uyGtSBR5"
      }
    },
    {
      "cell_type": "code",
      "source": [
        "for i in range(5):\n",
        "  if i < 3:\n",
        "    print(\"%d is less than 3\" % i)\n",
        "  else:\n",
        "      print(\"%d is greater or equal than 3\" % i)"
      ],
      "metadata": {
        "colab": {
          "base_uri": "https://localhost:8080/"
        },
        "id": "gmL4focoLVtG",
        "outputId": "e0be4187-5f1c-4e61-e2ed-7aa2c80838e2"
      },
      "execution_count": null,
      "outputs": [
        {
          "output_type": "stream",
          "name": "stdout",
          "text": [
            "0 is less than 3\n",
            "1 is less than 3\n",
            "2 is less than 3\n",
            "3 is greater or equal than 3\n",
            "4 is greater or equal than 3\n"
          ]
        }
      ]
    },
    {
      "cell_type": "markdown",
      "source": [
        "*   Continue: skip current block and go back to the 'for' or 'while' statement. \n",
        "\n",
        "E.g.: Suppose we only want to print out values below 3 or greater than 7, then:"
      ],
      "metadata": {
        "id": "P0C-ACk9MVC8"
      }
    },
    {
      "cell_type": "code",
      "source": [
        "for i in range(10):\n",
        "  if i < 3:\n",
        "    print(\"%d is less than 3\" % i)\n",
        "  elif i > 7:\n",
        "    print(\"%d is greater than 7\" % i)\n",
        "  else:\n",
        "      continue"
      ],
      "metadata": {
        "colab": {
          "base_uri": "https://localhost:8080/"
        },
        "id": "LciwEHEVMWgl",
        "outputId": "81c68c22-4195-469a-a185-c9fcc5f1fe54"
      },
      "execution_count": null,
      "outputs": [
        {
          "output_type": "stream",
          "name": "stdout",
          "text": [
            "0 is less than 3\n",
            "1 is less than 3\n",
            "2 is less than 3\n",
            "8 is greater than 7\n",
            "9 is greater than 7\n"
          ]
        }
      ]
    },
    {
      "cell_type": "markdown",
      "source": [
        "## Shorthand If and shorthand If... Else\n",
        "Shorthand versions of If and If...Else are called *Ternary operators* or *Conditional Expressions*.\n"
      ],
      "metadata": {
        "id": "fU-tgIugT9MQ"
      }
    },
    {
      "cell_type": "code",
      "source": [
        "a = 100\n",
        "b = 1\n",
        "c = 55\n",
        "if a > b: print(\"a is greater than b\")\n",
        "print(\"a is less than b\") if a < b else print(\"a is greater than b\")\n"
      ],
      "metadata": {
        "colab": {
          "base_uri": "https://localhost:8080/"
        },
        "id": "zJDILHT4UAVs",
        "outputId": "59ab69b9-f9e3-4b5f-c41d-2e40695f4d48"
      },
      "execution_count": null,
      "outputs": [
        {
          "output_type": "stream",
          "name": "stdout",
          "text": [
            "a is greater than b\n",
            "a is greater than b\n"
          ]
        }
      ]
    },
    {
      "cell_type": "markdown",
      "source": [
        "## Pass statement\n",
        "pass $\\rightarrow$ a statement that avoids an error message, in case some empty *if* is being used, e.g.:\n",
        "```\n",
        "a = 33\n",
        "b = 200\n",
        "if b > a:\n",
        "  pass # does not do anything\n",
        "```"
      ],
      "metadata": {
        "id": "FL8sr3Y5-Mcl"
      }
    },
    {
      "cell_type": "markdown",
      "source": [
        "# Functions\n",
        "\n"
      ],
      "metadata": {
        "id": "0OdAZT3cOroF"
      }
    },
    {
      "cell_type": "code",
      "source": [
        "def my_function(): # define the function\n",
        "  print(\"Hello from a function\")\n",
        "\n",
        "def my_other_func(name1, name2, name3):\n",
        "  print(\"Name 1 is \" + name1 + \", name 2 is \" + name2 + \" and name 3 is \" + name3)\n",
        "\n",
        "# call functions\n",
        "my_function() # one arguments\n",
        "my_other_func(\"British Columbia\", \"Mannitoba\", \"Saskatchewan\") # multiple args"
      ],
      "metadata": {
        "colab": {
          "base_uri": "https://localhost:8080/"
        },
        "id": "rC8acL7QPTzm",
        "outputId": "148aa584-9512-48b2-f12d-1a24587d2f00"
      },
      "execution_count": null,
      "outputs": [
        {
          "output_type": "stream",
          "name": "stdout",
          "text": [
            "Hello from a function\n",
            "Name 1 is British Columbia, name 2 is Mannitoba and name 3 is Saskatchewan\n"
          ]
        }
      ]
    },
    {
      "cell_type": "markdown",
      "source": [
        "## Parameters & Arguments ('args')"
      ],
      "metadata": {
        "id": "ysTLLXnIZmTD"
      }
    },
    {
      "cell_type": "markdown",
      "source": [
        "### Definitions - parameters & arguments\n",
        "* *parameters* $\\rightarrow$ variables inside the parentheses __in the function definition__.\n",
        "\n",
        "* *arguments* $\\rightarrow$ value sent to the function when the __function is called__ (also called 'args' in Python documentation).\n",
        "\n",
        "> Any data type may be sent as an argument to a function."
      ],
      "metadata": {
        "id": "qXFE0JIaxFkM"
      }
    },
    {
      "cell_type": "code",
      "source": [
        "def my_function(**personal_data):\n",
        "  print(\"I am \" + personal_data[\"age\"] + \" years old.\")\n",
        "\n",
        "my_function(Height = \"1.75m\", Nationality = \"Martian\", age = \"36\")"
      ],
      "metadata": {
        "colab": {
          "base_uri": "https://localhost:8080/"
        },
        "id": "yLS8xw2LuPQK",
        "outputId": "e5349274-774d-4f83-dcb9-34fd60e6f0b1"
      },
      "execution_count": null,
      "outputs": [
        {
          "output_type": "stream",
          "name": "stdout",
          "text": [
            "I am 36 years old.\n"
          ]
        }
      ]
    },
    {
      "cell_type": "markdown",
      "source": [
        "### Keyword arguments ('kwargs')\n",
        "Allow to send in arguments formatted as 'key=value', so the order of the parameters does not matter (called 'kwargs' in Python documentation), e.g.:\n",
        "\n",
        "```\n",
        "def my_function(child3, child2, child1):\n",
        "  print(\"The youngest child is \" + child3)\n",
        "\n",
        "my_function(child1 = \"Emil\", child2 = \"Tobias\", child3 = \"Linus\")\n",
        "```"
      ],
      "metadata": {
        "id": "bzHk-IvCdpqU"
      }
    },
    {
      "cell_type": "markdown",
      "source": [
        "### Arbitrary number of arguments (*args)\n",
        "An arbitrary number of arguments may be used. It suffices to append '*' before the parameter name in the function definition. Then the function will expect a tuple as argument, e.g.:\n",
        "\n",
        "```\n",
        "def my_function(*kids):\n",
        "  print(\"The youngest child is \" + kids[2])\n",
        "\n",
        "my_function(\"Emil\", \"Tobias\", \"Linus\")\n",
        "#prints 'The youngest child is Linus' because the index used was '2' in 'kids[2]'.\n",
        "```\n",
        "Note that it is important to provide the index of the tuple."
      ],
      "metadata": {
        "id": "5UM42gc2w5GV"
      }
    },
    {
      "cell_type": "markdown",
      "source": [
        "### Arbitrary keyword arguments (*kwargs)\n",
        "Can be used when the number of parameters is unknown. Then the function can be called and the argument passed must be within a dictionary. Use two asterisks ('**') before the  arbitrary keyword parameter, e.g.:\n",
        "\n",
        "```\n",
        "def my_function(**personal_data)\n",
        "  print(\"I am \" + personal_data[\"age\"] + \" years old.\")\n",
        "\n",
        "my_function(Height = \"1.75m\", Nationality = \"Martian\", age = \"36\")\n",
        "```"
      ],
      "metadata": {
        "id": "lIykiO_jw9rn"
      }
    },
    {
      "cell_type": "markdown",
      "source": [
        "## Default parameter"
      ],
      "metadata": {
        "id": "Q_XVkJmnuimV"
      }
    },
    {
      "cell_type": "code",
      "source": [
        "def my_function(country = \"Norway\"):\n",
        "  print(\"I am from \" + country)\n",
        "\n",
        "my_function(\"Sweden\")\n",
        "my_function(\"India\")\n",
        "my_function() # 'Norway' is the default, if another argument is not passed into the function\n",
        "my_function(\"Jamaica\")"
      ],
      "metadata": {
        "colab": {
          "base_uri": "https://localhost:8080/"
        },
        "id": "h_--HZyIu96h",
        "outputId": "116a204c-2c3b-4bc4-9a45-dc069d8d1e0b"
      },
      "execution_count": null,
      "outputs": [
        {
          "output_type": "stream",
          "name": "stdout",
          "text": [
            "I am from Sweden\n",
            "I am from India\n",
            "I am from Norway\n",
            "I am from Jamaica\n"
          ]
        }
      ]
    },
    {
      "cell_type": "markdown",
      "source": [
        "## Pass a list as an argument\n",
        "e.g.:"
      ],
      "metadata": {
        "id": "cmfMtIGCv3-e"
      }
    },
    {
      "cell_type": "code",
      "source": [
        "def my_function(food):\n",
        "  for x in food:\n",
        "    print(x)\n",
        "\n",
        "fruits = [\"apple\", \"banana\", \"cherry\"]\n",
        "\n",
        "my_function(fruits)"
      ],
      "metadata": {
        "id": "K1shecXhyHTA"
      },
      "execution_count": null,
      "outputs": []
    },
    {
      "cell_type": "markdown",
      "source": [
        "## Return value\n",
        "E.g.,"
      ],
      "metadata": {
        "id": "cXAOPGEK0H54"
      }
    },
    {
      "cell_type": "code",
      "source": [
        "def calc_func(x):\n",
        "    return 5 * x\n",
        "\n",
        "print(calc_func(0))\n",
        "print(calc_func(1))"
      ],
      "metadata": {
        "colab": {
          "base_uri": "https://localhost:8080/"
        },
        "id": "6E1uPuMX0KBb",
        "outputId": "19129ded-b921-4675-d9e7-ad7f66447d44"
      },
      "execution_count": null,
      "outputs": [
        {
          "output_type": "stream",
          "name": "stdout",
          "text": [
            "0\n",
            "5\n"
          ]
        }
      ]
    },
    {
      "cell_type": "markdown",
      "source": [
        "## Pass statement\n",
        "Works in the same way as in the case of If.. Else (see there)."
      ],
      "metadata": {
        "id": "engZvpAH0xGc"
      }
    },
    {
      "cell_type": "markdown",
      "source": [
        "## Recursion\n",
        "Recursion means that the function can call itself (in a loopwise fashion).\n",
        "\n",
        "Example:"
      ],
      "metadata": {
        "id": "iX29WZnN08sv"
      }
    },
    {
      "cell_type": "code",
      "source": [
        "def tri_recursion(k):\n",
        "  if(k > 0):\n",
        "    result = k + tri_recursion(k - 1)\n",
        "    print(result)\n",
        "  else:\n",
        "    result = 0\n",
        "  return result\n",
        "\n",
        "print(\"\\n\\nRecursion Example Results\")\n",
        "tri_recursion(6)"
      ],
      "metadata": {
        "colab": {
          "base_uri": "https://localhost:8080/"
        },
        "id": "V16SQJyEAhwN",
        "outputId": "06242bfc-d54a-4c1c-df64-26dca972aa9e"
      },
      "execution_count": null,
      "outputs": [
        {
          "output_type": "stream",
          "name": "stdout",
          "text": [
            "\n",
            "\n",
            "Recursion Example Results\n",
            "1\n",
            "3\n",
            "6\n",
            "10\n",
            "15\n",
            "21\n"
          ]
        },
        {
          "output_type": "execute_result",
          "data": {
            "text/plain": [
              "21"
            ]
          },
          "metadata": {},
          "execution_count": 19
        }
      ]
    },
    {
      "cell_type": "markdown",
      "source": [
        "Note that the print() function only comes to k=6 after going through all the lower integers (that, equal or below 0, always result in 0), so that for the intermediate values of k (k=1,...5) print() comes first.\n",
        "\n",
        "Taking it one by one:\n",
        "\n",
        "```\n",
        "k = 0 -> result = 0\n",
        "k = 1 -> result = 1 + 0 = 1\n",
        "k = 2 -> result = 2 + 1 = 3\n",
        "k = 3 -> result = 3 + 3 = 6\n",
        "k = 4 -> result = 4 + 6 = 10\n",
        "k = 5 -> result = 5 + 10 = 15\n",
        "k = 6 -> result = 6 + 15 = 21\n",
        "```"
      ],
      "metadata": {
        "id": "LawF2185Amjc"
      }
    },
    {
      "cell_type": "markdown",
      "source": [
        "# Lambda\n",
        "Lambda functions are recommended when you need a small anonynomous function for a short period of time, for example:"
      ],
      "metadata": {
        "id": "KpXcdT3LEf7k"
      }
    },
    {
      "cell_type": "code",
      "source": [
        "def multiply_by(n):\n",
        "  return lambda a : a * n\n",
        "\n",
        "double_of = multiply_by(2) # creates a new function, that multiplies the argument by 2\n",
        "triple_of = multiply_by(3) # creates a new function, that multiplies the argument by 3\n",
        "print(type(double_of))\n",
        "print(type(triple_of))\n",
        "\n",
        "print(double_of(11)) # define a = 11\n",
        "print(triple_of(10)) # define a = 10"
      ],
      "metadata": {
        "colab": {
          "base_uri": "https://localhost:8080/"
        },
        "id": "Qnrw5ksxIG89",
        "outputId": "202a4485-09e4-4a51-9ae6-2d55640911fd"
      },
      "execution_count": null,
      "outputs": [
        {
          "output_type": "stream",
          "name": "stdout",
          "text": [
            "<class 'function'>\n",
            "<class 'function'>\n",
            "22\n",
            "30\n"
          ]
        }
      ]
    },
    {
      "cell_type": "markdown",
      "source": [
        "# Arrays\n",
        "* Python does not support arrays, but lists can be used instead\n",
        "* To work with arrays it is important to use the NumPy library."
      ],
      "metadata": {
        "id": "VT9DtX1IR2or"
      }
    },
    {
      "cell_type": "markdown",
      "source": [
        "# Object-oriented programming (OOP)\n",
        "OOP is focused on DRY (__D__on't __R__epeat __Y__ourself)."
      ],
      "metadata": {
        "id": "TX9-EPnRdyog"
      }
    },
    {
      "cell_type": "markdown",
      "source": [
        "## Python classes and objects\n",
        "\n",
        "__Class__\n",
        "* Object constructor ('blueprint' of an object), does not allocate memory yet that an object requires\n",
        "* From classes, one can create instances, i.e., objects\n",
        "\n",
        "Typically, classes are built according to the following format:\n",
        "\n",
        "```\n",
        "class Parrot:\n",
        "\n",
        "    # class attributes\n",
        "    species = \"bird\"\n",
        "\n",
        "    # instance attributes (properties of the object)\n",
        "    def __init__(self, name, age):\n",
        "        self.name = name\n",
        "        self.age = age\n",
        "```\n",
        "\n",
        "__Note__ that 'species' is an *attribute of  the class*. \"Attribues of the class are the same for all instances of the class\". \n",
        "\n",
        "Other properties (instance attributes) will vary according to the object (as defined by `def __init__` and what follows there). See the example below from [programiz](https://www.programiz.com/python-programming/object-oriented-programming).\n",
        "\n",
        "\n",
        "__Objects__\n",
        "*   Product of the 'instantiation of a class'\n",
        "*   Contain properties and methods"
      ],
      "metadata": {
        "id": "gNAIfk2WS6D3"
      }
    },
    {
      "cell_type": "code",
      "source": [
        "class Parrot:\n",
        "\n",
        "    # class attribute\n",
        "    species = \"bird\"\n",
        "\n",
        "    # instance attribute\n",
        "    def __init__(self, name, age):\n",
        "        self.name = name\n",
        "        self.age = age\n",
        "\n",
        "# instantiate the Parrot class\n",
        "blu = Parrot(\"Blu\", 10)\n",
        "woo = Parrot(\"Woo\", 15)\n",
        "\n",
        "# access the class attributes\n",
        "print(\"Blu is a {}\".format(blu.__class__.species))\n",
        "print(\"Woo is also a {}\".format(woo.__class__.species))\n",
        "\n",
        "# access the instance attributes\n",
        "print(\"{} is {} years old\".format( blu.name, blu.age))\n",
        "print(\"{} is {} years old\".format( woo.name, woo.age))"
      ],
      "metadata": {
        "colab": {
          "base_uri": "https://localhost:8080/"
        },
        "id": "e0GGM1f8l4TB",
        "outputId": "1152351e-af6e-4acc-e310-a43ee857ac04"
      },
      "execution_count": null,
      "outputs": [
        {
          "output_type": "stream",
          "name": "stdout",
          "text": [
            "Blu is a bird\n",
            "Woo is also a bird\n",
            "Blu is 10 years old\n",
            "Woo is 15 years old\n"
          ]
        }
      ]
    },
    {
      "cell_type": "markdown",
      "source": [
        "### built-in `__init__`\n",
        "* it is a function that assigns values to object properties\n",
        "e.g.:\n",
        "\n",
        "```\n",
        "class Person:\n",
        "  def __init__(self, name, age): # define a class\n",
        "    self.name = name # this is a property of the class\n",
        "    self.age = age # this is another property of the class\n",
        "\n",
        "p1 = Person(\"John\", 36) # define the object\n",
        "\n",
        "print(p1.name) # print 'John'\n",
        "print(p1.age)  # print '36'\n",
        "```\n",
        "\n",
        "in the example the new class 'Person' is defined. \n",
        "\n",
        "Note that the 'self' argument is essential, but apparently does not do anything...\n",
        "\n",
        "The `__init__` function is called every time to create an object of class Person.\n",
        "\n"
      ],
      "metadata": {
        "id": "3ka0m_RHWQBk"
      }
    },
    {
      "cell_type": "code",
      "source": [
        "class Trip:\n",
        "  def __init__(self, location, length):\n",
        "    self.location = location\n",
        "    self.length = length # in days\n",
        "\n",
        "p1 = Trip(\"Vancouver\", 20)\n",
        "\n",
        "print(p1.location)\n",
        "print(p1.length)"
      ],
      "metadata": {
        "colab": {
          "base_uri": "https://localhost:8080/"
        },
        "id": "CTg0sz1jW3tZ",
        "outputId": "e689c360-b7ee-4341-c0e6-239304642be5"
      },
      "execution_count": null,
      "outputs": [
        {
          "output_type": "stream",
          "name": "stdout",
          "text": [
            "Vancouver\n",
            "20\n"
          ]
        }
      ]
    },
    {
      "cell_type": "markdown",
      "source": [
        "### Object methods\n",
        "Methods are functions that belong to the object. \n",
        "\n",
        "For example, for lists (which are *objects*) are associated functions like clear(), append(), etc. (which are *methods*)\n",
        "\n"
      ],
      "metadata": {
        "id": "Mfje1oBBfB8V"
      }
    },
    {
      "cell_type": "code",
      "source": [
        "class Trip:\n",
        "  def __init__(self, location, length):\n",
        "    self.location = location\n",
        "    self.length = length # in days\n",
        "\n",
        "  def trip_info(self):\n",
        "    print(\"My trip will be in \" + self.location + \", for %s days.\" % self.length)\n",
        "\n",
        "p1 = Trip(\"Vancouver, Canada\", 20)\n",
        "\n",
        "print(p1.location)\n",
        "print(p1.length)\n",
        "p1.trip_info()\n",
        "\n",
        "p1.location = \"Helsinki, Finland\" # changed the property 'location'\n",
        "p1.length = 13 # changed the property 'length'\n",
        "p1.trip_info()"
      ],
      "metadata": {
        "colab": {
          "base_uri": "https://localhost:8080/"
        },
        "id": "tgNsKaRqh-wC",
        "outputId": "f1b84aae-e967-4513-e82b-7baf4dc38caf"
      },
      "execution_count": null,
      "outputs": [
        {
          "output_type": "stream",
          "name": "stdout",
          "text": [
            "Vancouver, Canada\n",
            "20\n",
            "My trip will be in Vancouver, Canada, for 20 days.\n",
            "My trip will be in Helsinki, Finland, for 13 days.\n"
          ]
        }
      ]
    },
    {
      "cell_type": "markdown",
      "source": [
        "### Self parameter\n",
        "__self__ \"is a reference to the current instance of the class, and is used to access variables that belongs to the class\" ([w3schools](https://www.w3schools.com/python/python_classes.asp)).\n",
        "\n",
        "By the way, it does not have to be called 'self', but it can be called by any other name, as long as it is the first parameter of the class of any function of the class.\n",
        "\n"
      ],
      "metadata": {
        "id": "LMG0Hqjvif5q"
      }
    },
    {
      "cell_type": "markdown",
      "source": [
        "### Delete object properties and objects entirely\n",
        "del some_object.some_property\n",
        "del some_object\n"
      ],
      "metadata": {
        "id": "sP8HxamZkMXp"
      }
    },
    {
      "cell_type": "markdown",
      "source": [
        "### Pass statement\n",
        "As before for If... Else, For-loops, etc.:\n",
        "\n",
        "```\n",
        "class Person:\n",
        "  pass\n",
        "```"
      ],
      "metadata": {
        "id": "sj20QeZGkhre"
      }
    },
    {
      "cell_type": "markdown",
      "source": [
        "## Inheritance\n",
        "Inheritance allows a *child* class (or *base* class) to retain properties and methods from a *parent* class (or *derived* class).\n",
        "\n",
        "The parent class can be created as any class.\n",
        "The child class is created having the parent class as an argument.\n",
        "\n",
        "Base (parent) class:\n",
        "\n",
        "```\n",
        "class Person:\n",
        "  def __init__(self, fname, lname):\n",
        "    self.firstname = fname\n",
        "    self.lastname = lname\n",
        "\n",
        "  def printname(self):\n",
        "    print(self.firstname, self.lastname)\n",
        "\n",
        "#Use the Person class to create an object, and then execute the printname method:\n",
        "\n",
        "x = Person(\"John\", \"Doe\")\n",
        "x.printname()\n",
        "```\n",
        "\n",
        "Derived (child) class:\n",
        "\n",
        "```\n",
        "class Student(Person):\n",
        "  pass # this class will be basically the same as the base class, thus the 'pass' statement\n",
        "```\n",
        "\n",
        "In order to attribute new properties to the derived class, one can use `__init__` (but it will override the inheritance of the parent's `__init__` function). \n",
        "\n",
        "To ensure that the child will inherit the parent's `__init__`, one needs to add 'parent_class.`__init__`', e.g.:\n",
        "\n",
        "```\n",
        "class Student(Person):\n",
        "  def __init__(self, fname, lname):\n",
        "    Person.__init__(self, fname, lname)\n",
        "```"
      ],
      "metadata": {
        "id": "lpULy50WkyeU"
      }
    },
    {
      "cell_type": "markdown",
      "source": [
        "### super() Function\n",
        "super() $\\rightarrow$ allows the derived class to inherit all the properties and methods of the base class, with the following the syntax:\n",
        "\n",
        "```\n",
        "class Student(Person):\n",
        "  def __init__(self, fname, lname):\n",
        "    super().__init__(fname, lname)\n",
        "```\n",
        "e.g.,\n",
        "\n",
        "```\n",
        "class Student(Person):\n",
        "  def __init__(self, fname, lname):\n",
        "    super().__init__(fname, lname)\n",
        "    self.graduationyear = 2019\n",
        "```\n",
        "\n",
        "or even\n",
        "\n",
        "\n"
      ],
      "metadata": {
        "id": "rDo7xWwgtBKw"
      }
    },
    {
      "cell_type": "code",
      "source": [
        "class Person:\n",
        "  def __init__(self, fname, lname):\n",
        "    self.firstname = fname\n",
        "    self.lastname = lname\n",
        "\n",
        "  def printname(self):\n",
        "    print(self.firstname, self.lastname)\n",
        "\n",
        "class Student(Person):\n",
        "  def __init__(self, fname, lname, year):\n",
        "    super().__init__(fname, lname)\n",
        "    self.graduationyear = year\n",
        "\n",
        "  def printinfo(self):\n",
        "    print(self.firstname, self.lastname + \" was born in %s\" % self.graduationyear)\n",
        "\n",
        "someone = Student(\"Barnabus\", \"Stinson\", 1984)\n",
        "someone.printname() # note that now we are using a method from the parent class\n",
        "someone.printinfo() # note that now we are using a method from the derived class"
      ],
      "metadata": {
        "colab": {
          "base_uri": "https://localhost:8080/"
        },
        "id": "6Z0hV2ScFqVH",
        "outputId": "c7d557a0-5d69-4f13-ef09-27dc0a66bc25"
      },
      "execution_count": null,
      "outputs": [
        {
          "output_type": "stream",
          "name": "stdout",
          "text": [
            "Barnabus Stinson\n",
            "Barnabus Stinson was born in 1984\n"
          ]
        }
      ]
    },
    {
      "cell_type": "markdown",
      "source": [
        "Note that the parameters 'fname' and 'lname' are in both the derived and base classes; whereas 'year' is only in the derived class."
      ],
      "metadata": {
        "id": "VUzhg583GSgu"
      }
    },
    {
      "cell_type": "markdown",
      "source": [
        "## Iterators\n",
        "* Iterator $\\rightarrow$ object that can be iterated upon, returning a piece of data one element at a time. It contains a countable number of values.\n",
        " * __Iterator protocol__ $\\rightarrow$ an iterator must present two special methods: `__iter__()` and `__next__()`.\n",
        "\n",
        " *Personal statement: I have come to think that perhaps iterators are like a baggage carousel. The `__iter__()` is like the belt itself where every baggage is put on, one at a time (for simplicity), while the `__next()__` works like a command we give to move the belt a fixed, integer (thus countable) increment at a time.*\n",
        "* Iterable is an object which an iterator can be obtained from.\n",
        " * Examples of iterable objects are given by lists, tuples, strings. From these, by using iter(), we get an iterator (the iter() calls the `__iter__()` method inside of them); and using the next() method we can iterate through the items of the object (this calls the `__next__()` method)\n",
        "\n",
        "Of course, we usually use for or while to iterate through an object. These functions do automatically what the `__next__()` method does manually."
      ],
      "metadata": {
        "id": "P55yOPVmHxPK"
      }
    },
    {
      "cell_type": "code",
      "source": [
        "mytuple = (\"apple\", \"banana\", \"cherry\")\n",
        "myit = iter(mytuple)\n",
        "\n",
        "print(next(myit))\n",
        "print(next(myit))\n",
        "# another way to move to the next item is through the following more explicit manner\n",
        "print(myit.__next__()) # same as print(next(myit))\n",
        "# to use next(myit) again would fall into error (there is no more items in the tuple to iterate to)"
      ],
      "metadata": {
        "colab": {
          "base_uri": "https://localhost:8080/"
        },
        "id": "ItnXEw4wNN4q",
        "outputId": "76257f30-9dbc-4b76-96f3-11e15ff83649"
      },
      "execution_count": null,
      "outputs": [
        {
          "output_type": "stream",
          "name": "stdout",
          "text": [
            "apple\n",
            "banana\n",
            "cherry\n"
          ]
        }
      ]
    },
    {
      "cell_type": "markdown",
      "source": [
        "### The working of for-loops\n",
        "Consider the following loop:\n",
        "\n",
        "```\n",
        "for element in iterable:\n",
        "    # do something with element\n",
        "```\n",
        "\n",
        "What the for loop does is:\n",
        "\n",
        "```\n",
        "# create an iterator object from that iterable\n",
        "iter_obj = iter(iterable)\n",
        "\n",
        "# infinite loop\n",
        "while True:\n",
        "    try:\n",
        "        # get the next item\n",
        "        element = next(iter_obj)\n",
        "        # do something with element\n",
        "    except StopIteration:\n",
        "        # if StopIteration is raised, break from loop\n",
        "        break\n",
        "```\n",
        "\n"
      ],
      "metadata": {
        "id": "Ceqg1PcdQL1N"
      }
    },
    {
      "cell_type": "markdown",
      "source": [
        "### Building custom iterators\n",
        "The path to build custom iterators is paved by the above: create an iterator with iter(); move from one element to another with next() and break the loop raising StopIteration once the iterable's been iterated through.\n",
        "\n",
        "[E.g.](https://www.programiz.com/python-programming/iterator):"
      ],
      "metadata": {
        "id": "L_9u1bnbUkCo"
      }
    },
    {
      "cell_type": "code",
      "source": [
        "class PowTwo:\n",
        "    \"\"\"Class to implement an iterator of powers of two\"\"\"\n",
        "\n",
        "    def __init__(self, max=0): # maximum power of 2. If none is given, the default is set to 0.\n",
        "        self.max = max\n",
        "\n",
        "    def __iter__(self): # some counter\n",
        "        self.n = 0\n",
        "        return self\n",
        "\n",
        "    def __next__(self): # counter moves from 0 to max, giving 2^n\n",
        "        if self.n <= self.max:\n",
        "            result = 2 ** self.n\n",
        "            self.n += 1\n",
        "            return result\n",
        "        else:\n",
        "            raise StopIteration # stops when the if condition is violated, i.e., self.n > self.max\n",
        "            # if this provision was not made, the iteration would go on forever\n",
        "\n",
        "\n",
        "# create an object\n",
        "numbers = PowTwo(3) # Here we define the object ('instantiation' of the object).\n",
        "\n",
        "# create an iterable from the object\n",
        "i = iter(numbers) \n",
        "# Define the iterator from the iterable object \n",
        "#(note, the object contains both `__iter__` and `__next__()`)\n",
        "\n",
        "# Using next to get to the next iterator element, one at a time\n",
        "print(next(i))\n",
        "print(next(i))\n",
        "print(next(i))\n",
        "print(next(i))\n",
        "print(next(i))"
      ],
      "metadata": {
        "colab": {
          "base_uri": "https://localhost:8080/",
          "height": 392
        },
        "id": "D0JBrTdFS8Yf",
        "outputId": "e548e4ac-0208-45b1-8f68-3a75acca6c65"
      },
      "execution_count": null,
      "outputs": [
        {
          "output_type": "stream",
          "name": "stdout",
          "text": [
            "1\n",
            "2\n",
            "4\n",
            "8\n"
          ]
        },
        {
          "output_type": "error",
          "ename": "StopIteration",
          "evalue": "ignored",
          "traceback": [
            "\u001b[0;31m---------------------------------------------------------------------------\u001b[0m",
            "\u001b[0;31mStopIteration\u001b[0m                             Traceback (most recent call last)",
            "\u001b[0;32m<ipython-input-14-e79078ee3bcd>\u001b[0m in \u001b[0;36m<module>\u001b[0;34m()\u001b[0m\n\u001b[1;32m     30\u001b[0m \u001b[0mprint\u001b[0m\u001b[0;34m(\u001b[0m\u001b[0mnext\u001b[0m\u001b[0;34m(\u001b[0m\u001b[0mi\u001b[0m\u001b[0;34m)\u001b[0m\u001b[0;34m)\u001b[0m\u001b[0;34m\u001b[0m\u001b[0;34m\u001b[0m\u001b[0m\n\u001b[1;32m     31\u001b[0m \u001b[0mprint\u001b[0m\u001b[0;34m(\u001b[0m\u001b[0mnext\u001b[0m\u001b[0;34m(\u001b[0m\u001b[0mi\u001b[0m\u001b[0;34m)\u001b[0m\u001b[0;34m)\u001b[0m\u001b[0;34m\u001b[0m\u001b[0;34m\u001b[0m\u001b[0m\n\u001b[0;32m---> 32\u001b[0;31m \u001b[0mprint\u001b[0m\u001b[0;34m(\u001b[0m\u001b[0mnext\u001b[0m\u001b[0;34m(\u001b[0m\u001b[0mi\u001b[0m\u001b[0;34m)\u001b[0m\u001b[0;34m)\u001b[0m\u001b[0;34m\u001b[0m\u001b[0;34m\u001b[0m\u001b[0m\n\u001b[0m",
            "\u001b[0;32m<ipython-input-14-e79078ee3bcd>\u001b[0m in \u001b[0;36m__next__\u001b[0;34m(self)\u001b[0m\n\u001b[1;32m     16\u001b[0m             \u001b[0;32mreturn\u001b[0m \u001b[0mresult\u001b[0m\u001b[0;34m\u001b[0m\u001b[0;34m\u001b[0m\u001b[0m\n\u001b[1;32m     17\u001b[0m         \u001b[0;32melse\u001b[0m\u001b[0;34m:\u001b[0m\u001b[0;34m\u001b[0m\u001b[0;34m\u001b[0m\u001b[0m\n\u001b[0;32m---> 18\u001b[0;31m             \u001b[0;32mraise\u001b[0m \u001b[0mStopIteration\u001b[0m\u001b[0;34m\u001b[0m\u001b[0;34m\u001b[0m\u001b[0m\n\u001b[0m\u001b[1;32m     19\u001b[0m \u001b[0;34m\u001b[0m\u001b[0m\n\u001b[1;32m     20\u001b[0m \u001b[0;34m\u001b[0m\u001b[0m\n",
            "\u001b[0;31mStopIteration\u001b[0m: "
          ]
        }
      ]
    },
    {
      "cell_type": "markdown",
      "source": [
        "### [Infinite iterators](https://www.programiz.com/python-programming/iterator)\n",
        "\n",
        "There are two ways to create infinite iterators.\n",
        "\n",
        "\n",
        "1.   One is using the iter() sentinel. The iter() accepts arguments as iter(some_object,sentinel). The iterator keeps on calling the object until the sentinel is met.\n",
        "\n",
        " Let's say we use as object the int() function. Note that this function always returns 0:"
      ],
      "metadata": {
        "id": "taT4zzTlYx9d"
      }
    },
    {
      "cell_type": "code",
      "source": [
        "print(int())"
      ],
      "metadata": {
        "colab": {
          "base_uri": "https://localhost:8080/"
        },
        "id": "ZPXvvZaLlcNR",
        "outputId": "5d448c80-129e-4a11-8f47-dc94829d0fe8"
      },
      "execution_count": null,
      "outputs": [
        {
          "output_type": "stream",
          "name": "stdout",
          "text": [
            "0\n"
          ]
        }
      ]
    },
    {
      "cell_type": "markdown",
      "source": [
        "> So we can do\n",
        "```\n",
        "my_inf_iterator = iter(int,1)\n",
        "```\n",
        "> We know for a fact that int() will always return 0. Therefore, `my_inf_iterator` will always return the same value, because the sentinel will never be met:"
      ],
      "metadata": {
        "id": "LAzvmyoIljWp"
      }
    },
    {
      "cell_type": "code",
      "source": [
        "my_inf_iterator = iter(int,1)\n",
        "print(next(my_inf_iterator))\n",
        "print(next(my_inf_iterator))\n",
        "print(next(my_inf_iterator))\n",
        "print(next(my_inf_iterator))\n",
        "print(next(my_inf_iterator))"
      ],
      "metadata": {
        "colab": {
          "base_uri": "https://localhost:8080/"
        },
        "id": "T09-5Ne1mAN_",
        "outputId": "7bcde88b-9ffe-431a-f65b-dad0032c9c01"
      },
      "execution_count": null,
      "outputs": [
        {
          "output_type": "stream",
          "name": "stdout",
          "text": [
            "0\n",
            "0\n",
            "0\n",
            "0\n",
            "0\n"
          ]
        }
      ]
    },
    {
      "cell_type": "markdown",
      "source": [
        "2.   Another way is to build a class whose iterator returns numbers indefinitely. The example below returns odd numbers:\n",
        "```\n",
        "class InfIter:\n",
        "    \"\"\"Infinite iterator to return all\n",
        "        odd numbers\"\"\"\n",
        "\n",
        "    def __iter__(self):\n",
        "        self.num = 1\n",
        "        return self\n",
        "\n",
        "    def __next__(self):\n",
        "        num = self.num\n",
        "        self.num += 2\n",
        "        return num\n",
        "```"
      ],
      "metadata": {
        "id": "8D2FdJ0UmfxV"
      }
    },
    {
      "cell_type": "markdown",
      "source": [
        "# Scope - Global and local variables\n"
      ],
      "metadata": {
        "id": "ar4scRytvy-z"
      }
    },
    {
      "cell_type": "markdown",
      "source": [
        "Let us say *x* is a variable. The extension to which this variable can be read is its scope.\n",
        "\n",
        "* If *x* is defined outside of any function (i.e., in the main body of the code), it is __global__, thus belongs to the global scope.\n",
        "* If *x* is defined inside a function, it is deemed __local__, thus belongs to the local scope. Note that, in this case, functions inside that where *x* was defined will also be able to read *x*'s value.\n",
        "\n",
        "By the way, if a variable is created both outside and inside a function with the same name, it will retain its global value and will not be affected by the local value."
      ],
      "metadata": {
        "id": "5lLj5OeRwSqE"
      }
    },
    {
      "cell_type": "code",
      "source": [
        "x = \"awesome\"\n",
        "\n",
        "def myfunc():\n",
        "  x = \"fantastic\"\n",
        "  print(\"Python is \" + x) # here, 'x' used is that of local scope\n",
        "\n",
        "myfunc()\n",
        "\n",
        "print(\"Python is \" + x) # here, 'x' used is that of global scope"
      ],
      "metadata": {
        "id": "gq51j6wfyP1j"
      },
      "execution_count": null,
      "outputs": []
    },
    {
      "cell_type": "markdown",
      "source": [
        "## Create a global variable from a local scope\n",
        "One can create/modify a global variable from inside a function definition using the __global__ keyword, e.g.:\n"
      ],
      "metadata": {
        "id": "-j5xu6RAyQnb"
      }
    },
    {
      "cell_type": "code",
      "source": [
        "x = 1.17\n",
        "\n",
        "def myfunc():\n",
        "  global x\n",
        "  x = 3.1415\n",
        "\n",
        "myfunc()\n",
        "\n",
        "print(x)"
      ],
      "metadata": {
        "colab": {
          "base_uri": "https://localhost:8080/"
        },
        "id": "wW2J6eRcy3mk",
        "outputId": "17e9f40d-f9e6-49c3-e2cb-446c55af8a0e"
      },
      "execution_count": null,
      "outputs": [
        {
          "output_type": "stream",
          "name": "stdout",
          "text": [
            "3.1415\n"
          ]
        }
      ]
    },
    {
      "cell_type": "markdown",
      "source": [
        "# Modules\n",
        "A module is a file with some Python code inside it (thus, necessarily with extension .py), containing variables and functions.\n",
        "\n",
        "Let us suppose we have a module with the function call_my_name and the variable random_name inside it:\n",
        "```\n",
        "random_name = \"Batista\"\n",
        "def call_my_name(myname=random_name):\n",
        "  print(\"My name is \"+myname)\n",
        "```\n",
        "then we can put this code inside a file called my_module.py and save it in the environment. To call it, just use __import__, and to call the function and the variable, use the syntax:\n",
        "```\n",
        "import my_module\n",
        "  my_module.call_my_name(\"Mario\")\n",
        "  another_name = my_module.random_name # another_name will get \"Batista\" from random_name inside the module\n",
        "```"
      ],
      "metadata": {
        "id": "jyE3Hv3uy702"
      }
    },
    {
      "cell_type": "markdown",
      "source": [
        "## Alias for the module\n",
        "Some modules might have a long name. For this reason and whatever other, we can use an alias, e.g.,"
      ],
      "metadata": {
        "id": "xiYbalNg2W_I"
      }
    },
    {
      "cell_type": "code",
      "source": [
        "import my_module as mm\n",
        "  mm.call_my_name(\"Mario\")\n",
        "  another_name = mm.random_name\n",
        "# produce the same results as above"
      ],
      "metadata": {
        "id": "mNNzi2yw2kJ-"
      },
      "execution_count": null,
      "outputs": []
    },
    {
      "cell_type": "markdown",
      "source": [
        "## dir() Function\n",
        "This function lists all the modules' function names.\n",
        "E.g.:\n",
        "```\n",
        "import platform # this is a built-in module\n",
        "\n",
        "x = dir(platform)\n",
        "print(x) # prints all the functions' names\n",
        "```"
      ],
      "metadata": {
        "id": "5QQPfvIS2816"
      }
    },
    {
      "cell_type": "markdown",
      "source": [
        "## Importing parts of a module\n",
        "Say we have the previous module my_module.py\n",
        "```\n",
        "random_name = \"Batista\"\n",
        "def call_my_name(myname=random_name):\n",
        "  print(\"My name is \"+myname)\n",
        "```\n",
        "and we only want to get the variable random_name, we use the __from__ with __import__ keywords:\n",
        "```\n",
        "from my_module import random_name\n",
        "```\n",
        "__BEWARE__: if we do so, the syntax changes:\n",
        "Now, in order to print random_name we use\n",
        "```\n",
        "print(random_name) # NOT print(my_module.random_name)\n",
        "```"
      ],
      "metadata": {
        "id": "x6DEQVXQ3SJI"
      }
    },
    {
      "cell_type": "markdown",
      "source": [
        "# Datetime\n",
        "Although Python does not have a date type, the module __datetime__ can be used to operate on dates, see below:"
      ],
      "metadata": {
        "id": "UYK7EGTv4aCx"
      }
    },
    {
      "cell_type": "code",
      "source": [
        "import datetime\n",
        "\n",
        "x = datetime.datetime.now() # provides year-month-day hour-minute-seconds\n",
        "print(x)"
      ],
      "metadata": {
        "colab": {
          "base_uri": "https://localhost:8080/"
        },
        "id": "GNxSJ92DeAxk",
        "outputId": "1772883e-e805-4bc3-e392-2cf84dd0a5c1"
      },
      "execution_count": null,
      "outputs": [
        {
          "output_type": "stream",
          "name": "stdout",
          "text": [
            "2022-06-22 17:32:09.767584\n"
          ]
        }
      ]
    },
    {
      "cell_type": "markdown",
      "source": [
        "Some methods used by this module are the following:"
      ],
      "metadata": {
        "id": "lMpaItVpeDeh"
      }
    },
    {
      "cell_type": "code",
      "source": [
        "import datetime\n",
        "\n",
        "x = datetime.datetime.now()\n",
        "\n",
        "print(x.year)\n",
        "print(x.strftime(\"%A\"))\n",
        "my_own_date = datetime.datetime(2020, 5, 17) # this creates a date object\n",
        "print(my_own_date)"
      ],
      "metadata": {
        "colab": {
          "base_uri": "https://localhost:8080/"
        },
        "id": "Lu9rgIUAeFB1",
        "outputId": "2a5421be-69b7-4855-b288-41163bfce77e"
      },
      "execution_count": null,
      "outputs": [
        {
          "output_type": "stream",
          "name": "stdout",
          "text": [
            "2022\n",
            "Wednesday\n",
            "2020-05-17 00:00:00\n"
          ]
        }
      ]
    },
    {
      "cell_type": "markdown",
      "source": [
        "## Formatting dates - strftime() method\n",
        "The method __strftime__ formats dates according to a directive, e.g.:\n",
        "```\n",
        "import datetime\n",
        "\n",
        "x = datetime.datetime(2022, 6, 22)\n",
        "\n",
        "print(x.strftime(\"%B\")) # prints the month, June\n",
        "```"
      ],
      "metadata": {
        "id": "nuetgdgIefiH"
      }
    },
    {
      "cell_type": "markdown",
      "source": [
        "From [w3schools](https://www.w3schools.com/python/python_datetime.asp):\n",
        "```\n",
        "%a           Weekday, short version                                         Wed           \n",
        "%A           Weekday, full version                                          Wednesday           \n",
        "\n",
        "%m           Month as a number 01-12                                        12           \n",
        "%w           Weekday as a number 0-6 (0 is Sunday)                          3           \n",
        "%d           Day of the month 01-31                                         31           \n",
        "\n",
        "%b           Month name, short version                                      Dec           \n",
        "%B           Month name, full version                                       December           \n",
        "\n",
        "%y           Year, short version, without century                           18           \n",
        "%Y           Year, full version                                             2018           \n",
        "%H           Hour 00-23 format                                              17           \n",
        "%I           Hour 00-12 format                                              05           \n",
        "%p           AM/PM                                                          PM           \n",
        "%M           Minute 00-59                                                   41           \n",
        "%S           Second 00-59                                                   08           \n",
        "%f           Microsecond 000000-999999                                      548513           \n",
        "%z           UTC offset                                                     +0100           \n",
        "%Z           Timezone                                                       CST           \n",
        "%j           Day number of year 001-366                                     365           \n",
        "%U           Week number of year, Sunday as the first day of week, 00-53    52           \n",
        "%W           Week number of year, Monday as the first day of week, 00-53    52           \n",
        "%c           Local version of date and time                                 Mon Dec 31 17:41:00 2018           \n",
        "%C           Century                                                        20           \n",
        "%x           Local version of date                                          12/31/18           \n",
        "%X           Local version of time                                          17:41:00           \n",
        "%%           A % character                                                  %           \n",
        "%G           ISO 8601 year                                                  2018           \n",
        "%u           ISO 8601 weekday (1-7)                                         1           \n",
        "%V           ISO 8601 weeknumber (01-53)                                    01\n",
        "```"
      ],
      "metadata": {
        "id": "6JDnJocXe1e8"
      }
    },
    {
      "cell_type": "markdown",
      "source": [
        "# Math"
      ],
      "metadata": {
        "id": "4PlSqdoAibkX"
      }
    },
    {
      "cell_type": "markdown",
      "source": [
        "## Built-in functions\n",
        "```\n",
        "x = min(first_number, second_number, third_number)\n",
        "x = max(first_number, second_number, third_number)\n",
        "x = abs(some_number)\n",
        "x = pow(a,b) # same as a^b\n",
        "```"
      ],
      "metadata": {
        "id": "1PGTwRPCijFu"
      }
    },
    {
      "cell_type": "markdown",
      "source": [
        "## Math module\n",
        "```\n",
        "import math\n",
        "```"
      ],
      "metadata": {
        "id": "skO7c_wli57Z"
      }
    },
    {
      "cell_type": "markdown",
      "source": [
        "### Methods (from [w3schools](https://www.w3schools.com/python/module_math.asp))\n",
        "\n",
        "__Basic functions__\n",
        "```\n",
        "math.pow()           value of x to the power of y\n",
        "math.sqrt()          square root of a number\n",
        "math.exp()           returns E raised to the power of x\n",
        "math.factorial()     factorial of a number\n",
        "math.prod()          product of all the elements in an iterable\n",
        "math.fsum()          sum of all items in any iterable (tuples, arrays, lists, etc.)\n",
        "math.fmod()          remainder of x/y\n",
        "math.fabs()          absolute value of a number\n",
        "math.frexp()         mantissa and the exponent, of a specified number\n",
        "math.remainder()     closest value that can make numerator completely divisible by the denominator\n",
        "math.gcd()           greatest common divisor of two integers\n",
        "```\n",
        "\n",
        "* Log function\n",
        "```\n",
        "math.log(x,base)     logarithm of x in some specified base (if not specified, log is set to natural logarithm)\n",
        "math.log()           natural logarithm of a number, or the logarithm of number to base\n",
        "math.log10()         base-10 logarithm of x\n",
        "math.log2()          base-2 logarithm of x\n",
        "```\n",
        "\n",
        "* Trigonometric functions\n",
        "```\n",
        "math.asin()          arc sine of a number\n",
        "math.acos()          arc cosine of a number\n",
        "math.atan()          arc tangent of a number in radians\n",
        "math.atan2()         arc tangent of y/x in radians\n",
        "math.sin()           sine of a number\n",
        "math.cos()           cosine of a number\n",
        "math.tan()           tangent of a number\n",
        "```\n",
        "\n",
        "* Hyberbolic functions\n",
        "```\n",
        "math.asinh()         inverse hyperbolic sine of a number\n",
        "math.acosh()         inverse hyperbolic cosine of a number\n",
        "math.atanh()         inverse hyperbolic tangent of a number\n",
        "math.sinh()          hyperbolic sine of a number\n",
        "math.cosh()          hyperbolic cosine of a number\n",
        "math.tanh()          hyperbolic tangent of a number\n",
        "```\n",
        "\n",
        "* Angles\n",
        "```\n",
        "math.degrees()       converts an angle from radians to degrees\n",
        "math.radians()       converts a degree value into radians\n",
        "```\n",
        "\n",
        "__Special functions__\n",
        "```\n",
        "math.erf()           error function of a number\n",
        "math.erfc()          complementary error function of a number\n",
        "math.expm1()         returns Ex - 1\n",
        "math.gamma()         gamma function at x\n",
        "```\n",
        "\n",
        "__Rounding__\n",
        "```\n",
        "math.ceil()          rounds a number up to the nearest integer\n",
        "math.floor()         rounds a number down to the nearest integer\n",
        "math.trunc()         truncated integer parts of a number\n",
        "```\n",
        "\n",
        "__Combinatory analysis__\n",
        "```\n",
        "math.comb()          number of ways to choose k items from n items without repetition and order\n",
        "```\n",
        "\n",
        "__Checks__\n",
        "```\n",
        "math.isclose()       checks whether two values are close to each other, or not\n",
        "math.isfinite()      checks whether a number is finite or not\n",
        "math.isinf()         checks whether a number is infinite or not\n",
        "math.isnan()         checks whether a value is NaN (not a number) or not\n",
        "```\n",
        "\n",
        "__Others__\n",
        "```\n",
        "math.copysign()      returns a float consisting of the value of the first parameter and the sign of the second parameter\n",
        "math.dist()          euclidean distance between two points (p and q), where p and q are the coordinates of that point\n",
        "math.hypot()         euclidean norm\n",
        "math.isqrt()         rounds a square root number downwards to the nearest integer\n",
        "math.ldexp()         inverse of math.frexp() which is x * (2**i) of the given numbers x and i\n",
        "math.lgamma()        log gamma value of x\n",
        "math.log1p()         natural logarithm of 1+x\n",
        "math.perm()          number of ways to choose k items from n items with order and without repetition\n",
        "```"
      ],
      "metadata": {
        "id": "n7-zCLbZk8aT"
      }
    },
    {
      "cell_type": "markdown",
      "source": [
        "### Constants:\n",
        "\n",
        "```\n",
        "x = math.pi # returns pi=3.1415...\n",
        "x = math.e # returns exp(1)\n",
        "x = math.inf # returns positive float infinity\n",
        "x = math.nan # returns not-a-number\n",
        "x = math.tau # tau is defined as C/R, where C is the circumference and R is the radius of the circumference, so tau = 2pi=6.2831...\n",
        "```"
      ],
      "metadata": {
        "id": "ynKXBpVMk_Pv"
      }
    },
    {
      "cell_type": "markdown",
      "source": [
        "# Regular expressions - RegEx\n",
        "Module __re__ is related to RegEx:\n",
        "\n",
        "```\n",
        "import re\n",
        "```"
      ],
      "metadata": {
        "id": "PNeggnwwolDu"
      }
    },
    {
      "cell_type": "markdown",
      "source": [
        "## RegEx functions\n",
        "*  __findall(some_string,some_variable)__ $\\rightarrow$ find all the occurrences of some_string in some_variable\n",
        "*  __search(some_string,some_variable)__ $\\rightarrow$ look for any occurrence of some_string in some_variable and return either True or False\n",
        "*  __split(some_string,some_variable)__ $\\rightarrow$ look for the occurrences of some_string in some_variable and split some_variable in a number of parts according to the number of occurrences\n",
        "*  __sub(new_string,original_string,some_variable)__ $\\rightarrow$ replace the original string for the new_string in some_variable, any time that the original_string occurs"
      ],
      "metadata": {
        "id": "-nfJVFoasvpJ"
      }
    },
    {
      "cell_type": "code",
      "source": [
        "import re\n",
        "\n",
        "txt = \"The corruption outside is outrageous, out of our freaking minds.\"\n",
        "x = re.findall(\"ou\", txt) # looks for the occurrence of 'ou' in txt.\n",
        "print(x)\n",
        "\n",
        "x = re.search(\"outrageous\",txt)\n",
        "if x:\n",
        "  print(\"'outrageous' is in the variable txt\")\n",
        "else:\n",
        "  print(\"'outrageous' is not in the variable txt\")\n",
        "\n",
        "x = re.split(\"out\",txt)\n",
        "print(x)\n",
        "\n",
        "x = re.sub(\"outrageous\",\"revolting\",txt)\n",
        "print(x)"
      ],
      "metadata": {
        "colab": {
          "base_uri": "https://localhost:8080/"
        },
        "id": "U-mEI_QysSnk",
        "outputId": "5fa7e7a8-4b8b-4fb0-8b2e-8a78c1bd5347"
      },
      "execution_count": null,
      "outputs": [
        {
          "output_type": "stream",
          "name": "stdout",
          "text": [
            "['ou', 'ou', 'ou', 'ou', 'ou']\n",
            "'outrageous' is in the variable txt\n",
            "['The corruption ', 'side is ', 'rageous, ', ' of our freaking minds.']\n",
            "The corruption outside is revolting, out of our freaking minds.\n"
          ]
        }
      ]
    },
    {
      "cell_type": "markdown",
      "source": [
        "## Metacharacters\n",
        "Characters with special attributions, like in Linux.\n",
        "```\n",
        "[]    A set of characters                             \"[a-m]\", \"[1-3]\"           \n",
        "\\    Signals a special sequence (see below)           \"\\d\"           \n",
        "     (can also be used to escape special characters)\n",
        ".    Any character (except newline character)         \"he..o\"           \n",
        "^    Starts with                                      \"^hello\"           \n",
        "$    Ends with                                        \"planet$\"           \n",
        "* Zero or more occurrences                         \"he.*o\"           \n",
        "+    One or more occurrences                          \"he.+o\"           \n",
        "?    Zero or one occurrences                          \"he.?o\"           \n",
        "{}   Exactly the specified number of occurrences      \"he.{2}o\"           \n",
        "|    Either or                                        \"falls|stays\"\n",
        "```\n",
        "\n",
        "*   Special sequences\n",
        "```\n",
        "\\A -> check beginning of the string\n",
        "\\b -> check beginning or end of a word\n",
        "\\B -> check characters, but not if they are at the beginning or end of a word\n",
        "\\d -> check for an integer\n",
        "\\D -> check for a non-integer\n",
        "\\s -> check for a white space\n",
        "\\S -> checks whether there is not a white space\n",
        "\\w -> look for any word character\n",
        "\\W -> string that does not contain any word\n",
        "\\Z -> checks end of the string\n",
        "```\n",
        "E.g.:"
      ],
      "metadata": {
        "id": "mTUGRYaGv9BX"
      }
    },
    {
      "cell_type": "code",
      "source": [
        "import re\n",
        "\n",
        "txt = \"The rain in Spain left 500 hostages\"\n",
        "\n",
        "#Check if the string contains any digits (numbers from 0-9):\n",
        "\n",
        "x = re.findall(\"\\d\", txt)\n",
        "\n",
        "print(x)\n",
        "\n",
        "if x:\n",
        "  print(\"Yes, there is at least one match!\")\n",
        "else:\n",
        "  print(\"No match\")"
      ],
      "metadata": {
        "colab": {
          "base_uri": "https://localhost:8080/"
        },
        "id": "esOGtpWQImQy",
        "outputId": "e4563616-6515-4743-f334-8c8677ea6084"
      },
      "execution_count": null,
      "outputs": [
        {
          "output_type": "stream",
          "name": "stdout",
          "text": [
            "['5', '0', '0']\n",
            "Yes, there is at least one match!\n"
          ]
        }
      ]
    },
    {
      "cell_type": "markdown",
      "source": [
        "## Sets\n",
        "```\n",
        "[arn]      Return a match where one of the specified characters is present \n",
        "[a-n]      Return a match for any lower case character between a and n \n",
        "[^arn]     Return a match for any character EXCEPT a, r, and n \n",
        "[0123]     Return a match where any of the specified digits is present \n",
        "[0-9]      Return a match for any digit between 0 and 9 \n",
        "[0-5][0-9] Return a match for any two-digit numbers from 00 and 59\n",
        "[a-zA-Z]   Return a match for any character between a and z, lower case or upper case \n",
        "[+]        +, *, ., |, (), $,{} have no special meaning inside square brackets \n",
        "           ([+] means to return a match for any + character)\n",
        "```"
      ],
      "metadata": {
        "id": "vFfayeF3JPlb"
      }
    },
    {
      "cell_type": "markdown",
      "source": [
        "# Managing exceptions (errors)\n",
        "Python allows the use to handle errors, as as it is customarily called, *exceptions* through the use of `try` and `except`:\n",
        "* the `try`-block allows the user to try commands\n",
        "* the `except`-block allows the user to handle any exception, or error, should it be the case\n",
        "* the `else` in this context performs actions should the error NOT occur\n",
        "* the `finally`-block lead to actions regardless of the result of the `try`-block.\n",
        "\n",
        "E.g., let us assume we have not defined the variable $x$ below. An error then appears when trying to print it out."
      ],
      "metadata": {
        "id": "hIi4j45qNRZq"
      }
    },
    {
      "cell_type": "code",
      "source": [
        "del x\n",
        "print(x)"
      ],
      "metadata": {
        "colab": {
          "base_uri": "https://localhost:8080/",
          "height": 184
        },
        "id": "1s6GjKlpOKab",
        "outputId": "6ee91976-3316-4318-f73d-1d6b8b16419d"
      },
      "execution_count": null,
      "outputs": [
        {
          "output_type": "error",
          "ename": "NameError",
          "evalue": "ignored",
          "traceback": [
            "\u001b[0;31m---------------------------------------------------------------------------\u001b[0m",
            "\u001b[0;31mNameError\u001b[0m                                 Traceback (most recent call last)",
            "\u001b[0;32m<ipython-input-14-8c23cd95a3fd>\u001b[0m in \u001b[0;36m<module>\u001b[0;34m()\u001b[0m\n\u001b[1;32m      1\u001b[0m \u001b[0;32mdel\u001b[0m \u001b[0mx\u001b[0m\u001b[0;34m\u001b[0m\u001b[0;34m\u001b[0m\u001b[0m\n\u001b[0;32m----> 2\u001b[0;31m \u001b[0mprint\u001b[0m\u001b[0;34m(\u001b[0m\u001b[0mx\u001b[0m\u001b[0;34m)\u001b[0m\u001b[0;34m\u001b[0m\u001b[0;34m\u001b[0m\u001b[0m\n\u001b[0m",
            "\u001b[0;31mNameError\u001b[0m: name 'x' is not defined"
          ]
        }
      ]
    },
    {
      "cell_type": "markdown",
      "source": [
        "In order to handle the exception and thus avoid the error (in this case, a *NameError*), we can do the following:"
      ],
      "metadata": {
        "id": "fTpabjI3OV1z"
      }
    },
    {
      "cell_type": "code",
      "source": [
        "try:\n",
        "  print(x)\n",
        "except:\n",
        "  print(\"An exception occurred.\")"
      ],
      "metadata": {
        "colab": {
          "base_uri": "https://localhost:8080/"
        },
        "id": "mtbIS8qKOd-z",
        "outputId": "5b6d8b92-22f9-4ca7-cd80-bf9d24fe8633"
      },
      "execution_count": null,
      "outputs": [
        {
          "output_type": "stream",
          "name": "stdout",
          "text": [
            "An exception occurred.\n"
          ]
        }
      ]
    },
    {
      "cell_type": "markdown",
      "source": [
        "Now the error message was avoided and the exception was handled properly.\n",
        "\n",
        "Of course, if $x$ was defined, we could have had a case without exception:"
      ],
      "metadata": {
        "id": "PEp3Wj9cOgvp"
      }
    },
    {
      "cell_type": "code",
      "source": [
        "x = 5\n",
        "try:\n",
        "  print(x)\n",
        "except:\n",
        "  print(\"An exception occurred\")\n",
        "else:\n",
        "  print(\"5 times x is given by\",5*x)"
      ],
      "metadata": {
        "colab": {
          "base_uri": "https://localhost:8080/"
        },
        "id": "aiEllNnBOrq_",
        "outputId": "790ba80c-b53b-4be4-efc3-3eea283da3c1"
      },
      "execution_count": null,
      "outputs": [
        {
          "output_type": "stream",
          "name": "stdout",
          "text": [
            "5\n",
            "5 times x is given by 25\n"
          ]
        }
      ]
    },
    {
      "cell_type": "markdown",
      "source": [
        "One can also handle the exception according to the type of error that would be produced otherwise, e.g.:\n"
      ],
      "metadata": {
        "id": "-YQMhDV0O70-"
      }
    },
    {
      "cell_type": "code",
      "source": [
        "try:\n",
        "  print(x)\n",
        "except NameError: # should the prevented error be of type NameError, do...\n",
        "  print(\"Variable x is not defined\")\n",
        "except:\n",
        "  print(\"Something else went wrong\")"
      ],
      "metadata": {
        "id": "e0-2A8VNPY3q"
      },
      "execution_count": null,
      "outputs": []
    },
    {
      "cell_type": "markdown",
      "source": [
        "The `finally`-block occurs regardless of exception occurrence:\n",
        "```\n",
        "try:\n",
        "  print(x)\n",
        "except:\n",
        "  print(\"Something went wrong\")\n",
        "finally:\n",
        "  print(\"The 'try except' is finished\")\n",
        "```"
      ],
      "metadata": {
        "id": "T0jW-rmWPexe"
      }
    },
    {
      "cell_type": "markdown",
      "source": [
        "## Raise an exception\n",
        "To raise an exception means to use the `raise` keyword. The kind of error to be shown can also be defined by the developer, e.g.:"
      ],
      "metadata": {
        "id": "5qPzyqrng6mG"
      }
    },
    {
      "cell_type": "code",
      "source": [
        "x = -1\n",
        "\n",
        "if x < 0:\n",
        "  raise Exception(\"Sorry, no numbers below zero\")"
      ],
      "metadata": {
        "id": "viy1bKVXhf4m"
      },
      "execution_count": null,
      "outputs": []
    },
    {
      "cell_type": "markdown",
      "source": [
        "for an *Exception* type of error. Or for a *TypeError*, do the following:\n",
        "\n"
      ],
      "metadata": {
        "id": "X57DsJ7uhi6T"
      }
    },
    {
      "cell_type": "code",
      "source": [
        "x = \"hello\"\n",
        "\n",
        "if not type(x) is int:\n",
        "  raise TypeError(\"Only integers are allowed\")"
      ],
      "metadata": {
        "id": "GTpv39nEhlIS"
      },
      "execution_count": null,
      "outputs": []
    },
    {
      "cell_type": "markdown",
      "source": [
        "# User Input\n"
      ],
      "metadata": {
        "id": "kFC20YJYhunh"
      }
    },
    {
      "cell_type": "code",
      "source": [
        "username = input(\"Enter username:\")\n",
        "print(\"Username is: \" + username)"
      ],
      "metadata": {
        "colab": {
          "base_uri": "https://localhost:8080/"
        },
        "id": "yfsV2BdRh7U8",
        "outputId": "834929cc-7d96-42fd-cfcf-d7e952f084d8"
      },
      "execution_count": null,
      "outputs": [
        {
          "output_type": "stream",
          "name": "stdout",
          "text": [
            "Enter username:Marley\n",
            "Username is: Marley\n"
          ]
        }
      ]
    },
    {
      "cell_type": "markdown",
      "source": [
        "# String Formatting - format()\n",
        "allows to use placeholder `{}`, which is associated to a respective variable according to the order passed into the print() method. E.g.:"
      ],
      "metadata": {
        "id": "kvX2QVxsiHzq"
      }
    },
    {
      "cell_type": "code",
      "source": [
        "price_coffee = 7 \n",
        "price_grocery = 1000\n",
        "price_apartment = 300\n",
        "\n",
        "txt = \"General conditions in Brazil are exemplified by the following: A cup of coffee costs around R${:.2f}; grocery goes on average for R${:.2f}; and a nice, new apartment in Brazil starts at {} thousand Brazilian reals.\"\n",
        "print(txt.format(price_coffee,price_grocery,price_apartment))"
      ],
      "metadata": {
        "colab": {
          "base_uri": "https://localhost:8080/"
        },
        "id": "xprUJt9zpDPY",
        "outputId": "f6382a5d-ee49-4f06-fddb-05d926694c81"
      },
      "execution_count": null,
      "outputs": [
        {
          "output_type": "stream",
          "name": "stdout",
          "text": [
            "General conditions in Brazil are exemplified by the following: A cup of coffee costs around R$7.00; grocery goes on average for R$1000.00; and a nice, new apartment in Brazil starts at 300 thousand Brazilian reals.\n"
          ]
        }
      ]
    },
    {
      "cell_type": "markdown",
      "source": [
        "## indexes \n",
        "can be used to ensure the proper order is used (also to employ repetition, by using the same index multiple times), e.g.:"
      ],
      "metadata": {
        "id": "aiPPY9DurDX_"
      }
    },
    {
      "cell_type": "code",
      "source": [
        "price_coffee = 7 \n",
        "price_grocery = 1000\n",
        "price_apartment = 300\n",
        "\n",
        "txt = \"General conditions in Brazil are exemplified by the following: A cup of coffee costs around R${2:.2f}; grocery goes on average for R${1:.2f}; and a nice, new apartment in Brazil starts at {0} thousand Brazilian reals.\"\n",
        "print(txt.format(price_apartment, price_grocery, price_coffee))"
      ],
      "metadata": {
        "colab": {
          "base_uri": "https://localhost:8080/"
        },
        "id": "W5ViZkaxrG4d",
        "outputId": "f5dd3d6c-ebfe-414e-bdd7-3ddc3d9d3f5e"
      },
      "execution_count": null,
      "outputs": [
        {
          "output_type": "stream",
          "name": "stdout",
          "text": [
            "General conditions in Brazil are exemplified by the following: A cup of coffee costs around R$7.00; grocery goes on average for R$1000.00; and a nice, new apartment in Brazil starts at 300 thousand Brazilian reals.\n"
          ]
        }
      ]
    },
    {
      "cell_type": "markdown",
      "source": [
        "## names\n",
        "Same purpose as the indexes, but perhaps clearer, e.g.:"
      ],
      "metadata": {
        "id": "KdpWySz_rhyg"
      }
    },
    {
      "cell_type": "code",
      "source": [
        "price_coffee = 7 \n",
        "price_grocery = 1000\n",
        "price_apartment = 300\n",
        "\n",
        "txt = \"General conditions in Brazil are exemplified by the following: A cup of coffee costs around R${coffee:.2f}; grocery goes on average for R${grocery:.2f}; and a nice, new apartment in Brazil starts at {apartment} thousand Brazilian reals.\"\n",
        "print(txt.format(apartment = price_apartment, grocery = price_grocery, coffee = price_coffee))"
      ],
      "metadata": {
        "colab": {
          "base_uri": "https://localhost:8080/"
        },
        "id": "QztH-qh1roXg",
        "outputId": "336f13e7-ab8c-4680-cec7-f084b7b908dc"
      },
      "execution_count": null,
      "outputs": [
        {
          "output_type": "stream",
          "name": "stdout",
          "text": [
            "General conditions in Brazil are exemplified by the following: A cup of coffee costs around R$7.00; grocery goes on average for R$1000.00; and a nice, new apartment in Brazil starts at 300 thousand Brazilian reals.\n"
          ]
        }
      ]
    },
    {
      "cell_type": "markdown",
      "source": [
        "# File handling - opening, reading and closing\n",
        "open() $\\rightarrow$ used to create a file (\"x\"), or to read (\"r\"), write (\"w\", overwrites existing content) or append (\"a\") an existing one.\n",
        "\n",
        "The file can be treated as a binary (\"b\") or text (\"t\").\n",
        "\n",
        "The three commands below do the same:\n",
        "```\n",
        "my_file_var = open(\"some_file.txt\")\n",
        "my_file_var = open(\"path_to_file/some_file.txt\") # when the file is not in the current folder\n",
        "my_file_var = open(\"some_file.txt\", \"rt\")\n",
        "```\n",
        "In the second case we appended the read-'r' and text-'t' instructions to be clearer. Note that in doing so, Python expects an existing file to be read and a text file which is written as text. Should the file not follow these instructions, error messages appear accordingly (this might be useful when we want to ensure features of the file)."
      ],
      "metadata": {
        "id": "09tW0MjMsNFN"
      }
    },
    {
      "cell_type": "markdown",
      "source": [
        "## Reading\n",
        "read() $\\rightarrow$ read the entire content inside the file, e.g., `print(my_file_var.read())`.\n",
        "To be more selective, one can input a number inside the read() method to print a specific number of characters, e.g., `print(my_file_var.read(3))` will read three characters.\n",
        "\n",
        "readline() $\\rightarrow$ to read lines of the file.\n",
        "```\n",
        "my_file_var = open(\"demofile.txt\", \"r\")\n",
        "print(my_file_var.readline()) # read first line\n",
        "print(my_file_var.readline()) # read second line\n",
        "```\n",
        "Note that Python, as Fortran, reads the file from top to bottom. If we do\n",
        "```\n",
        "f = open(\"my_file_var.txt\", \"r\")\n",
        "for line_number in f:\n",
        "  print(line_number)\n",
        "```\n",
        "all the lines of my_file.txt will be printed. Then if we instruct the command line with\n",
        "```\n",
        "print(my_file_var.read()\n",
        "```\n",
        "nothing will show up, because the bottom of the file has already been reached."
      ],
      "metadata": {
        "id": "vQtBiPEItvH6"
      }
    },
    {
      "cell_type": "markdown",
      "source": [
        "## Closing\n",
        "close() $\\rightarrow$ close a file. This is a good practice, as in Fortran. It is accomplished with `my_file_var.close()`"
      ],
      "metadata": {
        "id": "7p5RGAQ9zYoD"
      }
    },
    {
      "cell_type": "markdown",
      "source": [
        "## Writing\n",
        "As mentioned above:\n",
        "* \"w\" will overwrite the file\n",
        "* \"a\" will append new content to the bottom of the file\n",
        "\n",
        "E.g.,\n",
        "```\n",
        "my_file_var = open(\"my_file.txt\",\"w\") # will overwrite\n",
        "my_file_var.write(\"I have overwritten the file.\")\n",
        "\n",
        "my_file_var = open(\"my_file.txt\",\"a\") # will append\n",
        "my_file_var.write(\"I have appended a new line to file. Previous content still stands above this line.\")\n",
        "```"
      ],
      "metadata": {
        "id": "O7th4891zZmf"
      }
    },
    {
      "cell_type": "markdown",
      "source": [
        "## Deleting\n",
        "It is required to import the operational system (\"os\") module.\n",
        "```\n",
        "import os\n",
        "```\n",
        "\n",
        "*   remove(\"my_file_name.txt\") $\\rightarrow$ delete a file. It is useful to check beforehand if the file exists (to avoid getting an error message), e.g.:\n",
        "```\n",
        "if os.path.exists(\"demofile.txt\"):\n",
        "  os.remove(\"demofile.txt\")\n",
        "else:\n",
        "  print(\"The file does not exist\")\n",
        "```\n",
        "\n",
        "*  rmdir(\"my_directory\") $\\rightarrow$ to remove the entire directory"
      ],
      "metadata": {
        "id": "8LLfieYw0XoE"
      }
    },
    {
      "cell_type": "markdown",
      "source": [
        "# NumPy - Numerical Python\n",
        "\n",
        "\n",
        "---\n",
        "\n",
        "\n",
        "Useful library for working with arrays, linear algebra, mathematical physics, matrices, etc.\n",
        "\n",
        "ndarray - NumPy array 50x faster than lists, because NumPy brings a better 'locality of reference'. This type of array is stored in a 'continuous place in memory'(?). Besides, it is optimised to work in modern CPUs.\n",
        "\n",
        "*NumPy is written in Python, but some parts that require fast computations are written in C/C++*\n",
        "\n",
        "* Install numPy in linux with `sudo apt-get install python3-numpy -y`\n",
        "* Check if numPy is installed with\n",
        "```\n",
        "try:\n",
        "    import numpy\n",
        "except ImportError:\n",
        "    print(\"numpy is not installed\")\n",
        "```\n",
        "\n",
        "* Check numPy version with:\n",
        "```\n",
        "import numpy\n",
        "print(numpy.__version__)\n",
        "```\n",
        "\n",
        "* Import numPy: `import numpy`\n",
        "* Import numPy with the usual alias 'np': `import numpy as np`\n",
        "* Example of usage:\n"
      ],
      "metadata": {
        "id": "swWdstlA1p6Q"
      }
    },
    {
      "cell_type": "code",
      "source": [
        "import numpy as np\n",
        "arr = np.array([1, 2, 3, 4, 5])\n",
        "print(arr)\n",
        "print(type(arr), \"\\n\")\n",
        "\n",
        "arr_w_tuple = np.array((1, 2, 3, 4, 5))\n",
        "print(arr_w_tuple)\n",
        "print(type(arr_w_tuple))"
      ],
      "metadata": {
        "colab": {
          "base_uri": "https://localhost:8080/"
        },
        "id": "nHrImTqE64kR",
        "outputId": "997f1a4b-08ec-49e2-8fc9-b97ab8c040a7"
      },
      "execution_count": null,
      "outputs": [
        {
          "output_type": "stream",
          "name": "stdout",
          "text": [
            "[1 2 3 4 5]\n",
            "<class 'numpy.ndarray'>\n",
            "\n",
            "[1 2 3 4 5]\n",
            "<class 'numpy.ndarray'>\n"
          ]
        }
      ]
    },
    {
      "cell_type": "markdown",
      "source": [
        "## Constants\n",
        "np.pi produces pi=3.1415..."
      ],
      "metadata": {
        "id": "7V3-8pQc52zj"
      }
    },
    {
      "cell_type": "markdown",
      "source": [
        "## Arrays"
      ],
      "metadata": {
        "id": "PCtMke4zBFrz"
      }
    },
    {
      "cell_type": "markdown",
      "source": [
        "### Dimensions:\n",
        "* 0D - scalar\n",
        "* 1D - vector\n",
        "* 2D - matrix/second-order tensors (numPy has a module for this, numpy.mat)\n",
        "* 3D - matrix/third-order tensors\n",
        "\n",
        "ndim $\\rightarrow$ gives the number of dimensions of an array (property of the array)\n",
        "\n",
        "ndmin() $\\rightarrow$ sets the number of dimensions of an array (is a method)"
      ],
      "metadata": {
        "id": "50zHNvKsUURH"
      }
    },
    {
      "cell_type": "code",
      "source": [
        "import numpy as np\n",
        "\n",
        "a = np.array(42)\n",
        "b = np.array([1, 2, 3, 4, 5])\n",
        "c = np.array([[1, 2, 3], [4, 5, 6]])\n",
        "d = np.array([[[1, 2, 3], [4, 5, 6]], [[1, 2, 3], [4, 5, 6]]])\n",
        "e = np.array([1, 2, 3, 4, 5], ndmin = 5)\n",
        "\n",
        "print(a.ndim)\n",
        "print(b.ndim)\n",
        "print(c.ndim)\n",
        "print(d.ndim)\n",
        "print(e.ndim)"
      ],
      "metadata": {
        "colab": {
          "base_uri": "https://localhost:8080/"
        },
        "id": "tSvbLCigUXbV",
        "outputId": "f98ef214-927c-43f1-904c-2581e4f11987"
      },
      "execution_count": null,
      "outputs": [
        {
          "output_type": "stream",
          "name": "stdout",
          "text": [
            "0\n",
            "1\n",
            "2\n",
            "3\n",
            "5\n"
          ]
        }
      ]
    },
    {
      "cell_type": "markdown",
      "source": [
        "###  Array indexing\n",
        "Indexing: reference to an element by its position within the array.\n",
        "```\n",
        "import numpy as np\n",
        "arr = np.array([1, 2, 3, 4])\n",
        "arr2D = np.array([[1,2,3,4,5], [6,7,8,9,10]])\n",
        "arr3D = np.array([[[1, 2, 3], [4, 5, 6]], [[7, 8, 9], [10, 11, 12]]])\n",
        "print(arr[0]) # returns 1\n",
        "print(arr2D[0,1]) # returns 2\n",
        "print(arr3D[0, 1, 2]) # returns 6\n",
        "```\n",
        "For the last array, it first looks into the two 2D arrays within the 3D array, more precisely, into the first array (index 0). Then looks into the second element (index 1) of the 1D array that is within the 2D array. Lastly, into the 0D array (index 2) within the respective 1D array.\n",
        "\n",
        "Negative indexing: useful to access an array from the end, e.g.:\n",
        "```\n",
        "arr = np.array([[1,2,3,4,5], [6,7,8,9,10]])\n",
        "print('Last element from 2nd dim: ', arr[1, -1])\n",
        "# here the index -1 points to the last element\n",
        "```"
      ],
      "metadata": {
        "id": "Hy4GiBFQUjpr"
      }
    },
    {
      "cell_type": "markdown",
      "source": [
        "### Array slicing\n",
        "Slicing: to get part of an array though indexing.\n",
        "This is done within the following formats:\n",
        "```\n",
        "[some_index:] # goes from some_index to the end\n",
        "[:some_index] # goes from the beginning to the element before that of some_index\n",
        "[one_index:another_index] # goes from one_index to the element before that of another_index\n",
        "[one_index:another_index:step] # same, but with a step (default is 1)\n",
        "[::step] # same, but with a step (default is 1)\n",
        "```\n",
        "see \"String as an array\" above.\n",
        "\n",
        "For 2D, 3D arrays, it is necessary to inform Python which 1D array is being evaluated, e.g.:"
      ],
      "metadata": {
        "id": "U7Z2Vr9EcImq"
      }
    },
    {
      "cell_type": "code",
      "source": [
        "import numpy as np\n",
        "\n",
        "arr = np.array([[1, 2, 3, 4, 5], [6, 7, 8, 9, 10]])\n",
        "print(arr.ndim)\n",
        "print(arr[1, 1:4]) # prints 7,8,9\n",
        "\n",
        "#recall that the last index is always left out below:\n",
        "print(arr[0:2, 1]) # prints 2,7\n",
        "print(arr[0:2, 1:4]) # prints [[2,3,4],[7,8,9]]\n",
        "print(arr[0:1, 1:4]) # prints [[2,3,4]] only\n",
        "\n",
        "# Note above that the dimension is preserved (two, as arr)\n",
        "\n"
      ],
      "metadata": {
        "colab": {
          "base_uri": "https://localhost:8080/"
        },
        "id": "hdG3iaCufAoP",
        "outputId": "7d17524f-5183-49e1-aa5c-0bca758ac75d"
      },
      "execution_count": null,
      "outputs": [
        {
          "output_type": "stream",
          "name": "stdout",
          "text": [
            "2\n",
            "[7 8 9]\n",
            "[2 7]\n",
            "[[2 3 4]\n",
            " [7 8 9]]\n",
            "[[2 3 4]]\n"
          ]
        }
      ]
    },
    {
      "cell_type": "markdown",
      "source": [
        "## Data Types\n",
        "Python contains: strings(str), integer(int), float (float), complex (complex) and boolean (bool).\n",
        "\n",
        "NumPy types are given by:\n",
        "```\n",
        "i - integer\n",
        "b - boolean\n",
        "u - unsigned integer\n",
        "f - float\n",
        "c - complex float\n",
        "m - timedelta\n",
        "M - datetime\n",
        "O - object\n",
        "S - string\n",
        "U - unicode string\n",
        "V - fixed chunk of memory for other type ( void )\n",
        "```\n",
        "\n",
        "dtype $\\rightarrow$ property of an array that returns its data type.\n",
        "\n",
        "\n"
      ],
      "metadata": {
        "id": "YIhVvyPdgqx-"
      }
    },
    {
      "cell_type": "code",
      "source": [
        "import numpy as np\n",
        "\n",
        "arr = np.array([1, 2, 3, 4])\n",
        "\n",
        "print(arr.dtype)"
      ],
      "metadata": {
        "colab": {
          "base_uri": "https://localhost:8080/"
        },
        "id": "PMiQt-ReiaWa",
        "outputId": "ac9bbb52-c0fb-4009-d562-57048369d47c"
      },
      "execution_count": null,
      "outputs": [
        {
          "output_type": "stream",
          "name": "stdout",
          "text": [
            "int64\n"
          ]
        }
      ]
    },
    {
      "cell_type": "code",
      "source": [
        "import numpy as np\n",
        "\n",
        "arr = np.array(['apple', 'banana', 'cherry'])\n",
        "\n",
        "print(arr.dtype)"
      ],
      "metadata": {
        "colab": {
          "base_uri": "https://localhost:8080/"
        },
        "id": "aXOMnL3jiyV_",
        "outputId": "fbaf496d-32de-4adf-f856-b060f0011210"
      },
      "execution_count": null,
      "outputs": [
        {
          "output_type": "stream",
          "name": "stdout",
          "text": [
            "<U6\n"
          ]
        }
      ]
    },
    {
      "cell_type": "markdown",
      "source": [
        "Arrays can be created with a data type assigned to them (as well as size for i, u, f, S and U), e.g.:\n",
        "```\n",
        "import numpy as np\n",
        "\n",
        "arr = np.array([1, 2, 3, 4], dtype='S')\n",
        "arr_w_size = np.array([1, 2, 3, 4], dtype='i4') # to write 'i4' or '4i' leads to the same output\n",
        "\n",
        "print(arr.dtype)\n",
        "print(arr_w_size.dtype)\n",
        "```\n",
        "\n",
        "## Conversion of data type\n",
        "new_array = old_array.astype() $\\rightarrow$ allows to obtain the old_array as a new_array, in a type passed as argument to astype() (e.g., 'i', 'u', 'S', etc.)"
      ],
      "metadata": {
        "id": "Iet_OOiBBiVf"
      }
    },
    {
      "cell_type": "code",
      "source": [
        "import numpy as np\n",
        "\n",
        "arr = np.array([1.1, 2.1, 3.1])\n",
        "\n",
        "new_arr = arr.astype('i')\n",
        "new_arr2 = arr.astype(int)\n",
        "\n",
        "print(new_arr.dtype)\n",
        "print(new_arr2.dtype) \n",
        "# why new_arr is of type 'int32', whereas new_arr2 is of type 'int64'?"
      ],
      "metadata": {
        "colab": {
          "base_uri": "https://localhost:8080/"
        },
        "id": "jcpxbQc-DaJQ",
        "outputId": "3305e5ff-d4af-448d-bbfb-84940c796c23"
      },
      "execution_count": null,
      "outputs": [
        {
          "output_type": "stream",
          "name": "stdout",
          "text": [
            "int32\n",
            "int64\n"
          ]
        }
      ]
    },
    {
      "cell_type": "markdown",
      "source": [
        "## Copy vs View\n",
        "* `new_array = old_array.copy()` $\\rightarrow$ copies all the information of old_array to new_array. Changes made to one do not affect the other, because, as it is said, the copy *owns its own data*.\n",
        "\n",
        "* `some_view = some_array.copy()` $\\rightarrow$ in this case, some_view and some_array reflect one another. Changes made to one __DO__ affect the other."
      ],
      "metadata": {
        "id": "Rw7RhOqmDlUe"
      }
    },
    {
      "cell_type": "code",
      "source": [
        "import numpy as np\n",
        "\n",
        "old_array = np.array([1, 2, 3, 4, 5])\n",
        "new_array = old_array.copy()\n",
        "new_array[0] = 42\n",
        "\n",
        "print(old_array)\n",
        "print(new_array)"
      ],
      "metadata": {
        "colab": {
          "base_uri": "https://localhost:8080/"
        },
        "id": "NuAVpLTaJRoK",
        "outputId": "49b5298a-bc45-41ac-f8bd-57c9286cdc24"
      },
      "execution_count": null,
      "outputs": [
        {
          "output_type": "stream",
          "name": "stdout",
          "text": [
            "[1 2 3 4 5]\n",
            "[42  2  3  4  5]\n"
          ]
        }
      ]
    },
    {
      "cell_type": "code",
      "source": [
        "import numpy as np\n",
        "\n",
        "some_array = np.array([1, 2, 3, 4, 5])\n",
        "my_view = some_array.view()\n",
        "my_view[0] = 42\n",
        "\n",
        "print(some_array)\n",
        "print(my_view)"
      ],
      "metadata": {
        "colab": {
          "base_uri": "https://localhost:8080/"
        },
        "id": "3M2Z0Wm2JiQH",
        "outputId": "557c2ee1-d6c4-479b-8309-7da0403c578d"
      },
      "execution_count": null,
      "outputs": [
        {
          "output_type": "stream",
          "name": "stdout",
          "text": [
            "[42  2  3  4  5]\n",
            "[42  2  3  4  5]\n"
          ]
        }
      ]
    },
    {
      "cell_type": "markdown",
      "source": [
        "To check whether an array possesses its own data, we can check its attribute/property named *base*:\n",
        "\n",
        "`some_object.base` $\\rightarrow$ returns:\n",
        " * None if the array owns its own data. \n",
        " * Otherwise, it points to the original object."
      ],
      "metadata": {
        "id": "uOLmU4MlK6k4"
      }
    },
    {
      "cell_type": "code",
      "source": [
        "import numpy as np\n",
        "\n",
        "old_array = np.array([1, 2, 3, 4, 5])\n",
        "new_array = old_array.copy()\n",
        "my_view = new_array.view()\n",
        "new_array[0] = 42\n",
        "\n",
        "print(old_array)\n",
        "print(new_array)\n",
        "print(my_view, \"\\n\")\n",
        "\n",
        "print(my_view.base)"
      ],
      "metadata": {
        "colab": {
          "base_uri": "https://localhost:8080/"
        },
        "id": "WByY7c5SMCDY",
        "outputId": "f122694c-af29-4b28-8bc4-6d6e4a8589a6"
      },
      "execution_count": null,
      "outputs": [
        {
          "output_type": "stream",
          "name": "stdout",
          "text": [
            "[1 2 3 4 5]\n",
            "[42  2  3  4  5]\n",
            "[42  2  3  4  5]\n",
            "\n",
            "[42  2  3  4  5]\n"
          ]
        }
      ]
    },
    {
      "cell_type": "markdown",
      "source": [
        "## Shape of an array\n",
        "some_array.shape $\\rightarrow$ return the number of elements of some_array in every dimension in the form of a tuple with the following format: (n_elements_1st_dim, n_elements_2nd_dim, n_elements_3rd_dim, ...)"
      ],
      "metadata": {
        "id": "fHA-d6qcOnHu"
      }
    },
    {
      "cell_type": "code",
      "source": [
        "import numpy as np\n",
        "\n",
        "some_array = np.array([[1, 2, 3], [4, 5, 6]])\n",
        "another_array = np.array([[1, 2, 3], [4, 5, 6]],ndmin=6)\n",
        "\n",
        "print(some_array.shape)\n",
        "print(another_array.shape)"
      ],
      "metadata": {
        "colab": {
          "base_uri": "https://localhost:8080/"
        },
        "id": "xLc8WzTkPX1-",
        "outputId": "1d304152-d182-4ab8-b29a-8c73ff83aec9"
      },
      "execution_count": null,
      "outputs": [
        {
          "output_type": "stream",
          "name": "stdout",
          "text": [
            "(2, 3)\n",
            "(1, 1, 1, 1, 2, 3)\n"
          ]
        }
      ]
    },
    {
      "cell_type": "markdown",
      "source": [
        "## Reshape an array"
      ],
      "metadata": {
        "id": "u5roo97sRkYc"
      }
    },
    {
      "cell_type": "markdown",
      "source": [
        "We can get an array which is 1D and made up of m elements and render it 2D, by redistributing its elements m elements into n arrays made up of p elements which are then made up of q elements, such that m = n\\*p\\*q. The same idea extends beyond 3D, of course. E.g.:"
      ],
      "metadata": {
        "id": "yhnJlD9BVKD4"
      }
    },
    {
      "cell_type": "code",
      "source": [
        "import numpy as np\n",
        "\n",
        "old_array = np.array([1, 2, 2, 4, 4, 8, 8, 16])\n",
        "# here m = 8\n",
        "\n",
        "new_array = old_array.reshape(4, 2)\n",
        "# here n = 4, p = 2\n",
        "\n",
        "# create an array with 4 elements in the 1st dimension and 2 elements in the \n",
        "#second dimension (i.e., 4 arrays of 2 elements each) following the given order \n",
        "#of old_array\n",
        "\n",
        "print(new_array)"
      ],
      "metadata": {
        "colab": {
          "base_uri": "https://localhost:8080/"
        },
        "id": "low99C0kUS_D",
        "outputId": "dadc4951-6540-4975-cb91-87fb4fdd6e52"
      },
      "execution_count": null,
      "outputs": [
        {
          "output_type": "stream",
          "name": "stdout",
          "text": [
            "[[ 1  2]\n",
            " [ 2  4]\n",
            " [ 4  8]\n",
            " [ 8 16]]\n"
          ]
        }
      ]
    },
    {
      "cell_type": "code",
      "source": [
        "import numpy as np\n",
        "\n",
        "old_array = np.array([1, 2, 3, 4, 5, 6, 7, 8, 9, 10, 11, 12])\n",
        "# here m = 12\n",
        "\n",
        "new_array = old_array.reshape(2, 2, 3)\n",
        "# here n = 2, p = 2, q = 3\n",
        "# note again that m = n*p*q\n",
        "\n",
        "print(new_array)\n",
        "print(new_array.base) # view or copy?"
      ],
      "metadata": {
        "colab": {
          "base_uri": "https://localhost:8080/"
        },
        "id": "etEU7HgNWop0",
        "outputId": "2a98242f-6a74-4f6c-d925-333266e86dee"
      },
      "execution_count": null,
      "outputs": [
        {
          "output_type": "stream",
          "name": "stdout",
          "text": [
            "[[[ 1  2  3]\n",
            "  [ 4  5  6]]\n",
            "\n",
            " [[ 7  8  9]\n",
            "  [10 11 12]]]\n",
            "[ 1  2  3  4  5  6  7  8  9 10 11 12]\n"
          ]
        }
      ]
    },
    {
      "cell_type": "markdown",
      "source": [
        "IMPORTANT: __The new_array formed by reshaping the old_array is a view of the former!__"
      ],
      "metadata": {
        "id": "bX2PpD3NXOpg"
      }
    },
    {
      "cell_type": "markdown",
      "source": [
        ""
      ],
      "metadata": {
        "id": "sxDPyxWQ5OLt"
      }
    },
    {
      "cell_type": "markdown",
      "source": [
        "One can also 'flatten' the array giving -1 as an argument to reshape, i.e., reshape(-1), to render a multidimensional array 1D, e.g.:"
      ],
      "metadata": {
        "id": "Usjj4XCXZMRq"
      }
    },
    {
      "cell_type": "code",
      "source": [
        "new_array_flattened = new_array.reshape(-1)\n",
        "print(new_array_flattened)"
      ],
      "metadata": {
        "colab": {
          "base_uri": "https://localhost:8080/"
        },
        "id": "luRZhvfAZRaE",
        "outputId": "957b4a9c-e7b8-4caa-95a5-ea422a5205c2"
      },
      "execution_count": null,
      "outputs": [
        {
          "output_type": "stream",
          "name": "stdout",
          "text": [
            "[ 1  2  3  4  5  6  7  8  9 10 11 12]\n"
          ]
        }
      ]
    },
    {
      "cell_type": "markdown",
      "source": [
        "* In order to let Python decide how many elements one of the dimensions should have, just pass '-1' as the argument to one of the dimensions:"
      ],
      "metadata": {
        "id": "p4DDnHJNXjp-"
      }
    },
    {
      "cell_type": "code",
      "source": [
        "import numpy as np\n",
        "\n",
        "old_array = np.array([1, 2, 3, 4, 5, 6, 7, 8, 9, 10, 11, 12])\n",
        "# here m = 12\n",
        "\n",
        "new_array = old_array.reshape(2, -1, 3)\n",
        "# here n = 2, p = 2, q = 3\n",
        "# note again that m = n*p*q\n",
        "\n",
        "print(new_array)"
      ],
      "metadata": {
        "colab": {
          "base_uri": "https://localhost:8080/"
        },
        "id": "fFwF-2KkX1dE",
        "outputId": "968a3dae-387d-4b88-e7b3-166ffecee028"
      },
      "execution_count": null,
      "outputs": [
        {
          "output_type": "stream",
          "name": "stdout",
          "text": [
            "[[[ 1  2  3]\n",
            "  [ 4  5  6]]\n",
            "\n",
            " [[ 7  8  9]\n",
            "  [10 11 12]]]\n"
          ]
        }
      ]
    },
    {
      "cell_type": "markdown",
      "source": [
        "## Iterate arrays"
      ],
      "metadata": {
        "id": "oj1gJ8W1Zru3"
      }
    },
    {
      "cell_type": "code",
      "source": [
        "import numpy as np\n",
        "\n",
        "array_1D = np.array([1, 2, 3])\n",
        "array_2D = np.array([[1, 2, 3], [4, 5, 6]])\n",
        "array_3D = np.array([[[1, 2, 3], [4, 5, 6]], [[7, 14, 21], [28, 35, 42]]])\n",
        "\n",
        "for i in array_1D: # go through each 0D element\n",
        "  print(i)\n",
        "\n",
        "print(\"\\n\")\n",
        "for i in array_2D: # go through each 1D element\n",
        "  print(i)\n",
        "\n",
        "print(\"\\n\")\n",
        "for i in array_3D: # go through each 2D element\n",
        "  print(i)\n",
        "\n",
        "# As a general rule: Should we have an n-dimensional array, iterating it would be like:\n",
        "#for i in array_nD: # go through each (n-1)D element\n",
        "#  print(i)"
      ],
      "metadata": {
        "colab": {
          "base_uri": "https://localhost:8080/"
        },
        "id": "p9JqfNjicKkK",
        "outputId": "8560ed18-d24f-47d3-80d1-de754c943ac6"
      },
      "execution_count": null,
      "outputs": [
        {
          "output_type": "stream",
          "name": "stdout",
          "text": [
            "1\n",
            "2\n",
            "3\n",
            "\n",
            "[1 2 3]\n",
            "[4 5 6]\n",
            "\n",
            "[[1 2 3]\n",
            " [4 5 6]]\n",
            "[[ 7 14 21]\n",
            " [28 35 42]]\n"
          ]
        }
      ]
    },
    {
      "cell_type": "markdown",
      "source": [
        "* Get scalars while iterating multidimensional arrays with *for*-loops: In this case, we have to nest *for-loops* one inside the other:\n"
      ],
      "metadata": {
        "id": "zbVWzhzbd9B6"
      }
    },
    {
      "cell_type": "code",
      "source": [
        "array_3D = np.array([[[1, 2, 3], [4, 5, 6]], [[7, 14, 21], [28, 35, 42]]])\n",
        "\n",
        "for element2D in array_3D:\n",
        "  for element1D in element2D:\n",
        "    for element0D in element1D:\n",
        "      print(element0D) # thus we get the scalars\n",
        "\n",
        "# alternatively, we could flatten the array_3D first and show its scalars\n",
        "print(\"\\n\")\n",
        "flat_array_3D = array_3D.reshape(-1)\n",
        "for i in flat_array_3D:\n",
        "  print(i)"
      ],
      "metadata": {
        "colab": {
          "base_uri": "https://localhost:8080/"
        },
        "id": "I9HTk4rheSD9",
        "outputId": "134e19d0-b233-4561-ed95-a344e3bdf234"
      },
      "execution_count": null,
      "outputs": [
        {
          "output_type": "stream",
          "name": "stdout",
          "text": [
            "1\n",
            "2\n",
            "3\n",
            "4\n",
            "5\n",
            "6\n",
            "7\n",
            "14\n",
            "21\n",
            "28\n",
            "35\n",
            "42\n",
            "\n",
            "1\n",
            "2\n",
            "3\n",
            "4\n",
            "5\n",
            "6\n",
            "7\n",
            "14\n",
            "21\n",
            "28\n",
            "35\n",
            "42\n"
          ]
        }
      ]
    },
    {
      "cell_type": "markdown",
      "source": [
        "## nditer():\n",
        "* Makes it easier to iterate to get scalars of a multidimensional array, e.g.,\n",
        "```\n",
        "import numpy as np\n",
        "for i in np.nditer(multidimensional_array):\n",
        "  print(i) # gets every scalar of a multidimensional_array\n",
        "```\n",
        "\n",
        "* Allows to input a step in the iterative process:\n",
        "```\n",
        "import numpy as np\n",
        "some_array = np.array([[1, 2, 3, 4],[9, 18, 27, 36]])\n",
        "for i in np.nditer(some_array[:,::2]):\n",
        "  print(i) # prints every two elements\n",
        "```\n",
        "\n",
        "  * Note that in doing the above with only one colon\n",
        "  ```\n",
        "  for i in np.nditer(some_array[:,:2]):\n",
        "  ```\n",
        "  instead of stepping through every other element, nditer will actually go through the first two elements of some_array 1D elements.\n",
        "\n",
        "* Allows to iterate elements and consecutively reproduce them in a different data type, set by the argument op_dtypes=[some_data_type]. For example, we can iterate through a numerical array and get the elements in a string data type, op_dtypes=['S'] as below:\n",
        "```\n",
        "import numpy as np\n",
        "for i in np.nditer(multidimensional_array, flags='buffered', op_dtypes=['S']):\n",
        "  print(i) # gets every scalar of multidimensional_array as a string\n",
        "```\n",
        "\n",
        "note that the 'buffered' flag means that dtype creates buffer space to generate the iterated value as a string, as it does not do so in-place."
      ],
      "metadata": {
        "id": "32Q-cng_fFaX"
      }
    },
    {
      "cell_type": "markdown",
      "source": [
        "## ndenumerate\n",
        "Provides the indexes of the scalar elements of some array:"
      ],
      "metadata": {
        "id": "nvNnq3Xlqwor"
      }
    },
    {
      "cell_type": "code",
      "source": [
        "import numpy as np\n",
        "arr = np.array([[1, 2, 3, 4], [5, 6, 7, 8]])\n",
        "for idx, x in np.ndenumerate(arr):\n",
        "  print(idx, x)"
      ],
      "metadata": {
        "colab": {
          "base_uri": "https://localhost:8080/"
        },
        "id": "Z4KeFlBBqgQG",
        "outputId": "22c474f5-a5ec-4128-fa2b-c8cfac7d5161"
      },
      "execution_count": null,
      "outputs": [
        {
          "output_type": "stream",
          "name": "stdout",
          "text": [
            "(0, 0) 1\n",
            "(0, 1) 2\n",
            "(0, 2) 3\n",
            "(0, 3) 4\n",
            "(1, 0) 5\n",
            "(1, 1) 6\n",
            "(1, 2) 7\n",
            "(1, 3) 8\n"
          ]
        }
      ]
    },
    {
      "cell_type": "markdown",
      "source": [
        "## Concatenating: concatenate()\n",
        "concatenate() $\\rightarrow$ join arrays according to the dimension of interest, specified by the axis passed.\n",
        "[E.g.](https://numpy.org/doc/stable/reference/generated/numpy.concatenate.html):"
      ],
      "metadata": {
        "id": "rmqKGP1oq5uZ"
      }
    },
    {
      "cell_type": "code",
      "source": [
        "a = np.array([[1, 2], [3, 4]])\n",
        "b = np.array([[5, 6]])\n",
        "axis0 = np.concatenate((a, b), axis=0)\n",
        "axis1 = np.concatenate((a, b.T), axis=1) # b.T is transpose of b\n",
        "axisNone = np.concatenate((a, b), axis=None) # flattens out array arguments\n",
        "\n",
        "print(axis0, \"\\n\")\n",
        "\n",
        "print(axis1)\n",
        "\n",
        "print(axisNone, \"\\n\")"
      ],
      "metadata": {
        "colab": {
          "base_uri": "https://localhost:8080/"
        },
        "id": "mIq8-IB-xGen",
        "outputId": "4ff8c0dc-a43c-47fa-82ac-0930fedaffd3"
      },
      "execution_count": null,
      "outputs": [
        {
          "output_type": "stream",
          "name": "stdout",
          "text": [
            "[[1 2]\n",
            " [3 4]\n",
            " [5 6]]\n",
            "\n",
            "[[1 2 5]\n",
            " [3 4 6]]\n",
            "\n",
            "[1 2 3 4 5 6]\n"
          ]
        }
      ]
    },
    {
      "cell_type": "markdown",
      "source": [
        "## Stacking: stack()\n",
        "Stacking $\\ne$ Concatenating, because stacking involves a new axis.\n",
        "\n",
        "For example, let us assume that we are interested in *stacking* the 0th dimension of two 1D arrays and then the 1st dimension of both. \n",
        "* In the first case we'll simply stack one array on top of the other;\n",
        "* In the second case, because we are looking into the 1st order of every array (and they are 1D), we'll gather scalar from one array and stack on top of the scalar of the other array.\n",
        "\n",
        "See below:"
      ],
      "metadata": {
        "id": "6N3UI7x3COCB"
      }
    },
    {
      "cell_type": "code",
      "source": [
        "import numpy as np\n",
        "\n",
        "arr1 = np.array([1, 2, 3])\n",
        "\n",
        "arr2 = np.array([4, 5, 6])\n",
        "\n",
        "arr_axis0 = np.stack((arr1, arr2), axis=0)\n",
        "arr_axis1 = np.stack((arr1, arr2), axis=1)\n",
        "\n",
        "print(arr_axis0)\n",
        "print(\"\\n\")\n",
        "print(arr_axis1)"
      ],
      "metadata": {
        "colab": {
          "base_uri": "https://localhost:8080/"
        },
        "id": "3r6epPjBHmex",
        "outputId": "6b3bd0ba-a911-43d6-acd6-95385c50b7d6"
      },
      "execution_count": null,
      "outputs": [
        {
          "output_type": "stream",
          "name": "stdout",
          "text": [
            "[[1 2 3]\n",
            " [4 5 6]]\n",
            "\n",
            "\n",
            "[[1 4]\n",
            " [2 5]\n",
            " [3 6]]\n"
          ]
        }
      ]
    },
    {
      "cell_type": "markdown",
      "source": [
        "### Stack along rows: hstack()\n",
        "hstack() $\\rightarrow$ arrays are 'put side-by-side':"
      ],
      "metadata": {
        "id": "eKQUwrTNIvYk"
      }
    },
    {
      "cell_type": "code",
      "source": [
        "import numpy as np\n",
        "\n",
        "arr1 = np.array([1, 2, 3])\n",
        "\n",
        "arr2 = np.array([4, 5, 6])\n",
        "\n",
        "arr_h = np.hstack((arr1, arr2))\n",
        "\n",
        "print(arr_h)"
      ],
      "metadata": {
        "colab": {
          "base_uri": "https://localhost:8080/"
        },
        "id": "HlWvz-KZJGXA",
        "outputId": "4054040e-7a22-4352-e27f-69ebddd164ac"
      },
      "execution_count": null,
      "outputs": [
        {
          "output_type": "stream",
          "name": "stdout",
          "text": [
            "[1 2 3 4 5 6]\n"
          ]
        }
      ]
    },
    {
      "cell_type": "markdown",
      "source": [
        "### Stack along rows: vstack()\n",
        "vstack() $\\rightarrow$ arrays are 'put one on top of the other':"
      ],
      "metadata": {
        "id": "-2bobv3LJL_5"
      }
    },
    {
      "cell_type": "code",
      "source": [
        "import numpy as np\n",
        "\n",
        "arr1 = np.array([1, 2, 3])\n",
        "\n",
        "arr2 = np.array([4, 5, 6])\n",
        "\n",
        "arr_v = np.vstack((arr1, arr2))\n",
        "\n",
        "print(arr_v)"
      ],
      "metadata": {
        "colab": {
          "base_uri": "https://localhost:8080/"
        },
        "id": "oX7ZXIbmJSVK",
        "outputId": "128e4d93-c5fe-48c6-ba54-44bd3f59afc1"
      },
      "execution_count": null,
      "outputs": [
        {
          "output_type": "stream",
          "name": "stdout",
          "text": [
            "[[1 2 3]\n",
            " [4 5 6]]\n"
          ]
        }
      ]
    },
    {
      "cell_type": "markdown",
      "source": [
        "### Stack along depth (height): dstack()\n",
        "dstack() $\\rightarrow$ arrays are stacked in depth (or, as it also commonly referred to, 'in height'):"
      ],
      "metadata": {
        "id": "VmO7u8fWJkcr"
      }
    },
    {
      "cell_type": "code",
      "source": [
        "import numpy as np\n",
        "\n",
        "arr1 = np.array([1, 2, 3])\n",
        "\n",
        "arr2 = np.array([4, 5, 6])\n",
        "\n",
        "arr_d = np.dstack((arr1, arr2))\n",
        "\n",
        "print(arr_d)"
      ],
      "metadata": {
        "colab": {
          "base_uri": "https://localhost:8080/"
        },
        "id": "LLAmXGetJ5fc",
        "outputId": "34d99e80-78e6-493e-f06f-dedf121c4c1f"
      },
      "execution_count": null,
      "outputs": [
        {
          "output_type": "stream",
          "name": "stdout",
          "text": [
            "[[[1 4]\n",
            "  [2 5]\n",
            "  [3 6]]]\n"
          ]
        }
      ]
    },
    {
      "cell_type": "markdown",
      "source": [
        "## Splitting: array_split() and split()\n",
        "We can split one array into many splits (parts that are arrays as well) with both array_split() and split().\n",
        "\n",
        "> Difference between array_split() and split(): \n",
        "* __split()__ only deals with splits of equal number of elements (i.e., the array must be split according to a submultiple, e.g., when we split an array of 10 elements into 2 or 5 splits); \n",
        "* whereas __array_split()__ also handles the case where the array is split into different sizes, when it is not split by a submultiple (e.g., to split an array of 10 elements in 3, 4, 6, 7, 8 or 9 splits).\n",
        "\n",
        "The result of either array_split() or split() is an array of arrays. To access one single element, it can be done as it is with any other array:\n",
        "```\n",
        "print(my_split_lucky_numbers[0])\n",
        "print(my_split_lucky_numbers[1])\n",
        "print(my_split_lucky_numbers[2])\n",
        "```\n",
        "\n",
        "For 2D and multidimensional arrays, the use of these commands are analogous."
      ],
      "metadata": {
        "id": "GoUKzxP5KLZ_"
      }
    },
    {
      "cell_type": "code",
      "source": [
        "import numpy as np\n",
        "my_lucky_numbers = np.array([1, 3, 5, 10, 13, 25])\n",
        "# my_lucky_numbers has 6 elements. To split it in 3 splits we do:\n",
        "my_split_lucky_numbers = np.array_split(my_lucky_numbers,3)\n",
        "print(my_split_lucky_numbers,\"\\n\")\n",
        "\n",
        "my_split_lucky_numbers = np.split(my_lucky_numbers,3)\n",
        "print(my_split_lucky_numbers,\"\\n\")\n",
        "\n",
        "\n",
        "# To split it in 5 splits we do, Python adjusts from the end, as:\n",
        "my_split_lucky_numbers = np.array_split(my_lucky_numbers,5)\n",
        "print(my_split_lucky_numbers,\"\\n\")\n",
        "\n",
        "# my_split_lucky_numbers = np.split(my_lucky_numbers,5) # returns an error!\n",
        "# print(my_split_lucky_numbers,\"\\n\")"
      ],
      "metadata": {
        "colab": {
          "base_uri": "https://localhost:8080/"
        },
        "id": "QPPGZVpMLJ0_",
        "outputId": "6b5b0b2a-e844-4e11-cebe-1da97f763c4e"
      },
      "execution_count": null,
      "outputs": [
        {
          "output_type": "stream",
          "name": "stdout",
          "text": [
            "[array([1, 3]), array([ 5, 10]), array([13, 25])] \n",
            "\n",
            "[array([1, 3]), array([ 5, 10]), array([13, 25])] \n",
            "\n",
            "[array([1, 3]), array([5]), array([10]), array([13]), array([25])] \n",
            "\n"
          ]
        }
      ]
    },
    {
      "cell_type": "markdown",
      "source": [
        "Just as in stacking, the axis can be associated with the split:"
      ],
      "metadata": {
        "id": "Duh7Yv_2XLg1"
      }
    },
    {
      "cell_type": "code",
      "source": [
        "import numpy as np\n",
        "\n",
        "arr = np.array([[1, 2, 3], [4, 5, 6], [7, 8, 9], [10, 11, 12], [13, 14, 15], [16, 17, 18]])\n",
        "\n",
        "newarr = np.array_split(arr, 3, axis=1)\n",
        "\n",
        "print(newarr)"
      ],
      "metadata": {
        "colab": {
          "base_uri": "https://localhost:8080/"
        },
        "id": "Tvj3fflxXTDK",
        "outputId": "df41a451-7f16-4169-f4b7-51f752535547"
      },
      "execution_count": null,
      "outputs": [
        {
          "output_type": "stream",
          "name": "stdout",
          "text": [
            "[array([[ 1],\n",
            "       [ 4],\n",
            "       [ 7],\n",
            "       [10],\n",
            "       [13],\n",
            "       [16]]), array([[ 2],\n",
            "       [ 5],\n",
            "       [ 8],\n",
            "       [11],\n",
            "       [14],\n",
            "       [17]]), array([[ 3],\n",
            "       [ 6],\n",
            "       [ 9],\n",
            "       [12],\n",
            "       [15],\n",
            "       [18]])]\n"
          ]
        }
      ]
    },
    {
      "cell_type": "markdown",
      "source": [
        "### hsplit(), vsplit(), dsplit()\n",
        "Splits the array into a number of rows (...?... rows, columns, strange concepts in multidimensional context).\n",
        "To split the following into three rows:"
      ],
      "metadata": {
        "id": "sC3EeyOvXvIc"
      }
    },
    {
      "cell_type": "code",
      "source": [
        "import numpy as np\n",
        "arr = np.array([[1, 2, 3], [4, 5, 6], [7, 8, 9], [10, 11, 12], [13, 14, 15], [16, 17, 18]])\n",
        "print(arr,\"\\n\")\n",
        "\n",
        "newarr = np.hsplit(arr, 3)\n",
        "print(newarr,\"\\n\")\n",
        "\n",
        "newarr = np.vsplit(arr, 3)\n",
        "print(newarr)"
      ],
      "metadata": {
        "colab": {
          "base_uri": "https://localhost:8080/"
        },
        "id": "ZHa4I85RcTuX",
        "outputId": "40deb7aa-0138-49ee-e531-59b6f3e1708a"
      },
      "execution_count": null,
      "outputs": [
        {
          "output_type": "stream",
          "name": "stdout",
          "text": [
            "[[ 1  2  3]\n",
            " [ 4  5  6]\n",
            " [ 7  8  9]\n",
            " [10 11 12]\n",
            " [13 14 15]\n",
            " [16 17 18]] \n",
            "\n",
            "[array([[ 1],\n",
            "       [ 4],\n",
            "       [ 7],\n",
            "       [10],\n",
            "       [13],\n",
            "       [16]]), array([[ 2],\n",
            "       [ 5],\n",
            "       [ 8],\n",
            "       [11],\n",
            "       [14],\n",
            "       [17]]), array([[ 3],\n",
            "       [ 6],\n",
            "       [ 9],\n",
            "       [12],\n",
            "       [15],\n",
            "       [18]])] \n",
            "\n",
            "[array([[1, 2, 3],\n",
            "       [4, 5, 6]]), array([[ 7,  8,  9],\n",
            "       [10, 11, 12]]), array([[13, 14, 15],\n",
            "       [16, 17, 18]])]\n"
          ]
        }
      ]
    },
    {
      "cell_type": "markdown",
      "source": [
        "## Searching arrays: where()\n",
        "We can use the where() method to find the index corresponding to a number or to a condition we can impose as a logical test.\n"
      ],
      "metadata": {
        "id": "rPbgoqz_t0iK"
      }
    },
    {
      "cell_type": "code",
      "source": [
        "import numpy as np\n",
        "my_values = np.array([1, 10, 585, 55.5, 27, 9, 3, 2, 6])\n",
        "\n",
        "# now find where my_values has an element equal to 3:\n",
        "x = np.where(my_values == 3)\n",
        "print(x,\"\\n\")\n",
        "# now find where my_values has an element equal to 9:\n",
        "x = np.where(my_values == 9)\n",
        "print(x,\"\\n\")\n",
        "# now find where my_values has elements divisible by 2:\n",
        "x = np.where(my_values%2 == 0)\n",
        "print(x,\"\\n\")\n",
        "# or by 3:\n",
        "x = np.where(my_values%3 == 0)\n",
        "print(x,\"\\n\")\n",
        "# or where the values are odd (not divisible by 2, then)\n",
        "x = np.where(my_values%2 == 1)\n",
        "print(x,\"\\n\")"
      ],
      "metadata": {
        "colab": {
          "base_uri": "https://localhost:8080/"
        },
        "id": "bfsiOwRxuX2V",
        "outputId": "ac9cdd67-691d-4889-a9e5-08a3383b95d6"
      },
      "execution_count": null,
      "outputs": [
        {
          "output_type": "stream",
          "name": "stdout",
          "text": [
            "(array([6]),) \n",
            "\n",
            "(array([5]),) \n",
            "\n",
            "(array([1, 7, 8]),) \n",
            "\n",
            "(array([2, 4, 5, 6, 8]),) \n",
            "\n",
            "(array([0, 2, 4, 5, 6]),) \n",
            "\n"
          ]
        }
      ]
    },
    {
      "cell_type": "markdown",
      "source": [
        "## Sorting arrays\n",
        "sort() $\\rightarrow$ useful to generate an ascending/descending ordered copy of the original array it works upon, e.g.:\n",
        "```\n",
        "import numpy as np\n",
        "\n",
        "arr = np.array([1, 1.1, 3.141517, 7.5])\n",
        "\n",
        "x = np.sort(arr)\n",
        "# gives x = [1, 1.1, 3.141517, 7.5]\n",
        "\n",
        "print(x.base) # returns None, so x is not a view, but a copy\n",
        "```\n",
        "\n",
        "for strings, the first character is considered. If two strings possess the same first character, sort() will look into the second character of the string:\n",
        "```\n",
        "import numpy as np\n",
        "\n",
        "arr = np.array(['avocado', 'apple', 'watermelon', 'strawberry', 'orange', 'grape'])\n",
        "\n",
        "x = np.sort(arr)\n",
        "```\n",
        "\n",
        "for booleans, 'False' comes first.\n",
        "\n",
        "In 2D arrays, both arrays get sorted. The two 1D arrays within the 2D array remain the same, albeit their elements get sorted."
      ],
      "metadata": {
        "id": "7IklH6iBl7oL"
      }
    },
    {
      "cell_type": "markdown",
      "source": [
        "### searchsorted()\n",
        "searchsorted(some_array, some_value) $\\rightarrow$ this method searches for the position of the array where some_value should be inserted to maintain a sorted order.\n",
        "```\n",
        "import numpy as np\n",
        "\n",
        "arr = np.array([4.1, 5.2, 5.7, 8, 9])\n",
        "\n",
        "x = np.searchsorted(arr, 5)  # returns 1, because 5 should be put before 5.2\n",
        "x = np.searchsorted(arr, 1.1)  # returns 0, because 1.1 should be put before 4.1\n",
        "x = np.searchsorted(arr, 5.25)  # returns 2, because 0 should be put between 5.2 and 5.7\n",
        "x = np.searchsorted(arr, 9.1)  # returns 5, because 9.1 should be put after 9\n",
        "```\n",
        "\n",
        "For the case of arrays of numbers, by default an ascending order is considered from left to right, but it can be changed with the 'side=right' option to reverse this order.\n",
        "\n",
        "Multiple values can be passed to search order in the form of an array:\n",
        "```\n",
        "import numpy as np\n",
        "\n",
        "arr = np.array([1, 1.1, 3.141517, 7.5])\n",
        "\n",
        "x = np.searchsorted(arr, [1.08, 1.01, 3, 9])\n",
        "# returns [1, 1, 2, 4]\n",
        "```"
      ],
      "metadata": {
        "id": "m6oLd3S_ncqm"
      }
    },
    {
      "cell_type": "markdown",
      "source": [
        "## Filter\n",
        "To filter an array is to build an array with part of another array based on a boolean index list. Indexes corresponding to 'True' in the boolean list indicate which elements in the original array will be filtered in, and 'False' filters out elements.\n",
        "\n",
        "E.g., to get all the elements less than 15, we could do so in the following forms:"
      ],
      "metadata": {
        "id": "bjl1TBsxqoxo"
      }
    },
    {
      "cell_type": "code",
      "source": [
        "import numpy as np\n",
        "old_array = np.array([24, 19, 9, 13, 6, 10])\n",
        "\n",
        "# manual way\n",
        "my_boolean_list = [False, False, True, True, True, True]\n",
        "new_array = old_array[my_boolean_list]\n",
        "print(new_array, \"\\n\")\n",
        "\n",
        "# systematic way\n",
        "my_boolean_list = [] # create an empty list\n",
        "for x in old_array:\n",
        "  if x < 15:\n",
        "    my_boolean_list.append(True)\n",
        "  else:\n",
        "    my_boolean_list.append(False)\n",
        "\n",
        "new_array = old_array[my_boolean_list]\n",
        "print(new_array, \"\\n\")\n",
        "\n",
        "# intelligent way:\n",
        "my_boolean_list = old_array < 15\n",
        "new_array = old_array[my_boolean_list]\n",
        "print(new_array, \"\\n\")\n",
        "\n",
        "# further examples\n",
        "my_boolean_list = old_array%2 == 0 # show even numbers\n",
        "new_array = old_array[my_boolean_list]\n",
        "print(new_array, \"\\n\")\n",
        "\n",
        "my_boolean_list = old_array%2 == 1 # show odd numbers\n",
        "new_array = old_array[my_boolean_list]\n",
        "print(new_array, \"\\n\")"
      ],
      "metadata": {
        "colab": {
          "base_uri": "https://localhost:8080/"
        },
        "id": "cpYy92dPvOQ9",
        "outputId": "3fd35f15-8d78-4f07-e9be-cfd622ff310c"
      },
      "execution_count": null,
      "outputs": [
        {
          "output_type": "stream",
          "name": "stdout",
          "text": [
            "[ 9 13  6 10] \n",
            "\n",
            "[ 9 13  6 10] \n",
            "\n",
            "[ 9 13  6 10] \n",
            "\n",
            "[24  6 10] \n",
            "\n",
            "[19  9 13] \n",
            "\n"
          ]
        }
      ]
    },
    {
      "cell_type": "markdown",
      "source": [
        "## ufuncs - 'Universal functions'\n",
        "ufuncs provide a way to enjoy vectorisation in Python.\n",
        "Also allow for additional arguments, such as:\n",
        "* where - define where an operation should take place, based on a boolean array / condition.\n",
        "* dtype - specify output data type\n",
        "* out - \"output array where the return value should be copied to.\"(?)\n",
        "\n",
        "### ufuncs class \n",
        "detected with `print(type(np.some_ufunc))` and should be *class <'numpy.func'>*\n",
        "\n",
        "One can also test whether a function is a ufunc with an *if-statement* comparing the ufunc type, given by np.ufunc:\n",
        "```\n",
        "import numpy as np\n",
        "\n",
        "if type(np.add) == np.ufunc:\n",
        "  print('add is ufunc')\n",
        "else:\n",
        "  print('add is not ufunc')\n",
        "```\n",
        "\n",
        "E.g., instead of creating the following loop:\n",
        "```\n",
        "x = [1, 2, 3, 4]\n",
        "y = [2, 4, 6, 8]\n",
        "z = []\n",
        "for i,j in zip(x,y):\n",
        "  z.append(i+j)\n",
        "```\n",
        "vectorisation allows us to do the following instead:\n",
        "```\n",
        "x = [1, 2, 3, 4]\n",
        "y = [2, 4, 6, 8]\n",
        "z = np.add(x,y)\n",
        "```\n",
        "to get the same result."
      ],
      "metadata": {
        "id": "83Ot5uBJwRIx"
      }
    },
    {
      "cell_type": "markdown",
      "source": [
        "### Create ufuncs\n",
        "To create ufuncs, one must:\n",
        "1.   Define a function, as usual, say iacfunc\n",
        "2.   Pass the function to frompyfunc() with the following syntax: `iacfunc = np.frompyfunc(iacfunc,n_input_arrays, n_output_arrays)`\n",
        "\n",
        "Example:\n",
        "\n"
      ],
      "metadata": {
        "id": "szF14eI3X50b"
      }
    },
    {
      "cell_type": "code",
      "source": [
        "import numpy as np\n",
        "\n",
        "def my_special_operation(x, y):\n",
        "  return x+2*y\n",
        "\n",
        "my_special_operation = np.frompyfunc(my_special_operation, 2, 1)\n",
        "\n",
        "w = my_special_operation([1, 2, 3, 4], [5, 6, 7, 8]) # vectorised operation\n",
        "print(w)"
      ],
      "metadata": {
        "colab": {
          "base_uri": "https://localhost:8080/"
        },
        "id": "kd8FWJeecD-r",
        "outputId": "20e3ce69-e2d6-43cc-e4d2-e55c954f3a23"
      },
      "execution_count": null,
      "outputs": [
        {
          "output_type": "stream",
          "name": "stdout",
          "text": [
            "[11 14 17 20]\n"
          ]
        }
      ]
    },
    {
      "cell_type": "markdown",
      "source": [
        "### Vectorisation methods\n",
        "```\n",
        "np.add(x,y) # x+y\n",
        "np.subtract(x,y) # x-y\n",
        "np.multiply(x,y) # like x.*y in MATLAB\n",
        "np.divide(x,y) # like x./y in MATLAB\n",
        "np.power(x,y) # like x.^y in MATLAB\n",
        "np.mod(x,y) # like mod(x,y) in MATLAB\n",
        "np.remainder(x,y) # like the above, mod(x,y) (this differs from rem(x,y) in MATLAB)\n",
        "np.divmod(x,y) # returns both the quotient and the mod in two arrays\n",
        "np.absolute(x)\n",
        "```\n",
        "\n",
        "Note that for NumPy mod(x,y) and rem(x,y) produce the same result, which is the remainder in case x and y are positive; otherwise it has to be the a non-negative remainder if x and y have opposite signs, see below."
      ],
      "metadata": {
        "id": "sSzE5d8oW2si"
      }
    },
    {
      "cell_type": "code",
      "source": [
        "print(np.mod(-25,3))\n",
        "print(np. remainder(-25,3))"
      ],
      "metadata": {
        "colab": {
          "base_uri": "https://localhost:8080/"
        },
        "id": "CyxPUDN4eF53",
        "outputId": "14c2c522-1c58-40db-cdb8-0565e5a10f7a"
      },
      "execution_count": null,
      "outputs": [
        {
          "output_type": "stream",
          "name": "stdout",
          "text": [
            "2\n",
            "2\n"
          ]
        }
      ]
    },
    {
      "cell_type": "markdown",
      "source": [
        "### Logarithms\n",
        "* np.log()  # log with base e (Euler's/Napier's number)\n",
        "* np.log2()  # log with base 2\n",
        "* np.log10() # log with base 10\n",
        "\n",
        "One can use the math.log(x,base) to create a NumPy version of log in any base:\n",
        "```\n",
        "from math import log\n",
        "import numpy as np\n",
        "\n",
        "general_log = np.frompyfunc(log, 2, 1)\n",
        "```\n",
        "\n",
        "Example: log3(x), x = [3, 9, 27, 81] is given by:"
      ],
      "metadata": {
        "id": "JjJQNi7TkEQ3"
      }
    },
    {
      "cell_type": "code",
      "source": [
        "from math import log\n",
        "import numpy as np\n",
        "\n",
        "general_log = np.frompyfunc(log, 2, 1)\n",
        "\n",
        "x = np.array([3, 9, 27, 81])\n",
        "print(general_log(x,3))"
      ],
      "metadata": {
        "colab": {
          "base_uri": "https://localhost:8080/"
        },
        "id": "zphD1xdrI-3L",
        "outputId": "ee498fbb-5bd6-40ac-bc9e-76a9cf9eb5ec"
      },
      "execution_count": null,
      "outputs": [
        {
          "output_type": "stream",
          "name": "stdout",
          "text": [
            "[1.0 2.0 3.0 4.0]\n"
          ]
        }
      ]
    },
    {
      "cell_type": "markdown",
      "source": [
        "### Rounding\n",
        "Five ways:\n",
        "* np.trunc() $\\rightarrow$ simply remove decimals\n",
        "* np.fix() $\\rightarrow$ simply remove decimals\n",
        "* np.around() $\\rightarrow$ rounds value depending on the decimal being >= 5 (watch out, np.around(3.5) gives 4)\n",
        "* np.floor() $\\rightarrow$ rounds to lower integer neighbour\n",
        "* np.ceil()* $\\rightarrow$ rounds to the higher integer neighbour"
      ],
      "metadata": {
        "id": "GBokEdW7icRc"
      }
    },
    {
      "cell_type": "markdown",
      "source": [
        "### Sum/Summations: np.sum()\n",
        "Summation is conducted with np.sum(x,y) and allow to be performed along an axis:\n",
        "```\n",
        "import numpy as np\n",
        "x = np.array([element_x1, element_x2, ..., element_xn])\n",
        "y = np.array([element_y1, element_y2, ..., element_yn])\n",
        "\n",
        "v = np.sum([x, y]) \n",
        "# v = [element_x1 + element_y1 +  element_x2 + element_y2 + ... + element_xn + element_yn]\n",
        "\n",
        "w = np.sum([x, y], axis=0) \n",
        "# w = [element_x1 + element_y1, element_x2 + element_y2, ..., element_xn + element_yn]\n",
        "\n",
        "z = np.sum([x, y], axis=1) \n",
        "# z = [element_x1 + ... + element_xn, element_y1 + ... + element_yn]\n",
        "```\n",
        "> axis=0 $\\rightarrow$ we look inside the 1st dimension of the array, i.e., at the arrays themselves.\n",
        "\n",
        "> axis=1 $\\rightarrow$ we look inside the 0th dimension of every array, i.e., at the scalars that make them up."
      ],
      "metadata": {
        "id": "1ixqkqh6orQL"
      }
    },
    {
      "cell_type": "code",
      "source": [
        "import numpy as np\n",
        "x = np.array([2, 4, 6])\n",
        "y = np.array([3, 5, 7])\n",
        "\n",
        "v = np.sum([x, y]) \n",
        "# v = [element_x1 + element_y1 +  element_x2 + element_y2 + ... + element_xn + element_yn]\n",
        "print(v,\"\\n\")\n",
        "\n",
        "w = np.sum([x, y], axis=0) \n",
        "# w = [element_x1 + element_y1, element_x2 + element_y2, ..., element_xn + element_yn]\n",
        "#the same as np.add(x,y)\n",
        "print(w)\n",
        "print(np.add(x,y),\"\\n\")\n",
        "\n",
        "z = np.sum([x, y], axis=1) \n",
        "# z = [element_x1 + ... + element_xn, element_y1 + ... + element_yn]\n",
        "print(z)"
      ],
      "metadata": {
        "colab": {
          "base_uri": "https://localhost:8080/"
        },
        "id": "BZ0B1HicrSdu",
        "outputId": "eca2f305-caea-4ffc-b5a5-c4aa59ba8582"
      },
      "execution_count": null,
      "outputs": [
        {
          "output_type": "stream",
          "name": "stdout",
          "text": [
            "27 \n",
            "\n",
            "[ 5  9 13]\n",
            "[ 5  9 13] \n",
            "\n",
            "[12 15]\n"
          ]
        }
      ]
    },
    {
      "cell_type": "markdown",
      "source": [
        "### Cumulative sum: np.cumsum()\n",
        "Sums elements with those preceding it in the array, e.g.:"
      ],
      "metadata": {
        "id": "4n-AAKPytR6v"
      }
    },
    {
      "cell_type": "code",
      "source": [
        "import numpy as np\n",
        "x = np.array([1, 2, 3, 4, 5, 6])\n",
        "cumulative_sum_of_x = np.cumsum(x)\n",
        "print(cumulative_sum_of_x)\n",
        "# it sums 1 with nothing, because there's nothing preceding 1\n",
        "# it sums 2 with 1, because 1 precedes 2\n",
        "# it sums 3 with 1 and 2, because 1 and 2 precedes 3\n",
        "# it sums 4 with 1, 2 and 3, because 1, 2 and 3 precedes 4\n",
        "#and so on"
      ],
      "metadata": {
        "colab": {
          "base_uri": "https://localhost:8080/"
        },
        "id": "6MaFQVwltlaR",
        "outputId": "0eb2e1a0-0188-49cc-eeac-8d8c1823196b"
      },
      "execution_count": null,
      "outputs": [
        {
          "output_type": "stream",
          "name": "stdout",
          "text": [
            "[ 1  3  6 10 15 21]\n"
          ]
        }
      ]
    },
    {
      "cell_type": "markdown",
      "source": [
        "### Products - np.prod()\n",
        "* np.prod() $\\rightarrow$ works just like np.sum() (see above)"
      ],
      "metadata": {
        "id": "4z_UOnp5ubGC"
      }
    },
    {
      "cell_type": "markdown",
      "source": [
        "### Cumulative products - np.cumprod()\n",
        "* np.cumprod() $\\rightarrow$ works just like np.cumsum() (see above)"
      ],
      "metadata": {
        "id": "WZSuoN9my6eM"
      }
    },
    {
      "cell_type": "markdown",
      "source": [
        "### Discrete Differences - np.diff()\n",
        "np.diff() $\\rightarrow$ discrete difference, means subtracting the previous element with the current (starting at the second element), e.g.:\n",
        "```\n",
        "import numpy as np\n",
        "z = np.array([a,b,c,d,e])\n",
        "the discrete difference is given by\n",
        "np.diff(z) = [b-a,c-b,d-c,e-d]\n",
        "```\n",
        "\n",
        "np.diff(some_array,n=some_value) can be iterated some_value times over the result of its previous application, for example:\n",
        "```\n",
        "import numpy as np\n",
        "z = np.array([a,b,c,d,e])\n",
        "the discrete difference is given by\n",
        "# np.diff(z,n=1) would give [b-a,c-b,d-c,e-d]\n",
        "np.diff(z,n=2) = [c-b-(b-a),e-d-(d-c)]\n",
        "```"
      ],
      "metadata": {
        "id": "cz4q1m1EvVnp"
      }
    },
    {
      "cell_type": "markdown",
      "source": [
        "### Lowest common multiple: np.lcm()\n",
        "np.lcm(x,y) # for x and y scalars\n",
        "\n",
        "np.lcm.reduce(x,y) # for x and y arrays\n",
        "\n",
        "NOTE: The *reduce* method reduces the array in one dimension."
      ],
      "metadata": {
        "id": "ypz7p4Haxsji"
      }
    },
    {
      "cell_type": "code",
      "source": [
        "from typing import no_type_check_decorator\n",
        "import numpy as np\n",
        "x = 3\n",
        "y = 2\n",
        "print(np.lcm(x,y),\"\\n\")\n",
        "\n",
        "x = [3, 5, 2]\n",
        "print(np.lcm.reduce(x))"
      ],
      "metadata": {
        "colab": {
          "base_uri": "https://localhost:8080/"
        },
        "id": "7jNKR_yT2hcZ",
        "outputId": "f7f669ca-9278-4ca9-8b99-b723598452b7"
      },
      "execution_count": null,
      "outputs": [
        {
          "output_type": "stream",
          "name": "stdout",
          "text": [
            "6 \n",
            "\n",
            "30\n"
          ]
        }
      ]
    },
    {
      "cell_type": "markdown",
      "source": [
        "### Greatest common denominator: np.gcd()\n",
        "Greatest common denominator = Highest common factor\n",
        "\n",
        "Analogous to lcm:\n",
        "\n",
        "np.gcd(x,y) # for x and y scalars\n",
        "\n",
        "np.gcd.reduce(x,y) # for x and y arrays\n",
        "\n",
        "NOTE: The *reduce* method reduces the array in one dimension."
      ],
      "metadata": {
        "id": "t0MWjXfQ3M8W"
      }
    },
    {
      "cell_type": "code",
      "source": [
        "from typing import no_type_check_decorator\n",
        "import numpy as np\n",
        "x = 18\n",
        "y = 12\n",
        "print(np.gcd(x,y),\"\\n\")\n",
        "\n",
        "x = [18, 30, 12]\n",
        "print(np.gcd.reduce(x))"
      ],
      "metadata": {
        "colab": {
          "base_uri": "https://localhost:8080/"
        },
        "id": "7NyyzHYZ34Xj",
        "outputId": "6ab84f7b-d3a1-443f-fd4a-c2b3c46276e8"
      },
      "execution_count": null,
      "outputs": [
        {
          "output_type": "stream",
          "name": "stdout",
          "text": [
            "6 \n",
            "\n",
            "6\n"
          ]
        }
      ]
    },
    {
      "cell_type": "markdown",
      "source": [
        "### Trigonometry\n",
        "* np.sin()\n",
        "* np.cos()\n",
        "* np.tan()\n",
        "Take values in radians.\n",
        "\n",
        "Works on arrays as well:"
      ],
      "metadata": {
        "id": "e0uFW2k15lRf"
      }
    },
    {
      "cell_type": "code",
      "source": [
        "x = np.array([np.pi/6, np.pi/3, np.pi/2, np.pi])\n",
        "print(np.sin(x)) # for pi produces a numerical zero\n",
        "print(np.cos(x)) # for pi/2 produces a numerical zero\n",
        "print(np.tan(x)) # for pi produces a numerical zero; for pi/2 produces inf"
      ],
      "metadata": {
        "colab": {
          "base_uri": "https://localhost:8080/"
        },
        "id": "lr7pTqFO6UPJ",
        "outputId": "596a64c8-7943-42b8-e643-23949a8496e1"
      },
      "execution_count": null,
      "outputs": [
        {
          "output_type": "stream",
          "name": "stdout",
          "text": [
            "[5.00000000e-01 8.66025404e-01 1.00000000e+00 1.22464680e-16]\n",
            "[ 8.66025404e-01  5.00000000e-01  6.12323400e-17 -1.00000000e+00]\n",
            "[ 5.77350269e-01  1.73205081e+00  1.63312394e+16 -1.22464680e-16]\n"
          ]
        }
      ]
    },
    {
      "cell_type": "markdown",
      "source": [
        "Convert deg to rad: np.deg2rad()\n"
      ],
      "metadata": {
        "id": "m-Uu9Fxb64TN"
      }
    },
    {
      "cell_type": "code",
      "source": [
        "angle_deg = 30 # degrees\n",
        "angle_rad = np.deg2rad(angle_deg) # radians\n",
        "print(np.sin(angle_rad))"
      ],
      "metadata": {
        "colab": {
          "base_uri": "https://localhost:8080/"
        },
        "id": "9EKo1_aw6_nE",
        "outputId": "0450a677-9ba8-4ada-f510-dc0b704cb549"
      },
      "execution_count": null,
      "outputs": [
        {
          "output_type": "stream",
          "name": "stdout",
          "text": [
            "0.49999999999999994\n"
          ]
        }
      ]
    },
    {
      "cell_type": "markdown",
      "source": [
        "Convert rad to deg: np.deg2rad()"
      ],
      "metadata": {
        "id": "W3Mz9x7e7Sqa"
      }
    },
    {
      "cell_type": "code",
      "source": [
        "angle_rad = np.pi/6 # rad\n",
        "angle_deg = np.rad2deg(angle_rad) # radians\n",
        "print(np.sin(angle_rad))"
      ],
      "metadata": {
        "colab": {
          "base_uri": "https://localhost:8080/"
        },
        "id": "6L8Z9dgl7Tt5",
        "outputId": "89237906-1497-497d-a308-56a24d5359cd"
      },
      "execution_count": null,
      "outputs": [
        {
          "output_type": "stream",
          "name": "stdout",
          "text": [
            "0.49999999999999994\n"
          ]
        }
      ]
    },
    {
      "cell_type": "markdown",
      "source": [
        "Inverse functions: np.arcsin(), np.arccos(), np.arctan()\n"
      ],
      "metadata": {
        "id": "SgmPituA7jcP"
      }
    },
    {
      "cell_type": "code",
      "source": [
        "my_sin_value = [1, 0.5]\n",
        "print(np.rad2deg(np.arcsin(my_sin_value)), \"degrees\")"
      ],
      "metadata": {
        "colab": {
          "base_uri": "https://localhost:8080/"
        },
        "id": "_lcWoWxi7uy1",
        "outputId": "d7120a75-628b-45b8-b6ec-dd2cb284f171"
      },
      "execution_count": null,
      "outputs": [
        {
          "output_type": "stream",
          "name": "stdout",
          "text": [
            "[90. 30.] degrees\n"
          ]
        }
      ]
    },
    {
      "cell_type": "markdown",
      "source": [
        "np.hypot(base,perpendicular_side) $\\rightarrow$ calculates the hypotenuse"
      ],
      "metadata": {
        "id": "JsKjQYN08Kqy"
      }
    },
    {
      "cell_type": "code",
      "source": [
        "base = 3\n",
        "side = 4\n",
        "print(np.hypot(base,side))"
      ],
      "metadata": {
        "colab": {
          "base_uri": "https://localhost:8080/"
        },
        "id": "HAasgzu_8dAF",
        "outputId": "363b0908-dfdc-413e-e866-485cd7a4fcfe"
      },
      "execution_count": null,
      "outputs": [
        {
          "output_type": "stream",
          "name": "stdout",
          "text": [
            "5.0\n"
          ]
        }
      ]
    },
    {
      "cell_type": "markdown",
      "source": [
        "Hyperbolic functions: np.sinh(), np.cosh(), np.tanh()\n",
        "\n",
        "Inverse hyperbolic functions: np.arcsinh(), np.arccosh(), np.arctanh()"
      ],
      "metadata": {
        "id": "EsjzfaIY8iDp"
      }
    },
    {
      "cell_type": "markdown",
      "source": [
        "### Set operations\n",
        "* np.unique() $\\rightarrow$ obtain unique elements from an array\n",
        "\n",
        "* np.union1D() $\\rightarrow$ obtain unique elements from two arrays\n",
        "\n",
        "* np.intersect1D() $\\rightarrow$ obtain common elements of two arrays. Use option `assume_unique=True` for faster computations (according to [w3schools](https://www.w3schools.com/python/numpy/numpy_ufunc_set_operations.asp)(?))\n",
        "\n",
        "* np.setdiff1D() $\\rightarrow$ find elements that are in the first set, but that are not in common with the second set. Also use `assume_unique=True`.\n",
        "\n",
        "* np.setxor1D() $\\rightarrow$ find elements that are not common to both sets ('symmetric difference'). Also use `assume_unique=True`."
      ],
      "metadata": {
        "id": "ctzFjbdK9xVC"
      }
    },
    {
      "cell_type": "markdown",
      "source": [
        "# Pandas\n",
        "Python library to analyse data:\n",
        "*  *clean* data (remove irrelevant rows, or those empty or containing null values)\n",
        "* make data sets more readable\n",
        "* establish a correlation between columns\n",
        "* find minimum, mean and average values\n",
        "\n",
        "\"Pandas\" is either a reference to \"Panel data\" or \"Python Data Analysis\".\n",
        "\n",
        "Installation and version:\n",
        "* Install Pandas in linux with `sudo apt-get install python3-pandas -y`\n",
        "* Check if Pandas is installed with\n",
        "```\n",
        "try:\n",
        "    import pandas\n",
        "except ImportError:\n",
        "    print(\"Pandas is not installed\")\n",
        "```\n",
        "\n",
        "* Check Pandas' version with:\n",
        "```\n",
        "import pandas\n",
        "print(pandas.__version__)\n",
        "```\n",
        "\n",
        "* Import Pandas: `import numpy`\n",
        "* Import Pandas with the usual alias 'pd': `import pandas as pd`\n",
        "* Example:"
      ],
      "metadata": {
        "id": "08_XR2KyDK2Q"
      }
    },
    {
      "cell_type": "code",
      "source": [
        "import pandas as pd\n",
        "\n",
        "mydataset = {\n",
        "  'cars': [\"BMW\", \"Volvo\", \"Ford\"],\n",
        "  'passings': [3, 7, 2]\n",
        "}\n",
        "\n",
        "myvar = pd.DataFrame(mydataset)\n",
        "\n",
        "print(myvar)"
      ],
      "metadata": {
        "colab": {
          "base_uri": "https://localhost:8080/"
        },
        "id": "dJmfmrn2WvXo",
        "outputId": "4b4c8a0f-2dcc-4e2e-bb80-0c4292e7f869"
      },
      "execution_count": null,
      "outputs": [
        {
          "output_type": "stream",
          "name": "stdout",
          "text": [
            "    cars  passings\n",
            "0    BMW         3\n",
            "1  Volvo         7\n",
            "2   Ford         2\n"
          ]
        }
      ]
    },
    {
      "cell_type": "markdown",
      "source": [
        "## Pandas series\n",
        "Pandas series is a one-dimensional array, which associates every element a label (by default, like indices we have seen in built-in Python (first element receives label 0; second, 1; third, 2; etc.).\n",
        "\n",
        "To specify the labels, we can use the 'index' option.\n",
        "\n",
        "E.g.,\n"
      ],
      "metadata": {
        "id": "BRM3KbMTXVrx"
      }
    },
    {
      "cell_type": "code",
      "source": [
        "import pandas as pd\n",
        "\n",
        "a = [1, 7, 2]\n",
        "\n",
        "myvar = pd.Series(a)\n",
        "\n",
        "print(myvar)\n",
        "print(myvar[0])\n",
        "print(myvar[1])\n",
        "print(myvar[2],\"\\n\")\n",
        "\n",
        "myvar = pd.Series(a, index=[\"first\", \"second\", \"third\"])\n",
        "print(myvar)\n",
        "print(myvar[\"first\"])\n",
        "print(myvar[\"second\"])\n",
        "print(myvar[\"third\"])"
      ],
      "metadata": {
        "colab": {
          "base_uri": "https://localhost:8080/"
        },
        "id": "hST--UYcYMVz",
        "outputId": "77bbc866-57e7-440c-a6c7-4c421878c14d"
      },
      "execution_count": null,
      "outputs": [
        {
          "output_type": "stream",
          "name": "stdout",
          "text": [
            "0    1\n",
            "1    7\n",
            "2    2\n",
            "dtype: int64\n",
            "1\n",
            "7\n",
            "2 \n",
            "\n",
            "first     1\n",
            "second    7\n",
            "third     2\n",
            "dtype: int64\n",
            "1\n",
            "7\n",
            "2\n"
          ]
        }
      ]
    },
    {
      "cell_type": "markdown",
      "source": [
        "### Key/value objects\n",
        "We can create a Series from a dictionary (entirely or partially, using the *index* option), e.g.,"
      ],
      "metadata": {
        "id": "kxotILgxZa1o"
      }
    },
    {
      "cell_type": "code",
      "source": [
        "import pandas as pd\n",
        "work_days = {\"First\":\"Monday\", \\\n",
        "             \"Second\":\"Tuesday\", \\\n",
        "             \"Third\":\"Wednesday\", \\\n",
        "             \"Fourth\":\"Thursday\", \\\n",
        "             \"Fifth\":\"Friday\"}\n",
        "print(work_days,\"\\n\")\n",
        "\n",
        "# Series from entire dictionary\n",
        "pd_work_days = pd.Series(work_days)\n",
        "print(pd_work_days) # much more organised\n",
        "print(pd_work_days[\"First\"],\"\\n\") # print a single label\n",
        "\n",
        "# Series from partial dictionary\n",
        "pd_work_days = pd.Series(work_days, index = [\"Second\", \"Third\"])\n",
        "print(pd_work_days)"
      ],
      "metadata": {
        "colab": {
          "base_uri": "https://localhost:8080/"
        },
        "id": "2M84aznBaM22",
        "outputId": "9baab80a-6dea-4d15-a7ed-52b9e05aa6c8"
      },
      "execution_count": null,
      "outputs": [
        {
          "output_type": "stream",
          "name": "stdout",
          "text": [
            "{'First': 'Monday', 'Second': 'Tuesday', 'Third': 'Wednesday', 'Fourth': 'Thursday', 'Fifth': 'Friday'} \n",
            "\n",
            "First        Monday\n",
            "Second      Tuesday\n",
            "Third     Wednesday\n",
            "Fourth     Thursday\n",
            "Fifth        Friday\n",
            "dtype: object\n",
            "Monday \n",
            "\n",
            "Second      Tuesday\n",
            "Third     Wednesday\n",
            "dtype: object\n"
          ]
        }
      ]
    },
    {
      "cell_type": "markdown",
      "source": [
        "## DataFrames\n",
        "In a Series we have each label associated to a value. In DataFrames we can have values associated with other values, generalising Series, like a table or a 2D array:\n"
      ],
      "metadata": {
        "id": "4ap9IRbLiITY"
      }
    },
    {
      "cell_type": "code",
      "source": [
        "import pandas as pd\n",
        "\n",
        "marathon = {\n",
        "  \"extension(km)\": [10, 13, 2],\n",
        "  \"duration(h)\": [40, 1, 0.1],\n",
        "}\n",
        "\n",
        "my_data = pd.DataFrame(marathon, index = [\"D0\",\"D1\",\"D2\"])\n",
        "\n",
        "print(my_data)"
      ],
      "metadata": {
        "colab": {
          "base_uri": "https://localhost:8080/"
        },
        "id": "WFG_ti-JkCJ2",
        "outputId": "2776b880-8827-48a2-e67d-b20016bc2269"
      },
      "execution_count": null,
      "outputs": [
        {
          "output_type": "stream",
          "name": "stdout",
          "text": [
            "    extension(km)  duration(h)\n",
            "D0             10         40.0\n",
            "D1             13          1.0\n",
            "D2              2          0.1\n"
          ]
        }
      ]
    },
    {
      "cell_type": "markdown",
      "source": [
        "some_data_frame.loc(row_index) $\\rightarrow$ locate a row\n",
        "\n",
        "some_data_frame.loc([[row_index1, row_index2]]) $\\rightarrow$ locates two rows"
      ],
      "metadata": {
        "id": "XNXeaoVHlSM-"
      }
    },
    {
      "cell_type": "code",
      "source": [
        "print(my_data.loc[\"D0\"])\n",
        "print(my_data.loc[[\"D0\",\"D1\"]])"
      ],
      "metadata": {
        "colab": {
          "base_uri": "https://localhost:8080/"
        },
        "id": "wUIVtq0Qlwrw",
        "outputId": "8d1ce563-3b54-4aa5-b3bf-e35954b7fd17"
      },
      "execution_count": null,
      "outputs": [
        {
          "output_type": "stream",
          "name": "stdout",
          "text": [
            "extension(km)    10.0\n",
            "duration(h)      40.0\n",
            "Name: D0, dtype: float64\n",
            "    extension(km)  duration(h)\n",
            "D0             10         40.0\n",
            "D1             13          1.0\n"
          ]
        }
      ]
    },
    {
      "cell_type": "markdown",
      "source": [
        "## Read files\n",
        "Pandas can easily read csv (comma separated) files."
      ],
      "metadata": {
        "id": "Ro2ckTTpnu4P"
      }
    },
    {
      "cell_type": "markdown",
      "source": [
        "### Load file into a DataFrame\n",
        "```\n",
        "import pandas as pd\n",
        "\n",
        "df = pd.read_csv('data.csv')\n",
        "```\n",
        "Reads 'data.csv' into *df* as a DataFrame."
      ],
      "metadata": {
        "id": "xh-ceI4XoEo8"
      }
    },
    {
      "cell_type": "code",
      "source": [
        "import pandas as pd\n",
        "\n",
        "df = pd.read_csv('data.csv') # read data.csv into a DataFrame\n",
        "\n",
        "print(df) # by default, Pandas prints only the first 5 rows and columns of the DataFrame\n",
        "print(df.to_string()) # prints the entire DataFrame"
      ],
      "metadata": {
        "id": "YtEmcz7ctOxn"
      },
      "execution_count": null,
      "outputs": []
    },
    {
      "cell_type": "markdown",
      "source": [
        "By default, Pandas prints all rows and columns with `print(df)`, only for files containing less than the number of rows specified by pd.options.display.max_rows, which is 60 here) but it can print the entire DataFrame with `print(df.to_string()`. \n",
        "\n",
        "To adjust the number of rows after which print(df) will only print the first 5 rows and columns, we can set `pd.options.display.max_rows` to a different number, e.g.:"
      ],
      "metadata": {
        "id": "1MfEHZgmu-ik"
      }
    },
    {
      "cell_type": "code",
      "source": [
        "pd.options.display.max_rows = 200\n",
        "print(pd.options.display.max_rows) \n",
        "print(df)\n",
        "pd.options.display.max_rows = 60 # back to standard"
      ],
      "metadata": {
        "id": "sXafMJIrugrT"
      },
      "execution_count": null,
      "outputs": []
    },
    {
      "cell_type": "markdown",
      "source": [
        "now Pandas will print the 5 rows and columns only for files that surpass 200 rows.\n",
        "\n",
        "Since the file data.csv contains 168 rows, and we are setting pd.options.display.max_rows to 200, all the rows are shown with print(df) in the piece of code above."
      ],
      "metadata": {
        "id": "1k4-Qgl9wTRB"
      }
    },
    {
      "cell_type": "markdown",
      "source": [
        "### JSON\n"
      ],
      "metadata": {
        "id": "aguMgB-nw1t9"
      }
    },
    {
      "cell_type": "markdown",
      "source": [
        "A JSON code/object is one which has the format of a dictionary. \n",
        "`JSON = Python dictionary` according to [w3schools](https://www.w3schools.com/python/pandas/pandas_json.asp).\n",
        "\n",
        "It may be put into a dictionary and then loaded into a DataFrame directly, [e.g.](https://www.w3schools.com/python/pandas/data.js):\n"
      ],
      "metadata": {
        "id": "jfWvBrS_3Zw3"
      }
    },
    {
      "cell_type": "code",
      "source": [
        "import pandas as pd\n",
        "\n",
        "my_js_data = {\n",
        "  \"Duration\":{\n",
        "    \"0\":60,\n",
        "    \"1\":60,\n",
        "    \"2\":60\n",
        "  },\n",
        "  \"Pulse\":{\n",
        "    \"0\":110,\n",
        "    \"1\":117,\n",
        "    \"2\":103\n",
        "  },\n",
        "  \"Maxpulse\":{\n",
        "    \"0\":130,\n",
        "    \"1\":145,\n",
        "    \"2\":135\n",
        "  },\n",
        "  \"Calories\":{\n",
        "    \"0\":409.1,\n",
        "    \"1\":479.0,\n",
        "    \"2\":340.0\n",
        "  }\n",
        "}\n",
        "\n",
        "df = pd.DataFrame(my_js_data)\n",
        "print(df)"
      ],
      "metadata": {
        "colab": {
          "base_uri": "https://localhost:8080/"
        },
        "id": "w0jiUOLf3xUh",
        "outputId": "53dd442f-92f5-4258-8f3b-c267c55caff1"
      },
      "execution_count": null,
      "outputs": [
        {
          "output_type": "stream",
          "name": "stdout",
          "text": [
            "   Duration  Pulse  Maxpulse  Calories\n",
            "0        60    110       130     409.1\n",
            "1        60    117       145     479.0\n",
            "2        60    103       135     340.0\n"
          ]
        }
      ]
    },
    {
      "cell_type": "markdown",
      "source": [
        "JSON files (__.js__) follow the description above for JSON codes and are widely used in data science, especially for large data sets.\n",
        "\n",
        "It is imported in the same way as a csv, with each label representing a column, e.g.,"
      ],
      "metadata": {
        "id": "KpmrECwT4SCN"
      }
    },
    {
      "cell_type": "code",
      "source": [
        "import pandas as pd\n",
        "\n",
        "df = pd.read_json('data.js') # this file is from w3schools\n",
        "\n",
        "print(df) \n",
        "# print(df.to_string()) # to print the entire DataFrame"
      ],
      "metadata": {
        "id": "C7IE0K7D2ezD"
      },
      "execution_count": null,
      "outputs": []
    },
    {
      "cell_type": "markdown",
      "source": [
        "head(number_of_rows) $\\rightarrow$ prints the header and a specified number of rows starting from the top (if not specified, by default, this number equals 5).\n",
        "\n",
        "tail(number_of_rows) $\\rightarrow$ prints the header and a specified number of rows starting from the bottom (if not specified, by default, this number equals 5)."
      ],
      "metadata": {
        "id": "diHf7yzWKJIv"
      }
    },
    {
      "cell_type": "code",
      "source": [
        "import pandas as pd\n",
        "\n",
        "df = pd.read_csv('data.csv')\n",
        "\n",
        "print(df.head(10),\"\\n\\n\")\n",
        "print(df.tail(10))"
      ],
      "metadata": {
        "colab": {
          "base_uri": "https://localhost:8080/"
        },
        "id": "yo0Zn999KAXJ",
        "outputId": "77dc6d2e-3bb2-48e7-c37c-1a67a0daf58e"
      },
      "execution_count": null,
      "outputs": [
        {
          "output_type": "stream",
          "name": "stdout",
          "text": [
            "   Duration  Pulse  Maxpulse  Calories\n",
            "0        60    110       130     409.1\n",
            "1        60    117       145     479.0\n",
            "2        60    103       135     340.0\n",
            "3        45    109       175     282.4\n",
            "4        45    117       148     406.0\n",
            "5        60    102       127     300.0\n",
            "6        60    110       136     374.0\n",
            "7        45    104       134     253.3\n",
            "8        30    109       133     195.1\n",
            "9        60     98       124     269.0 \n",
            "\n",
            "\n",
            "     Duration  Pulse  Maxpulse  Calories\n",
            "159        30     80       120     240.9\n",
            "160        30     85       120     250.4\n",
            "161        45     90       130     260.4\n",
            "162        45     95       130     270.0\n",
            "163        45    100       140     280.9\n",
            "164        60    105       140     290.8\n",
            "165        60    110       145     300.0\n",
            "166        60    115       145     310.2\n",
            "167        75    120       150     320.4\n",
            "168        75    125       150     330.4\n"
          ]
        }
      ]
    },
    {
      "cell_type": "markdown",
      "source": [
        "info() $\\rightarrow$ gives information about the data set: class, number of columns and rows, number of non-null values, data type, dtypes, memory usage.\n",
        "\n",
        "Non-null values are bad in data sets, and it is good practice to remove their rows in the *cleaning* step."
      ],
      "metadata": {
        "id": "otf8thyELMVL"
      }
    },
    {
      "cell_type": "markdown",
      "source": [
        "## Cleaning data\n",
        "To clean the data means to correct for the following cases."
      ],
      "metadata": {
        "id": "EyjNn05KMH5z"
      }
    },
    {
      "cell_type": "markdown",
      "source": [
        "__Empty cells__\n",
        "\n",
        "*Removing empty cells: dropna()*\n",
        "dropna() $\\rightarrow$ remove rows/columns where empty cells are located.\n",
        "\n",
        "[Pandas' documentation](https://pandas.pydata.org/docs/reference/api/pandas.DataFrame.dropna.html) refers to missing data as \"not available\" data, or NA.\n",
        "\n",
        "Usually the row of empty cells is removed, and this is considered to be generally fine, since removing a few rows from big data sets should not comprise the quality of the data set.\n",
        "\n",
        "This is done with `dropna()`. For default values of .dropna():\n",
        "\n",
        " `DataFrame.dropna(axis=0, how='any', thresh=None, subset=None, inplace=False)`\n",
        "* axis = 0 (default, to drop rows) or 1 (to drop columns)\n",
        "* how = 'any' (if any value is NA, drop the corresponding column/row) or 'all' (if the row or column should only be dropped if the all the values are NA)\n",
        "* thresh = minimum number of non-NA values that should be present in the corresponding row/column, so it is not dropped. Default is 'None', i.e., keep the rows/columns where no NA occurs. An integer can be specified (e.g., 2, meaning that only rows/columns with at least 2 non-NA values should be kept)\n",
        "* subset = list of labels of columns/rows (for dropping rows/columns, respectively), e.g., subset=['first_column', 'second_column'] when dropping rows, and vice-verse for dropping columns\n",
        "* inplace = 'False' by default. When 'True' is used, it modifies the original DataFrame; in this case, no DataFrame is returned, because the original is modified."
      ],
      "metadata": {
        "id": "L2CHMK_0-44c"
      }
    },
    {
      "cell_type": "code",
      "source": [
        "import pandas as pd\n",
        "\n",
        "df = pd.read_csv('data.csv')\n",
        "\n",
        "new_df = df.dropna()\n",
        "# drop rows that contain missing values\n",
        "\n",
        "new_df = df.dropna(axis=1)\n",
        "# drop columns that contain missing values\n",
        "\n",
        "new_df = df.dropna(axis=1, how='all')\n",
        "# drop columns that contain only NA values\n",
        "\n",
        "new_df = df.dropna(axis=1, thresh=2)\n",
        "# keep columns that contain at least 2 non-NA values\n",
        "\n",
        "new_df = df.dropna(subset=['Duration', 'Pulse'])\n",
        "# keep rows that do not contain NA values in the referred columns"
      ],
      "metadata": {
        "id": "3GbNNONt1neN"
      },
      "execution_count": null,
      "outputs": []
    },
    {
      "cell_type": "markdown",
      "source": [
        "* Replacing NA values: fillna()*\n",
        "\n",
        "fillna() $\\rightarrow$ replace empty cells with a specified value\n"
      ],
      "metadata": {
        "id": "VzWzzdYw-6kU"
      }
    },
    {
      "cell_type": "code",
      "source": [
        "import pandas as pd\n",
        "\n",
        "df = pd.read_csv('data.csv')\n",
        "\n",
        "df.fillna(130)\n",
        "# replace all empty values with the value 130\n",
        "\n",
        "df[\"some_column\"].fillna(130) \n",
        "# replace empty values only of the specified column"
      ],
      "metadata": {
        "id": "N3Fm7iqu_pTT"
      },
      "execution_count": null,
      "outputs": []
    },
    {
      "cell_type": "markdown",
      "source": [
        "we can also use mean(), median() or mode() of the column (or row) to replace the empty cells\n",
        "\n",
        "Recall:\n",
        "* median = value in the middle (after sorting the values in an ascending order)\n",
        "* mode = most frequent value"
      ],
      "metadata": {
        "id": "IfQ89BSXHQhG"
      }
    },
    {
      "cell_type": "code",
      "source": [
        "import pandas as pd\n",
        "\n",
        "df = pd.read_csv('data.csv')\n",
        "\n",
        "x = df[\"some_column\"].mean() # find the mean value\n",
        "y = df[\"some_column\"].median() # find the median value\n",
        "z = df[\"some_column\"].mode() # find the mode value\n",
        "\n",
        "df[\"some_column\"].fillna(x) \n",
        "# replace empty values only of the specified column with the mean value\n",
        "\n",
        "df.fillna(y) \n",
        "# replace empty values with the median value\n",
        "\n",
        "df.fillna(z) \n",
        "# replace empty values with the mode value"
      ],
      "metadata": {
        "id": "bGCezqO8HaEm"
      },
      "execution_count": null,
      "outputs": []
    },
    {
      "cell_type": "markdown",
      "source": [
        "__Data in the wrong format__\n",
        "\n",
        "Two procedures can be followed:\n",
        "* Remove the cells\n",
        "* Convert cells in the columns into the same format\n",
        "\n",
        "E.g.,\n",
        "\n",
        "`to_datetime`() $\\rightarrow$ format a column into a data format\n",
        "```\n",
        "import pandas as pd\n",
        "df = pd.read_csv('some_file.csv')\n",
        "df['Date'] = df[\"Bla_column\"].to_datetime(df['Date'])\n",
        "```"
      ],
      "metadata": {
        "id": "15KSGFAN1ag-"
      }
    },
    {
      "cell_type": "markdown",
      "source": [
        "__Wrong data__\n",
        "\n",
        "Two procedures can be followed:\n",
        "* to replace the incorrect data\n",
        "* to remove the respective row\n",
        "\n",
        "For the first, it can be done, for example as:\n",
        "`df.loc[7, 'Duration'] = 45` replaces the value of row 7, and column 'Duration' with 45.\n",
        "\n",
        "For large DataFrames, one could loop through all the lines and replace values outside of a range, e.g.:\n",
        "\n",
        "```\n",
        "for x in df.index:\n",
        "  if df.loc[x, \"Duration\"] > 120:\n",
        "    df.loc[x, \"Duration\"] = 120\n",
        "```"
      ],
      "metadata": {
        "id": "0dPfJqUd1c5L"
      }
    },
    {
      "cell_type": "markdown",
      "source": [
        "__Removing duplicates__\n",
        "\n",
        "For some DataFrame df, the duplicates can located with the method duplicated(): `print(df.duplicated())` which reveals as 'True' those that are duplicated. This method reads the data from top to bottom, and when it encounters a duplicated row, it assigns 'True' to that row.\n",
        "\n",
        "`df.drop_duplicates(inplace = True)` $\\rightarrow$ eliminates duplicates ('original' rows stay)."
      ],
      "metadata": {
        "id": "S4TXARdh1eBH"
      }
    },
    {
      "cell_type": "markdown",
      "source": [
        "### Correlation: df.corr()\n",
        "It establishes the correlation between the columns of the data. \n",
        "\n",
        "1 means proportional\n",
        "-1 means inversely proportional\n",
        "0 no correlation\n",
        "\n",
        "(How does Pandas calculate this?)"
      ],
      "metadata": {
        "id": "5iLWh4alRUr8"
      }
    },
    {
      "cell_type": "markdown",
      "source": [
        "### Pandas plotting\n",
        "We can use the built-in plot, together with the Pyplot from matplotlib.\n",
        "\n",
        "```\n",
        "import pandas as pd\n",
        "import matplotlib.pyplot\n",
        "some_DataFrame.plot()\n",
        "some_DataFrame.plot(kind='some_kind', x='some_column_label', y='another_column_label')\n",
        "\n",
        "matplotlib.pyplot.show() # open up plot\n",
        "```\n",
        "where \n",
        "* some_kind if not specified becomes a simple line plot. It can be 'scatter', 'hist' (histogram)\n",
        "* x and y are the axes\n",
        "\n",
        "For a histogram, only one column is required (then the plot is of the frequency of values of the corresponding column as a function of its values' distribution)"
      ],
      "metadata": {
        "id": "nCOY_tfrUUWq"
      }
    },
    {
      "cell_type": "code",
      "source": [
        "import pandas as pd\n",
        "import matplotlib.pyplot\n",
        "\n",
        "df = pd.read_csv('data.csv') \n",
        "# build DataFrame\n",
        "# Recall that the columns are 'Duration', 'Pulse', 'Maxpulse', 'Calories'\n",
        "\n",
        "df.plot()\n",
        "# this will plot the data according to the number of the row. \n",
        "#Since there are 169 rows of data (+ a header), the x-axis\n",
        "#corresponds to range(1,169)\n",
        "\n",
        "matplotlib.pyplot.show()"
      ],
      "metadata": {
        "colab": {
          "base_uri": "https://localhost:8080/",
          "height": 265
        },
        "id": "tvjPK5IWlt1k",
        "outputId": "554e056b-f602-44c3-aa87-f952028c627d"
      },
      "execution_count": null,
      "outputs": [
        {
          "output_type": "display_data",
          "data": {
            "text/plain": [
              "<Figure size 432x288 with 1 Axes>"
            ],
            "image/png": "[encoded data removed]"
          },
          "metadata": {
            "needs_background": "light"
          }
        }
      ]
    },
    {
      "cell_type": "code",
      "source": [
        "# Scatter plot\n",
        "import pandas as pd\n",
        "import matplotlib.pyplot\n",
        "\n",
        "df = pd.read_csv('data.csv') \n",
        "# build DataFrame\n",
        "# Recall that the columns are 'Duration', 'Pulse', 'Maxpulse', 'Calories'\n",
        "\n",
        "df.plot(kind='scatter', x='Duration', y='Calories')\n",
        "matplotlib.pyplot.show()"
      ],
      "metadata": {
        "colab": {
          "base_uri": "https://localhost:8080/",
          "height": 279
        },
        "id": "KE28cH7Ym9Th",
        "outputId": "caf7a7ad-0065-4eab-8f0a-3b48e35491f6"
      },
      "execution_count": null,
      "outputs": [
        {
          "output_type": "display_data",
          "data": {
            "text/plain": [
              "<Figure size 432x288 with 1 Axes>"
            ],
            "image/png": "[encoded data removed]"
          },
          "metadata": {
            "needs_background": "light"
          }
        }
      ]
    },
    {
      "cell_type": "code",
      "source": [
        "# Scatter plot\n",
        "import pandas as pd\n",
        "import matplotlib.pyplot\n",
        "\n",
        "df = pd.read_csv('data.csv') \n",
        "# build DataFrame\n",
        "# Recall that the columns are 'Duration', 'Pulse', 'Maxpulse', 'Calories'\n",
        "\n",
        "df[\"Duration\"].plot(kind='hist')"
      ],
      "metadata": {
        "colab": {
          "base_uri": "https://localhost:8080/",
          "height": 282
        },
        "id": "9tFCu8XWmxFG",
        "outputId": "85569831-8c36-4406-ac82-ed70bfdc9898"
      },
      "execution_count": null,
      "outputs": [
        {
          "output_type": "execute_result",
          "data": {
            "text/plain": [
              "<matplotlib.axes._subplots.AxesSubplot at 0x7f90197a22d0>"
            ]
          },
          "metadata": {},
          "execution_count": 21
        },
        {
          "output_type": "display_data",
          "data": {
            "text/plain": [
              "<Figure size 432x288 with 1 Axes>"
            ],
            "image/png": "[encoded data removed]"
          },
          "metadata": {
            "needs_background": "light"
          }
        }
      ]
    },
    {
      "cell_type": "markdown",
      "source": [
        "# SciPy = Scientific Python\n",
        "(Awful section of [w3schools](https://www.w3schools.com/python/scipy/index.php). I gave up after struggling in the Sparse Data and Graphs sections)!\n",
        "* SciPy is library that uses NumPy, but it is optimised (offering constants, for example)\n",
        "* Especially useful for Data Science\n",
        "* Written predominantly in Python, but some parts are in C\n",
        "* Useful for optimisation, stats and signal processing\n",
        "\n",
        "Installation and version:\n",
        "* Install SciPy in linux with `sudo apt-get install python3-scipy -y`\n",
        "* Check if SciPy is installed with\n",
        "```\n",
        "try:\n",
        "    import scipy\n",
        "except ImportError:\n",
        "    print(\"SciPy is not installed\")\n",
        "```\n",
        "\n",
        "* Check SciPy's version with:\n",
        "```\n",
        "import scipy\n",
        "print(scipy.__version__)\n",
        "```\n",
        "\n",
        "* Import SciPy: `import numpy`\n",
        "* Import SciPy with the usual alias 'pd': `import scipy as pd`"
      ],
      "metadata": {
        "id": "4VlGnwWDrGe2"
      }
    },
    {
      "cell_type": "markdown",
      "source": [
        "## Constants\n",
        "In general, SciPy uses the International System of Units (SI system), see below.\n",
        "\n",
        "For the full list of constants, refer to the [SciPy documentation](https://docs.scipy.org/doc/scipy/reference/constants.html)."
      ],
      "metadata": {
        "id": "jbDSqEg1tTcR"
      }
    },
    {
      "cell_type": "code",
      "source": [
        "from scipy import constants\n",
        "\n",
        "print(constants.liter) # liter in m^3\n",
        "print(constants.pi) # presents pi = 3.1415\n",
        "print(constants.speed_of_light) # (m/s)\n",
        "print(constants.kilo) # prefix used in kg, km, etc.\n",
        "print(constants.milli) # prefix used in mL, mm, etc.\n",
        "print(constants.grain) # unit of mass\n",
        "print(constants.gram) # unit of mass = 10^-3kg\n",
        "print(constants.carat) # unit of mass commonly used for diamonds\n",
        "print(constants.degree) # unit of angle (in radians)\n",
        "print(constants.minute) # in seconds\n",
        "print(constants.hour) # in seconds\n",
        "print(constants.week) # in seconds\n",
        "print(constants.yard) # in m\n",
        "print(constants.foot) # in m\n",
        "print(constants.inch) # in m\n",
        "print(constants.light_year) # in m\n",
        "print(constants.atm) # in Pascals\n",
        "print(constants.mmHg) # in Pascals\n",
        "print(constants.hectare) # in m^2\n",
        "\n",
        "print(\"\\n\\n\")\n",
        "print(dir(constants)) # list of all units provided by scipy"
      ],
      "metadata": {
        "colab": {
          "base_uri": "https://localhost:8080/"
        },
        "id": "deJAQ7gNtIm0",
        "outputId": "775d3231-a754-4c1f-e639-f5cdac8c926a"
      },
      "execution_count": null,
      "outputs": [
        {
          "output_type": "stream",
          "name": "stdout",
          "text": [
            "0.001\n",
            "3.141592653589793\n",
            "299792458.0\n",
            "\n",
            "\n",
            "\n",
            "['Avogadro', 'Boltzmann', 'Btu', 'Btu_IT', 'Btu_th', 'ConstantWarning', 'G', 'Julian_year', 'N_A', 'Planck', 'R', 'Rydberg', 'Stefan_Boltzmann', 'Wien', '__all__', '__builtins__', '__cached__', '__doc__', '__file__', '__loader__', '__name__', '__package__', '__path__', '__spec__', '_obsolete_constants', 'absolute_import', 'acre', 'alpha', 'angstrom', 'arcmin', 'arcminute', 'arcsec', 'arcsecond', 'astronomical_unit', 'atm', 'atmosphere', 'atomic_mass', 'atto', 'au', 'bar', 'barrel', 'bbl', 'blob', 'c', 'calorie', 'calorie_IT', 'calorie_th', 'carat', 'centi', 'codata', 'constants', 'convert_temperature', 'day', 'deci', 'degree', 'degree_Fahrenheit', 'deka', 'division', 'dyn', 'dyne', 'e', 'eV', 'electron_mass', 'electron_volt', 'elementary_charge', 'epsilon_0', 'erg', 'exa', 'exbi', 'femto', 'fermi', 'find', 'fine_structure', 'fluid_ounce', 'fluid_ounce_US', 'fluid_ounce_imp', 'foot', 'g', 'gallon', 'gallon_US', 'gallon_imp', 'gas_constant', 'gibi', 'giga', 'golden', 'golden_ratio', 'grain', 'gram', 'gravitational_constant', 'h', 'hbar', 'hectare', 'hecto', 'horsepower', 'hour', 'hp', 'inch', 'k', 'kgf', 'kibi', 'kilo', 'kilogram_force', 'kmh', 'knot', 'lambda2nu', 'lb', 'lbf', 'light_year', 'liter', 'litre', 'long_ton', 'm_e', 'm_n', 'm_p', 'm_u', 'mach', 'mebi', 'mega', 'metric_ton', 'micro', 'micron', 'mil', 'mile', 'milli', 'minute', 'mmHg', 'mph', 'mu_0', 'nano', 'nautical_mile', 'neutron_mass', 'nu2lambda', 'ounce', 'oz', 'parsec', 'pebi', 'peta', 'physical_constants', 'pi', 'pico', 'point', 'pound', 'pound_force', 'precision', 'print_function', 'proton_mass', 'psi', 'pt', 'short_ton', 'sigma', 'slinch', 'slug', 'speed_of_light', 'speed_of_sound', 'stone', 'survey_foot', 'survey_mile', 'tebi', 'tera', 'test', 'ton_TNT', 'torr', 'troy_ounce', 'troy_pound', 'u', 'unit', 'value', 'week', 'yard', 'year', 'yobi', 'yotta', 'zebi', 'zepto', 'zero_Celsius', 'zetta']\n"
          ]
        }
      ]
    },
    {
      "cell_type": "markdown",
      "source": [
        "## Optimisers"
      ],
      "metadata": {
        "id": "8ctmPqPg51gV"
      }
    },
    {
      "cell_type": "markdown",
      "source": [
        "### Find roots of nonlinear eqs\n",
        "`root(fun,x0)` $\\rightarrow$ finds the roots of a nonlinear function ($fun$) starting from a guess, $x_0$. (Different from NumPy, which is only capable of finding the roots of linear equations and polynominals). This returns an object that contains the solution in its property `.x`. E.g.,"
      ],
      "metadata": {
        "id": "XU6BfFufBa_i"
      }
    },
    {
      "cell_type": "code",
      "source": [
        "from scipy.optimize import root\n",
        "from math import cos\n",
        "\n",
        "def fun(x):\n",
        "  return x+cos(x)\n",
        "\n",
        "x0 = 0\n",
        "my_solution = root(fun,x0)\n",
        "\n",
        "print(my_solution.x) # this is x where fun(x) = 0\n",
        "print(my_solution) # all the information regarding the solution"
      ],
      "metadata": {
        "colab": {
          "base_uri": "https://localhost:8080/"
        },
        "id": "ZuibJb2xALim",
        "outputId": "2e895414-9729-469f-ef03-a58f36e08270"
      },
      "execution_count": null,
      "outputs": [
        {
          "output_type": "stream",
          "name": "stdout",
          "text": [
            "[-0.73908513]\n",
            "    fjac: array([[-1.]])\n",
            "     fun: array([0.])\n",
            " message: 'The solution converged.'\n",
            "    nfev: 9\n",
            "     qtf: array([-2.66786593e-13])\n",
            "       r: array([-1.67361202])\n",
            "  status: 1\n",
            " success: True\n",
            "       x: array([-0.73908513])\n"
          ]
        }
      ]
    },
    {
      "cell_type": "markdown",
      "source": [
        "### Find minimum: \n",
        "```\n",
        "from scipy.optimize import minimize\n",
        "minimize(fun, x0, method, options)\n",
        "```\n",
        "amongst the methods, there is :\n",
        "* Nelder-Mead\n",
        "* CG (conjugate gradient)\n",
        "* BFGS (Broyden-Fletcher-Goldfarb-Shanno)\n",
        "* Newton-CG (Newton conjugate gradient), etc.\n",
        "\n",
        "Amongst the options, we can set a tolerance:\n",
        "* disp = boolean # display further info\n",
        "* gtol = some_number # defines tolerance"
      ],
      "metadata": {
        "id": "jqAifFZlBDT0"
      }
    },
    {
      "cell_type": "code",
      "source": [
        "# Example: let us minimise 5*x^2+16*x+1\n",
        "from scipy.optimize import minimize\n",
        "\n",
        "def fun(x):\n",
        "  return 5*x**2 + 16*x + 1\n",
        "\n",
        "zeros = minimize(fun, 2000, method='CG')\n",
        "print(zeros)"
      ],
      "metadata": {
        "colab": {
          "base_uri": "https://localhost:8080/"
        },
        "id": "jtnhxVmRDjTn",
        "outputId": "50546666-d7af-418e-81a7-d47d905c9bcd"
      },
      "execution_count": null,
      "outputs": [
        {
          "output_type": "stream",
          "name": "stdout",
          "text": [
            "     fun: array([-11.8])\n",
            "     jac: array([1.1920929e-07])\n",
            " message: 'Optimization terminated successfully.'\n",
            "    nfev: 31\n",
            "     nit: 2\n",
            "    njev: 10\n",
            "  status: 0\n",
            " success: True\n",
            "       x: array([-1.6])\n"
          ]
        }
      ]
    },
    {
      "cell_type": "markdown",
      "source": [
        "## Sparse Data\n",
        "__Sparse data__ is data that contains unused elements, that do not carry relevant information. Take for example an array where a large part of the values are 0, and 0 in such context does not carry relevant info. This is in contrast with __dense data__.\n",
        "\n",
        "Types of sparse data:\n",
        "* CSC - Compressed Sparse Column $\\rightarrow$ efficient arithmetic. Fast column slicing.\n",
        "* CSR - Compressed Sparse Row $\\rightarrow$ efficient vector/matrix products. Fast row slicing.\n",
        "\n",
        "To use csr_matrix, we load it with:\n",
        "```\n",
        "import numpy as np\n",
        "from scipy.sparse import csr_matrix\n",
        "```\n",
        "\n",
        "Some methods are:\n",
        "* `csr_matrix(some_array)` show the positions and the values of of non-null values of some_array\n",
        "* `csr_matrix(some_array).data` show only non-null values\n",
        "* `csr_matrix(some_array).count_nonzero()` count the number of nonzero values"
      ],
      "metadata": {
        "id": "b0DVKFLvFbmQ"
      }
    },
    {
      "cell_type": "code",
      "source": [
        "import numpy as np\n",
        "from scipy.sparse import csr_matrix\n",
        "\n",
        "arr = np.array([[0, 0, 0], [0, 0, 1], [1, 0, 2]])\n",
        "\n",
        "print(arr)\n",
        "print(csr_matrix(arr), \"\\n\") # indices and values of nonzeroes\n",
        "print(csr_matrix(arr).data) # nonzero values\n",
        "print(csr_matrix(arr).count_nonzero()) # number of nonzero values"
      ],
      "metadata": {
        "colab": {
          "base_uri": "https://localhost:8080/"
        },
        "id": "R3G1tFrjkrji",
        "outputId": "01672a76-976b-4e67-c76c-f793457b37fd"
      },
      "execution_count": null,
      "outputs": [
        {
          "output_type": "stream",
          "name": "stdout",
          "text": [
            "[[0 0 0]\n",
            " [0 0 1]\n",
            " [1 0 2]]\n",
            "  (1, 2)\t1\n",
            "  (2, 0)\t1\n",
            "  (2, 2)\t2 \n",
            "\n",
            "[1 1 2]\n",
            "3\n"
          ]
        }
      ]
    },
    {
      "cell_type": "markdown",
      "source": [
        "* `csr_matrix(some_array).eliminate_nonzero()` eliminate nonzero values (strangely enough, the example below seems to show that this is not working?)"
      ],
      "metadata": {
        "id": "ihn06gdZpfvt"
      }
    },
    {
      "cell_type": "code",
      "source": [
        "import numpy as np\n",
        "from scipy.sparse import csr_matrix\n",
        "\n",
        "arr = np.array([[0, 0, 0], [0, 0, 1], [1, 0, 2]])\n",
        "\n",
        "mat = csr_matrix(arr)\n",
        "print(mat, \"\\n\\n\") # before\n",
        "\n",
        "mat.eliminate_zeros() \n",
        "print(mat) # after - what is the difference?"
      ],
      "metadata": {
        "colab": {
          "base_uri": "https://localhost:8080/"
        },
        "id": "uqp0_AiYqc4v",
        "outputId": "1cffdf9a-acb9-4495-a235-1df41712bba8"
      },
      "execution_count": null,
      "outputs": [
        {
          "output_type": "stream",
          "name": "stdout",
          "text": [
            "  (1, 2)\t1\n",
            "  (2, 0)\t1\n",
            "  (2, 2)\t2 \n",
            "\n",
            "\n",
            "  (1, 2)\t1\n",
            "  (2, 0)\t1\n",
            "  (2, 2)\t2\n"
          ]
        }
      ]
    },
    {
      "cell_type": "markdown",
      "source": [
        "## SciPy Graphs\n",
        "One can use `scipy.sparse.csgraph`."
      ],
      "metadata": {
        "id": "I-Uo6rxYrGhw"
      }
    },
    {
      "cell_type": "markdown",
      "source": [
        "### Adjacency matrix\n",
        "Is a matrix that tells how two elements are connected. Suppose, for a second, that Marcus, John, Elliot and Fred are our elements and let us assume that the values are associated to the number of connections every element has with another (an element with itself results null value in our convention), e.g.:\n",
        "\n",
        "* John knows everybody\n",
        "* Marcus knows John and Fred\n",
        "* Fred knows Marcus and John\n",
        "* Elliot knows John\n",
        "\n",
        "We set then a matrix, which is the aforementioned *adjacency matrix*. It is diagonal and symmetric.\n",
        "\n",
        "```\n",
        "     J   M   F   E\n",
        "J:   0   1   1   1  \n",
        "M:   1   0   1   0\n",
        "F:   1   1   0   0\n",
        "E:   1   0   0   0\n",
        "```\n",
        "\n",
        "We could also attribute different values, e.g.: let us say the elements are connected by the number of years they know each other, then, suppose:\n",
        "* John knows Marcus for 1 year, Elliot for 4 years, Fred for 3 years\n",
        "* Marcus knows John (1) and Fred (7)\n",
        "* Fred knows Marcus (7) and John (3)\n",
        "* Elliot knows John (4)\n",
        "to get:\n",
        "```\n",
        "     J   M   F   E\n",
        "J:   0   1   3   4  \n",
        "M:   1   0   7   0\n",
        "F:   3   7   0   0\n",
        "E:   4   0   0   0\n",
        "```\n",
        "\n",
        "`connected_components` $\\rightarrow$ To find all the connections (How to interpret the result?)\n"
      ],
      "metadata": {
        "id": "xVyBCJussILM"
      }
    },
    {
      "cell_type": "code",
      "source": [
        "from scipy.sparse import csr_matrix\n",
        "from scipy.sparse.csgraph import connected_components\n",
        "relationships = [[0,1,3,4],\n",
        "                 [1,0,7,0],\n",
        "                 [3,7,0,0],\n",
        "                 [4,0,0,0]\n",
        "                 ]\n",
        "graph = csr_matrix(relationships)\n",
        "print(graph)\n",
        "print(connected_components(graph)) # how to interpret this??"
      ],
      "metadata": {
        "colab": {
          "base_uri": "https://localhost:8080/"
        },
        "id": "o7NeJFI80aDz",
        "outputId": "4d86c58a-3382-4091-cda5-532a969b1c81"
      },
      "execution_count": null,
      "outputs": [
        {
          "output_type": "stream",
          "name": "stdout",
          "text": [
            "  (0, 1)\t1\n",
            "  (0, 2)\t3\n",
            "  (0, 3)\t4\n",
            "  (1, 0)\t1\n",
            "  (1, 2)\t7\n",
            "  (2, 0)\t3\n",
            "  (2, 1)\t7\n",
            "  (3, 0)\t4\n",
            "(1, array([0, 0, 0, 0], dtype=int32))\n"
          ]
        }
      ]
    },
    {
      "cell_type": "markdown",
      "source": [
        "__(I freaking gave up on learning SciPy from [w3schools](https://www.w3schools.com/python/scipy/index.php))__"
      ],
      "metadata": {
        "id": "bDnLsW-M1cJ3"
      }
    },
    {
      "cell_type": "markdown",
      "source": [
        "# Matplotlib\n",
        "Installation and version:\n",
        "* Install Matplotlib in linux with `sudo apt-get install python3-matplotlib -y`\n",
        "* Check if Matplotlib is installed with\n",
        "```\n",
        "try:\n",
        "    import matplotlib\n",
        "except ImportError:\n",
        "    print(\"Matplotlib is not installed\")\n",
        "```\n",
        "\n",
        "* Check Matplotlib's version with:\n",
        "```\n",
        "import matplotlib\n",
        "print(matplotlib.__version__)\n",
        "```\n",
        "\n",
        "* Import Matplotlib: `import matplotlib`\n",
        "* Import Pyplot, a submodule of Matplotlib, with the usual alias 'plt': `from matplotlib import pyplot as plt` or `import matplotlib.pyplot as plt`"
      ],
      "metadata": {
        "id": "2dZT0knI12MT"
      }
    },
    {
      "cell_type": "code",
      "source": [
        "# Basic example\n",
        "from matplotlib import pyplot as plt \n",
        "import numpy as np\n",
        "\n",
        "x = np.array([0, 1.3, 2.1, 4.5])\n",
        "y = np.array([0, 15, 20, 75])\n",
        "plt.plot(x,y) # by default, draws a line\n",
        "plt.show()\n",
        "\n",
        "plt.plot(x,y,'o') # use circle markers\n",
        "plt.show()\n",
        "\n",
        "plt.plot(y,'o')\n",
        "plt.show()\n",
        "# in not specifying x, matplotlib uses 0,1,2... \n",
        "#according to the length of y\n",
        "\n",
        "plt.plot(y, marker='o') # now the marker is used to emphasise the point\n",
        "plt.show()"
      ],
      "metadata": {
        "id": "eaxqVAQ34tWC",
        "colab": {
          "base_uri": "https://localhost:8080/",
          "height": 1000
        },
        "outputId": "de832bea-5156-40b0-bc6d-683828f6eefb"
      },
      "execution_count": null,
      "outputs": [
        {
          "output_type": "display_data",
          "data": {
            "text/plain": [
              "<Figure size 432x288 with 1 Axes>"
            ],
            "image/png": "[encoded data removed]"
          },
          "metadata": {
            "needs_background": "light"
          }
        },
        {
          "output_type": "display_data",
          "data": {
            "text/plain": [
              "<Figure size 432x288 with 1 Axes>"
            ],
            "image/png": "[encoded data removed]"
          },
          "metadata": {
            "needs_background": "light"
          }
        },
        {
          "output_type": "display_data",
          "data": {
            "text/plain": [
              "<Figure size 432x288 with 1 Axes>"
            ],
            "image/png": "[encoded data removed]"
          },
          "metadata": {
            "needs_background": "light"
          }
        },
        {
          "output_type": "display_data",
          "data": {
            "text/plain": [
              "<Figure size 432x288 with 1 Axes>"
            ],
            "image/png": "[encoded data removed]"
          },
          "metadata": {
            "needs_background": "light"
          }
        }
      ]
    },
    {
      "cell_type": "markdown",
      "source": [
        "## Markers\n",
        "To use markers we use \"shortcut string notation\" as below, similar to MATLAB:\n",
        "```\n",
        "'o' - circles\n",
        "'*' - stars\n",
        "'.' - point\n",
        "',' - pixel\n",
        "'x' - \n",
        "'X' - an X (thicker, see below)\n",
        "'+'\n",
        "'P' - thicker Plus\n",
        "'s' - square\n",
        "'d' - diamond\n",
        "'D' - thicker diamond\n",
        "'p' - pentagon\n",
        "'H' - Hexagon\n",
        "'h' - Hexagon\n",
        "'v' - triangle Down\n",
        "'^' - \" up\n",
        "'<', '>' - triangle left/right\n",
        "'1','2','3','4' - tri down/up/left/right\n",
        "'|', '_' - vertical/horizonta line\n",
        "```"
      ],
      "metadata": {
        "id": "SGjAaRZu5MC6"
      }
    },
    {
      "cell_type": "markdown",
      "source": [
        "## Linestyles\n"
      ],
      "metadata": {
        "id": "wBwZ0bOMUSBn"
      }
    },
    {
      "cell_type": "markdown",
      "source": [
        "### Linetypes \n",
        "Same as MATLAB.\n",
        "One can use either the keyword 'ls' or 'linestyle' to specify one of the following types (examples below):\n",
        "```\n",
        "-         'solid'\n",
        ":         'dotted'\n",
        "--        'dashed'\n",
        "-.        'dashdot'\n",
        "\" or ''   'none'\n",
        "```"
      ],
      "metadata": {
        "id": "TSuH3SeIS049"
      }
    },
    {
      "cell_type": "markdown",
      "source": [
        "### Color/colour\n",
        "The color can be specified with the keyword 'color' or 'c' for short."
      ],
      "metadata": {
        "id": "WK3crnZBS5L3"
      }
    },
    {
      "cell_type": "markdown",
      "source": [
        "### line width \n",
        "Specified with 'linewidth' or 'lw'."
      ],
      "metadata": {
        "id": "jbnuFQWSS8zn"
      }
    },
    {
      "cell_type": "markdown",
      "source": [
        "## Colours\n",
        "matplotlib accepts not only the usual (from MATLAB):\n",
        "```\n",
        "r red\n",
        "g green\n",
        "b blue\n",
        "c cyan\n",
        "m magenta\n",
        "y yellow\n",
        "k black\n",
        "w white\n",
        "```\n",
        "But also [hexadecimal color](https://www.w3schools.com/colors/colors_hexadecimal.asp) values and [some color names](https://matplotlib.org/stable/gallery/color/named_colors.html)."
      ],
      "metadata": {
        "id": "9PmIA3pzUuo_"
      }
    },
    {
      "cell_type": "code",
      "source": [
        "plt.plot(x, y, 'X-.')\n",
        "plt.show()\n",
        "\n",
        "plt.plot(x, y, 'x--')\n",
        "plt.show()\n",
        "\n",
        "plt.plot(x, y, marker='x', linestyle='--', color='g', linewidth='5')\n",
        "plt.show()\n",
        "\n",
        "plt.plot(x, y, marker='x', ls='--', c='g', lw='5') # same as example just above\n",
        "plt.show()\n",
        "\n",
        "plt.plot(x, y, '1') # tri\n",
        "plt.show()"
      ],
      "metadata": {
        "colab": {
          "base_uri": "https://localhost:8080/",
          "height": 1000
        },
        "id": "izFeozjqQFoz",
        "outputId": "2e35eaa8-0446-421a-f803-de53a25df809"
      },
      "execution_count": null,
      "outputs": [
        {
          "output_type": "display_data",
          "data": {
            "text/plain": [
              "<Figure size 432x288 with 1 Axes>"
            ],
            "image/png": "[encoded data removed]"
          },
          "metadata": {
            "needs_background": "light"
          }
        },
        {
          "output_type": "display_data",
          "data": {
            "text/plain": [
              "<Figure size 432x288 with 1 Axes>"
            ],
            "image/png": "[encoded data removed]"
          },
          "metadata": {
            "needs_background": "light"
          }
        },
        {
          "output_type": "display_data",
          "data": {
            "text/plain": [
              "<Figure size 432x288 with 1 Axes>"
            ],
            "image/png": "[encoded data removed]"
          },
          "metadata": {
            "needs_background": "light"
          }
        },
        {
          "output_type": "display_data",
          "data": {
            "text/plain": [
              "<Figure size 432x288 with 1 Axes>"
            ],
            "image/png": "[encoded data removed]"
          },
          "metadata": {
            "needs_background": "light"
          }
        },
        {
          "output_type": "display_data",
          "data": {
            "text/plain": [
              "<Figure size 432x288 with 1 Axes>"
            ],
            "image/png": "[encoded data removed]"
          },
          "metadata": {
            "needs_background": "light"
          }
        }
      ]
    },
    {
      "cell_type": "markdown",
      "source": [
        "## Format Strings `fmt`\n",
        "Python uses the shortcut string notation to specify, in a concise way, \n",
        "```\n",
        "marker line color\n",
        "```\n",
        "as in:"
      ],
      "metadata": {
        "id": "16XZ0V75ToGy"
      }
    },
    {
      "cell_type": "code",
      "source": [
        "plt.plot(x, y, 'o--r')\n",
        "plt.show()"
      ],
      "metadata": {
        "colab": {
          "base_uri": "https://localhost:8080/",
          "height": 265
        },
        "id": "FEmX1DmCT1RC",
        "outputId": "bd1c0858-4e6b-4ec1-dd99-c6f1e75bf4ea"
      },
      "execution_count": null,
      "outputs": [
        {
          "output_type": "display_data",
          "data": {
            "text/plain": [
              "<Figure size 432x288 with 1 Axes>"
            ],
            "image/png": "[encoded data removed]"
          },
          "metadata": {
            "needs_background": "light"
          }
        }
      ]
    },
    {
      "cell_type": "markdown",
      "source": [
        "where \n",
        "* o = markers are circle\n",
        "* -- = the line is dashed\n",
        "* r = markers and line are red"
      ],
      "metadata": {
        "id": "5BM0_BhxUEVl"
      }
    },
    {
      "cell_type": "markdown",
      "source": [
        "## Marker size, edge color, face color\n",
        "The marker size is an optional parameter that can be set with 'markersize' or 'ms'. \n",
        "\n",
        "Similarly, for the marker edge color, 'markeredgecolor' or 'mec'; and for the marker face color, 'markerfacecolor', 'mfc'.\n"
      ],
      "metadata": {
        "id": "0oizx9MnVRyx"
      }
    },
    {
      "cell_type": "code",
      "source": [
        "plt.plot(x, y, 'o--r', markersize=20, markeredgecolor='m')\n",
        "# alternatively, could have used:\n",
        "# plt.plot(x, y, 'o--r', ms = 20, mec='k')\n",
        "plt.show()"
      ],
      "metadata": {
        "colab": {
          "base_uri": "https://localhost:8080/",
          "height": 265
        },
        "id": "1E8wm2isVf_K",
        "outputId": "885243ee-06f9-406b-dfb6-0b8ae0d192d5"
      },
      "execution_count": null,
      "outputs": [
        {
          "output_type": "display_data",
          "data": {
            "text/plain": [
              "<Figure size 432x288 with 1 Axes>"
            ],
            "image/png": "[encoded data removed]"
          },
          "metadata": {
            "needs_background": "light"
          }
        }
      ]
    },
    {
      "cell_type": "code",
      "source": [
        "# using hexadecimals:\n",
        "plt.plot(x, y, marker='o', markersize=20, markeredgecolor='m', markerfacecolor='#702c00')\n",
        "# plt.plot(x, y, 'o--', ms=20, mec='m', mfc='#702c00') # for short\n",
        "plt.show()"
      ],
      "metadata": {
        "colab": {
          "base_uri": "https://localhost:8080/",
          "height": 265
        },
        "id": "KCOVmh41WtDT",
        "outputId": "d3736741-c3f1-441f-e12b-c6e53ebcaae5"
      },
      "execution_count": null,
      "outputs": [
        {
          "output_type": "display_data",
          "data": {
            "text/plain": [
              "<Figure size 432x288 with 1 Axes>"
            ],
            "image/png": "[encoded data removed]"
          },
          "metadata": {
            "needs_background": "light"
          }
        }
      ]
    },
    {
      "cell_type": "code",
      "source": [
        "plt.plot(x, y, 'o--', ms=20, mec='m', mfc='darkkhaki')\n",
        "plt.show()"
      ],
      "metadata": {
        "colab": {
          "base_uri": "https://localhost:8080/",
          "height": 265
        },
        "id": "pAOPuoiZYQSH",
        "outputId": "7a194e3f-ff66-4151-8923-dcf188b5d145"
      },
      "execution_count": null,
      "outputs": [
        {
          "output_type": "display_data",
          "data": {
            "text/plain": [
              "<Figure size 432x288 with 1 Axes>"
            ],
            "image/png": "[encoded data removed]"
          },
          "metadata": {
            "needs_background": "light"
          }
        }
      ]
    },
    {
      "cell_type": "markdown",
      "source": [
        "## Multiple lines, labels and title"
      ],
      "metadata": {
        "id": "opdYH-zgQng-"
      }
    },
    {
      "cell_type": "code",
      "source": [
        "from matplotlib import pyplot as plt\n",
        "import numpy as np\n",
        "\n",
        "x = np.array([80, 85, 90, 95, 100, 105, 110, 115, 120, 125])\n",
        "y = np.array([240, 250, 260, 270, 280, 290, 300, 310, 320, 330])\n",
        "\n",
        "plt.plot(x, y)\n",
        "plt.plot(x,2*y)\n",
        "\n",
        "plt.title(\"Sports Watch Data\") # by default, the title is set to the centre\n",
        "#plt.title(\"Sports Watch Data\", loc='left') # title is located to the left\n",
        "#plt.title(\"Sports Watch Data\", loc='right') # title is located to the right\n",
        "#plt.title(\"Sports Watch Data\", loc='center') # title is centered\n",
        "plt.xlabel(\"Average Pulse\")\n",
        "plt.ylabel(\"Calorie Burnage\")\n",
        "\n",
        "plt.show()"
      ],
      "metadata": {
        "colab": {
          "base_uri": "https://localhost:8080/",
          "height": 295
        },
        "id": "R5AIgGO_RBWn",
        "outputId": "7e828805-f2b5-4d54-e661-63c64bfe6c3a"
      },
      "execution_count": null,
      "outputs": [
        {
          "output_type": "display_data",
          "data": {
            "text/plain": [
              "<Figure size 432x288 with 1 Axes>"
            ],
            "image/png": "[encoded data removed]"
          },
          "metadata": {
            "needs_background": "light"
          }
        }
      ]
    },
    {
      "cell_type": "markdown",
      "source": [
        "## Font properties\n",
        "We need to use the 'fontdict' dictionary for specifying the font.\n",
        "Can also specify with 'fontname' in referring to an installed font, such as \"fontname='Helvetica'\", \"fontname='Times'\", etc."
      ],
      "metadata": {
        "id": "nNQG8VfpT2OT"
      }
    },
    {
      "cell_type": "code",
      "source": [
        "import numpy as np\n",
        "import matplotlib.pyplot as plt\n",
        "\n",
        "x = np.array([80, 85, 90, 95, 100, 105, 110, 115, 120, 125])\n",
        "y = np.array([240, 250, 260, 270, 280, 290, 300, 310, 320, 330])\n",
        "\n",
        "font1 = {'family':'serif','color':'blue','size':20}\n",
        "font2 = {'family':'serif','color':'darkred','size':15}\n",
        "\n",
        "plt.title(\"Sports Watch Data\", fontdict = font1)\n",
        "plt.xlabel(\"Average Pulse\", fontdict = font2)\n",
        "plt.ylabel(\"Calorie Burnage\", fontdict = font2)\n",
        "\n",
        "plt.plot(x, y)\n",
        "plt.show()"
      ],
      "metadata": {
        "colab": {
          "base_uri": "https://localhost:8080/",
          "height": 304
        },
        "id": "4tIWy4MPVq5h",
        "outputId": "7d862936-b032-464d-e97b-401263d4ad79"
      },
      "execution_count": null,
      "outputs": [
        {
          "output_type": "display_data",
          "data": {
            "text/plain": [
              "<Figure size 432x288 with 1 Axes>"
            ],
            "image/png": "[encoded data removed]"
          },
          "metadata": {
            "needs_background": "light"
          }
        }
      ]
    },
    {
      "cell_type": "code",
      "source": [
        "from matplotlib import pyplot as plt\n",
        "import numpy as np\n",
        "\n",
        "x = np.array([80, 85, 90, 95, 100, 105, 110, 115, 120, 125])\n",
        "y = np.array([240, 250, 260, 270, 280, 290, 300, 310, 320, 330])\n",
        "\n",
        "plt.plot(x, y)\n",
        "\n",
        "plt.title(\"Sports Watch Data\",fontname='Arial') # by default, the title is set to the centre\n",
        "plt.xlabel(\"Average Pulse\")\n",
        "plt.ylabel(\"Calorie Burnage\")\n",
        "\n",
        "plt.show()"
      ],
      "metadata": {
        "colab": {
          "base_uri": "https://localhost:8080/",
          "height": 295
        },
        "id": "IbT5so4GV4Hi",
        "outputId": "c34ac776-3f3f-4595-dba8-917d96bbcacc"
      },
      "execution_count": null,
      "outputs": [
        {
          "output_type": "display_data",
          "data": {
            "text/plain": [
              "<Figure size 432x288 with 1 Axes>"
            ],
            "image/png": "[encoded data removed]"
          },
          "metadata": {
            "needs_background": "light"
          }
        }
      ]
    },
    {
      "cell_type": "markdown",
      "source": [
        "### Text properties in general\n",
        "See the [documentation](https://matplotlib.org/stable/tutorials/text/text_props.html)."
      ],
      "metadata": {
        "id": "4DCgud2rVij7"
      }
    },
    {
      "cell_type": "markdown",
      "source": [
        "## Grid lines - plt.grid()\n",
        "By default, grid lines are plotted for the x and y axis (with either plt.grid() or plt.grid(axis=\"both\")), but it can be specified to only one axis as plt.grid(axis=\"x\") or plt.grid(axis=\"y\")."
      ],
      "metadata": {
        "id": "q8JEJvnEWjPB"
      }
    },
    {
      "cell_type": "markdown",
      "source": [
        "### grid line properties\n",
        "Can use options:\n",
        "* color\n",
        "* linestyle\n",
        "* linewidth"
      ],
      "metadata": {
        "id": "2-opRCI0aGWT"
      }
    },
    {
      "cell_type": "code",
      "source": [
        "from matplotlib import pyplot as plt\n",
        "import numpy as np\n",
        "import math\n",
        "\n",
        "x = np.array([1.1, 2.1, 5.7, 12.3])\n",
        "y = np.exp(x)\n",
        "\n",
        "plt.title(\"Rise in cost of real estate\")\n",
        "plt.xlabel(\"t\")\n",
        "plt.ylabel(\"Cost\")\n",
        "\n",
        "plt.plot(x,y)\n",
        "plt.grid(axis=\"both\") # both axis, identical to plt.grid()\n",
        "plt.show()\n",
        "\n",
        "plt.plot(x,y)\n",
        "plt.grid(axis=\"x\") # only for the x-axis\n",
        "plt.show()\n",
        "\n",
        "plt.plot(x,y)\n",
        "plt.grid(axis=\"y\") # only for the y-axis\n",
        "plt.show()\n",
        "\n",
        "plt.plot(x,y)\n",
        "plt.grid(axis=\"both\", c='r', ls=':', lw='4') # only for the y-axis\n",
        "plt.show()"
      ],
      "metadata": {
        "colab": {
          "base_uri": "https://localhost:8080/",
          "height": 1000
        },
        "id": "Xyn6jeviYXh-",
        "outputId": "a849877c-9eb5-4494-d6f1-79b372134305"
      },
      "execution_count": null,
      "outputs": [
        {
          "output_type": "display_data",
          "data": {
            "text/plain": [
              "<Figure size 432x288 with 1 Axes>"
            ],
            "image/png": "[encoded data removed]"
          },
          "metadata": {
            "needs_background": "light"
          }
        },
        {
          "output_type": "display_data",
          "data": {
            "text/plain": [
              "<Figure size 432x288 with 1 Axes>"
            ],
            "image/png": "[encoded data removed]"
          },
          "metadata": {
            "needs_background": "light"
          }
        },
        {
          "output_type": "display_data",
          "data": {
            "text/plain": [
              "<Figure size 432x288 with 1 Axes>"
            ],
            "image/png": "[encoded data removed]"
          },
          "metadata": {
            "needs_background": "light"
          }
        },
        {
          "output_type": "display_data",
          "data": {
            "text/plain": [
              "<Figure size 432x288 with 1 Axes>"
            ],
            "image/png": "[encoded data removed]"
          },
          "metadata": {
            "needs_background": "light"
          }
        }
      ]
    },
    {
      "cell_type": "markdown",
      "source": [
        "## Subplot - plt.subplot()\n",
        "The subplot function works just like in MATLAB:\n",
        "`plt.subplot(n_rows,n_columns,index)`"
      ],
      "metadata": {
        "id": "_1cDmKbWbghF"
      }
    },
    {
      "cell_type": "code",
      "source": [
        "from matplotlib import pyplot as plt\n",
        "import numpy as np\n",
        "\n",
        "x = np.array([0, 1, 2, 3])\n",
        "y = np.array([3, 8, 1, 10])\n",
        "\n",
        "plt.subplot(1, 2, 1) # matrix of figure will have 1 row, 2 columns, and this is figure 1\n",
        "plt.plot(x,y)\n",
        "plt.title(\"First figure\")\n",
        "\n",
        "\n",
        "y = 2*np.exp(y)\n",
        "\n",
        "plt.subplot(1, 2, 2) # figure 2\n",
        "plt.plot(x,y)\n",
        "plt.title(\"Second figure\")\n",
        "\n",
        "plt.suptitle(\"Super title\")\n",
        "plt.show()"
      ],
      "metadata": {
        "colab": {
          "base_uri": "https://localhost:8080/",
          "height": 294
        },
        "id": "6SUoVpMxcL1m",
        "outputId": "4a55d276-2795-4a92-a351-451296d769f3"
      },
      "execution_count": null,
      "outputs": [
        {
          "output_type": "display_data",
          "data": {
            "text/plain": [
              "<Figure size 432x288 with 2 Axes>"
            ],
            "image/png": "[encoded data removed]"
          },
          "metadata": {
            "needs_background": "light"
          }
        }
      ]
    },
    {
      "cell_type": "markdown",
      "source": [
        "## Scatter - plt.scatter()\n",
        "Generally works just like the usual plot, for applications as above.\n",
        "\n",
        "But other features vary. For example, we can use one color and one size for each dot with the 'c' and 's' arguments (note that for this purpose the 'color' argument does not work, it has to be given as 'c').\n",
        "\n",
        "For the transparency, use the 'alpha' option between 0 (opaque) and 1 (fully transparent)."
      ],
      "metadata": {
        "id": "TtBH7h6fb_dh"
      }
    },
    {
      "cell_type": "markdown",
      "source": [
        "### cmap(), plt.colorbar()\n",
        "Colormaps are specified with the keyword \"cmap\" corresponding to some color map amongst [the many provided by matplotlib](https://matplotlib.org/stable/tutorials/colors/colormaps.html). To use them in a scatter plot, it is important to provide an array with values within those considered by the colormap, i.e., between 0 and 100.\n",
        "\n",
        "The color bar is shown with `plt.colorbar()`."
      ],
      "metadata": {
        "id": "qwZ4OXnZeP__"
      }
    },
    {
      "cell_type": "code",
      "source": [
        "import matplotlib.pyplot as plt\n",
        "import numpy as np\n",
        "\n",
        "x = np.random.randint(100, size=(100))\n",
        "y = np.random.randint(100, size=(100))\n",
        "colors = np.random.randint(100, size=(100))\n",
        "sizes = 10 * np.random.randint(100, size=(100))\n",
        "\n",
        "plt.scatter(x, y, c=colors, s=sizes, alpha=0.3, cmap='nipy_spectral')\n",
        "\n",
        "plt.colorbar()\n",
        "\n",
        "plt.show()"
      ],
      "metadata": {
        "colab": {
          "base_uri": "https://localhost:8080/",
          "height": 265
        },
        "id": "iBvDxLh5fVMf",
        "outputId": "b7646d1f-d1f4-4858-f0ce-502d87c08f94"
      },
      "execution_count": null,
      "outputs": [
        {
          "output_type": "display_data",
          "data": {
            "text/plain": [
              "<Figure size 432x288 with 2 Axes>"
            ],
            "image/png": "[encoded data removed]"
          },
          "metadata": {
            "needs_background": "light"
          }
        }
      ]
    },
    {
      "cell_type": "markdown",
      "source": [
        "## Bars - bar(), barh()\n",
        "```\n",
        "bar() $\\rightarrow$ function plots bars vertically\n",
        "barh() $\\rightarrow$ function plots bars horizontally\n",
        "```"
      ],
      "metadata": {
        "id": "8w_x9Dyhh3XS"
      }
    },
    {
      "cell_type": "code",
      "source": [
        "from matplotlib import pyplot as plt\n",
        "import numpy as np\n",
        "\n",
        "x = np.array([\"A\", \"B\", \"C\", \"D\"])\n",
        "y = np.array([3, 8, 1, 10])\n",
        "\n",
        "# vertical bar\n",
        "plt.bar(x, y, color='g', width = 0.1) # here we set the width of each bar\n",
        "plt.show()\n",
        "\n",
        "# horizontal bar\n",
        "plt.barh(x, y, color='g', height = 0.1) # here we set the height of each bar\n",
        "plt.show()"
      ],
      "metadata": {
        "colab": {
          "base_uri": "https://localhost:8080/",
          "height": 513
        },
        "id": "uf-T4c42jz0f",
        "outputId": "1f46b19e-02dd-4cfe-a1e5-eeca9f2973b9"
      },
      "execution_count": null,
      "outputs": [
        {
          "output_type": "display_data",
          "data": {
            "text/plain": [
              "<Figure size 432x288 with 1 Axes>"
            ],
            "image/png": "[encoded data removed]"
          },
          "metadata": {
            "needs_background": "light"
          }
        },
        {
          "output_type": "display_data",
          "data": {
            "text/plain": [
              "<Figure size 432x288 with 1 Axes>"
            ],
            "image/png": "[encoded data removed]"
          },
          "metadata": {
            "needs_background": "light"
          }
        }
      ]
    },
    {
      "cell_type": "markdown",
      "source": [
        "## Histograms - hist()\n",
        "Histograms are used to show frequency distribution, e.g.,"
      ],
      "metadata": {
        "id": "TpDruUVskT-t"
      }
    },
    {
      "cell_type": "code",
      "source": [
        "from matplotlib import pyplot as plt\n",
        "import numpy as np\n",
        "\n",
        "x = np.random.normal(100, 10, 250) \n",
        "# generate 250 values around 100, with standard deviation of 10\n",
        "\n",
        "plt.hist(x)\n",
        "plt.show() "
      ],
      "metadata": {
        "id": "_w_8JZSfuJte"
      },
      "execution_count": null,
      "outputs": []
    },
    {
      "cell_type": "markdown",
      "source": [
        "## Pie charts\n",
        "Pie charts are plotted with `plt.pie(y)`. Some options:\n",
        "* labels = [\"label 1\", \"label 2\",...], to specify each piece of the pie\n",
        "* colors = [\"color 1\", \"color 2\", ...], to specify each color (accepts hexadecimal and colour names)\n",
        "* startangle = angle_value_in_degrees, to specify where the first piece of the pie is plotted (plotting here is CCW)\n",
        "* explode = [parameter1, parameter2, parameter3, ...], to allow to detach a piece of the pie to stand out. Each parameter corresponds to a piece. Default value = None\n",
        "* shadow = 'True' or 'False' (default), to insert a shadow past the plot.\n",
        "\n",
        "To add legend, use the method plt.legend() which accepts a title (this title is for the legend), as `plt.legend(title=\"some title\")`. By default, it will only use the labels if this title is not specified.\n"
      ],
      "metadata": {
        "id": "tOazZfYRu3r4"
      }
    },
    {
      "cell_type": "code",
      "source": [
        "from matplotlib import pyplot as plt\n",
        "import numpy as np\n",
        "\n",
        "y = np.array([35, 25, 25, 15])\n",
        "mylabels = [\"TCSA3\", \"GFSA3\", \"BMGB4\", \"MGLU3\"]\n",
        "\n",
        "# by default, the first piece of the pie starts from the angle 0 CCW\n",
        "#to change this, one can use startangle (specified in degrees, default=0).\n",
        "explode_param = [0.3, 0, 0, 0] # explode only the first piece\n",
        "piece_colors = [\"blue\", \"black\", \"green\", \"red\"]\n",
        "plt.pie(y, \\\n",
        "        labels = mylabels, \\\n",
        "        startangle = 180, \\\n",
        "        explode = explode_param, \\\n",
        "        shadow = 'True', \\\n",
        "        colors = piece_colors)\n",
        "plt.title(\"Catastrophic stocks\")\n",
        "plt.legend(title = \"Stocks\")\n",
        "plt.show() "
      ],
      "metadata": {
        "colab": {
          "base_uri": "https://localhost:8080/",
          "height": 269
        },
        "id": "4cTDUdbmu7f_",
        "outputId": "3365535a-1973-4e03-c0d2-e1827c54b14c"
      },
      "execution_count": null,
      "outputs": [
        {
          "output_type": "display_data",
          "data": {
            "text/plain": [
              "<Figure size 432x288 with 1 Axes>"
            ],
            "image/png": "[encoded data removed]"
          },
          "metadata": {}
        }
      ]
    },
    {
      "cell_type": "markdown",
      "source": [
        "## Close plots\n",
        "To close all plots: `plt.close('all')"
      ],
      "metadata": {
        "id": "Vm-kC0pWi1DV"
      }
    },
    {
      "cell_type": "markdown",
      "source": [
        "# Time\n",
        "`import time` is useful to measure time."
      ],
      "metadata": {
        "id": "6JzafKxdwD2t"
      }
    },
    {
      "cell_type": "code",
      "source": [
        "import numpy as np\n",
        "import time\n",
        "\n",
        "np.random.seed(1)\n",
        "a = np.random.rand(10000000)  # very large arrays\n",
        "b = np.random.rand(10000000)\n",
        "\n",
        "tic = time.time()  # capture start time\n",
        "c = np.dot(a, b)\n",
        "toc = time.time()  # capture end time\n",
        "\n",
        "print(f\"Spent time calculating a dot product with numpy: {toc-tic:.4e}s\")"
      ],
      "metadata": {
        "colab": {
          "base_uri": "https://localhost:8080/"
        },
        "id": "0A3WLdyR2QoU",
        "outputId": "08ecb6e7-b633-431e-9121-31fac977c74d"
      },
      "execution_count": null,
      "outputs": [
        {
          "output_type": "stream",
          "name": "stdout",
          "text": [
            "Spent time calculating a dot product with numpy: 2.1895e-02s\n"
          ]
        }
      ]
    }
  ]
}